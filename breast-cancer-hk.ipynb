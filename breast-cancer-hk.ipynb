{
 "cells": [
  {
   "cell_type": "code",
   "execution_count": 1,
   "id": "0c85c7f9",
   "metadata": {
    "execution": {
     "iopub.execute_input": "2023-02-23T05:59:11.608195Z",
     "iopub.status.busy": "2023-02-23T05:59:11.607638Z",
     "iopub.status.idle": "2023-02-23T05:59:27.775009Z",
     "shell.execute_reply": "2023-02-23T05:59:27.772238Z"
    },
    "papermill": {
     "duration": 16.18827,
     "end_time": "2023-02-23T05:59:27.779566",
     "exception": false,
     "start_time": "2023-02-23T05:59:11.591296",
     "status": "completed"
    },
    "tags": []
   },
   "outputs": [
    {
     "name": "stdout",
     "output_type": "stream",
     "text": [
      "Collecting python-gdcm\r\n",
      "  Downloading python_gdcm-3.0.21-cp37-cp37m-manylinux_2_17_x86_64.manylinux2014_x86_64.whl (13.0 MB)\r\n",
      "\u001b[2K     \u001b[90m━━━━━━━━━━━━━━━━━━━━━━━━━━━━━━━━━━━━━━━━\u001b[0m \u001b[32m13.0/13.0 MB\u001b[0m \u001b[31m29.9 MB/s\u001b[0m eta \u001b[36m0:00:00\u001b[0m\r\n",
      "\u001b[?25hInstalling collected packages: python-gdcm\r\n",
      "Successfully installed python-gdcm-3.0.21\r\n",
      "\u001b[33mWARNING: Running pip as the 'root' user can result in broken permissions and conflicting behaviour with the system package manager. It is recommended to use a virtual environment instead: https://pip.pypa.io/warnings/venv\u001b[0m\u001b[33m\r\n",
      "\u001b[0mNote: you may need to restart the kernel to use updated packages.\n"
     ]
    }
   ],
   "source": [
    "pip install python-gdcm"
   ]
  },
  {
   "cell_type": "code",
   "execution_count": 2,
   "id": "edff3e74",
   "metadata": {
    "execution": {
     "iopub.execute_input": "2023-02-23T05:59:27.812456Z",
     "iopub.status.busy": "2023-02-23T05:59:27.811638Z",
     "iopub.status.idle": "2023-02-23T05:59:30.694723Z",
     "shell.execute_reply": "2023-02-23T05:59:30.692987Z"
    },
    "papermill": {
     "duration": 2.902923,
     "end_time": "2023-02-23T05:59:30.698298",
     "exception": false,
     "start_time": "2023-02-23T05:59:27.795375",
     "status": "completed"
    },
    "tags": []
   },
   "outputs": [],
   "source": [
    "# !pip install pydicom\n",
    "import pandas as pd\n",
    "import numpy as np\n",
    "import pydicom as dicom\n",
    "import matplotlib.pyplot as plt\n",
    "\n",
    "import os\n",
    "import cv2\n",
    "import glob\n",
    "import gdcm\n",
    "import pydicom\n",
    "import numpy as np\n",
    "import pandas as pd\n",
    "import seaborn as sns\n",
    "import matplotlib.pyplot as plt\n",
    "\n",
    "from tqdm.notebook import tqdm\n",
    "from joblib import Parallel, delayed\n",
    "\n",
    "from imblearn.over_sampling import SMOTE\n",
    "\n",
    "import pickle \n",
    "\n",
    "import os\n",
    "import cv2\n",
    "\n",
    "from sklearn.utils import shuffle\n",
    "from tqdm import tqdm\n",
    "\n",
    "# !pip install pylibjpeg\n",
    "# import pylibjpeg\n",
    "\n",
    "import warnings\n",
    "warnings.filterwarnings('ignore')\n",
    "\n",
    "from skimage import transform"
   ]
  },
  {
   "cell_type": "code",
   "execution_count": 3,
   "id": "d44c1666",
   "metadata": {
    "execution": {
     "iopub.execute_input": "2023-02-23T05:59:30.731886Z",
     "iopub.status.busy": "2023-02-23T05:59:30.731361Z",
     "iopub.status.idle": "2023-02-23T05:59:40.738143Z",
     "shell.execute_reply": "2023-02-23T05:59:40.736278Z"
    },
    "papermill": {
     "duration": 10.026816,
     "end_time": "2023-02-23T05:59:40.742022",
     "exception": false,
     "start_time": "2023-02-23T05:59:30.715206",
     "status": "completed"
    },
    "tags": []
   },
   "outputs": [
    {
     "name": "stderr",
     "output_type": "stream",
     "text": [
      "100%|██████████| 54706/54706 [00:09<00:00, 5571.60it/s]\n"
     ]
    },
    {
     "data": {
      "text/html": [
       "<div>\n",
       "<style scoped>\n",
       "    .dataframe tbody tr th:only-of-type {\n",
       "        vertical-align: middle;\n",
       "    }\n",
       "\n",
       "    .dataframe tbody tr th {\n",
       "        vertical-align: top;\n",
       "    }\n",
       "\n",
       "    .dataframe thead th {\n",
       "        text-align: right;\n",
       "    }\n",
       "</style>\n",
       "<table border=\"1\" class=\"dataframe\">\n",
       "  <thead>\n",
       "    <tr style=\"text-align: right;\">\n",
       "      <th></th>\n",
       "      <th>site_id</th>\n",
       "      <th>patient_id</th>\n",
       "      <th>image_id</th>\n",
       "      <th>laterality</th>\n",
       "      <th>view</th>\n",
       "      <th>age</th>\n",
       "      <th>cancer</th>\n",
       "      <th>biopsy</th>\n",
       "      <th>invasive</th>\n",
       "      <th>BIRADS</th>\n",
       "      <th>implant</th>\n",
       "      <th>density</th>\n",
       "      <th>machine_id</th>\n",
       "      <th>difficult_negative_case</th>\n",
       "      <th>path</th>\n",
       "    </tr>\n",
       "  </thead>\n",
       "  <tbody>\n",
       "    <tr>\n",
       "      <th>0</th>\n",
       "      <td>2</td>\n",
       "      <td>10006</td>\n",
       "      <td>462822612</td>\n",
       "      <td>L</td>\n",
       "      <td>CC</td>\n",
       "      <td>61.0</td>\n",
       "      <td>0</td>\n",
       "      <td>0</td>\n",
       "      <td>0</td>\n",
       "      <td>NaN</td>\n",
       "      <td>0</td>\n",
       "      <td>NaN</td>\n",
       "      <td>29</td>\n",
       "      <td>False</td>\n",
       "      <td>/kaggle/input/rsna-breast-cancer-detection/tra...</td>\n",
       "    </tr>\n",
       "    <tr>\n",
       "      <th>1</th>\n",
       "      <td>2</td>\n",
       "      <td>10006</td>\n",
       "      <td>1459541791</td>\n",
       "      <td>L</td>\n",
       "      <td>MLO</td>\n",
       "      <td>61.0</td>\n",
       "      <td>0</td>\n",
       "      <td>0</td>\n",
       "      <td>0</td>\n",
       "      <td>NaN</td>\n",
       "      <td>0</td>\n",
       "      <td>NaN</td>\n",
       "      <td>29</td>\n",
       "      <td>False</td>\n",
       "      <td>/kaggle/input/rsna-breast-cancer-detection/tra...</td>\n",
       "    </tr>\n",
       "    <tr>\n",
       "      <th>2</th>\n",
       "      <td>2</td>\n",
       "      <td>10006</td>\n",
       "      <td>1864590858</td>\n",
       "      <td>R</td>\n",
       "      <td>MLO</td>\n",
       "      <td>61.0</td>\n",
       "      <td>0</td>\n",
       "      <td>0</td>\n",
       "      <td>0</td>\n",
       "      <td>NaN</td>\n",
       "      <td>0</td>\n",
       "      <td>NaN</td>\n",
       "      <td>29</td>\n",
       "      <td>False</td>\n",
       "      <td>/kaggle/input/rsna-breast-cancer-detection/tra...</td>\n",
       "    </tr>\n",
       "    <tr>\n",
       "      <th>3</th>\n",
       "      <td>2</td>\n",
       "      <td>10006</td>\n",
       "      <td>1874946579</td>\n",
       "      <td>R</td>\n",
       "      <td>CC</td>\n",
       "      <td>61.0</td>\n",
       "      <td>0</td>\n",
       "      <td>0</td>\n",
       "      <td>0</td>\n",
       "      <td>NaN</td>\n",
       "      <td>0</td>\n",
       "      <td>NaN</td>\n",
       "      <td>29</td>\n",
       "      <td>False</td>\n",
       "      <td>/kaggle/input/rsna-breast-cancer-detection/tra...</td>\n",
       "    </tr>\n",
       "    <tr>\n",
       "      <th>4</th>\n",
       "      <td>2</td>\n",
       "      <td>10011</td>\n",
       "      <td>220375232</td>\n",
       "      <td>L</td>\n",
       "      <td>CC</td>\n",
       "      <td>55.0</td>\n",
       "      <td>0</td>\n",
       "      <td>0</td>\n",
       "      <td>0</td>\n",
       "      <td>0.0</td>\n",
       "      <td>0</td>\n",
       "      <td>NaN</td>\n",
       "      <td>21</td>\n",
       "      <td>True</td>\n",
       "      <td>/kaggle/input/rsna-breast-cancer-detection/tra...</td>\n",
       "    </tr>\n",
       "  </tbody>\n",
       "</table>\n",
       "</div>"
      ],
      "text/plain": [
       "   site_id  patient_id    image_id laterality view   age  cancer  biopsy  \\\n",
       "0        2       10006   462822612          L   CC  61.0       0       0   \n",
       "1        2       10006  1459541791          L  MLO  61.0       0       0   \n",
       "2        2       10006  1864590858          R  MLO  61.0       0       0   \n",
       "3        2       10006  1874946579          R   CC  61.0       0       0   \n",
       "4        2       10011   220375232          L   CC  55.0       0       0   \n",
       "\n",
       "   invasive  BIRADS  implant density  machine_id  difficult_negative_case  \\\n",
       "0         0     NaN        0     NaN          29                    False   \n",
       "1         0     NaN        0     NaN          29                    False   \n",
       "2         0     NaN        0     NaN          29                    False   \n",
       "3         0     NaN        0     NaN          29                    False   \n",
       "4         0     0.0        0     NaN          21                     True   \n",
       "\n",
       "                                                path  \n",
       "0  /kaggle/input/rsna-breast-cancer-detection/tra...  \n",
       "1  /kaggle/input/rsna-breast-cancer-detection/tra...  \n",
       "2  /kaggle/input/rsna-breast-cancer-detection/tra...  \n",
       "3  /kaggle/input/rsna-breast-cancer-detection/tra...  \n",
       "4  /kaggle/input/rsna-breast-cancer-detection/tra...  "
      ]
     },
     "execution_count": 3,
     "metadata": {},
     "output_type": "execute_result"
    }
   ],
   "source": [
    "# Meta Data Import\n",
    "train_df=pd.read_csv('/kaggle/input/rsna-breast-cancer-detection/train.csv')\n",
    "\n",
    "# Get image path\n",
    "# Example path: '/kaggle/input/rsna-breast-cancer-detection/train_images/10706/763186195.dcm'\n",
    "base_path = \"/kaggle/input/rsna-breast-cancer-detection/train_images/\"\n",
    "all_paths = []\n",
    "for k in tqdm(range(len(train_df))):\n",
    "    row = train_df.iloc[k, :]\n",
    "    all_paths.append(base_path + str(row.patient_id) + \"/\" + str(row.image_id) + \".dcm\")\n",
    "    \n",
    "train_df[\"path\"] = all_paths\n",
    "train_df.head()"
   ]
  },
  {
   "cell_type": "code",
   "execution_count": 4,
   "id": "f8b61ba1",
   "metadata": {
    "execution": {
     "iopub.execute_input": "2023-02-23T05:59:40.786833Z",
     "iopub.status.busy": "2023-02-23T05:59:40.786362Z",
     "iopub.status.idle": "2023-02-23T05:59:40.800789Z",
     "shell.execute_reply": "2023-02-23T05:59:40.799131Z"
    },
    "papermill": {
     "duration": 0.039733,
     "end_time": "2023-02-23T05:59:40.803779",
     "exception": false,
     "start_time": "2023-02-23T05:59:40.764046",
     "status": "completed"
    },
    "tags": []
   },
   "outputs": [
    {
     "data": {
      "text/plain": [
       "0    51737\n",
       "1     2969\n",
       "Name: biopsy, dtype: int64"
      ]
     },
     "execution_count": 4,
     "metadata": {},
     "output_type": "execute_result"
    }
   ],
   "source": [
    "train_df['biopsy'].value_counts()"
   ]
  },
  {
   "cell_type": "code",
   "execution_count": 5,
   "id": "2d33a845",
   "metadata": {
    "execution": {
     "iopub.execute_input": "2023-02-23T05:59:40.847519Z",
     "iopub.status.busy": "2023-02-23T05:59:40.846879Z",
     "iopub.status.idle": "2023-02-23T05:59:40.888519Z",
     "shell.execute_reply": "2023-02-23T05:59:40.886492Z"
    },
    "papermill": {
     "duration": 0.068391,
     "end_time": "2023-02-23T05:59:40.893247",
     "exception": false,
     "start_time": "2023-02-23T05:59:40.824856",
     "status": "completed"
    },
    "tags": []
   },
   "outputs": [
    {
     "name": "stdout",
     "output_type": "stream",
     "text": [
      "<class 'pandas.core.frame.DataFrame'>\n",
      "RangeIndex: 54706 entries, 0 to 54705\n",
      "Data columns (total 15 columns):\n",
      " #   Column                   Non-Null Count  Dtype  \n",
      "---  ------                   --------------  -----  \n",
      " 0   site_id                  54706 non-null  int64  \n",
      " 1   patient_id               54706 non-null  int64  \n",
      " 2   image_id                 54706 non-null  int64  \n",
      " 3   laterality               54706 non-null  object \n",
      " 4   view                     54706 non-null  object \n",
      " 5   age                      54669 non-null  float64\n",
      " 6   cancer                   54706 non-null  int64  \n",
      " 7   biopsy                   54706 non-null  int64  \n",
      " 8   invasive                 54706 non-null  int64  \n",
      " 9   BIRADS                   26286 non-null  float64\n",
      " 10  implant                  54706 non-null  int64  \n",
      " 11  density                  29470 non-null  object \n",
      " 12  machine_id               54706 non-null  int64  \n",
      " 13  difficult_negative_case  54706 non-null  bool   \n",
      " 14  path                     54706 non-null  object \n",
      "dtypes: bool(1), float64(2), int64(8), object(4)\n",
      "memory usage: 5.9+ MB\n"
     ]
    }
   ],
   "source": [
    "train_df.info()"
   ]
  },
  {
   "cell_type": "code",
   "execution_count": 6,
   "id": "0529f91e",
   "metadata": {
    "execution": {
     "iopub.execute_input": "2023-02-23T05:59:40.938651Z",
     "iopub.status.busy": "2023-02-23T05:59:40.938172Z",
     "iopub.status.idle": "2023-02-23T05:59:40.949318Z",
     "shell.execute_reply": "2023-02-23T05:59:40.948120Z"
    },
    "papermill": {
     "duration": 0.037455,
     "end_time": "2023-02-23T05:59:40.952085",
     "exception": false,
     "start_time": "2023-02-23T05:59:40.914630",
     "status": "completed"
    },
    "tags": []
   },
   "outputs": [
    {
     "data": {
      "text/plain": [
       "11913"
      ]
     },
     "execution_count": 6,
     "metadata": {},
     "output_type": "execute_result"
    }
   ],
   "source": [
    "train_df['patient_id'].nunique()"
   ]
  },
  {
   "cell_type": "markdown",
   "id": "953f7d12",
   "metadata": {
    "papermill": {
     "duration": 0.020892,
     "end_time": "2023-02-23T05:59:40.994610",
     "exception": false,
     "start_time": "2023-02-23T05:59:40.973718",
     "status": "completed"
    },
    "tags": []
   },
   "source": [
    "# Build the training dataset"
   ]
  },
  {
   "cell_type": "code",
   "execution_count": 7,
   "id": "3fb7e2ab",
   "metadata": {
    "execution": {
     "iopub.execute_input": "2023-02-23T05:59:41.040722Z",
     "iopub.status.busy": "2023-02-23T05:59:41.040189Z",
     "iopub.status.idle": "2023-02-23T05:59:41.060702Z",
     "shell.execute_reply": "2023-02-23T05:59:41.059155Z"
    },
    "papermill": {
     "duration": 0.046319,
     "end_time": "2023-02-23T05:59:41.063603",
     "exception": false,
     "start_time": "2023-02-23T05:59:41.017284",
     "status": "completed"
    },
    "tags": []
   },
   "outputs": [
    {
     "data": {
      "text/html": [
       "<div>\n",
       "<style scoped>\n",
       "    .dataframe tbody tr th:only-of-type {\n",
       "        vertical-align: middle;\n",
       "    }\n",
       "\n",
       "    .dataframe tbody tr th {\n",
       "        vertical-align: top;\n",
       "    }\n",
       "\n",
       "    .dataframe thead th {\n",
       "        text-align: right;\n",
       "    }\n",
       "</style>\n",
       "<table border=\"1\" class=\"dataframe\">\n",
       "  <thead>\n",
       "    <tr style=\"text-align: right;\">\n",
       "      <th></th>\n",
       "      <th>site_id</th>\n",
       "      <th>patient_id</th>\n",
       "      <th>image_id</th>\n",
       "      <th>laterality</th>\n",
       "      <th>view</th>\n",
       "      <th>age</th>\n",
       "      <th>cancer</th>\n",
       "      <th>biopsy</th>\n",
       "      <th>invasive</th>\n",
       "      <th>BIRADS</th>\n",
       "      <th>implant</th>\n",
       "      <th>density</th>\n",
       "      <th>machine_id</th>\n",
       "      <th>difficult_negative_case</th>\n",
       "      <th>path</th>\n",
       "    </tr>\n",
       "  </thead>\n",
       "  <tbody>\n",
       "    <tr>\n",
       "      <th>0</th>\n",
       "      <td>2</td>\n",
       "      <td>10006</td>\n",
       "      <td>462822612</td>\n",
       "      <td>L</td>\n",
       "      <td>CC</td>\n",
       "      <td>61.0</td>\n",
       "      <td>0</td>\n",
       "      <td>0</td>\n",
       "      <td>0</td>\n",
       "      <td>NaN</td>\n",
       "      <td>0</td>\n",
       "      <td>NaN</td>\n",
       "      <td>29</td>\n",
       "      <td>False</td>\n",
       "      <td>/kaggle/input/rsna-breast-cancer-detection/tra...</td>\n",
       "    </tr>\n",
       "    <tr>\n",
       "      <th>1</th>\n",
       "      <td>2</td>\n",
       "      <td>10006</td>\n",
       "      <td>1459541791</td>\n",
       "      <td>L</td>\n",
       "      <td>MLO</td>\n",
       "      <td>61.0</td>\n",
       "      <td>0</td>\n",
       "      <td>0</td>\n",
       "      <td>0</td>\n",
       "      <td>NaN</td>\n",
       "      <td>0</td>\n",
       "      <td>NaN</td>\n",
       "      <td>29</td>\n",
       "      <td>False</td>\n",
       "      <td>/kaggle/input/rsna-breast-cancer-detection/tra...</td>\n",
       "    </tr>\n",
       "    <tr>\n",
       "      <th>2</th>\n",
       "      <td>2</td>\n",
       "      <td>10006</td>\n",
       "      <td>1864590858</td>\n",
       "      <td>R</td>\n",
       "      <td>MLO</td>\n",
       "      <td>61.0</td>\n",
       "      <td>0</td>\n",
       "      <td>0</td>\n",
       "      <td>0</td>\n",
       "      <td>NaN</td>\n",
       "      <td>0</td>\n",
       "      <td>NaN</td>\n",
       "      <td>29</td>\n",
       "      <td>False</td>\n",
       "      <td>/kaggle/input/rsna-breast-cancer-detection/tra...</td>\n",
       "    </tr>\n",
       "    <tr>\n",
       "      <th>3</th>\n",
       "      <td>2</td>\n",
       "      <td>10006</td>\n",
       "      <td>1874946579</td>\n",
       "      <td>R</td>\n",
       "      <td>CC</td>\n",
       "      <td>61.0</td>\n",
       "      <td>0</td>\n",
       "      <td>0</td>\n",
       "      <td>0</td>\n",
       "      <td>NaN</td>\n",
       "      <td>0</td>\n",
       "      <td>NaN</td>\n",
       "      <td>29</td>\n",
       "      <td>False</td>\n",
       "      <td>/kaggle/input/rsna-breast-cancer-detection/tra...</td>\n",
       "    </tr>\n",
       "    <tr>\n",
       "      <th>4</th>\n",
       "      <td>2</td>\n",
       "      <td>10011</td>\n",
       "      <td>220375232</td>\n",
       "      <td>L</td>\n",
       "      <td>CC</td>\n",
       "      <td>55.0</td>\n",
       "      <td>0</td>\n",
       "      <td>0</td>\n",
       "      <td>0</td>\n",
       "      <td>0.0</td>\n",
       "      <td>0</td>\n",
       "      <td>NaN</td>\n",
       "      <td>21</td>\n",
       "      <td>True</td>\n",
       "      <td>/kaggle/input/rsna-breast-cancer-detection/tra...</td>\n",
       "    </tr>\n",
       "  </tbody>\n",
       "</table>\n",
       "</div>"
      ],
      "text/plain": [
       "   site_id  patient_id    image_id laterality view   age  cancer  biopsy  \\\n",
       "0        2       10006   462822612          L   CC  61.0       0       0   \n",
       "1        2       10006  1459541791          L  MLO  61.0       0       0   \n",
       "2        2       10006  1864590858          R  MLO  61.0       0       0   \n",
       "3        2       10006  1874946579          R   CC  61.0       0       0   \n",
       "4        2       10011   220375232          L   CC  55.0       0       0   \n",
       "\n",
       "   invasive  BIRADS  implant density  machine_id  difficult_negative_case  \\\n",
       "0         0     NaN        0     NaN          29                    False   \n",
       "1         0     NaN        0     NaN          29                    False   \n",
       "2         0     NaN        0     NaN          29                    False   \n",
       "3         0     NaN        0     NaN          29                    False   \n",
       "4         0     0.0        0     NaN          21                     True   \n",
       "\n",
       "                                                path  \n",
       "0  /kaggle/input/rsna-breast-cancer-detection/tra...  \n",
       "1  /kaggle/input/rsna-breast-cancer-detection/tra...  \n",
       "2  /kaggle/input/rsna-breast-cancer-detection/tra...  \n",
       "3  /kaggle/input/rsna-breast-cancer-detection/tra...  \n",
       "4  /kaggle/input/rsna-breast-cancer-detection/tra...  "
      ]
     },
     "execution_count": 7,
     "metadata": {},
     "output_type": "execute_result"
    }
   ],
   "source": [
    "train_df.head()"
   ]
  },
  {
   "cell_type": "markdown",
   "id": "e6c2f539",
   "metadata": {
    "papermill": {
     "duration": 0.021675,
     "end_time": "2023-02-23T05:59:41.106594",
     "exception": false,
     "start_time": "2023-02-23T05:59:41.084919",
     "status": "completed"
    },
    "tags": []
   },
   "source": [
    "## Check if a single patient xray has cancer in both breasts or only in one"
   ]
  },
  {
   "cell_type": "code",
   "execution_count": 8,
   "id": "40264157",
   "metadata": {
    "execution": {
     "iopub.execute_input": "2023-02-23T05:59:41.151376Z",
     "iopub.status.busy": "2023-02-23T05:59:41.150950Z",
     "iopub.status.idle": "2023-02-23T05:59:41.189665Z",
     "shell.execute_reply": "2023-02-23T05:59:41.188119Z"
    },
    "papermill": {
     "duration": 0.064351,
     "end_time": "2023-02-23T05:59:41.192791",
     "exception": false,
     "start_time": "2023-02-23T05:59:41.128440",
     "status": "completed"
    },
    "tags": []
   },
   "outputs": [
    {
     "data": {
      "text/html": [
       "<div>\n",
       "<style scoped>\n",
       "    .dataframe tbody tr th:only-of-type {\n",
       "        vertical-align: middle;\n",
       "    }\n",
       "\n",
       "    .dataframe tbody tr th {\n",
       "        vertical-align: top;\n",
       "    }\n",
       "\n",
       "    .dataframe thead th {\n",
       "        text-align: right;\n",
       "    }\n",
       "</style>\n",
       "<table border=\"1\" class=\"dataframe\">\n",
       "  <thead>\n",
       "    <tr style=\"text-align: right;\">\n",
       "      <th></th>\n",
       "      <th>site_id</th>\n",
       "      <th>patient_id</th>\n",
       "      <th>image_id</th>\n",
       "      <th>laterality</th>\n",
       "      <th>view</th>\n",
       "      <th>age</th>\n",
       "      <th>cancer</th>\n",
       "      <th>biopsy</th>\n",
       "      <th>invasive</th>\n",
       "      <th>BIRADS</th>\n",
       "      <th>implant</th>\n",
       "      <th>density</th>\n",
       "      <th>machine_id</th>\n",
       "      <th>difficult_negative_case</th>\n",
       "      <th>path</th>\n",
       "    </tr>\n",
       "  </thead>\n",
       "  <tbody>\n",
       "    <tr>\n",
       "      <th>87</th>\n",
       "      <td>1</td>\n",
       "      <td>10130</td>\n",
       "      <td>388811999</td>\n",
       "      <td>L</td>\n",
       "      <td>MLO</td>\n",
       "      <td>71.0</td>\n",
       "      <td>1</td>\n",
       "      <td>1</td>\n",
       "      <td>1</td>\n",
       "      <td>0.0</td>\n",
       "      <td>0</td>\n",
       "      <td>B</td>\n",
       "      <td>49</td>\n",
       "      <td>False</td>\n",
       "      <td>/kaggle/input/rsna-breast-cancer-detection/tra...</td>\n",
       "    </tr>\n",
       "    <tr>\n",
       "      <th>88</th>\n",
       "      <td>1</td>\n",
       "      <td>10130</td>\n",
       "      <td>613462606</td>\n",
       "      <td>L</td>\n",
       "      <td>CC</td>\n",
       "      <td>71.0</td>\n",
       "      <td>1</td>\n",
       "      <td>1</td>\n",
       "      <td>1</td>\n",
       "      <td>0.0</td>\n",
       "      <td>0</td>\n",
       "      <td>B</td>\n",
       "      <td>49</td>\n",
       "      <td>False</td>\n",
       "      <td>/kaggle/input/rsna-breast-cancer-detection/tra...</td>\n",
       "    </tr>\n",
       "    <tr>\n",
       "      <th>89</th>\n",
       "      <td>1</td>\n",
       "      <td>10130</td>\n",
       "      <td>1360338805</td>\n",
       "      <td>L</td>\n",
       "      <td>CC</td>\n",
       "      <td>71.0</td>\n",
       "      <td>1</td>\n",
       "      <td>1</td>\n",
       "      <td>1</td>\n",
       "      <td>0.0</td>\n",
       "      <td>0</td>\n",
       "      <td>B</td>\n",
       "      <td>49</td>\n",
       "      <td>False</td>\n",
       "      <td>/kaggle/input/rsna-breast-cancer-detection/tra...</td>\n",
       "    </tr>\n",
       "    <tr>\n",
       "      <th>90</th>\n",
       "      <td>1</td>\n",
       "      <td>10130</td>\n",
       "      <td>1672636630</td>\n",
       "      <td>L</td>\n",
       "      <td>MLO</td>\n",
       "      <td>71.0</td>\n",
       "      <td>1</td>\n",
       "      <td>1</td>\n",
       "      <td>1</td>\n",
       "      <td>0.0</td>\n",
       "      <td>0</td>\n",
       "      <td>B</td>\n",
       "      <td>49</td>\n",
       "      <td>False</td>\n",
       "      <td>/kaggle/input/rsna-breast-cancer-detection/tra...</td>\n",
       "    </tr>\n",
       "    <tr>\n",
       "      <th>190</th>\n",
       "      <td>1</td>\n",
       "      <td>10226</td>\n",
       "      <td>461614796</td>\n",
       "      <td>L</td>\n",
       "      <td>MLO</td>\n",
       "      <td>71.0</td>\n",
       "      <td>1</td>\n",
       "      <td>1</td>\n",
       "      <td>1</td>\n",
       "      <td>0.0</td>\n",
       "      <td>0</td>\n",
       "      <td>C</td>\n",
       "      <td>49</td>\n",
       "      <td>False</td>\n",
       "      <td>/kaggle/input/rsna-breast-cancer-detection/tra...</td>\n",
       "    </tr>\n",
       "    <tr>\n",
       "      <th>...</th>\n",
       "      <td>...</td>\n",
       "      <td>...</td>\n",
       "      <td>...</td>\n",
       "      <td>...</td>\n",
       "      <td>...</td>\n",
       "      <td>...</td>\n",
       "      <td>...</td>\n",
       "      <td>...</td>\n",
       "      <td>...</td>\n",
       "      <td>...</td>\n",
       "      <td>...</td>\n",
       "      <td>...</td>\n",
       "      <td>...</td>\n",
       "      <td>...</td>\n",
       "      <td>...</td>\n",
       "    </tr>\n",
       "    <tr>\n",
       "      <th>54485</th>\n",
       "      <td>2</td>\n",
       "      <td>9707</td>\n",
       "      <td>1900919592</td>\n",
       "      <td>R</td>\n",
       "      <td>MLO</td>\n",
       "      <td>56.0</td>\n",
       "      <td>1</td>\n",
       "      <td>1</td>\n",
       "      <td>1</td>\n",
       "      <td>NaN</td>\n",
       "      <td>0</td>\n",
       "      <td>NaN</td>\n",
       "      <td>21</td>\n",
       "      <td>False</td>\n",
       "      <td>/kaggle/input/rsna-breast-cancer-detection/tra...</td>\n",
       "    </tr>\n",
       "    <tr>\n",
       "      <th>54593</th>\n",
       "      <td>2</td>\n",
       "      <td>9840</td>\n",
       "      <td>111786935</td>\n",
       "      <td>R</td>\n",
       "      <td>MLO</td>\n",
       "      <td>59.0</td>\n",
       "      <td>1</td>\n",
       "      <td>1</td>\n",
       "      <td>1</td>\n",
       "      <td>NaN</td>\n",
       "      <td>0</td>\n",
       "      <td>NaN</td>\n",
       "      <td>21</td>\n",
       "      <td>False</td>\n",
       "      <td>/kaggle/input/rsna-breast-cancer-detection/tra...</td>\n",
       "    </tr>\n",
       "    <tr>\n",
       "      <th>54594</th>\n",
       "      <td>2</td>\n",
       "      <td>9840</td>\n",
       "      <td>1559360810</td>\n",
       "      <td>R</td>\n",
       "      <td>CC</td>\n",
       "      <td>59.0</td>\n",
       "      <td>1</td>\n",
       "      <td>1</td>\n",
       "      <td>1</td>\n",
       "      <td>NaN</td>\n",
       "      <td>0</td>\n",
       "      <td>NaN</td>\n",
       "      <td>21</td>\n",
       "      <td>False</td>\n",
       "      <td>/kaggle/input/rsna-breast-cancer-detection/tra...</td>\n",
       "    </tr>\n",
       "    <tr>\n",
       "      <th>54595</th>\n",
       "      <td>2</td>\n",
       "      <td>9851</td>\n",
       "      <td>1409270544</td>\n",
       "      <td>L</td>\n",
       "      <td>MLO</td>\n",
       "      <td>58.0</td>\n",
       "      <td>1</td>\n",
       "      <td>1</td>\n",
       "      <td>0</td>\n",
       "      <td>NaN</td>\n",
       "      <td>0</td>\n",
       "      <td>NaN</td>\n",
       "      <td>48</td>\n",
       "      <td>False</td>\n",
       "      <td>/kaggle/input/rsna-breast-cancer-detection/tra...</td>\n",
       "    </tr>\n",
       "    <tr>\n",
       "      <th>54596</th>\n",
       "      <td>2</td>\n",
       "      <td>9851</td>\n",
       "      <td>1434430689</td>\n",
       "      <td>L</td>\n",
       "      <td>CC</td>\n",
       "      <td>58.0</td>\n",
       "      <td>1</td>\n",
       "      <td>1</td>\n",
       "      <td>0</td>\n",
       "      <td>NaN</td>\n",
       "      <td>0</td>\n",
       "      <td>NaN</td>\n",
       "      <td>48</td>\n",
       "      <td>False</td>\n",
       "      <td>/kaggle/input/rsna-breast-cancer-detection/tra...</td>\n",
       "    </tr>\n",
       "  </tbody>\n",
       "</table>\n",
       "<p>1158 rows × 15 columns</p>\n",
       "</div>"
      ],
      "text/plain": [
       "       site_id  patient_id    image_id laterality view   age  cancer  biopsy  \\\n",
       "87           1       10130   388811999          L  MLO  71.0       1       1   \n",
       "88           1       10130   613462606          L   CC  71.0       1       1   \n",
       "89           1       10130  1360338805          L   CC  71.0       1       1   \n",
       "90           1       10130  1672636630          L  MLO  71.0       1       1   \n",
       "190          1       10226   461614796          L  MLO  71.0       1       1   \n",
       "...        ...         ...         ...        ...  ...   ...     ...     ...   \n",
       "54485        2        9707  1900919592          R  MLO  56.0       1       1   \n",
       "54593        2        9840   111786935          R  MLO  59.0       1       1   \n",
       "54594        2        9840  1559360810          R   CC  59.0       1       1   \n",
       "54595        2        9851  1409270544          L  MLO  58.0       1       1   \n",
       "54596        2        9851  1434430689          L   CC  58.0       1       1   \n",
       "\n",
       "       invasive  BIRADS  implant density  machine_id  difficult_negative_case  \\\n",
       "87            1     0.0        0       B          49                    False   \n",
       "88            1     0.0        0       B          49                    False   \n",
       "89            1     0.0        0       B          49                    False   \n",
       "90            1     0.0        0       B          49                    False   \n",
       "190           1     0.0        0       C          49                    False   \n",
       "...         ...     ...      ...     ...         ...                      ...   \n",
       "54485         1     NaN        0     NaN          21                    False   \n",
       "54593         1     NaN        0     NaN          21                    False   \n",
       "54594         1     NaN        0     NaN          21                    False   \n",
       "54595         0     NaN        0     NaN          48                    False   \n",
       "54596         0     NaN        0     NaN          48                    False   \n",
       "\n",
       "                                                    path  \n",
       "87     /kaggle/input/rsna-breast-cancer-detection/tra...  \n",
       "88     /kaggle/input/rsna-breast-cancer-detection/tra...  \n",
       "89     /kaggle/input/rsna-breast-cancer-detection/tra...  \n",
       "90     /kaggle/input/rsna-breast-cancer-detection/tra...  \n",
       "190    /kaggle/input/rsna-breast-cancer-detection/tra...  \n",
       "...                                                  ...  \n",
       "54485  /kaggle/input/rsna-breast-cancer-detection/tra...  \n",
       "54593  /kaggle/input/rsna-breast-cancer-detection/tra...  \n",
       "54594  /kaggle/input/rsna-breast-cancer-detection/tra...  \n",
       "54595  /kaggle/input/rsna-breast-cancer-detection/tra...  \n",
       "54596  /kaggle/input/rsna-breast-cancer-detection/tra...  \n",
       "\n",
       "[1158 rows x 15 columns]"
      ]
     },
     "execution_count": 8,
     "metadata": {},
     "output_type": "execute_result"
    }
   ],
   "source": [
    "train_df[train_df['cancer']==1]"
   ]
  },
  {
   "cell_type": "code",
   "execution_count": 9,
   "id": "c1e00a26",
   "metadata": {
    "execution": {
     "iopub.execute_input": "2023-02-23T05:59:41.237589Z",
     "iopub.status.busy": "2023-02-23T05:59:41.237161Z",
     "iopub.status.idle": "2023-02-23T05:59:41.258097Z",
     "shell.execute_reply": "2023-02-23T05:59:41.256398Z"
    },
    "papermill": {
     "duration": 0.046947,
     "end_time": "2023-02-23T05:59:41.261025",
     "exception": false,
     "start_time": "2023-02-23T05:59:41.214078",
     "status": "completed"
    },
    "tags": []
   },
   "outputs": [
    {
     "data": {
      "text/html": [
       "<div>\n",
       "<style scoped>\n",
       "    .dataframe tbody tr th:only-of-type {\n",
       "        vertical-align: middle;\n",
       "    }\n",
       "\n",
       "    .dataframe tbody tr th {\n",
       "        vertical-align: top;\n",
       "    }\n",
       "\n",
       "    .dataframe thead th {\n",
       "        text-align: right;\n",
       "    }\n",
       "</style>\n",
       "<table border=\"1\" class=\"dataframe\">\n",
       "  <thead>\n",
       "    <tr style=\"text-align: right;\">\n",
       "      <th></th>\n",
       "      <th>site_id</th>\n",
       "      <th>patient_id</th>\n",
       "      <th>image_id</th>\n",
       "      <th>laterality</th>\n",
       "      <th>view</th>\n",
       "      <th>age</th>\n",
       "      <th>cancer</th>\n",
       "      <th>biopsy</th>\n",
       "      <th>invasive</th>\n",
       "      <th>BIRADS</th>\n",
       "      <th>implant</th>\n",
       "      <th>density</th>\n",
       "      <th>machine_id</th>\n",
       "      <th>difficult_negative_case</th>\n",
       "      <th>path</th>\n",
       "    </tr>\n",
       "  </thead>\n",
       "  <tbody>\n",
       "    <tr>\n",
       "      <th>54591</th>\n",
       "      <td>2</td>\n",
       "      <td>9840</td>\n",
       "      <td>87146266</td>\n",
       "      <td>L</td>\n",
       "      <td>MLO</td>\n",
       "      <td>59.0</td>\n",
       "      <td>0</td>\n",
       "      <td>1</td>\n",
       "      <td>0</td>\n",
       "      <td>NaN</td>\n",
       "      <td>0</td>\n",
       "      <td>NaN</td>\n",
       "      <td>21</td>\n",
       "      <td>True</td>\n",
       "      <td>/kaggle/input/rsna-breast-cancer-detection/tra...</td>\n",
       "    </tr>\n",
       "    <tr>\n",
       "      <th>54592</th>\n",
       "      <td>2</td>\n",
       "      <td>9840</td>\n",
       "      <td>629749649</td>\n",
       "      <td>L</td>\n",
       "      <td>CC</td>\n",
       "      <td>59.0</td>\n",
       "      <td>0</td>\n",
       "      <td>1</td>\n",
       "      <td>0</td>\n",
       "      <td>NaN</td>\n",
       "      <td>0</td>\n",
       "      <td>NaN</td>\n",
       "      <td>21</td>\n",
       "      <td>True</td>\n",
       "      <td>/kaggle/input/rsna-breast-cancer-detection/tra...</td>\n",
       "    </tr>\n",
       "    <tr>\n",
       "      <th>54593</th>\n",
       "      <td>2</td>\n",
       "      <td>9840</td>\n",
       "      <td>111786935</td>\n",
       "      <td>R</td>\n",
       "      <td>MLO</td>\n",
       "      <td>59.0</td>\n",
       "      <td>1</td>\n",
       "      <td>1</td>\n",
       "      <td>1</td>\n",
       "      <td>NaN</td>\n",
       "      <td>0</td>\n",
       "      <td>NaN</td>\n",
       "      <td>21</td>\n",
       "      <td>False</td>\n",
       "      <td>/kaggle/input/rsna-breast-cancer-detection/tra...</td>\n",
       "    </tr>\n",
       "    <tr>\n",
       "      <th>54594</th>\n",
       "      <td>2</td>\n",
       "      <td>9840</td>\n",
       "      <td>1559360810</td>\n",
       "      <td>R</td>\n",
       "      <td>CC</td>\n",
       "      <td>59.0</td>\n",
       "      <td>1</td>\n",
       "      <td>1</td>\n",
       "      <td>1</td>\n",
       "      <td>NaN</td>\n",
       "      <td>0</td>\n",
       "      <td>NaN</td>\n",
       "      <td>21</td>\n",
       "      <td>False</td>\n",
       "      <td>/kaggle/input/rsna-breast-cancer-detection/tra...</td>\n",
       "    </tr>\n",
       "  </tbody>\n",
       "</table>\n",
       "</div>"
      ],
      "text/plain": [
       "       site_id  patient_id    image_id laterality view   age  cancer  biopsy  \\\n",
       "54591        2        9840    87146266          L  MLO  59.0       0       1   \n",
       "54592        2        9840   629749649          L   CC  59.0       0       1   \n",
       "54593        2        9840   111786935          R  MLO  59.0       1       1   \n",
       "54594        2        9840  1559360810          R   CC  59.0       1       1   \n",
       "\n",
       "       invasive  BIRADS  implant density  machine_id  difficult_negative_case  \\\n",
       "54591         0     NaN        0     NaN          21                     True   \n",
       "54592         0     NaN        0     NaN          21                     True   \n",
       "54593         1     NaN        0     NaN          21                    False   \n",
       "54594         1     NaN        0     NaN          21                    False   \n",
       "\n",
       "                                                    path  \n",
       "54591  /kaggle/input/rsna-breast-cancer-detection/tra...  \n",
       "54592  /kaggle/input/rsna-breast-cancer-detection/tra...  \n",
       "54593  /kaggle/input/rsna-breast-cancer-detection/tra...  \n",
       "54594  /kaggle/input/rsna-breast-cancer-detection/tra...  "
      ]
     },
     "execution_count": 9,
     "metadata": {},
     "output_type": "execute_result"
    }
   ],
   "source": [
    "train_df[train_df['patient_id']==9840]"
   ]
  },
  {
   "cell_type": "markdown",
   "id": "c4a7899f",
   "metadata": {
    "papermill": {
     "duration": 0.021511,
     "end_time": "2023-02-23T05:59:41.304863",
     "exception": false,
     "start_time": "2023-02-23T05:59:41.283352",
     "status": "completed"
    },
    "tags": []
   },
   "source": [
    "> we can see for patient id 9840, she has cancer in right breast only"
   ]
  },
  {
   "cell_type": "markdown",
   "id": "a65d6441",
   "metadata": {
    "papermill": {
     "duration": 0.021317,
     "end_time": "2023-02-23T05:59:41.347905",
     "exception": false,
     "start_time": "2023-02-23T05:59:41.326588",
     "status": "completed"
    },
    "tags": []
   },
   "source": [
    "## Check how many images have cancer"
   ]
  },
  {
   "cell_type": "code",
   "execution_count": 10,
   "id": "e31ce480",
   "metadata": {
    "execution": {
     "iopub.execute_input": "2023-02-23T05:59:41.393346Z",
     "iopub.status.busy": "2023-02-23T05:59:41.392901Z",
     "iopub.status.idle": "2023-02-23T05:59:41.403654Z",
     "shell.execute_reply": "2023-02-23T05:59:41.401943Z"
    },
    "papermill": {
     "duration": 0.037864,
     "end_time": "2023-02-23T05:59:41.407275",
     "exception": false,
     "start_time": "2023-02-23T05:59:41.369411",
     "status": "completed"
    },
    "tags": []
   },
   "outputs": [
    {
     "data": {
      "text/plain": [
       "0    53548\n",
       "1     1158\n",
       "Name: cancer, dtype: int64"
      ]
     },
     "execution_count": 10,
     "metadata": {},
     "output_type": "execute_result"
    }
   ],
   "source": [
    "train_df['cancer'].value_counts()"
   ]
  },
  {
   "cell_type": "code",
   "execution_count": 11,
   "id": "4addf9c7",
   "metadata": {
    "execution": {
     "iopub.execute_input": "2023-02-23T05:59:41.455571Z",
     "iopub.status.busy": "2023-02-23T05:59:41.454654Z",
     "iopub.status.idle": "2023-02-23T05:59:41.467747Z",
     "shell.execute_reply": "2023-02-23T05:59:41.466223Z"
    },
    "papermill": {
     "duration": 0.04126,
     "end_time": "2023-02-23T05:59:41.470654",
     "exception": false,
     "start_time": "2023-02-23T05:59:41.429394",
     "status": "completed"
    },
    "tags": []
   },
   "outputs": [
    {
     "data": {
      "text/plain": [
       "B    12651\n",
       "C    12175\n",
       "A     3105\n",
       "D     1539\n",
       "Name: density, dtype: int64"
      ]
     },
     "execution_count": 11,
     "metadata": {},
     "output_type": "execute_result"
    }
   ],
   "source": [
    "train_df['density'].value_counts()"
   ]
  },
  {
   "cell_type": "code",
   "execution_count": 12,
   "id": "9ff0ed4f",
   "metadata": {
    "execution": {
     "iopub.execute_input": "2023-02-23T05:59:41.519039Z",
     "iopub.status.busy": "2023-02-23T05:59:41.518573Z",
     "iopub.status.idle": "2023-02-23T05:59:41.538918Z",
     "shell.execute_reply": "2023-02-23T05:59:41.537558Z"
    },
    "papermill": {
     "duration": 0.048438,
     "end_time": "2023-02-23T05:59:41.541803",
     "exception": false,
     "start_time": "2023-02-23T05:59:41.493365",
     "status": "completed"
    },
    "tags": []
   },
   "outputs": [
    {
     "data": {
      "text/plain": [
       "0    6477\n",
       "1     198\n",
       "Name: cancer, dtype: int64"
      ]
     },
     "execution_count": 12,
     "metadata": {},
     "output_type": "execute_result"
    }
   ],
   "source": [
    "train_df[(train_df['laterality'] == 'L') \n",
    "         & (train_df['difficult_negative_case'] == False) \n",
    "         & (train_df['density'].isin(['A','B']))].cancer.value_counts()"
   ]
  },
  {
   "cell_type": "markdown",
   "id": "168fb30f",
   "metadata": {
    "papermill": {
     "duration": 0.021827,
     "end_time": "2023-02-23T05:59:41.586147",
     "exception": false,
     "start_time": "2023-02-23T05:59:41.564320",
     "status": "completed"
    },
    "tags": []
   },
   "source": [
    "## Build a data set of by sampling random number of patients with and without cancer"
   ]
  },
  {
   "cell_type": "code",
   "execution_count": 13,
   "id": "fccaec6d",
   "metadata": {
    "execution": {
     "iopub.execute_input": "2023-02-23T05:59:41.633306Z",
     "iopub.status.busy": "2023-02-23T05:59:41.632836Z",
     "iopub.status.idle": "2023-02-23T05:59:41.669748Z",
     "shell.execute_reply": "2023-02-23T05:59:41.668511Z"
    },
    "papermill": {
     "duration": 0.064099,
     "end_time": "2023-02-23T05:59:41.672727",
     "exception": false,
     "start_time": "2023-02-23T05:59:41.608628",
     "status": "completed"
    },
    "tags": []
   },
   "outputs": [
    {
     "data": {
      "text/html": [
       "<div>\n",
       "<style scoped>\n",
       "    .dataframe tbody tr th:only-of-type {\n",
       "        vertical-align: middle;\n",
       "    }\n",
       "\n",
       "    .dataframe tbody tr th {\n",
       "        vertical-align: top;\n",
       "    }\n",
       "\n",
       "    .dataframe thead th {\n",
       "        text-align: right;\n",
       "    }\n",
       "</style>\n",
       "<table border=\"1\" class=\"dataframe\">\n",
       "  <thead>\n",
       "    <tr style=\"text-align: right;\">\n",
       "      <th></th>\n",
       "      <th>site_id</th>\n",
       "      <th>patient_id</th>\n",
       "      <th>image_id</th>\n",
       "      <th>laterality</th>\n",
       "      <th>view</th>\n",
       "      <th>age</th>\n",
       "      <th>cancer</th>\n",
       "      <th>biopsy</th>\n",
       "      <th>invasive</th>\n",
       "      <th>BIRADS</th>\n",
       "      <th>implant</th>\n",
       "      <th>density</th>\n",
       "      <th>machine_id</th>\n",
       "      <th>difficult_negative_case</th>\n",
       "      <th>path</th>\n",
       "    </tr>\n",
       "  </thead>\n",
       "  <tbody>\n",
       "    <tr>\n",
       "      <th>0</th>\n",
       "      <td>1</td>\n",
       "      <td>1109</td>\n",
       "      <td>1869230850</td>\n",
       "      <td>R</td>\n",
       "      <td>MLO</td>\n",
       "      <td>57.0</td>\n",
       "      <td>1</td>\n",
       "      <td>1</td>\n",
       "      <td>1</td>\n",
       "      <td>0.0</td>\n",
       "      <td>0</td>\n",
       "      <td>B</td>\n",
       "      <td>170</td>\n",
       "      <td>False</td>\n",
       "      <td>/kaggle/input/rsna-breast-cancer-detection/tra...</td>\n",
       "    </tr>\n",
       "    <tr>\n",
       "      <th>1</th>\n",
       "      <td>1</td>\n",
       "      <td>3626</td>\n",
       "      <td>293937906</td>\n",
       "      <td>L</td>\n",
       "      <td>MLO</td>\n",
       "      <td>82.0</td>\n",
       "      <td>1</td>\n",
       "      <td>1</td>\n",
       "      <td>0</td>\n",
       "      <td>0.0</td>\n",
       "      <td>0</td>\n",
       "      <td>B</td>\n",
       "      <td>49</td>\n",
       "      <td>False</td>\n",
       "      <td>/kaggle/input/rsna-breast-cancer-detection/tra...</td>\n",
       "    </tr>\n",
       "    <tr>\n",
       "      <th>2</th>\n",
       "      <td>1</td>\n",
       "      <td>47280</td>\n",
       "      <td>1058632970</td>\n",
       "      <td>L</td>\n",
       "      <td>CC</td>\n",
       "      <td>65.0</td>\n",
       "      <td>1</td>\n",
       "      <td>1</td>\n",
       "      <td>1</td>\n",
       "      <td>0.0</td>\n",
       "      <td>0</td>\n",
       "      <td>B</td>\n",
       "      <td>49</td>\n",
       "      <td>False</td>\n",
       "      <td>/kaggle/input/rsna-breast-cancer-detection/tra...</td>\n",
       "    </tr>\n",
       "    <tr>\n",
       "      <th>3</th>\n",
       "      <td>1</td>\n",
       "      <td>44676</td>\n",
       "      <td>1346493294</td>\n",
       "      <td>L</td>\n",
       "      <td>MLO</td>\n",
       "      <td>64.0</td>\n",
       "      <td>1</td>\n",
       "      <td>1</td>\n",
       "      <td>0</td>\n",
       "      <td>0.0</td>\n",
       "      <td>0</td>\n",
       "      <td>B</td>\n",
       "      <td>49</td>\n",
       "      <td>False</td>\n",
       "      <td>/kaggle/input/rsna-breast-cancer-detection/tra...</td>\n",
       "    </tr>\n",
       "    <tr>\n",
       "      <th>4</th>\n",
       "      <td>1</td>\n",
       "      <td>63053</td>\n",
       "      <td>1562088774</td>\n",
       "      <td>R</td>\n",
       "      <td>MLO</td>\n",
       "      <td>54.0</td>\n",
       "      <td>1</td>\n",
       "      <td>1</td>\n",
       "      <td>0</td>\n",
       "      <td>0.0</td>\n",
       "      <td>0</td>\n",
       "      <td>B</td>\n",
       "      <td>49</td>\n",
       "      <td>False</td>\n",
       "      <td>/kaggle/input/rsna-breast-cancer-detection/tra...</td>\n",
       "    </tr>\n",
       "  </tbody>\n",
       "</table>\n",
       "</div>"
      ],
      "text/plain": [
       "   site_id  patient_id    image_id laterality view   age  cancer  biopsy  \\\n",
       "0        1        1109  1869230850          R  MLO  57.0       1       1   \n",
       "1        1        3626   293937906          L  MLO  82.0       1       1   \n",
       "2        1       47280  1058632970          L   CC  65.0       1       1   \n",
       "3        1       44676  1346493294          L  MLO  64.0       1       1   \n",
       "4        1       63053  1562088774          R  MLO  54.0       1       1   \n",
       "\n",
       "   invasive  BIRADS  implant density  machine_id  difficult_negative_case  \\\n",
       "0         1     0.0        0       B         170                    False   \n",
       "1         0     0.0        0       B          49                    False   \n",
       "2         1     0.0        0       B          49                    False   \n",
       "3         0     0.0        0       B          49                    False   \n",
       "4         0     0.0        0       B          49                    False   \n",
       "\n",
       "                                                path  \n",
       "0  /kaggle/input/rsna-breast-cancer-detection/tra...  \n",
       "1  /kaggle/input/rsna-breast-cancer-detection/tra...  \n",
       "2  /kaggle/input/rsna-breast-cancer-detection/tra...  \n",
       "3  /kaggle/input/rsna-breast-cancer-detection/tra...  \n",
       "4  /kaggle/input/rsna-breast-cancer-detection/tra...  "
      ]
     },
     "execution_count": 13,
     "metadata": {},
     "output_type": "execute_result"
    }
   ],
   "source": [
    "majority_class_df=train_df[(train_df['cancer'] == 1) \n",
    "                           & (train_df['difficult_negative_case'] == False) \n",
    "                           & (train_df['density'].isin(['A','B']))].sample(200)\n",
    "minority_class_df=train_df[(train_df['cancer'] == 0)\n",
    "                           & (train_df['difficult_negative_case'] == False) \n",
    "                           & (train_df['density'].isin(['A','B']))].sample(100)\n",
    "\n",
    "final_df = pd.concat([majority_class_df, minority_class_df])\n",
    "\n",
    "final_df=final_df.reset_index(drop=True)\n",
    "final_df.head()"
   ]
  },
  {
   "cell_type": "markdown",
   "id": "bc78214c",
   "metadata": {
    "papermill": {
     "duration": 0.023663,
     "end_time": "2023-02-23T05:59:41.719909",
     "exception": false,
     "start_time": "2023-02-23T05:59:41.696246",
     "status": "completed"
    },
    "tags": []
   },
   "source": [
    "## Split the images into training data sets\n",
    "-> Make 2 folders\n",
    "* 0: Healthy Patients \n",
    "* 1: Cancer Patients "
   ]
  },
  {
   "cell_type": "code",
   "execution_count": 14,
   "id": "ed3f28ca",
   "metadata": {
    "execution": {
     "iopub.execute_input": "2023-02-23T05:59:41.766976Z",
     "iopub.status.busy": "2023-02-23T05:59:41.766518Z",
     "iopub.status.idle": "2023-02-23T06:02:46.097923Z",
     "shell.execute_reply": "2023-02-23T06:02:46.094750Z"
    },
    "papermill": {
     "duration": 184.365696,
     "end_time": "2023-02-23T06:02:46.107995",
     "exception": false,
     "start_time": "2023-02-23T05:59:41.742299",
     "status": "completed"
    },
    "tags": []
   },
   "outputs": [
    {
     "name": "stderr",
     "output_type": "stream",
     "text": [
      "100%|██████████| 300/300 [03:01<00:00,  1.66it/s]\n"
     ]
    }
   ],
   "source": [
    "import os\n",
    "import pydicom\n",
    "import cv2\n",
    "import concurrent.futures\n",
    "from tqdm import tqdm\n",
    "\n",
    "output_folder = \"/kaggle/working/train_images\"\n",
    "\n",
    "# Create healthy and cancer sub-folders inside output_folder\n",
    "healthy_folder = os.path.join(output_folder, \"healthy\")\n",
    "if not os.path.exists(healthy_folder):\n",
    "    os.makedirs(healthy_folder)\n",
    "\n",
    "cancer_folder = os.path.join(output_folder, \"cancer\")\n",
    "if not os.path.exists(cancer_folder):\n",
    "    os.makedirs(cancer_folder)\n",
    "\n",
    "def process_image(row):\n",
    "    src_path = row['path']\n",
    "    patient_id = row['patient_id']\n",
    "    image_id = row['image_id']\n",
    "\n",
    "    # Load the DICOM image\n",
    "    dicom = pydicom.dcmread(src_path)\n",
    "    \n",
    "    img = dicom.pixel_array\n",
    "    img = (img - img.min()) / (img.max() - img.min())\n",
    "    img = cv2.resize(img, (256, 256))\n",
    "    if dicom.PhotometricInterpretation == \"MONOCHROME1\":\n",
    "        img = 1 - img\n",
    "\n",
    "    # Determine the target folder based on the cancer column value\n",
    "    if row['cancer'] == 0:\n",
    "        target_folder = healthy_folder\n",
    "    else:\n",
    "        target_folder = cancer_folder\n",
    "\n",
    "    # Construct the target path\n",
    "    target_path = os.path.join(target_folder, f\"{patient_id}_{image_id}.png\")\n",
    "\n",
    "    # Save the image to the target folder\n",
    "    cv2.imwrite(target_path, (img * 255).astype(np.uint8))\n",
    "\n",
    "with concurrent.futures.ThreadPoolExecutor() as executor:\n",
    "    futures = [executor.submit(process_image, row) for index, row in final_df.iterrows()]\n",
    "    for f in tqdm(concurrent.futures.as_completed(futures), total=final_df.shape[0]):\n",
    "        pass"
   ]
  },
  {
   "cell_type": "markdown",
   "id": "b5374c80",
   "metadata": {
    "papermill": {
     "duration": 0.02963,
     "end_time": "2023-02-23T06:02:46.185974",
     "exception": false,
     "start_time": "2023-02-23T06:02:46.156344",
     "status": "completed"
    },
    "tags": []
   },
   "source": [
    "## Count images in sub folders"
   ]
  },
  {
   "cell_type": "code",
   "execution_count": 15,
   "id": "253d3cd2",
   "metadata": {
    "execution": {
     "iopub.execute_input": "2023-02-23T06:02:46.251612Z",
     "iopub.status.busy": "2023-02-23T06:02:46.250492Z",
     "iopub.status.idle": "2023-02-23T06:02:46.256829Z",
     "shell.execute_reply": "2023-02-23T06:02:46.255372Z"
    },
    "papermill": {
     "duration": 0.042928,
     "end_time": "2023-02-23T06:02:46.259430",
     "exception": false,
     "start_time": "2023-02-23T06:02:46.216502",
     "status": "completed"
    },
    "tags": []
   },
   "outputs": [],
   "source": [
    "# def show_folder_contents(folder_path):\n",
    "#     for filename in os.listdir(folder_path):\n",
    "#         print(filename)\n",
    "\n",
    "# folder_path = \"/kaggle/working/train_images/cancer\"\n",
    "# show_folder_contents(folder_path)"
   ]
  },
  {
   "cell_type": "code",
   "execution_count": 16,
   "id": "f5b288bd",
   "metadata": {
    "execution": {
     "iopub.execute_input": "2023-02-23T06:02:46.321183Z",
     "iopub.status.busy": "2023-02-23T06:02:46.320688Z",
     "iopub.status.idle": "2023-02-23T06:02:46.330577Z",
     "shell.execute_reply": "2023-02-23T06:02:46.328758Z"
    },
    "papermill": {
     "duration": 0.044895,
     "end_time": "2023-02-23T06:02:46.334153",
     "exception": false,
     "start_time": "2023-02-23T06:02:46.289258",
     "status": "completed"
    },
    "tags": []
   },
   "outputs": [
    {
     "name": "stdout",
     "output_type": "stream",
     "text": [
      "Number of images in cancer folder: 200\n",
      "Number of images in healthy folder: 100\n"
     ]
    }
   ],
   "source": [
    "import os\n",
    "\n",
    "def count_images(folder_path):\n",
    "    count = 0\n",
    "    for filename in os.listdir(folder_path):\n",
    "        if filename.endswith(\".jpg\") or filename.endswith(\".jpeg\") or filename.endswith(\".png\"):\n",
    "            count += 1\n",
    "    return count\n",
    "\n",
    "folder_path = \"/kaggle/working/train_images/cancer\"\n",
    "image_count = count_images(folder_path)\n",
    "print(\"Number of images in cancer folder:\", image_count)\n",
    "\n",
    "folder_path = \"/kaggle/working/train_images/healthy\"\n",
    "image_count = count_images(folder_path)\n",
    "print(\"Number of images in healthy folder:\", image_count)"
   ]
  },
  {
   "cell_type": "markdown",
   "id": "32acdc4a",
   "metadata": {
    "papermill": {
     "duration": 0.030779,
     "end_time": "2023-02-23T06:02:46.395514",
     "exception": false,
     "start_time": "2023-02-23T06:02:46.364735",
     "status": "completed"
    },
    "tags": []
   },
   "source": [
    "## View images in subfolder"
   ]
  },
  {
   "cell_type": "code",
   "execution_count": 17,
   "id": "5f8a82e8",
   "metadata": {
    "execution": {
     "iopub.execute_input": "2023-02-23T06:02:46.463777Z",
     "iopub.status.busy": "2023-02-23T06:02:46.463314Z",
     "iopub.status.idle": "2023-02-23T06:02:46.472021Z",
     "shell.execute_reply": "2023-02-23T06:02:46.470635Z"
    },
    "papermill": {
     "duration": 0.046331,
     "end_time": "2023-02-23T06:02:46.474667",
     "exception": false,
     "start_time": "2023-02-23T06:02:46.428336",
     "status": "completed"
    },
    "tags": []
   },
   "outputs": [],
   "source": [
    "import os\n",
    "import matplotlib.pyplot as plt\n",
    "    \n",
    "def view_images_in_both_subfolders(folder_path, num_images=5):\n",
    "    fig, ax = plt.subplots(nrows=2, ncols=num_images, figsize=(20, 10))\n",
    "    class_folders = [\"healthy\", \"cancer\"]\n",
    "#     class_folders = [\"healthy_corrected\", \"cancer_corrected\"]\n",
    "    for j, class_folder in enumerate(class_folders):\n",
    "        class_folder_path = os.path.join(folder_path, class_folder)\n",
    "        file_names = os.listdir(class_folder_path)\n",
    "        \n",
    "        for i, file_name in enumerate(file_names[:num_images]):\n",
    "                image = plt.imread(os.path.join(class_folder_path, file_name))\n",
    "                ax[j, i].imshow(image, cmap='jet')\n",
    "                ax[j, i].set_title(f\"{class_folder} - Image Shape: {image.shape}\")\n",
    "\n",
    "    plt.show();"
   ]
  },
  {
   "cell_type": "code",
   "execution_count": 18,
   "id": "6d83d741",
   "metadata": {
    "execution": {
     "iopub.execute_input": "2023-02-23T06:02:46.543051Z",
     "iopub.status.busy": "2023-02-23T06:02:46.542293Z",
     "iopub.status.idle": "2023-02-23T06:02:48.457133Z",
     "shell.execute_reply": "2023-02-23T06:02:48.455790Z"
    },
    "papermill": {
     "duration": 1.953041,
     "end_time": "2023-02-23T06:02:48.462451",
     "exception": false,
     "start_time": "2023-02-23T06:02:46.509410",
     "status": "completed"
    },
    "tags": []
   },
   "outputs": [
    {
     "data": {
      "image/png": "[encoded data removed]",
      "text/plain": [
       "<Figure size 1440x720 with 14 Axes>"
      ]
     },
     "metadata": {
      "needs_background": "light"
     },
     "output_type": "display_data"
    }
   ],
   "source": [
    "view_images_in_both_subfolders(\"/kaggle/working/train_images\", num_images=7)"
   ]
  },
  {
   "cell_type": "code",
   "execution_count": 19,
   "id": "64261792",
   "metadata": {
    "execution": {
     "iopub.execute_input": "2023-02-23T06:02:48.537128Z",
     "iopub.status.busy": "2023-02-23T06:02:48.536325Z",
     "iopub.status.idle": "2023-02-23T06:02:48.541489Z",
     "shell.execute_reply": "2023-02-23T06:02:48.540545Z"
    },
    "papermill": {
     "duration": 0.044992,
     "end_time": "2023-02-23T06:02:48.543911",
     "exception": false,
     "start_time": "2023-02-23T06:02:48.498919",
     "status": "completed"
    },
    "tags": []
   },
   "outputs": [],
   "source": [
    "# def normalize_image(img):\n",
    "#     img = img / np.max(img)\n",
    "#     return img\n",
    "\n",
    "# def normalize_folder(folder_path):\n",
    "#     for subdir, dirs, files in os.walk(folder_path):\n",
    "#         for file in files:\n",
    "#             file_path = os.path.join(subdir, file)\n",
    "#             img = cv2.imread(file_path, 0)\n",
    "#             img = normalize_image(img)\n",
    "#             cv2.imwrite(file_path, img)\n",
    "\n",
    "# healthy_folder = \"/kaggle/working/train_images/healthy\"\n",
    "# cancer_folder = \"/kaggle/working/train_images/cancer\"\n",
    "\n",
    "# normalize_folder(healthy_folder)\n",
    "# normalize_folder(cancer_folder)"
   ]
  },
  {
   "cell_type": "code",
   "execution_count": 20,
   "id": "870a2c0b",
   "metadata": {
    "execution": {
     "iopub.execute_input": "2023-02-23T06:02:48.616755Z",
     "iopub.status.busy": "2023-02-23T06:02:48.616015Z",
     "iopub.status.idle": "2023-02-23T06:02:48.623235Z",
     "shell.execute_reply": "2023-02-23T06:02:48.622099Z"
    },
    "papermill": {
     "duration": 0.047194,
     "end_time": "2023-02-23T06:02:48.625913",
     "exception": false,
     "start_time": "2023-02-23T06:02:48.578719",
     "status": "completed"
    },
    "tags": []
   },
   "outputs": [],
   "source": [
    "def check_normalization(folder_path):\n",
    "    for filename in os.listdir(folder_path):\n",
    "        file_path = os.path.join(folder_path, filename)\n",
    "        img = cv2.imread(file_path, cv2.IMREAD_GRAYSCALE)\n",
    "        if np.min(img) < 0 or np.max(img) > 1:\n",
    "            print(\"Image not normalized:\", np.min(img), np.max(img), img.shape, file_path)\n",
    "        else:\n",
    "            print(\"Image normalized:\", np.min(img), np.max(img), img.shape, file_path)\n",
    "\n",
    "# folder_path = \"/kaggle/working/train_images/cancer\"\n",
    "# print('Cancer images check ===========')\n",
    "# check_normalization(folder_path)\n",
    "\n",
    "# folder_path = \"/kaggle/working/train_images/healthy\"\n",
    "# print('\\nHealthy images check ===========')\n",
    "# check_normalization(folder_path)"
   ]
  },
  {
   "cell_type": "markdown",
   "id": "54afb8b3",
   "metadata": {
    "papermill": {
     "duration": 0.034447,
     "end_time": "2023-02-23T06:02:48.695378",
     "exception": false,
     "start_time": "2023-02-23T06:02:48.660931",
     "status": "completed"
    },
    "tags": []
   },
   "source": [
    "# Preprocess the images"
   ]
  },
  {
   "cell_type": "markdown",
   "id": "b4704f92",
   "metadata": {
    "papermill": {
     "duration": 0.035509,
     "end_time": "2023-02-23T06:02:48.766787",
     "exception": false,
     "start_time": "2023-02-23T06:02:48.731278",
     "status": "completed"
    },
    "tags": []
   },
   "source": [
    "### Read nth image in a folder"
   ]
  },
  {
   "cell_type": "code",
   "execution_count": 21,
   "id": "5ef76684",
   "metadata": {
    "execution": {
     "iopub.execute_input": "2023-02-23T06:02:48.841832Z",
     "iopub.status.busy": "2023-02-23T06:02:48.840984Z",
     "iopub.status.idle": "2023-02-23T06:02:48.847686Z",
     "shell.execute_reply": "2023-02-23T06:02:48.846271Z"
    },
    "papermill": {
     "duration": 0.046798,
     "end_time": "2023-02-23T06:02:48.850364",
     "exception": false,
     "start_time": "2023-02-23T06:02:48.803566",
     "status": "completed"
    },
    "tags": []
   },
   "outputs": [],
   "source": [
    "def read_nth_image(folder_path, n):\n",
    "    images = [f for f in os.listdir(folder_path) if f.endswith('.png')]\n",
    "    if len(images) < n:\n",
    "        return None\n",
    "    else:\n",
    "        image_path = os.path.join(folder_path, images[n-1])\n",
    "        image = cv2.imread(image_path)\n",
    "        return image"
   ]
  },
  {
   "cell_type": "code",
   "execution_count": 22,
   "id": "bb9f2c51",
   "metadata": {
    "execution": {
     "iopub.execute_input": "2023-02-23T06:02:48.925724Z",
     "iopub.status.busy": "2023-02-23T06:02:48.924863Z",
     "iopub.status.idle": "2023-02-23T06:02:48.936234Z",
     "shell.execute_reply": "2023-02-23T06:02:48.934932Z"
    },
    "papermill": {
     "duration": 0.054052,
     "end_time": "2023-02-23T06:02:48.939258",
     "exception": false,
     "start_time": "2023-02-23T06:02:48.885206",
     "status": "completed"
    },
    "tags": []
   },
   "outputs": [],
   "source": [
    "folder_path='/kaggle/working/train_images/cancer/'\n",
    "n=4\n",
    "img=read_nth_image(folder_path, n)"
   ]
  },
  {
   "cell_type": "code",
   "execution_count": 23,
   "id": "659666eb",
   "metadata": {
    "execution": {
     "iopub.execute_input": "2023-02-23T06:02:49.014971Z",
     "iopub.status.busy": "2023-02-23T06:02:49.014478Z",
     "iopub.status.idle": "2023-02-23T06:02:49.022674Z",
     "shell.execute_reply": "2023-02-23T06:02:49.021412Z"
    },
    "papermill": {
     "duration": 0.050187,
     "end_time": "2023-02-23T06:02:49.025655",
     "exception": false,
     "start_time": "2023-02-23T06:02:48.975468",
     "status": "completed"
    },
    "tags": []
   },
   "outputs": [
    {
     "data": {
      "text/plain": [
       "((256, 256, 3), 0, 255)"
      ]
     },
     "execution_count": 23,
     "metadata": {},
     "output_type": "execute_result"
    }
   ],
   "source": [
    "img.shape, img.min(), img.max()"
   ]
  },
  {
   "cell_type": "code",
   "execution_count": 24,
   "id": "7a33b668",
   "metadata": {
    "execution": {
     "iopub.execute_input": "2023-02-23T06:02:49.101169Z",
     "iopub.status.busy": "2023-02-23T06:02:49.100334Z",
     "iopub.status.idle": "2023-02-23T06:02:49.314857Z",
     "shell.execute_reply": "2023-02-23T06:02:49.313890Z"
    },
    "papermill": {
     "duration": 0.254677,
     "end_time": "2023-02-23T06:02:49.317354",
     "exception": false,
     "start_time": "2023-02-23T06:02:49.062677",
     "status": "completed"
    },
    "tags": []
   },
   "outputs": [
    {
     "data": {
      "image/png": "[encoded data removed]",
      "text/plain": [
       "<Figure size 432x288 with 1 Axes>"
      ]
     },
     "metadata": {
      "needs_background": "light"
     },
     "output_type": "display_data"
    }
   ],
   "source": [
    "plt.imshow(img, cmap='gray');"
   ]
  },
  {
   "cell_type": "markdown",
   "id": "a5499553",
   "metadata": {
    "papermill": {
     "duration": 0.035766,
     "end_time": "2023-02-23T06:02:49.389134",
     "exception": false,
     "start_time": "2023-02-23T06:02:49.353368",
     "status": "completed"
    },
    "tags": []
   },
   "source": [
    "### Apply preprocessing to just 1 image to see the changes"
   ]
  },
  {
   "cell_type": "code",
   "execution_count": 25,
   "id": "5f21c9a5",
   "metadata": {
    "execution": {
     "iopub.execute_input": "2023-02-23T06:02:49.462907Z",
     "iopub.status.busy": "2023-02-23T06:02:49.462417Z",
     "iopub.status.idle": "2023-02-23T06:02:49.844284Z",
     "shell.execute_reply": "2023-02-23T06:02:49.842978Z"
    },
    "papermill": {
     "duration": 0.423149,
     "end_time": "2023-02-23T06:02:49.848143",
     "exception": false,
     "start_time": "2023-02-23T06:02:49.424994",
     "status": "completed"
    },
    "tags": []
   },
   "outputs": [
    {
     "data": {
      "image/png": "[encoded data removed]",
      "text/plain": [
       "<Figure size 1440x576 with 4 Axes>"
      ]
     },
     "metadata": {},
     "output_type": "display_data"
    }
   ],
   "source": [
    "import numpy as np\n",
    "import cv2\n",
    "import matplotlib.pyplot as plt\n",
    "\n",
    "def adjust_gamma(image, gamma=1.0):\n",
    "    # build a lookup table mapping the pixel values [0, 255] to their adjusted gamma values\n",
    "    invGamma = 1.0 / gamma\n",
    "    table = np.array([((i / 255.0) ** invGamma) * 255 for i in np.arange(0, 256)], dtype=\"uint8\")\n",
    "\n",
    "    # split the image into its three color channels (R, G, B)\n",
    "    R, G, B = cv2.split(image)\n",
    "    \n",
    "    # apply gamma correction to each color channel\n",
    "    corrected_R = cv2.LUT(R, table)\n",
    "    corrected_G = cv2.LUT(G, table)\n",
    "    corrected_B = cv2.LUT(B, table)\n",
    "    \n",
    "    # merge the corrected color channels back into a single image\n",
    "    corrected_image = cv2.merge((corrected_R, corrected_G, corrected_B))\n",
    "    \n",
    "    return corrected_image\n",
    "\n",
    "def apply_clahe(img, clip_limit=2.0, tile_grid_size=(8,8)):\n",
    "    clahe = cv2.createCLAHE(clipLimit=clip_limit, tileGridSize=tile_grid_size)\n",
    "    \n",
    "    # split the image into its three color channels (R, G, B)\n",
    "    R, G, B = cv2.split(img)\n",
    "    \n",
    "    # apply CLAHE to each color channel\n",
    "    cl1_R = clahe.apply(R)\n",
    "    cl1_G = clahe.apply(G)\n",
    "    cl1_B = clahe.apply(B)\n",
    "    \n",
    "    # merge the corrected color channels back into a single image\n",
    "    cl1 = cv2.merge((cl1_R, cl1_G, cl1_B))\n",
    "    \n",
    "    return cl1\n",
    "\n",
    "# Perform gamma correction with gamma=0.5\n",
    "gamma_corrected_image = adjust_gamma(img, 0.8)\n",
    "\n",
    "# Apply CLAHE\n",
    "clahe_corrected_image = apply_clahe(gamma_corrected_image, clip_limit=1.0, tile_grid_size=(8,8))\n",
    "\n",
    "# Apply CLAHE\n",
    "clahe_corrected_image_2 = apply_clahe(clahe_corrected_image, clip_limit=1.0, tile_grid_size=(8,8))\n",
    "\n",
    "# Display original, gamma corrected, and CLAHE corrected images\n",
    "plt.figure(figsize=(20,8))\n",
    "plt.subplot(1,4,1),plt.imshow(img,cmap=\"gray\")\n",
    "plt.title(\"Original Image\"), plt.xticks([]), plt.yticks([])\n",
    "\n",
    "plt.subplot(1,4,2),plt.imshow(gamma_corrected_image,cmap=\"gray\")\n",
    "plt.title(\"Gamma Corrected Image\"), plt.xticks([]), plt.yticks([])\n",
    "\n",
    "plt.subplot(1,4,3),plt.imshow(clahe_corrected_image,cmap=\"gray\")\n",
    "plt.title(\"CLAHE Corrected Image\"), plt.xticks([]), plt.yticks([])\n",
    "\n",
    "plt.subplot(1,4,4),plt.imshow(clahe_corrected_image_2,cmap=\"gray\")\n",
    "plt.title(\"CLAHE Corrected Image 2\"), plt.xticks([]), plt.yticks([])\n",
    "\n",
    "plt.show()"
   ]
  },
  {
   "cell_type": "markdown",
   "id": "795c2483",
   "metadata": {
    "papermill": {
     "duration": 0.039525,
     "end_time": "2023-02-23T06:02:49.927887",
     "exception": false,
     "start_time": "2023-02-23T06:02:49.888362",
     "status": "completed"
    },
    "tags": []
   },
   "source": [
    "### Define preprocessing functions to modify the images in the target fodlers "
   ]
  },
  {
   "cell_type": "code",
   "execution_count": 26,
   "id": "3eca2715",
   "metadata": {
    "execution": {
     "iopub.execute_input": "2023-02-23T06:02:50.009450Z",
     "iopub.status.busy": "2023-02-23T06:02:50.008951Z",
     "iopub.status.idle": "2023-02-23T06:02:50.023679Z",
     "shell.execute_reply": "2023-02-23T06:02:50.022367Z"
    },
    "papermill": {
     "duration": 0.060028,
     "end_time": "2023-02-23T06:02:50.026652",
     "exception": false,
     "start_time": "2023-02-23T06:02:49.966624",
     "status": "completed"
    },
    "tags": []
   },
   "outputs": [],
   "source": [
    "def adjust_gamma(image, gamma=1.0):\n",
    "    # build a lookup table mapping the pixel values [0, 255] to their adjusted gamma values\n",
    "    invGamma = 1.0 / gamma\n",
    "    table = np.array([((i / 255.0) ** invGamma) * 255 for i in np.arange(0, 256)], dtype=\"uint8\")\n",
    "\n",
    "    # split the image into its three color channels (R, G, B)\n",
    "    R, G, B = cv2.split(image)\n",
    "    \n",
    "    # apply gamma correction to each color channel\n",
    "    corrected_R = cv2.LUT(R, table)\n",
    "    corrected_G = cv2.LUT(G, table)\n",
    "    corrected_B = cv2.LUT(B, table)\n",
    "    \n",
    "    # merge the corrected color channels back into a single image\n",
    "    corrected_image = cv2.merge((corrected_R, corrected_G, corrected_B))\n",
    "    \n",
    "    return corrected_image\n",
    "\n",
    "def apply_clahe(img, clip_limit=2.0, tile_grid_size=(8,8)):\n",
    "    clahe = cv2.createCLAHE(clipLimit=clip_limit, tileGridSize=tile_grid_size)\n",
    "    \n",
    "    # split the image into its three color channels (R, G, B)\n",
    "    R, G, B = cv2.split(img)\n",
    "    \n",
    "    # apply CLAHE to each color channel\n",
    "    cl1_R = clahe.apply(R)\n",
    "    cl1_G = clahe.apply(G)\n",
    "    cl1_B = clahe.apply(B)\n",
    "    \n",
    "    # merge the corrected color channels back into a single image\n",
    "    cl1 = cv2.merge((cl1_R, cl1_G, cl1_B))\n",
    "    \n",
    "    return cl1\n",
    "\n",
    "cancer_folder = \"/kaggle/working/train_images/cancer/\"\n",
    "healthy_folder = \"/kaggle/working/train_images/healthy/\"\n",
    "\n",
    "def process_images(folder_path):\n",
    "    for filename in os.listdir(folder_path):\n",
    "        print(os.path.join(folder_path, filename))\n",
    "        if filename.endswith(\".jpg\") or filename.endswith(\".jpeg\") or filename.endswith(\".png\"):\n",
    "            image = cv2.imread(os.path.join(folder_path, filename))\n",
    "            image = cv2.cvtColor(image, cv2.COLOR_BGR2RGB) # convert from BGR to RGB\n",
    "            image = adjust_gamma(image)\n",
    "            image = apply_clahe(image)\n",
    "            image = apply_clahe(image)\n",
    "            cv2.imwrite(os.path.join(folder_path, filename), cv2.cvtColor(image, cv2.COLOR_RGB2BGR))"
   ]
  },
  {
   "cell_type": "code",
   "execution_count": 27,
   "id": "75b958e6",
   "metadata": {
    "execution": {
     "iopub.execute_input": "2023-02-23T06:02:50.106331Z",
     "iopub.status.busy": "2023-02-23T06:02:50.105886Z",
     "iopub.status.idle": "2023-02-23T06:02:52.555256Z",
     "shell.execute_reply": "2023-02-23T06:02:52.553503Z"
    },
    "papermill": {
     "duration": 2.493201,
     "end_time": "2023-02-23T06:02:52.558406",
     "exception": false,
     "start_time": "2023-02-23T06:02:50.065205",
     "status": "completed"
    },
    "tags": []
   },
   "outputs": [
    {
     "name": "stdout",
     "output_type": "stream",
     "text": [
      "/kaggle/working/train_images/cancer/65244_119855018.png\n",
      "/kaggle/working/train_images/cancer/30836_714251521.png\n",
      "/kaggle/working/train_images/cancer/43004_2086414198.png\n",
      "/kaggle/working/train_images/cancer/2938_247535701.png\n",
      "/kaggle/working/train_images/cancer/24643_333469112.png\n",
      "/kaggle/working/train_images/cancer/41359_1802579446.png\n",
      "/kaggle/working/train_images/cancer/31582_564250417.png\n",
      "/kaggle/working/train_images/cancer/28785_52731467.png\n",
      "/kaggle/working/train_images/cancer/64018_259642159.png\n",
      "/kaggle/working/train_images/cancer/59806_2119940867.png\n",
      "/kaggle/working/train_images/cancer/15078_1719011144.png\n",
      "/kaggle/working/train_images/cancer/21880_2124340393.png\n",
      "/kaggle/working/train_images/cancer/43004_1829769663.png\n",
      "/kaggle/working/train_images/cancer/45666_1879230222.png\n",
      "/kaggle/working/train_images/cancer/65077_545603591.png\n",
      "/kaggle/working/train_images/cancer/47382_2129270210.png\n",
      "/kaggle/working/train_images/cancer/12305_1995339680.png\n",
      "/kaggle/working/train_images/cancer/21445_871365777.png\n",
      "/kaggle/working/train_images/cancer/44709_650076091.png\n",
      "/kaggle/working/train_images/cancer/11937_457443056.png\n",
      "/kaggle/working/train_images/cancer/1878_1490758028.png\n",
      "/kaggle/working/train_images/cancer/47280_1058632970.png\n",
      "/kaggle/working/train_images/cancer/37724_1125393084.png\n",
      "/kaggle/working/train_images/cancer/53636_1322837831.png\n",
      "/kaggle/working/train_images/cancer/24916_801684731.png\n",
      "/kaggle/working/train_images/cancer/37724_1189929071.png\n",
      "/kaggle/working/train_images/cancer/38727_1338411990.png\n",
      "/kaggle/working/train_images/cancer/5608_1085496456.png\n",
      "/kaggle/working/train_images/cancer/31745_1453551983.png\n",
      "/kaggle/working/train_images/cancer/25523_1384710229.png\n",
      "/kaggle/working/train_images/cancer/29986_1496079995.png\n",
      "/kaggle/working/train_images/cancer/8631_155909056.png\n",
      "/kaggle/working/train_images/cancer/65244_766694861.png\n",
      "/kaggle/working/train_images/cancer/31582_435931040.png\n",
      "/kaggle/working/train_images/cancer/31750_1089314305.png\n",
      "/kaggle/working/train_images/cancer/21880_1381741782.png\n",
      "/kaggle/working/train_images/cancer/3346_1158116146.png\n",
      "/kaggle/working/train_images/cancer/39747_620707174.png\n",
      "/kaggle/working/train_images/cancer/30435_766498043.png\n",
      "/kaggle/working/train_images/cancer/63053_358240402.png\n",
      "/kaggle/working/train_images/cancer/4917_1773963138.png\n",
      "/kaggle/working/train_images/cancer/54930_1314799188.png\n",
      "/kaggle/working/train_images/cancer/4953_146985323.png\n",
      "/kaggle/working/train_images/cancer/5820_1101246759.png\n",
      "/kaggle/working/train_images/cancer/50078_474211829.png\n",
      "/kaggle/working/train_images/cancer/1963_159974570.png\n",
      "/kaggle/working/train_images/cancer/18026_1303889904.png\n",
      "/kaggle/working/train_images/cancer/49927_582859757.png\n",
      "/kaggle/working/train_images/cancer/5235_2141301728.png\n",
      "/kaggle/working/train_images/cancer/3542_1165293149.png\n",
      "/kaggle/working/train_images/cancer/5235_811649706.png\n",
      "/kaggle/working/train_images/cancer/8631_1803973088.png\n",
      "/kaggle/working/train_images/cancer/44709_646346502.png\n",
      "/kaggle/working/train_images/cancer/30435_137928966.png\n",
      "/kaggle/working/train_images/cancer/26862_295341643.png\n",
      "/kaggle/working/train_images/cancer/9029_302179668.png\n",
      "/kaggle/working/train_images/cancer/20009_863999353.png\n",
      "/kaggle/working/train_images/cancer/57229_1863446.png\n",
      "/kaggle/working/train_images/cancer/24916_378623093.png\n",
      "/kaggle/working/train_images/cancer/4917_947417149.png\n",
      "/kaggle/working/train_images/cancer/31581_1732965874.png\n",
      "/kaggle/working/train_images/cancer/20251_401181500.png\n",
      "/kaggle/working/train_images/cancer/20923_1925841866.png\n",
      "/kaggle/working/train_images/cancer/35847_2041771555.png\n",
      "/kaggle/working/train_images/cancer/64385_1032681733.png\n",
      "/kaggle/working/train_images/cancer/40163_1828224723.png\n",
      "/kaggle/working/train_images/cancer/40163_428403131.png\n",
      "/kaggle/working/train_images/cancer/16955_1179164048.png\n",
      "/kaggle/working/train_images/cancer/5608_908319767.png\n",
      "/kaggle/working/train_images/cancer/45441_1448526292.png\n",
      "/kaggle/working/train_images/cancer/1878_189362032.png\n",
      "/kaggle/working/train_images/cancer/6659_886621098.png\n",
      "/kaggle/working/train_images/cancer/1109_1326732476.png\n",
      "/kaggle/working/train_images/cancer/13116_238763713.png\n",
      "/kaggle/working/train_images/cancer/53636_238197258.png\n",
      "/kaggle/working/train_images/cancer/1025_1803952236.png\n",
      "/kaggle/working/train_images/cancer/45666_952276083.png\n",
      "/kaggle/working/train_images/cancer/13756_1210098281.png\n",
      "/kaggle/working/train_images/cancer/2179_2039865970.png\n",
      "/kaggle/working/train_images/cancer/17535_952275239.png\n",
      "/kaggle/working/train_images/cancer/13116_234842188.png\n",
      "/kaggle/working/train_images/cancer/25323_1245090607.png\n",
      "/kaggle/working/train_images/cancer/62608_1692390127.png\n",
      "/kaggle/working/train_images/cancer/31107_1117699183.png\n",
      "/kaggle/working/train_images/cancer/10589_195400299.png\n",
      "/kaggle/working/train_images/cancer/37836_1632383378.png\n",
      "/kaggle/working/train_images/cancer/53636_660579794.png\n",
      "/kaggle/working/train_images/cancer/57525_2022531671.png\n",
      "/kaggle/working/train_images/cancer/64018_1923100903.png\n",
      "/kaggle/working/train_images/cancer/4953_94584715.png\n",
      "/kaggle/working/train_images/cancer/37931_1892232224.png\n",
      "/kaggle/working/train_images/cancer/1109_1869230850.png\n",
      "/kaggle/working/train_images/cancer/63053_1562088774.png\n",
      "/kaggle/working/train_images/cancer/25423_1605876492.png\n",
      "/kaggle/working/train_images/cancer/22860_1938449367.png\n",
      "/kaggle/working/train_images/cancer/15078_728564060.png\n",
      "/kaggle/working/train_images/cancer/7780_132778066.png\n",
      "/kaggle/working/train_images/cancer/26862_192415761.png\n",
      "/kaggle/working/train_images/cancer/55879_920069633.png\n",
      "/kaggle/working/train_images/cancer/37213_238138823.png\n",
      "/kaggle/working/train_images/cancer/21445_468265579.png\n",
      "/kaggle/working/train_images/cancer/61046_770259258.png\n",
      "/kaggle/working/train_images/cancer/3346_1063196710.png\n",
      "/kaggle/working/train_images/cancer/31107_56487741.png\n",
      "/kaggle/working/train_images/cancer/11094_1417771843.png\n",
      "/kaggle/working/train_images/cancer/60629_697950433.png\n",
      "/kaggle/working/train_images/cancer/12258_740439778.png\n",
      "/kaggle/working/train_images/cancer/46309_1515316856.png\n",
      "/kaggle/working/train_images/cancer/1963_2090715578.png\n",
      "/kaggle/working/train_images/cancer/39280_1570213179.png\n",
      "/kaggle/working/train_images/cancer/37931_1272825640.png\n",
      "/kaggle/working/train_images/cancer/11919_1017363921.png\n",
      "/kaggle/working/train_images/cancer/21957_1415477144.png\n",
      "/kaggle/working/train_images/cancer/22616_2115811863.png\n",
      "/kaggle/working/train_images/cancer/51609_280430685.png\n",
      "/kaggle/working/train_images/cancer/59806_705873233.png\n",
      "/kaggle/working/train_images/cancer/41359_1666009039.png\n",
      "/kaggle/working/train_images/cancer/54463_706555257.png\n",
      "/kaggle/working/train_images/cancer/37213_268400743.png\n",
      "/kaggle/working/train_images/cancer/31581_472422304.png\n",
      "/kaggle/working/train_images/cancer/39280_334248774.png\n",
      "/kaggle/working/train_images/cancer/3626_1942920371.png\n",
      "/kaggle/working/train_images/cancer/12305_2026358482.png\n",
      "/kaggle/working/train_images/cancer/18026_1943507092.png\n",
      "/kaggle/working/train_images/cancer/60410_1597116280.png\n",
      "/kaggle/working/train_images/cancer/31745_953022973.png\n",
      "/kaggle/working/train_images/cancer/20923_1507275789.png\n",
      "/kaggle/working/train_images/cancer/54930_1501829050.png\n",
      "/kaggle/working/train_images/cancer/25523_690750133.png\n",
      "/kaggle/working/train_images/cancer/21880_880971379.png\n",
      "/kaggle/working/train_images/cancer/10589_605115808.png\n",
      "/kaggle/working/train_images/cancer/25423_1982596702.png\n",
      "/kaggle/working/train_images/cancer/40163_468017207.png\n",
      "/kaggle/working/train_images/cancer/25323_1743461841.png\n",
      "/kaggle/working/train_images/cancer/39280_1448042992.png\n",
      "/kaggle/working/train_images/cancer/5820_317530806.png\n",
      "/kaggle/working/train_images/cancer/11094_1926447510.png\n",
      "/kaggle/working/train_images/cancer/9029_1906118149.png\n",
      "/kaggle/working/train_images/cancer/10130_613462606.png\n",
      "/kaggle/working/train_images/cancer/46309_70960365.png\n",
      "/kaggle/working/train_images/cancer/3626_293937906.png\n",
      "/kaggle/working/train_images/cancer/24643_748841369.png\n",
      "/kaggle/working/train_images/cancer/18026_1905432390.png\n",
      "/kaggle/working/train_images/cancer/54463_385806898.png\n",
      "/kaggle/working/train_images/cancer/3542_748623885.png\n",
      "/kaggle/working/train_images/cancer/63053_1922119353.png\n",
      "/kaggle/working/train_images/cancer/25323_361875956.png\n",
      "/kaggle/working/train_images/cancer/15078_1167308429.png\n",
      "/kaggle/working/train_images/cancer/62608_1233738688.png\n",
      "/kaggle/working/train_images/cancer/60410_825403089.png\n",
      "/kaggle/working/train_images/cancer/49520_767878280.png\n",
      "/kaggle/working/train_images/cancer/28747_1026238054.png\n",
      "/kaggle/working/train_images/cancer/2938_872443919.png\n",
      "/kaggle/working/train_images/cancer/39747_934952606.png\n",
      "/kaggle/working/train_images/cancer/30317_991310893.png\n",
      "/kaggle/working/train_images/cancer/47280_1577937072.png\n",
      "/kaggle/working/train_images/cancer/39611_122457445.png\n",
      "/kaggle/working/train_images/cancer/24947_145170954.png\n",
      "/kaggle/working/train_images/cancer/59322_1061744056.png\n",
      "/kaggle/working/train_images/cancer/32057_269202549.png\n",
      "/kaggle/working/train_images/cancer/6853_572494260.png\n",
      "/kaggle/working/train_images/cancer/64385_138963357.png\n",
      "/kaggle/working/train_images/cancer/44676_1346493294.png\n",
      "/kaggle/working/train_images/cancer/58398_823353216.png\n",
      "/kaggle/working/train_images/cancer/38537_1325952776.png\n",
      "/kaggle/working/train_images/cancer/8631_280870762.png\n",
      "/kaggle/working/train_images/cancer/47382_208877180.png\n",
      "/kaggle/working/train_images/cancer/25323_396189007.png\n",
      "/kaggle/working/train_images/cancer/17894_75408744.png\n",
      "/kaggle/working/train_images/cancer/25432_1283242087.png\n",
      "/kaggle/working/train_images/cancer/31107_1535897244.png\n",
      "/kaggle/working/train_images/cancer/58398_1620798005.png\n",
      "/kaggle/working/train_images/cancer/13116_739383742.png\n",
      "/kaggle/working/train_images/cancer/64908_1922052710.png\n",
      "/kaggle/working/train_images/cancer/54463_1345167254.png\n",
      "/kaggle/working/train_images/cancer/21445_1790818978.png\n",
      "/kaggle/working/train_images/cancer/6659_734832218.png\n",
      "/kaggle/working/train_images/cancer/2989_1897884654.png\n",
      "/kaggle/working/train_images/cancer/38537_1655223848.png\n",
      "/kaggle/working/train_images/cancer/12153_1652537920.png\n",
      "/kaggle/working/train_images/cancer/24947_1564214908.png\n",
      "/kaggle/working/train_images/cancer/53636_2044242754.png\n",
      "/kaggle/working/train_images/cancer/9559_1047452753.png\n",
      "/kaggle/working/train_images/cancer/37931_1597761099.png\n",
      "/kaggle/working/train_images/cancer/12258_1429876928.png\n",
      "/kaggle/working/train_images/cancer/35864_230364486.png\n",
      "/kaggle/working/train_images/cancer/30435_63956271.png\n",
      "/kaggle/working/train_images/cancer/34962_1690489424.png\n",
      "/kaggle/working/train_images/cancer/39723_2055158152.png\n",
      "/kaggle/working/train_images/cancer/6853_373068997.png\n",
      "/kaggle/working/train_images/cancer/21923_1055241270.png\n",
      "/kaggle/working/train_images/cancer/3542_14104315.png\n",
      "/kaggle/working/train_images/cancer/4953_1788011383.png\n",
      "/kaggle/working/train_images/cancer/2989_406764921.png\n",
      "/kaggle/working/train_images/cancer/28057_891734084.png\n",
      "/kaggle/working/train_images/cancer/58195_480438532.png\n",
      "/kaggle/working/train_images/cancer/35864_1557445126.png\n",
      "/kaggle/working/train_images/cancer/55879_1472857392.png\n",
      "/kaggle/working/train_images/cancer/22616_1690035103.png\n",
      "/kaggle/working/train_images/cancer/24947_1231101161.png\n",
      "/kaggle/working/train_images/healthy/40264_973415787.png\n",
      "/kaggle/working/train_images/healthy/6226_2012061319.png\n",
      "/kaggle/working/train_images/healthy/49776_507883257.png\n",
      "/kaggle/working/train_images/healthy/33439_31473718.png\n",
      "/kaggle/working/train_images/healthy/41630_1138169867.png\n",
      "/kaggle/working/train_images/healthy/36874_380925777.png\n",
      "/kaggle/working/train_images/healthy/52515_1979632268.png\n",
      "/kaggle/working/train_images/healthy/22062_20967636.png\n",
      "/kaggle/working/train_images/healthy/2841_1961228533.png\n",
      "/kaggle/working/train_images/healthy/3642_1988830106.png\n",
      "/kaggle/working/train_images/healthy/41970_1222548870.png\n",
      "/kaggle/working/train_images/healthy/17836_883313268.png\n",
      "/kaggle/working/train_images/healthy/39409_1988445430.png\n",
      "/kaggle/working/train_images/healthy/8530_1131017399.png\n",
      "/kaggle/working/train_images/healthy/2188_1335869876.png\n",
      "/kaggle/working/train_images/healthy/34061_1530231739.png\n",
      "/kaggle/working/train_images/healthy/20196_793322869.png\n",
      "/kaggle/working/train_images/healthy/36699_1058193864.png\n",
      "/kaggle/working/train_images/healthy/60886_1331131444.png\n",
      "/kaggle/working/train_images/healthy/3255_960307833.png\n",
      "/kaggle/working/train_images/healthy/41293_373540448.png\n",
      "/kaggle/working/train_images/healthy/28527_1681887696.png\n",
      "/kaggle/working/train_images/healthy/55611_675478055.png\n",
      "/kaggle/working/train_images/healthy/31976_963491597.png\n",
      "/kaggle/working/train_images/healthy/34061_136096935.png\n",
      "/kaggle/working/train_images/healthy/39614_1147084996.png\n",
      "/kaggle/working/train_images/healthy/6794_1406848265.png\n",
      "/kaggle/working/train_images/healthy/23092_954484625.png\n",
      "/kaggle/working/train_images/healthy/62007_840166197.png\n",
      "/kaggle/working/train_images/healthy/32376_975092452.png\n",
      "/kaggle/working/train_images/healthy/13365_1652665367.png\n",
      "/kaggle/working/train_images/healthy/17604_1372388752.png\n",
      "/kaggle/working/train_images/healthy/1410_69796723.png\n",
      "/kaggle/working/train_images/healthy/51627_20678794.png\n",
      "/kaggle/working/train_images/healthy/27776_718382238.png\n",
      "/kaggle/working/train_images/healthy/2180_980414212.png\n",
      "/kaggle/working/train_images/healthy/34179_1820128066.png\n",
      "/kaggle/working/train_images/healthy/63768_1251589084.png\n",
      "/kaggle/working/train_images/healthy/19649_2145823283.png\n",
      "/kaggle/working/train_images/healthy/46718_640846069.png\n",
      "/kaggle/working/train_images/healthy/4063_1275465762.png\n",
      "/kaggle/working/train_images/healthy/37495_573169698.png\n",
      "/kaggle/working/train_images/healthy/53661_543615816.png\n",
      "/kaggle/working/train_images/healthy/2541_1673157820.png\n",
      "/kaggle/working/train_images/healthy/21180_1610942978.png\n",
      "/kaggle/working/train_images/healthy/31582_953368529.png\n",
      "/kaggle/working/train_images/healthy/18536_899940683.png\n",
      "/kaggle/working/train_images/healthy/18565_1106672067.png\n",
      "/kaggle/working/train_images/healthy/28430_144276590.png\n",
      "/kaggle/working/train_images/healthy/38336_1205523083.png\n",
      "/kaggle/working/train_images/healthy/47542_1488476294.png\n",
      "/kaggle/working/train_images/healthy/412_1256105162.png\n",
      "/kaggle/working/train_images/healthy/25724_1317024827.png\n",
      "/kaggle/working/train_images/healthy/3969_1577809580.png\n",
      "/kaggle/working/train_images/healthy/1322_1008790576.png\n",
      "/kaggle/working/train_images/healthy/38863_1484936285.png\n",
      "/kaggle/working/train_images/healthy/10641_751571777.png\n",
      "/kaggle/working/train_images/healthy/44639_1420660970.png\n",
      "/kaggle/working/train_images/healthy/38168_511305493.png\n",
      "/kaggle/working/train_images/healthy/62583_1907717166.png\n",
      "/kaggle/working/train_images/healthy/18045_1648647452.png\n",
      "/kaggle/working/train_images/healthy/13891_1701029285.png\n",
      "/kaggle/working/train_images/healthy/64427_1161681646.png\n",
      "/kaggle/working/train_images/healthy/31126_1041564031.png\n",
      "/kaggle/working/train_images/healthy/13293_301233937.png\n",
      "/kaggle/working/train_images/healthy/41903_1261949556.png\n",
      "/kaggle/working/train_images/healthy/56846_1057432441.png\n",
      "/kaggle/working/train_images/healthy/47003_1247541291.png\n",
      "/kaggle/working/train_images/healthy/38836_1903697630.png\n",
      "/kaggle/working/train_images/healthy/1410_1571426842.png\n",
      "/kaggle/working/train_images/healthy/51250_1161607022.png\n",
      "/kaggle/working/train_images/healthy/62926_417234241.png\n",
      "/kaggle/working/train_images/healthy/14981_1024875798.png\n",
      "/kaggle/working/train_images/healthy/13293_2118363087.png\n",
      "/kaggle/working/train_images/healthy/55778_594704126.png\n",
      "/kaggle/working/train_images/healthy/46377_242788036.png\n",
      "/kaggle/working/train_images/healthy/5309_1272910985.png\n",
      "/kaggle/working/train_images/healthy/29226_1561209997.png\n",
      "/kaggle/working/train_images/healthy/48555_323960169.png\n",
      "/kaggle/working/train_images/healthy/49232_48502706.png\n",
      "/kaggle/working/train_images/healthy/26966_1732220544.png\n",
      "/kaggle/working/train_images/healthy/55941_1567677530.png\n",
      "/kaggle/working/train_images/healthy/14194_580591101.png\n",
      "/kaggle/working/train_images/healthy/44211_1730746826.png\n",
      "/kaggle/working/train_images/healthy/37448_1492176430.png\n",
      "/kaggle/working/train_images/healthy/60299_1787820972.png\n",
      "/kaggle/working/train_images/healthy/54748_1013382358.png\n",
      "/kaggle/working/train_images/healthy/20684_340617960.png\n",
      "/kaggle/working/train_images/healthy/25701_604068385.png\n",
      "/kaggle/working/train_images/healthy/60027_1424896849.png\n",
      "/kaggle/working/train_images/healthy/47003_2121021176.png\n",
      "/kaggle/working/train_images/healthy/7935_1294554238.png\n",
      "/kaggle/working/train_images/healthy/29203_1220450077.png\n",
      "/kaggle/working/train_images/healthy/43730_2015595375.png\n",
      "/kaggle/working/train_images/healthy/35951_243523293.png\n",
      "/kaggle/working/train_images/healthy/10309_1129330972.png\n",
      "/kaggle/working/train_images/healthy/29901_1266227816.png\n",
      "/kaggle/working/train_images/healthy/3126_1014932304.png\n",
      "/kaggle/working/train_images/healthy/49927_1489949772.png\n",
      "/kaggle/working/train_images/healthy/16075_1197116555.png\n"
     ]
    }
   ],
   "source": [
    "process_images(cancer_folder)\n",
    "process_images(healthy_folder)"
   ]
  },
  {
   "cell_type": "code",
   "execution_count": 28,
   "id": "9b472a1b",
   "metadata": {
    "execution": {
     "iopub.execute_input": "2023-02-23T06:02:52.641283Z",
     "iopub.status.busy": "2023-02-23T06:02:52.640867Z",
     "iopub.status.idle": "2023-02-23T06:02:52.648342Z",
     "shell.execute_reply": "2023-02-23T06:02:52.646982Z"
    },
    "papermill": {
     "duration": 0.052848,
     "end_time": "2023-02-23T06:02:52.651680",
     "exception": false,
     "start_time": "2023-02-23T06:02:52.598832",
     "status": "completed"
    },
    "tags": []
   },
   "outputs": [
    {
     "name": "stdout",
     "output_type": "stream",
     "text": [
      "Number of images in cancer folder: 200\n",
      "Number of images in healthy folder: 100\n"
     ]
    }
   ],
   "source": [
    "folder_path = \"/kaggle/working/train_images/cancer\"\n",
    "image_count = count_images(folder_path)\n",
    "print(\"Number of images in cancer folder:\", image_count)\n",
    "\n",
    "\n",
    "folder_path = \"/kaggle/working/train_images/healthy\"\n",
    "image_count = count_images(folder_path)\n",
    "print(\"Number of images in healthy folder:\", image_count)"
   ]
  },
  {
   "cell_type": "markdown",
   "id": "67a60ecd",
   "metadata": {
    "papermill": {
     "duration": 0.039592,
     "end_time": "2023-02-23T06:02:52.731637",
     "exception": false,
     "start_time": "2023-02-23T06:02:52.692045",
     "status": "completed"
    },
    "tags": []
   },
   "source": [
    "# Baseline CNN Model"
   ]
  },
  {
   "cell_type": "code",
   "execution_count": 29,
   "id": "efc2d62f",
   "metadata": {
    "execution": {
     "iopub.execute_input": "2023-02-23T06:02:52.815349Z",
     "iopub.status.busy": "2023-02-23T06:02:52.814888Z",
     "iopub.status.idle": "2023-02-23T06:02:58.981184Z",
     "shell.execute_reply": "2023-02-23T06:02:58.980176Z"
    },
    "papermill": {
     "duration": 6.211037,
     "end_time": "2023-02-23T06:02:58.984183",
     "exception": false,
     "start_time": "2023-02-23T06:02:52.773146",
     "status": "completed"
    },
    "tags": []
   },
   "outputs": [],
   "source": [
    "import tensorflow as tf\n",
    "tf.config.threading.set_inter_op_parallelism_threads(4)"
   ]
  },
  {
   "cell_type": "markdown",
   "id": "60fab6a2",
   "metadata": {
    "papermill": {
     "duration": 0.038904,
     "end_time": "2023-02-23T06:02:59.063773",
     "exception": false,
     "start_time": "2023-02-23T06:02:59.024869",
     "status": "completed"
    },
    "tags": []
   },
   "source": [
    "## Augment the data"
   ]
  },
  {
   "cell_type": "code",
   "execution_count": 30,
   "id": "51062118",
   "metadata": {
    "execution": {
     "iopub.execute_input": "2023-02-23T06:02:59.147022Z",
     "iopub.status.busy": "2023-02-23T06:02:59.145547Z",
     "iopub.status.idle": "2023-02-23T06:03:00.883167Z",
     "shell.execute_reply": "2023-02-23T06:03:00.881601Z"
    },
    "papermill": {
     "duration": 1.783019,
     "end_time": "2023-02-23T06:03:00.886639",
     "exception": false,
     "start_time": "2023-02-23T06:02:59.103620",
     "status": "completed"
    },
    "tags": []
   },
   "outputs": [
    {
     "name": "stdout",
     "output_type": "stream",
     "text": [
      "Found 300 images belonging to 2 classes.\n"
     ]
    }
   ],
   "source": [
    "from tensorflow.keras.preprocessing.image import ImageDataGenerator\n",
    "from skimage.transform import rotate\n",
    "from sklearn.metrics import roc_auc_score\n",
    "\n",
    "# set the seed\n",
    "tf.random.set_seed(42)\n",
    "\n",
    "# set path to data directory\n",
    "train_dir='/kaggle/working/train_images'\n",
    "\n",
    "train_data = ImageDataGenerator(\n",
    "                                # set data augmentation parameters\n",
    "#                                 preprocessing_function=custom_augmentation,\n",
    "                                rescale=1./255,\n",
    "                                rotation_range=45,\n",
    "                                width_shift_range=0.2,\n",
    "                                height_shift_range=0.2,\n",
    "                                shear_range=0.2,\n",
    "                                zoom_range=0.2,\n",
    "                                horizontal_flip=True,\n",
    "                                fill_mode='nearest'\n",
    ").flow_from_directory(\n",
    "                      directory=train_dir,\n",
    "                      batch_size=16,\n",
    "                      target_size=(256,256),\n",
    "                      color_mode='rgb',\n",
    "                      class_mode='binary',\n",
    "                      seed=42\n",
    "                    )"
   ]
  },
  {
   "cell_type": "markdown",
   "id": "82dc9638",
   "metadata": {
    "papermill": {
     "duration": 0.039514,
     "end_time": "2023-02-23T06:03:00.966902",
     "exception": false,
     "start_time": "2023-02-23T06:03:00.927388",
     "status": "completed"
    },
    "tags": []
   },
   "source": [
    "## Run the CNN Model"
   ]
  },
  {
   "cell_type": "code",
   "execution_count": 31,
   "id": "68d5460b",
   "metadata": {
    "execution": {
     "iopub.execute_input": "2023-02-23T06:03:01.051487Z",
     "iopub.status.busy": "2023-02-23T06:03:01.051039Z",
     "iopub.status.idle": "2023-02-23T06:03:10.885904Z",
     "shell.execute_reply": "2023-02-23T06:03:10.884390Z"
    },
    "papermill": {
     "duration": 9.881905,
     "end_time": "2023-02-23T06:03:10.889713",
     "exception": false,
     "start_time": "2023-02-23T06:03:01.007808",
     "status": "completed"
    },
    "tags": []
   },
   "outputs": [
    {
     "name": "stdout",
     "output_type": "stream",
     "text": [
      "Epoch 1/20\n",
      "1/1 [==============================] - 2s 2s/step - loss: 0.6953 - accuracy: 0.4375 - val_loss: 0.7244 - val_accuracy: 0.5000\n",
      "Epoch 2/20\n",
      "1/1 [==============================] - 0s 353ms/step - loss: 0.5950 - accuracy: 0.7500 - val_loss: 0.8342 - val_accuracy: 0.4375\n",
      "Epoch 3/20\n",
      "1/1 [==============================] - 0s 340ms/step - loss: 0.5161 - accuracy: 0.7500 - val_loss: 1.0248 - val_accuracy: 0.3750\n",
      "Epoch 4/20\n",
      "1/1 [==============================] - 0s 326ms/step - loss: 0.4581 - accuracy: 0.7500 - val_loss: 1.1965 - val_accuracy: 0.3125\n",
      "Epoch 5/20\n",
      "1/1 [==============================] - 0s 334ms/step - loss: 0.4033 - accuracy: 0.7500 - val_loss: 1.2907 - val_accuracy: 0.3125\n",
      "Epoch 6/20\n",
      "1/1 [==============================] - 0s 338ms/step - loss: 0.3399 - accuracy: 0.8750 - val_loss: 1.3690 - val_accuracy: 0.3125\n",
      "Epoch 7/20\n",
      "1/1 [==============================] - 0s 332ms/step - loss: 0.2775 - accuracy: 0.8750 - val_loss: 1.5297 - val_accuracy: 0.1875\n",
      "Epoch 8/20\n",
      "1/1 [==============================] - 0s 327ms/step - loss: 0.2163 - accuracy: 0.9375 - val_loss: 1.7955 - val_accuracy: 0.1875\n",
      "Epoch 9/20\n",
      "1/1 [==============================] - 0s 326ms/step - loss: 0.1631 - accuracy: 1.0000 - val_loss: 2.0668 - val_accuracy: 0.1875\n",
      "Epoch 10/20\n",
      "1/1 [==============================] - 0s 327ms/step - loss: 0.1199 - accuracy: 1.0000 - val_loss: 2.2670 - val_accuracy: 0.1875\n",
      "Epoch 11/20\n",
      "1/1 [==============================] - 0s 342ms/step - loss: 0.0826 - accuracy: 1.0000 - val_loss: 2.4903 - val_accuracy: 0.2500\n",
      "Epoch 12/20\n",
      "1/1 [==============================] - 0s 334ms/step - loss: 0.0519 - accuracy: 1.0000 - val_loss: 2.8268 - val_accuracy: 0.1875\n",
      "Epoch 13/20\n",
      "1/1 [==============================] - 0s 332ms/step - loss: 0.0283 - accuracy: 1.0000 - val_loss: 3.2349 - val_accuracy: 0.2500\n",
      "Epoch 14/20\n",
      "1/1 [==============================] - 0s 318ms/step - loss: 0.0147 - accuracy: 1.0000 - val_loss: 3.6371 - val_accuracy: 0.2500\n",
      "Epoch 15/20\n",
      "1/1 [==============================] - 0s 313ms/step - loss: 0.0078 - accuracy: 1.0000 - val_loss: 4.0086 - val_accuracy: 0.1875\n",
      "Epoch 16/20\n",
      "1/1 [==============================] - 0s 323ms/step - loss: 0.0043 - accuracy: 1.0000 - val_loss: 4.3646 - val_accuracy: 0.2500\n",
      "Epoch 17/20\n",
      "1/1 [==============================] - 0s 323ms/step - loss: 0.0025 - accuracy: 1.0000 - val_loss: 4.7239 - val_accuracy: 0.2500\n",
      "Epoch 18/20\n",
      "1/1 [==============================] - 0s 363ms/step - loss: 0.0014 - accuracy: 1.0000 - val_loss: 5.0917 - val_accuracy: 0.2500\n",
      "Epoch 19/20\n",
      "1/1 [==============================] - 0s 326ms/step - loss: 8.2090e-04 - accuracy: 1.0000 - val_loss: 5.4652 - val_accuracy: 0.1875\n",
      "Epoch 20/20\n",
      "1/1 [==============================] - 0s 329ms/step - loss: 4.6735e-04 - accuracy: 1.0000 - val_loss: 5.8374 - val_accuracy: 0.1875\n",
      "1/1 [==============================] - 0s 87ms/step - loss: 5.8374 - accuracy: 0.1875\n",
      "Validation Loss: 5.837408065795898\n",
      "Validation Accuracy: 0.1875\n",
      "AUC Score: 0.20833333333333334\n"
     ]
    }
   ],
   "source": [
    "# 1. Basic Model\n",
    "model_1 = tf.keras.models.Sequential([\n",
    "  tf.keras.layers.Reshape((256, 256, 3), input_shape=(256, 256, 3)),\n",
    "  tf.keras.layers.Conv2D(filters=10, \n",
    "                         kernel_size=3, \n",
    "                         activation=\"relu\"), \n",
    "  tf.keras.layers.Conv2D(10, 3, activation=\"relu\"),\n",
    "  tf.keras.layers.MaxPool2D(pool_size=2), \n",
    "  tf.keras.layers.Conv2D(10, 3, activation=\"relu\"),\n",
    "  tf.keras.layers.Conv2D(10, 3, activation=\"relu\"), \n",
    "  tf.keras.layers.MaxPool2D(2),\n",
    "  tf.keras.layers.Flatten(),\n",
    "  tf.keras.layers.Dense(1, activation=\"sigmoid\") \n",
    "])\n",
    "\n",
    "# Compile the model\n",
    "model_1.compile(loss=\"binary_crossentropy\",\n",
    "              optimizer=tf.keras.optimizers.Adam(),\n",
    "              metrics=[\"accuracy\"])\n",
    "\n",
    "# split the data into training and validation sets\n",
    "val_split = 0.2\n",
    "x_data, y_data = [], []\n",
    "for x, y in train_data:\n",
    "    x_data.append(x)\n",
    "    y_data.append(y)\n",
    "    if len(x_data) >= (1 - val_split) / train_data.batch_size:\n",
    "        break\n",
    "x_train = np.concatenate(x_data)\n",
    "y_train = np.concatenate(y_data)\n",
    "x_val = next(train_data)[0]\n",
    "y_val = next(train_data)[1]\n",
    "\n",
    "# fit the model using the training data\n",
    "history_1 = model_1.fit(x_train, y_train,\n",
    "                        epochs=20,\n",
    "                        validation_data=(x_val, y_val))\n",
    "\n",
    "# evaluate the model on the validation data\n",
    "val_loss, val_acc = model_1.evaluate(x_val, y_val)\n",
    "print(\"Validation Loss:\", val_loss)\n",
    "print(\"Validation Accuracy:\", val_acc)\n",
    "\n",
    "# calculate AUC score\n",
    "y_pred = model_1.predict(x_val)\n",
    "auc = roc_auc_score(y_val, y_pred)\n",
    "print(\"AUC Score:\", auc)"
   ]
  },
  {
   "cell_type": "markdown",
   "id": "06aa866a",
   "metadata": {
    "papermill": {
     "duration": 0.043325,
     "end_time": "2023-02-23T06:03:10.979156",
     "exception": false,
     "start_time": "2023-02-23T06:03:10.935831",
     "status": "completed"
    },
    "tags": []
   },
   "source": [
    "# Inception-v3 Model"
   ]
  },
  {
   "cell_type": "code",
   "execution_count": 32,
   "id": "fd7cdc9e",
   "metadata": {
    "execution": {
     "iopub.execute_input": "2023-02-23T06:03:11.070618Z",
     "iopub.status.busy": "2023-02-23T06:03:11.069182Z",
     "iopub.status.idle": "2023-02-23T06:05:28.616102Z",
     "shell.execute_reply": "2023-02-23T06:05:28.614945Z"
    },
    "papermill": {
     "duration": 137.595239,
     "end_time": "2023-02-23T06:05:28.618560",
     "exception": false,
     "start_time": "2023-02-23T06:03:11.023321",
     "status": "completed"
    },
    "tags": []
   },
   "outputs": [
    {
     "name": "stdout",
     "output_type": "stream",
     "text": [
      "Downloading data from https://storage.googleapis.com/tensorflow/keras-applications/inception_v3/inception_v3_weights_tf_dim_ordering_tf_kernels_notop.h5\n",
      "87916544/87910968 [==============================] - 0s 0us/step\n",
      "87924736/87910968 [==============================] - 0s 0us/step\n",
      "Epoch 1/20\n",
      "1/1 [==============================] - 18s 18s/step - loss: 0.7739 - accuracy: 0.4375 - val_loss: 0.5902 - val_accuracy: 0.7500\n",
      "Epoch 2/20\n",
      "1/1 [==============================] - 5s 5s/step - loss: 0.7104 - accuracy: 0.5625 - val_loss: 0.5924 - val_accuracy: 0.7500\n",
      "Epoch 3/20\n",
      "1/1 [==============================] - 6s 6s/step - loss: 0.6100 - accuracy: 0.6250 - val_loss: 0.5939 - val_accuracy: 0.7500\n",
      "Epoch 4/20\n",
      "1/1 [==============================] - 5s 5s/step - loss: 0.5962 - accuracy: 0.6875 - val_loss: 0.5951 - val_accuracy: 0.7500\n",
      "Epoch 5/20\n",
      "1/1 [==============================] - 6s 6s/step - loss: 0.5906 - accuracy: 0.7500 - val_loss: 0.5949 - val_accuracy: 0.8125\n",
      "Epoch 6/20\n",
      "1/1 [==============================] - 5s 5s/step - loss: 0.6239 - accuracy: 0.6250 - val_loss: 0.5954 - val_accuracy: 0.8125\n",
      "Epoch 7/20\n",
      "1/1 [==============================] - 5s 5s/step - loss: 0.5680 - accuracy: 0.7500 - val_loss: 0.5956 - val_accuracy: 0.8125\n",
      "Epoch 8/20\n",
      "1/1 [==============================] - 5s 5s/step - loss: 0.6883 - accuracy: 0.4375 - val_loss: 0.5960 - val_accuracy: 0.8125\n",
      "Epoch 9/20\n",
      "1/1 [==============================] - 5s 5s/step - loss: 0.6137 - accuracy: 0.6875 - val_loss: 0.5970 - val_accuracy: 0.8125\n",
      "Epoch 10/20\n",
      "1/1 [==============================] - 5s 5s/step - loss: 0.5309 - accuracy: 0.9375 - val_loss: 0.5981 - val_accuracy: 0.8125\n",
      "Epoch 11/20\n",
      "1/1 [==============================] - 6s 6s/step - loss: 0.5255 - accuracy: 0.8750 - val_loss: 0.5992 - val_accuracy: 0.8125\n",
      "Epoch 12/20\n",
      "1/1 [==============================] - 5s 5s/step - loss: 0.5769 - accuracy: 0.6250 - val_loss: 0.6001 - val_accuracy: 0.8125\n",
      "Epoch 13/20\n",
      "1/1 [==============================] - 5s 5s/step - loss: 0.5440 - accuracy: 0.8125 - val_loss: 0.6009 - val_accuracy: 0.8125\n",
      "Epoch 14/20\n",
      "1/1 [==============================] - 5s 5s/step - loss: 0.6157 - accuracy: 0.5000 - val_loss: 0.6019 - val_accuracy: 0.8125\n",
      "Epoch 15/20\n",
      "1/1 [==============================] - 5s 5s/step - loss: 0.6320 - accuracy: 0.6875 - val_loss: 0.6029 - val_accuracy: 0.8125\n",
      "Epoch 16/20\n",
      "1/1 [==============================] - 5s 5s/step - loss: 0.6144 - accuracy: 0.5625 - val_loss: 0.6035 - val_accuracy: 0.8125\n",
      "Epoch 17/20\n",
      "1/1 [==============================] - 6s 6s/step - loss: 0.5879 - accuracy: 0.6875 - val_loss: 0.6043 - val_accuracy: 0.8125\n",
      "Epoch 18/20\n",
      "1/1 [==============================] - 5s 5s/step - loss: 0.5833 - accuracy: 0.7500 - val_loss: 0.6052 - val_accuracy: 0.8125\n",
      "Epoch 19/20\n",
      "1/1 [==============================] - 5s 5s/step - loss: 0.5520 - accuracy: 0.8125 - val_loss: 0.6064 - val_accuracy: 0.8125\n",
      "Epoch 20/20\n",
      "1/1 [==============================] - 5s 5s/step - loss: 0.5263 - accuracy: 0.8125 - val_loss: 0.6073 - val_accuracy: 0.8125\n",
      "1/1 [==============================] - 4s 4s/step - loss: 0.5902 - accuracy: 0.7500\n",
      "Validation Loss: 0.590173602104187\n",
      "Validation Accuracy: 0.75\n",
      "AUC Score: 0.7291666666666667\n"
     ]
    }
   ],
   "source": [
    "from tensorflow.keras.applications import InceptionV3\n",
    "from tensorflow.keras.layers import Dense, GlobalAveragePooling2D, Dropout\n",
    "from tensorflow.keras.models import Model\n",
    "from tensorflow.keras.optimizers import Adam\n",
    "from tensorflow.keras.callbacks import ModelCheckpoint, LearningRateScheduler\n",
    "from tensorflow.keras.preprocessing.image import ImageDataGenerator\n",
    "import math\n",
    "\n",
    "# Load the Inception-v3 model\n",
    "base_model = InceptionV3(weights='imagenet', include_top=False, input_shape=(256, 256, 3))\n",
    "\n",
    "# Freeze all layers of the Inception-v3 model\n",
    "for i, layer in enumerate(base_model.layers):\n",
    "    if i >= 10:  # change this number to select the layer index to start unfreezing from\n",
    "        layer.trainable = True\n",
    "\n",
    "# Create a new sequential model\n",
    "model = tf.keras.models.Sequential()\n",
    "\n",
    "# Add the pre-trained Inception-v3 model to the new sequential model\n",
    "model.add(base_model)\n",
    "\n",
    "# Add a new GlobalAveragePooling2D layer to the new sequential model\n",
    "model.add(GlobalAveragePooling2D())\n",
    "\n",
    "# Add a new dense layer with 2048 neurons and ReLU activation to the new sequential model\n",
    "model.add(Dense(2048, activation='relu'))\n",
    "\n",
    "# Add a dropout layer with a rate of 0.5\n",
    "model.add(Dropout(0.5))\n",
    "\n",
    "# Add a new dense layer with 1 neuron and sigmoid activation to the new sequential model\n",
    "model.add(Dense(1, activation='sigmoid'))\n",
    "\n",
    "# Compile the model\n",
    "model.compile(loss=\"binary_crossentropy\", optimizer=tf.keras.optimizers.Adagrad(), metrics=[\"accuracy\"])\n",
    "\n",
    "# Model checkpoint\n",
    "checkpoint = ModelCheckpoint('model.h5', save_best_only=True)\n",
    "\n",
    "# Learning rate schedule\n",
    "def lr_schedule(epoch):\n",
    "    lr = 0.0001\n",
    "    if epoch > 5:\n",
    "        lr *= 0.1\n",
    "    return lr\n",
    "\n",
    "lr_scheduler = LearningRateScheduler(lr_schedule)\n",
    "\n",
    "# Fit the model using the training data\n",
    "history = model.fit(x_train, y_train,\n",
    "                    epochs=20,\n",
    "                    validation_data=(x_val, y_val),\n",
    "                    callbacks=[checkpoint, lr_scheduler])\n",
    "\n",
    "# # Load the best model\n",
    "model = tf.keras.models.load_model('model.h5')\n",
    "\n",
    "# Evaluate the model on the validation data\n",
    "val_loss, val_acc = model.evaluate(x_val, y_val)\n",
    "print(\"Validation Loss:\", val_loss)\n",
    "print(\"Validation Accuracy:\", val_acc)\n",
    "\n",
    "# Calculate the AUC score\n",
    "y_pred = model.predict(x_val)\n",
    "auc = roc_auc_score(y_val, y_pred)\n",
    "print(\"AUC Score:\", auc)\n"
   ]
  },
  {
   "cell_type": "code",
   "execution_count": 33,
   "id": "b61a23cf",
   "metadata": {
    "execution": {
     "iopub.execute_input": "2023-02-23T06:05:28.720781Z",
     "iopub.status.busy": "2023-02-23T06:05:28.719550Z",
     "iopub.status.idle": "2023-02-23T06:05:29.552301Z",
     "shell.execute_reply": "2023-02-23T06:05:29.551009Z"
    },
    "papermill": {
     "duration": 0.887735,
     "end_time": "2023-02-23T06:05:29.555621",
     "exception": false,
     "start_time": "2023-02-23T06:05:28.667886",
     "status": "completed"
    },
    "tags": []
   },
   "outputs": [],
   "source": [
    "# Save the model\n",
    "model.save('my_model.h5')"
   ]
  },
  {
   "cell_type": "code",
   "execution_count": 34,
   "id": "3e780f28",
   "metadata": {
    "execution": {
     "iopub.execute_input": "2023-02-23T06:05:29.656960Z",
     "iopub.status.busy": "2023-02-23T06:05:29.656465Z",
     "iopub.status.idle": "2023-02-23T06:05:29.677685Z",
     "shell.execute_reply": "2023-02-23T06:05:29.676427Z"
    },
    "papermill": {
     "duration": 0.075585,
     "end_time": "2023-02-23T06:05:29.680525",
     "exception": false,
     "start_time": "2023-02-23T06:05:29.604940",
     "status": "completed"
    },
    "tags": []
   },
   "outputs": [
    {
     "data": {
      "text/html": [
       "<div>\n",
       "<style scoped>\n",
       "    .dataframe tbody tr th:only-of-type {\n",
       "        vertical-align: middle;\n",
       "    }\n",
       "\n",
       "    .dataframe tbody tr th {\n",
       "        vertical-align: top;\n",
       "    }\n",
       "\n",
       "    .dataframe thead th {\n",
       "        text-align: right;\n",
       "    }\n",
       "</style>\n",
       "<table border=\"1\" class=\"dataframe\">\n",
       "  <thead>\n",
       "    <tr style=\"text-align: right;\">\n",
       "      <th></th>\n",
       "      <th>site_id</th>\n",
       "      <th>patient_id</th>\n",
       "      <th>image_id</th>\n",
       "      <th>laterality</th>\n",
       "      <th>view</th>\n",
       "      <th>age</th>\n",
       "      <th>implant</th>\n",
       "      <th>machine_id</th>\n",
       "      <th>prediction_id</th>\n",
       "    </tr>\n",
       "  </thead>\n",
       "  <tbody>\n",
       "    <tr>\n",
       "      <th>0</th>\n",
       "      <td>2</td>\n",
       "      <td>10008</td>\n",
       "      <td>736471439</td>\n",
       "      <td>L</td>\n",
       "      <td>MLO</td>\n",
       "      <td>81</td>\n",
       "      <td>0</td>\n",
       "      <td>21</td>\n",
       "      <td>10008_L</td>\n",
       "    </tr>\n",
       "    <tr>\n",
       "      <th>1</th>\n",
       "      <td>2</td>\n",
       "      <td>10008</td>\n",
       "      <td>1591370361</td>\n",
       "      <td>L</td>\n",
       "      <td>CC</td>\n",
       "      <td>81</td>\n",
       "      <td>0</td>\n",
       "      <td>21</td>\n",
       "      <td>10008_L</td>\n",
       "    </tr>\n",
       "    <tr>\n",
       "      <th>2</th>\n",
       "      <td>2</td>\n",
       "      <td>10008</td>\n",
       "      <td>68070693</td>\n",
       "      <td>R</td>\n",
       "      <td>MLO</td>\n",
       "      <td>81</td>\n",
       "      <td>0</td>\n",
       "      <td>21</td>\n",
       "      <td>10008_R</td>\n",
       "    </tr>\n",
       "    <tr>\n",
       "      <th>3</th>\n",
       "      <td>2</td>\n",
       "      <td>10008</td>\n",
       "      <td>361203119</td>\n",
       "      <td>R</td>\n",
       "      <td>CC</td>\n",
       "      <td>81</td>\n",
       "      <td>0</td>\n",
       "      <td>21</td>\n",
       "      <td>10008_R</td>\n",
       "    </tr>\n",
       "  </tbody>\n",
       "</table>\n",
       "</div>"
      ],
      "text/plain": [
       "   site_id  patient_id    image_id laterality view  age  implant  machine_id  \\\n",
       "0        2       10008   736471439          L  MLO   81        0          21   \n",
       "1        2       10008  1591370361          L   CC   81        0          21   \n",
       "2        2       10008    68070693          R  MLO   81        0          21   \n",
       "3        2       10008   361203119          R   CC   81        0          21   \n",
       "\n",
       "  prediction_id  \n",
       "0       10008_L  \n",
       "1       10008_L  \n",
       "2       10008_R  \n",
       "3       10008_R  "
      ]
     },
     "execution_count": 34,
     "metadata": {},
     "output_type": "execute_result"
    }
   ],
   "source": [
    "test=pd.read_csv('/kaggle/input/rsna-breast-cancer-detection/test.csv')\n",
    "test"
   ]
  },
  {
   "cell_type": "code",
   "execution_count": 35,
   "id": "88343552",
   "metadata": {
    "execution": {
     "iopub.execute_input": "2023-02-23T06:05:29.780608Z",
     "iopub.status.busy": "2023-02-23T06:05:29.780166Z",
     "iopub.status.idle": "2023-02-23T06:05:29.796583Z",
     "shell.execute_reply": "2023-02-23T06:05:29.795073Z"
    },
    "papermill": {
     "duration": 0.069722,
     "end_time": "2023-02-23T06:05:29.799224",
     "exception": false,
     "start_time": "2023-02-23T06:05:29.729502",
     "status": "completed"
    },
    "tags": []
   },
   "outputs": [
    {
     "data": {
      "text/html": [
       "<div>\n",
       "<style scoped>\n",
       "    .dataframe tbody tr th:only-of-type {\n",
       "        vertical-align: middle;\n",
       "    }\n",
       "\n",
       "    .dataframe tbody tr th {\n",
       "        vertical-align: top;\n",
       "    }\n",
       "\n",
       "    .dataframe thead th {\n",
       "        text-align: right;\n",
       "    }\n",
       "</style>\n",
       "<table border=\"1\" class=\"dataframe\">\n",
       "  <thead>\n",
       "    <tr style=\"text-align: right;\">\n",
       "      <th></th>\n",
       "      <th>prediction_id</th>\n",
       "      <th>cancer</th>\n",
       "    </tr>\n",
       "  </thead>\n",
       "  <tbody>\n",
       "    <tr>\n",
       "      <th>0</th>\n",
       "      <td>10008_L</td>\n",
       "      <td>0.021168</td>\n",
       "    </tr>\n",
       "    <tr>\n",
       "      <th>1</th>\n",
       "      <td>10008_R</td>\n",
       "      <td>0.021168</td>\n",
       "    </tr>\n",
       "  </tbody>\n",
       "</table>\n",
       "</div>"
      ],
      "text/plain": [
       "  prediction_id    cancer\n",
       "0       10008_L  0.021168\n",
       "1       10008_R  0.021168"
      ]
     },
     "execution_count": 35,
     "metadata": {},
     "output_type": "execute_result"
    }
   ],
   "source": [
    "sample=pd.read_csv('/kaggle/input/rsna-breast-cancer-detection/sample_submission.csv')\n",
    "sample"
   ]
  },
  {
   "cell_type": "code",
   "execution_count": 36,
   "id": "55ec44ea",
   "metadata": {
    "execution": {
     "iopub.execute_input": "2023-02-23T06:05:29.901362Z",
     "iopub.status.busy": "2023-02-23T06:05:29.900925Z",
     "iopub.status.idle": "2023-02-23T06:06:11.607842Z",
     "shell.execute_reply": "2023-02-23T06:06:11.606501Z"
    },
    "papermill": {
     "duration": 41.811365,
     "end_time": "2023-02-23T06:06:11.661408",
     "exception": false,
     "start_time": "2023-02-23T06:05:29.850043",
     "status": "completed"
    },
    "tags": []
   },
   "outputs": [
    {
     "name": "stdout",
     "output_type": "stream",
     "text": [
      "     image_id    cancer\n",
      "0   736471439  0.459810\n",
      "1   361203119  0.462269\n",
      "2    68070693  0.456921\n",
      "3  1591370361  0.465794\n"
     ]
    }
   ],
   "source": [
    "import pydicom\n",
    "import numpy as np\n",
    "import tensorflow as tf\n",
    "from tensorflow.keras.preprocessing.image import ImageDataGenerator\n",
    "\n",
    "# Load the saved model\n",
    "model = tf.keras.models.load_model('my_model.h5')\n",
    "\n",
    "# Define the test data generator\n",
    "test_datagen = ImageDataGenerator(rescale=1./255)\n",
    "\n",
    "# Load the test images\n",
    "image_path = '/kaggle/input/rsna-breast-cancer-detection/test_images/10008'\n",
    "image_files = os.listdir(image_path)\n",
    "\n",
    "images = []\n",
    "for file in image_files:\n",
    "    dcm = pydicom.read_file(os.path.join(image_path, file))\n",
    "    img = dcm.pixel_array.astype(float)\n",
    "    img -= np.min(img)\n",
    "    img /= np.max(img)\n",
    "    img = np.stack((img,)*3, axis=-1)  # Convert grayscale to RGB\n",
    "    images.append(img)\n",
    "\n",
    "images = np.array(images)\n",
    "\n",
    "# Preprocess the test data using the test data generator\n",
    "test_data = test_datagen.flow(images, batch_size=1, shuffle=False)\n",
    "\n",
    "# Make predictions on the test data\n",
    "predictions = model.predict(test_data)\n",
    "\n",
    "image_ids = [file.replace('.dcm', '') for file in image_files]\n",
    "df = pd.DataFrame({'image_id': image_ids, 'cancer': predictions.reshape(-1)})\n",
    "\n",
    "print(df)"
   ]
  },
  {
   "cell_type": "code",
   "execution_count": 37,
   "id": "dc38496c",
   "metadata": {
    "execution": {
     "iopub.execute_input": "2023-02-23T06:06:11.765316Z",
     "iopub.status.busy": "2023-02-23T06:06:11.763587Z",
     "iopub.status.idle": "2023-02-23T06:06:11.781116Z",
     "shell.execute_reply": "2023-02-23T06:06:11.779728Z"
    },
    "papermill": {
     "duration": 0.072604,
     "end_time": "2023-02-23T06:06:11.783554",
     "exception": false,
     "start_time": "2023-02-23T06:06:11.710950",
     "status": "completed"
    },
    "tags": []
   },
   "outputs": [],
   "source": [
    "# Convert image_id column to string in both dataframes\n",
    "test['image_id'] = test['image_id'].astype(str)\n",
    "df['image_id'] = df['image_id'].astype(str)\n",
    "\n",
    "# Merge the dataframes on image_id\n",
    "merged_df = pd.merge(test, df, on='image_id')\n"
   ]
  },
  {
   "cell_type": "code",
   "execution_count": 38,
   "id": "399b2b53",
   "metadata": {
    "execution": {
     "iopub.execute_input": "2023-02-23T06:06:11.886401Z",
     "iopub.status.busy": "2023-02-23T06:06:11.884598Z",
     "iopub.status.idle": "2023-02-23T06:06:11.900736Z",
     "shell.execute_reply": "2023-02-23T06:06:11.899044Z"
    },
    "papermill": {
     "duration": 0.070487,
     "end_time": "2023-02-23T06:06:11.903731",
     "exception": false,
     "start_time": "2023-02-23T06:06:11.833244",
     "status": "completed"
    },
    "tags": []
   },
   "outputs": [
    {
     "data": {
      "text/html": [
       "<div>\n",
       "<style scoped>\n",
       "    .dataframe tbody tr th:only-of-type {\n",
       "        vertical-align: middle;\n",
       "    }\n",
       "\n",
       "    .dataframe tbody tr th {\n",
       "        vertical-align: top;\n",
       "    }\n",
       "\n",
       "    .dataframe thead th {\n",
       "        text-align: right;\n",
       "    }\n",
       "</style>\n",
       "<table border=\"1\" class=\"dataframe\">\n",
       "  <thead>\n",
       "    <tr style=\"text-align: right;\">\n",
       "      <th></th>\n",
       "      <th>prediction_id</th>\n",
       "      <th>cancer</th>\n",
       "    </tr>\n",
       "  </thead>\n",
       "  <tbody>\n",
       "    <tr>\n",
       "      <th>0</th>\n",
       "      <td>10008_L</td>\n",
       "      <td>0.459810</td>\n",
       "    </tr>\n",
       "    <tr>\n",
       "      <th>1</th>\n",
       "      <td>10008_L</td>\n",
       "      <td>0.465794</td>\n",
       "    </tr>\n",
       "    <tr>\n",
       "      <th>2</th>\n",
       "      <td>10008_R</td>\n",
       "      <td>0.456921</td>\n",
       "    </tr>\n",
       "    <tr>\n",
       "      <th>3</th>\n",
       "      <td>10008_R</td>\n",
       "      <td>0.462269</td>\n",
       "    </tr>\n",
       "  </tbody>\n",
       "</table>\n",
       "</div>"
      ],
      "text/plain": [
       "  prediction_id    cancer\n",
       "0       10008_L  0.459810\n",
       "1       10008_L  0.465794\n",
       "2       10008_R  0.456921\n",
       "3       10008_R  0.462269"
      ]
     },
     "execution_count": 38,
     "metadata": {},
     "output_type": "execute_result"
    }
   ],
   "source": [
    "merged_df=merged_df[['prediction_id', 'cancer']]\n",
    "merged_df"
   ]
  },
  {
   "cell_type": "code",
   "execution_count": 39,
   "id": "99940f73",
   "metadata": {
    "execution": {
     "iopub.execute_input": "2023-02-23T06:06:12.007452Z",
     "iopub.status.busy": "2023-02-23T06:06:12.006550Z",
     "iopub.status.idle": "2023-02-23T06:06:12.018769Z",
     "shell.execute_reply": "2023-02-23T06:06:12.017764Z"
    },
    "papermill": {
     "duration": 0.066546,
     "end_time": "2023-02-23T06:06:12.021083",
     "exception": false,
     "start_time": "2023-02-23T06:06:11.954537",
     "status": "completed"
    },
    "tags": []
   },
   "outputs": [
    {
     "data": {
      "text/html": [
       "<div>\n",
       "<style scoped>\n",
       "    .dataframe tbody tr th:only-of-type {\n",
       "        vertical-align: middle;\n",
       "    }\n",
       "\n",
       "    .dataframe tbody tr th {\n",
       "        vertical-align: top;\n",
       "    }\n",
       "\n",
       "    .dataframe thead th {\n",
       "        text-align: right;\n",
       "    }\n",
       "</style>\n",
       "<table border=\"1\" class=\"dataframe\">\n",
       "  <thead>\n",
       "    <tr style=\"text-align: right;\">\n",
       "      <th></th>\n",
       "      <th>prediction_id</th>\n",
       "      <th>cancer</th>\n",
       "    </tr>\n",
       "  </thead>\n",
       "  <tbody>\n",
       "    <tr>\n",
       "      <th>1</th>\n",
       "      <td>10008_L</td>\n",
       "      <td>0.465794</td>\n",
       "    </tr>\n",
       "    <tr>\n",
       "      <th>3</th>\n",
       "      <td>10008_R</td>\n",
       "      <td>0.462269</td>\n",
       "    </tr>\n",
       "    <tr>\n",
       "      <th>0</th>\n",
       "      <td>10008_L</td>\n",
       "      <td>0.459810</td>\n",
       "    </tr>\n",
       "    <tr>\n",
       "      <th>2</th>\n",
       "      <td>10008_R</td>\n",
       "      <td>0.456921</td>\n",
       "    </tr>\n",
       "  </tbody>\n",
       "</table>\n",
       "</div>"
      ],
      "text/plain": [
       "  prediction_id    cancer\n",
       "1       10008_L  0.465794\n",
       "3       10008_R  0.462269\n",
       "0       10008_L  0.459810\n",
       "2       10008_R  0.456921"
      ]
     },
     "execution_count": 39,
     "metadata": {},
     "output_type": "execute_result"
    }
   ],
   "source": [
    "merged_df=merged_df.sort_values(by='cancer', ascending=False, axis=0)\n",
    "merged_df"
   ]
  },
  {
   "cell_type": "code",
   "execution_count": 40,
   "id": "608e2623",
   "metadata": {
    "execution": {
     "iopub.execute_input": "2023-02-23T06:06:12.122380Z",
     "iopub.status.busy": "2023-02-23T06:06:12.120934Z",
     "iopub.status.idle": "2023-02-23T06:06:12.136846Z",
     "shell.execute_reply": "2023-02-23T06:06:12.135781Z"
    },
    "papermill": {
     "duration": 0.069929,
     "end_time": "2023-02-23T06:06:12.139544",
     "exception": false,
     "start_time": "2023-02-23T06:06:12.069615",
     "status": "completed"
    },
    "tags": []
   },
   "outputs": [],
   "source": [
    "submission = merged_df.groupby('prediction_id')['cancer'].max()\n",
    "submission = pd.DataFrame(submission).reset_index()\n",
    "submission.to_csv('/kaggle/working/submission.csv', index=False)"
   ]
  },
  {
   "cell_type": "code",
   "execution_count": null,
   "id": "3083f276",
   "metadata": {
    "papermill": {
     "duration": 0.049207,
     "end_time": "2023-02-23T06:06:12.240140",
     "exception": false,
     "start_time": "2023-02-23T06:06:12.190933",
     "status": "completed"
    },
    "tags": []
   },
   "outputs": [],
   "source": []
  }
 ],
 "metadata": {
  "kernelspec": {
   "display_name": "Python 3",
   "language": "python",
   "name": "python3"
  },
  "language_info": {
   "codemirror_mode": {
    "name": "ipython",
    "version": 3
   },
   "file_extension": ".py",
   "mimetype": "text/x-python",
   "name": "python",
   "nbconvert_exporter": "python",
   "pygments_lexer": "ipython3",
   "version": "3.7.12"
  },
  "papermill": {
   "default_parameters": {},
   "duration": 436.325367,
   "end_time": "2023-02-23T06:06:15.955189",
   "environment_variables": {},
   "exception": null,
   "input_path": "__notebook__.ipynb",
   "output_path": "__notebook__.ipynb",
   "parameters": {},
   "start_time": "2023-02-23T05:58:59.629822",
   "version": "2.3.4"
  }
 },
 "nbformat": 4,
 "nbformat_minor": 5
}
