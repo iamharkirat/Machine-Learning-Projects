{
 "cells": [
  {
   "cell_type": "code",
   "execution_count": 1,
   "id": "95e6f56e",
   "metadata": {
    "execution": {
     "iopub.execute_input": "2023-02-23T07:32:08.420509Z",
     "iopub.status.busy": "2023-02-23T07:32:08.419904Z",
     "iopub.status.idle": "2023-02-23T07:32:23.289696Z",
     "shell.execute_reply": "2023-02-23T07:32:23.287848Z"
    },
    "papermill": {
     "duration": 14.888594,
     "end_time": "2023-02-23T07:32:23.292497",
     "exception": false,
     "start_time": "2023-02-23T07:32:08.403903",
     "status": "completed"
    },
    "tags": []
   },
   "outputs": [
    {
     "name": "stdout",
     "output_type": "stream",
     "text": [
      "Collecting python-gdcm\r\n",
      "  Downloading python_gdcm-3.0.21-cp37-cp37m-manylinux_2_17_x86_64.manylinux2014_x86_64.whl (13.0 MB)\r\n",
      "\u001b[2K     \u001b[90m━━━━━━━━━━━━━━━━━━━━━━━━━━━━━━━━━━━━━━━━\u001b[0m \u001b[32m13.0/13.0 MB\u001b[0m \u001b[31m33.6 MB/s\u001b[0m eta \u001b[36m0:00:00\u001b[0m\r\n",
      "\u001b[?25hInstalling collected packages: python-gdcm\r\n",
      "Successfully installed python-gdcm-3.0.21\r\n",
      "\u001b[33mWARNING: Running pip as the 'root' user can result in broken permissions and conflicting behaviour with the system package manager. It is recommended to use a virtual environment instead: https://pip.pypa.io/warnings/venv\u001b[0m\u001b[33m\r\n",
      "\u001b[0mNote: you may need to restart the kernel to use updated packages.\n"
     ]
    }
   ],
   "source": [
    "pip install python-gdcm"
   ]
  },
  {
   "cell_type": "code",
   "execution_count": 2,
   "id": "49c40a50",
   "metadata": {
    "execution": {
     "iopub.execute_input": "2023-02-23T07:32:23.322655Z",
     "iopub.status.busy": "2023-02-23T07:32:23.322192Z",
     "iopub.status.idle": "2023-02-23T07:32:25.983101Z",
     "shell.execute_reply": "2023-02-23T07:32:25.981905Z"
    },
    "papermill": {
     "duration": 2.678898,
     "end_time": "2023-02-23T07:32:25.985965",
     "exception": false,
     "start_time": "2023-02-23T07:32:23.307067",
     "status": "completed"
    },
    "tags": []
   },
   "outputs": [],
   "source": [
    "# !pip install pydicom\n",
    "import pandas as pd\n",
    "import numpy as np\n",
    "import pydicom as dicom\n",
    "import matplotlib.pyplot as plt\n",
    "\n",
    "import os\n",
    "import cv2\n",
    "import glob\n",
    "import gdcm\n",
    "import pydicom\n",
    "import numpy as np\n",
    "import pandas as pd\n",
    "import seaborn as sns\n",
    "import matplotlib.pyplot as plt\n",
    "\n",
    "from tqdm.notebook import tqdm\n",
    "from joblib import Parallel, delayed\n",
    "from imblearn.over_sampling import SMOTE\n",
    "import pickle \n",
    "import os\n",
    "import cv2\n",
    "\n",
    "from sklearn.utils import shuffle\n",
    "from tqdm import tqdm\n",
    "\n",
    "# !pip install pylibjpeg\n",
    "# import pylibjpeg\n",
    "\n",
    "import warnings\n",
    "warnings.filterwarnings('ignore')\n",
    "\n",
    "from skimage import transform"
   ]
  },
  {
   "cell_type": "code",
   "execution_count": 3,
   "id": "3959e671",
   "metadata": {
    "execution": {
     "iopub.execute_input": "2023-02-23T07:32:26.016322Z",
     "iopub.status.busy": "2023-02-23T07:32:26.015923Z",
     "iopub.status.idle": "2023-02-23T07:32:35.358527Z",
     "shell.execute_reply": "2023-02-23T07:32:35.357272Z"
    },
    "papermill": {
     "duration": 9.3605,
     "end_time": "2023-02-23T07:32:35.361837",
     "exception": false,
     "start_time": "2023-02-23T07:32:26.001337",
     "status": "completed"
    },
    "tags": []
   },
   "outputs": [
    {
     "name": "stderr",
     "output_type": "stream",
     "text": [
      "100%|██████████| 54706/54706 [00:09<00:00, 5969.27it/s]\n"
     ]
    },
    {
     "data": {
      "text/html": [
       "<div>\n",
       "<style scoped>\n",
       "    .dataframe tbody tr th:only-of-type {\n",
       "        vertical-align: middle;\n",
       "    }\n",
       "\n",
       "    .dataframe tbody tr th {\n",
       "        vertical-align: top;\n",
       "    }\n",
       "\n",
       "    .dataframe thead th {\n",
       "        text-align: right;\n",
       "    }\n",
       "</style>\n",
       "<table border=\"1\" class=\"dataframe\">\n",
       "  <thead>\n",
       "    <tr style=\"text-align: right;\">\n",
       "      <th></th>\n",
       "      <th>site_id</th>\n",
       "      <th>patient_id</th>\n",
       "      <th>image_id</th>\n",
       "      <th>laterality</th>\n",
       "      <th>view</th>\n",
       "      <th>age</th>\n",
       "      <th>cancer</th>\n",
       "      <th>biopsy</th>\n",
       "      <th>invasive</th>\n",
       "      <th>BIRADS</th>\n",
       "      <th>implant</th>\n",
       "      <th>density</th>\n",
       "      <th>machine_id</th>\n",
       "      <th>difficult_negative_case</th>\n",
       "      <th>path</th>\n",
       "    </tr>\n",
       "  </thead>\n",
       "  <tbody>\n",
       "    <tr>\n",
       "      <th>0</th>\n",
       "      <td>2</td>\n",
       "      <td>10006</td>\n",
       "      <td>462822612</td>\n",
       "      <td>L</td>\n",
       "      <td>CC</td>\n",
       "      <td>61.0</td>\n",
       "      <td>0</td>\n",
       "      <td>0</td>\n",
       "      <td>0</td>\n",
       "      <td>NaN</td>\n",
       "      <td>0</td>\n",
       "      <td>NaN</td>\n",
       "      <td>29</td>\n",
       "      <td>False</td>\n",
       "      <td>/kaggle/input/rsna-breast-cancer-detection/tra...</td>\n",
       "    </tr>\n",
       "    <tr>\n",
       "      <th>1</th>\n",
       "      <td>2</td>\n",
       "      <td>10006</td>\n",
       "      <td>1459541791</td>\n",
       "      <td>L</td>\n",
       "      <td>MLO</td>\n",
       "      <td>61.0</td>\n",
       "      <td>0</td>\n",
       "      <td>0</td>\n",
       "      <td>0</td>\n",
       "      <td>NaN</td>\n",
       "      <td>0</td>\n",
       "      <td>NaN</td>\n",
       "      <td>29</td>\n",
       "      <td>False</td>\n",
       "      <td>/kaggle/input/rsna-breast-cancer-detection/tra...</td>\n",
       "    </tr>\n",
       "    <tr>\n",
       "      <th>2</th>\n",
       "      <td>2</td>\n",
       "      <td>10006</td>\n",
       "      <td>1864590858</td>\n",
       "      <td>R</td>\n",
       "      <td>MLO</td>\n",
       "      <td>61.0</td>\n",
       "      <td>0</td>\n",
       "      <td>0</td>\n",
       "      <td>0</td>\n",
       "      <td>NaN</td>\n",
       "      <td>0</td>\n",
       "      <td>NaN</td>\n",
       "      <td>29</td>\n",
       "      <td>False</td>\n",
       "      <td>/kaggle/input/rsna-breast-cancer-detection/tra...</td>\n",
       "    </tr>\n",
       "    <tr>\n",
       "      <th>3</th>\n",
       "      <td>2</td>\n",
       "      <td>10006</td>\n",
       "      <td>1874946579</td>\n",
       "      <td>R</td>\n",
       "      <td>CC</td>\n",
       "      <td>61.0</td>\n",
       "      <td>0</td>\n",
       "      <td>0</td>\n",
       "      <td>0</td>\n",
       "      <td>NaN</td>\n",
       "      <td>0</td>\n",
       "      <td>NaN</td>\n",
       "      <td>29</td>\n",
       "      <td>False</td>\n",
       "      <td>/kaggle/input/rsna-breast-cancer-detection/tra...</td>\n",
       "    </tr>\n",
       "    <tr>\n",
       "      <th>4</th>\n",
       "      <td>2</td>\n",
       "      <td>10011</td>\n",
       "      <td>220375232</td>\n",
       "      <td>L</td>\n",
       "      <td>CC</td>\n",
       "      <td>55.0</td>\n",
       "      <td>0</td>\n",
       "      <td>0</td>\n",
       "      <td>0</td>\n",
       "      <td>0.0</td>\n",
       "      <td>0</td>\n",
       "      <td>NaN</td>\n",
       "      <td>21</td>\n",
       "      <td>True</td>\n",
       "      <td>/kaggle/input/rsna-breast-cancer-detection/tra...</td>\n",
       "    </tr>\n",
       "  </tbody>\n",
       "</table>\n",
       "</div>"
      ],
      "text/plain": [
       "   site_id  patient_id    image_id laterality view   age  cancer  biopsy  \\\n",
       "0        2       10006   462822612          L   CC  61.0       0       0   \n",
       "1        2       10006  1459541791          L  MLO  61.0       0       0   \n",
       "2        2       10006  1864590858          R  MLO  61.0       0       0   \n",
       "3        2       10006  1874946579          R   CC  61.0       0       0   \n",
       "4        2       10011   220375232          L   CC  55.0       0       0   \n",
       "\n",
       "   invasive  BIRADS  implant density  machine_id  difficult_negative_case  \\\n",
       "0         0     NaN        0     NaN          29                    False   \n",
       "1         0     NaN        0     NaN          29                    False   \n",
       "2         0     NaN        0     NaN          29                    False   \n",
       "3         0     NaN        0     NaN          29                    False   \n",
       "4         0     0.0        0     NaN          21                     True   \n",
       "\n",
       "                                                path  \n",
       "0  /kaggle/input/rsna-breast-cancer-detection/tra...  \n",
       "1  /kaggle/input/rsna-breast-cancer-detection/tra...  \n",
       "2  /kaggle/input/rsna-breast-cancer-detection/tra...  \n",
       "3  /kaggle/input/rsna-breast-cancer-detection/tra...  \n",
       "4  /kaggle/input/rsna-breast-cancer-detection/tra...  "
      ]
     },
     "execution_count": 3,
     "metadata": {},
     "output_type": "execute_result"
    }
   ],
   "source": [
    "# Meta Data Import\n",
    "train_df=pd.read_csv('/kaggle/input/rsna-breast-cancer-detection/train.csv')\n",
    "\n",
    "# Get image path\n",
    "# Example path: '/kaggle/input/rsna-breast-cancer-detection/train_images/10706/763186195.dcm'\n",
    "base_path = \"/kaggle/input/rsna-breast-cancer-detection/train_images/\"\n",
    "all_paths = []\n",
    "for k in tqdm(range(len(train_df))):\n",
    "    row = train_df.iloc[k, :]\n",
    "    all_paths.append(base_path + str(row.patient_id) + \"/\" + str(row.image_id) + \".dcm\")\n",
    "    \n",
    "train_df[\"path\"] = all_paths\n",
    "train_df.head()"
   ]
  },
  {
   "cell_type": "code",
   "execution_count": 4,
   "id": "aedf9ab9",
   "metadata": {
    "execution": {
     "iopub.execute_input": "2023-02-23T07:32:35.402709Z",
     "iopub.status.busy": "2023-02-23T07:32:35.402276Z",
     "iopub.status.idle": "2023-02-23T07:32:35.417286Z",
     "shell.execute_reply": "2023-02-23T07:32:35.416160Z"
    },
    "papermill": {
     "duration": 0.038068,
     "end_time": "2023-02-23T07:32:35.419669",
     "exception": false,
     "start_time": "2023-02-23T07:32:35.381601",
     "status": "completed"
    },
    "tags": []
   },
   "outputs": [
    {
     "data": {
      "text/plain": [
       "0    51737\n",
       "1     2969\n",
       "Name: biopsy, dtype: int64"
      ]
     },
     "execution_count": 4,
     "metadata": {},
     "output_type": "execute_result"
    }
   ],
   "source": [
    "train_df['biopsy'].value_counts()"
   ]
  },
  {
   "cell_type": "code",
   "execution_count": 5,
   "id": "1a383d12",
   "metadata": {
    "execution": {
     "iopub.execute_input": "2023-02-23T07:32:35.460097Z",
     "iopub.status.busy": "2023-02-23T07:32:35.459582Z",
     "iopub.status.idle": "2023-02-23T07:32:35.498552Z",
     "shell.execute_reply": "2023-02-23T07:32:35.497311Z"
    },
    "papermill": {
     "duration": 0.063017,
     "end_time": "2023-02-23T07:32:35.501791",
     "exception": false,
     "start_time": "2023-02-23T07:32:35.438774",
     "status": "completed"
    },
    "tags": []
   },
   "outputs": [
    {
     "name": "stdout",
     "output_type": "stream",
     "text": [
      "<class 'pandas.core.frame.DataFrame'>\n",
      "RangeIndex: 54706 entries, 0 to 54705\n",
      "Data columns (total 15 columns):\n",
      " #   Column                   Non-Null Count  Dtype  \n",
      "---  ------                   --------------  -----  \n",
      " 0   site_id                  54706 non-null  int64  \n",
      " 1   patient_id               54706 non-null  int64  \n",
      " 2   image_id                 54706 non-null  int64  \n",
      " 3   laterality               54706 non-null  object \n",
      " 4   view                     54706 non-null  object \n",
      " 5   age                      54669 non-null  float64\n",
      " 6   cancer                   54706 non-null  int64  \n",
      " 7   biopsy                   54706 non-null  int64  \n",
      " 8   invasive                 54706 non-null  int64  \n",
      " 9   BIRADS                   26286 non-null  float64\n",
      " 10  implant                  54706 non-null  int64  \n",
      " 11  density                  29470 non-null  object \n",
      " 12  machine_id               54706 non-null  int64  \n",
      " 13  difficult_negative_case  54706 non-null  bool   \n",
      " 14  path                     54706 non-null  object \n",
      "dtypes: bool(1), float64(2), int64(8), object(4)\n",
      "memory usage: 5.9+ MB\n"
     ]
    }
   ],
   "source": [
    "train_df.info()"
   ]
  },
  {
   "cell_type": "code",
   "execution_count": 6,
   "id": "780c71e9",
   "metadata": {
    "execution": {
     "iopub.execute_input": "2023-02-23T07:32:35.543663Z",
     "iopub.status.busy": "2023-02-23T07:32:35.543221Z",
     "iopub.status.idle": "2023-02-23T07:32:35.554223Z",
     "shell.execute_reply": "2023-02-23T07:32:35.553125Z"
    },
    "papermill": {
     "duration": 0.034806,
     "end_time": "2023-02-23T07:32:35.556836",
     "exception": false,
     "start_time": "2023-02-23T07:32:35.522030",
     "status": "completed"
    },
    "tags": []
   },
   "outputs": [
    {
     "data": {
      "text/plain": [
       "11913"
      ]
     },
     "execution_count": 6,
     "metadata": {},
     "output_type": "execute_result"
    }
   ],
   "source": [
    "train_df['patient_id'].nunique()"
   ]
  },
  {
   "cell_type": "markdown",
   "id": "cc5d59f0",
   "metadata": {
    "papermill": {
     "duration": 0.019272,
     "end_time": "2023-02-23T07:32:35.595862",
     "exception": false,
     "start_time": "2023-02-23T07:32:35.576590",
     "status": "completed"
    },
    "tags": []
   },
   "source": [
    "# Build the training dataset"
   ]
  },
  {
   "cell_type": "code",
   "execution_count": 7,
   "id": "56c0dc17",
   "metadata": {
    "execution": {
     "iopub.execute_input": "2023-02-23T07:32:35.637007Z",
     "iopub.status.busy": "2023-02-23T07:32:35.636579Z",
     "iopub.status.idle": "2023-02-23T07:32:35.654911Z",
     "shell.execute_reply": "2023-02-23T07:32:35.653687Z"
    },
    "papermill": {
     "duration": 0.041742,
     "end_time": "2023-02-23T07:32:35.657052",
     "exception": false,
     "start_time": "2023-02-23T07:32:35.615310",
     "status": "completed"
    },
    "tags": []
   },
   "outputs": [
    {
     "data": {
      "text/html": [
       "<div>\n",
       "<style scoped>\n",
       "    .dataframe tbody tr th:only-of-type {\n",
       "        vertical-align: middle;\n",
       "    }\n",
       "\n",
       "    .dataframe tbody tr th {\n",
       "        vertical-align: top;\n",
       "    }\n",
       "\n",
       "    .dataframe thead th {\n",
       "        text-align: right;\n",
       "    }\n",
       "</style>\n",
       "<table border=\"1\" class=\"dataframe\">\n",
       "  <thead>\n",
       "    <tr style=\"text-align: right;\">\n",
       "      <th></th>\n",
       "      <th>site_id</th>\n",
       "      <th>patient_id</th>\n",
       "      <th>image_id</th>\n",
       "      <th>laterality</th>\n",
       "      <th>view</th>\n",
       "      <th>age</th>\n",
       "      <th>cancer</th>\n",
       "      <th>biopsy</th>\n",
       "      <th>invasive</th>\n",
       "      <th>BIRADS</th>\n",
       "      <th>implant</th>\n",
       "      <th>density</th>\n",
       "      <th>machine_id</th>\n",
       "      <th>difficult_negative_case</th>\n",
       "      <th>path</th>\n",
       "    </tr>\n",
       "  </thead>\n",
       "  <tbody>\n",
       "    <tr>\n",
       "      <th>0</th>\n",
       "      <td>2</td>\n",
       "      <td>10006</td>\n",
       "      <td>462822612</td>\n",
       "      <td>L</td>\n",
       "      <td>CC</td>\n",
       "      <td>61.0</td>\n",
       "      <td>0</td>\n",
       "      <td>0</td>\n",
       "      <td>0</td>\n",
       "      <td>NaN</td>\n",
       "      <td>0</td>\n",
       "      <td>NaN</td>\n",
       "      <td>29</td>\n",
       "      <td>False</td>\n",
       "      <td>/kaggle/input/rsna-breast-cancer-detection/tra...</td>\n",
       "    </tr>\n",
       "    <tr>\n",
       "      <th>1</th>\n",
       "      <td>2</td>\n",
       "      <td>10006</td>\n",
       "      <td>1459541791</td>\n",
       "      <td>L</td>\n",
       "      <td>MLO</td>\n",
       "      <td>61.0</td>\n",
       "      <td>0</td>\n",
       "      <td>0</td>\n",
       "      <td>0</td>\n",
       "      <td>NaN</td>\n",
       "      <td>0</td>\n",
       "      <td>NaN</td>\n",
       "      <td>29</td>\n",
       "      <td>False</td>\n",
       "      <td>/kaggle/input/rsna-breast-cancer-detection/tra...</td>\n",
       "    </tr>\n",
       "    <tr>\n",
       "      <th>2</th>\n",
       "      <td>2</td>\n",
       "      <td>10006</td>\n",
       "      <td>1864590858</td>\n",
       "      <td>R</td>\n",
       "      <td>MLO</td>\n",
       "      <td>61.0</td>\n",
       "      <td>0</td>\n",
       "      <td>0</td>\n",
       "      <td>0</td>\n",
       "      <td>NaN</td>\n",
       "      <td>0</td>\n",
       "      <td>NaN</td>\n",
       "      <td>29</td>\n",
       "      <td>False</td>\n",
       "      <td>/kaggle/input/rsna-breast-cancer-detection/tra...</td>\n",
       "    </tr>\n",
       "    <tr>\n",
       "      <th>3</th>\n",
       "      <td>2</td>\n",
       "      <td>10006</td>\n",
       "      <td>1874946579</td>\n",
       "      <td>R</td>\n",
       "      <td>CC</td>\n",
       "      <td>61.0</td>\n",
       "      <td>0</td>\n",
       "      <td>0</td>\n",
       "      <td>0</td>\n",
       "      <td>NaN</td>\n",
       "      <td>0</td>\n",
       "      <td>NaN</td>\n",
       "      <td>29</td>\n",
       "      <td>False</td>\n",
       "      <td>/kaggle/input/rsna-breast-cancer-detection/tra...</td>\n",
       "    </tr>\n",
       "    <tr>\n",
       "      <th>4</th>\n",
       "      <td>2</td>\n",
       "      <td>10011</td>\n",
       "      <td>220375232</td>\n",
       "      <td>L</td>\n",
       "      <td>CC</td>\n",
       "      <td>55.0</td>\n",
       "      <td>0</td>\n",
       "      <td>0</td>\n",
       "      <td>0</td>\n",
       "      <td>0.0</td>\n",
       "      <td>0</td>\n",
       "      <td>NaN</td>\n",
       "      <td>21</td>\n",
       "      <td>True</td>\n",
       "      <td>/kaggle/input/rsna-breast-cancer-detection/tra...</td>\n",
       "    </tr>\n",
       "  </tbody>\n",
       "</table>\n",
       "</div>"
      ],
      "text/plain": [
       "   site_id  patient_id    image_id laterality view   age  cancer  biopsy  \\\n",
       "0        2       10006   462822612          L   CC  61.0       0       0   \n",
       "1        2       10006  1459541791          L  MLO  61.0       0       0   \n",
       "2        2       10006  1864590858          R  MLO  61.0       0       0   \n",
       "3        2       10006  1874946579          R   CC  61.0       0       0   \n",
       "4        2       10011   220375232          L   CC  55.0       0       0   \n",
       "\n",
       "   invasive  BIRADS  implant density  machine_id  difficult_negative_case  \\\n",
       "0         0     NaN        0     NaN          29                    False   \n",
       "1         0     NaN        0     NaN          29                    False   \n",
       "2         0     NaN        0     NaN          29                    False   \n",
       "3         0     NaN        0     NaN          29                    False   \n",
       "4         0     0.0        0     NaN          21                     True   \n",
       "\n",
       "                                                path  \n",
       "0  /kaggle/input/rsna-breast-cancer-detection/tra...  \n",
       "1  /kaggle/input/rsna-breast-cancer-detection/tra...  \n",
       "2  /kaggle/input/rsna-breast-cancer-detection/tra...  \n",
       "3  /kaggle/input/rsna-breast-cancer-detection/tra...  \n",
       "4  /kaggle/input/rsna-breast-cancer-detection/tra...  "
      ]
     },
     "execution_count": 7,
     "metadata": {},
     "output_type": "execute_result"
    }
   ],
   "source": [
    "train_df.head()"
   ]
  },
  {
   "cell_type": "markdown",
   "id": "e31876b4",
   "metadata": {
    "papermill": {
     "duration": 0.019367,
     "end_time": "2023-02-23T07:32:35.696393",
     "exception": false,
     "start_time": "2023-02-23T07:32:35.677026",
     "status": "completed"
    },
    "tags": []
   },
   "source": [
    "## Check if a single patient xray has cancer in both breasts or only in one"
   ]
  },
  {
   "cell_type": "code",
   "execution_count": 8,
   "id": "4dda5632",
   "metadata": {
    "execution": {
     "iopub.execute_input": "2023-02-23T07:32:35.737403Z",
     "iopub.status.busy": "2023-02-23T07:32:35.736892Z",
     "iopub.status.idle": "2023-02-23T07:32:35.774133Z",
     "shell.execute_reply": "2023-02-23T07:32:35.772927Z"
    },
    "papermill": {
     "duration": 0.060948,
     "end_time": "2023-02-23T07:32:35.776927",
     "exception": false,
     "start_time": "2023-02-23T07:32:35.715979",
     "status": "completed"
    },
    "tags": []
   },
   "outputs": [
    {
     "data": {
      "text/html": [
       "<div>\n",
       "<style scoped>\n",
       "    .dataframe tbody tr th:only-of-type {\n",
       "        vertical-align: middle;\n",
       "    }\n",
       "\n",
       "    .dataframe tbody tr th {\n",
       "        vertical-align: top;\n",
       "    }\n",
       "\n",
       "    .dataframe thead th {\n",
       "        text-align: right;\n",
       "    }\n",
       "</style>\n",
       "<table border=\"1\" class=\"dataframe\">\n",
       "  <thead>\n",
       "    <tr style=\"text-align: right;\">\n",
       "      <th></th>\n",
       "      <th>site_id</th>\n",
       "      <th>patient_id</th>\n",
       "      <th>image_id</th>\n",
       "      <th>laterality</th>\n",
       "      <th>view</th>\n",
       "      <th>age</th>\n",
       "      <th>cancer</th>\n",
       "      <th>biopsy</th>\n",
       "      <th>invasive</th>\n",
       "      <th>BIRADS</th>\n",
       "      <th>implant</th>\n",
       "      <th>density</th>\n",
       "      <th>machine_id</th>\n",
       "      <th>difficult_negative_case</th>\n",
       "      <th>path</th>\n",
       "    </tr>\n",
       "  </thead>\n",
       "  <tbody>\n",
       "    <tr>\n",
       "      <th>87</th>\n",
       "      <td>1</td>\n",
       "      <td>10130</td>\n",
       "      <td>388811999</td>\n",
       "      <td>L</td>\n",
       "      <td>MLO</td>\n",
       "      <td>71.0</td>\n",
       "      <td>1</td>\n",
       "      <td>1</td>\n",
       "      <td>1</td>\n",
       "      <td>0.0</td>\n",
       "      <td>0</td>\n",
       "      <td>B</td>\n",
       "      <td>49</td>\n",
       "      <td>False</td>\n",
       "      <td>/kaggle/input/rsna-breast-cancer-detection/tra...</td>\n",
       "    </tr>\n",
       "    <tr>\n",
       "      <th>88</th>\n",
       "      <td>1</td>\n",
       "      <td>10130</td>\n",
       "      <td>613462606</td>\n",
       "      <td>L</td>\n",
       "      <td>CC</td>\n",
       "      <td>71.0</td>\n",
       "      <td>1</td>\n",
       "      <td>1</td>\n",
       "      <td>1</td>\n",
       "      <td>0.0</td>\n",
       "      <td>0</td>\n",
       "      <td>B</td>\n",
       "      <td>49</td>\n",
       "      <td>False</td>\n",
       "      <td>/kaggle/input/rsna-breast-cancer-detection/tra...</td>\n",
       "    </tr>\n",
       "    <tr>\n",
       "      <th>89</th>\n",
       "      <td>1</td>\n",
       "      <td>10130</td>\n",
       "      <td>1360338805</td>\n",
       "      <td>L</td>\n",
       "      <td>CC</td>\n",
       "      <td>71.0</td>\n",
       "      <td>1</td>\n",
       "      <td>1</td>\n",
       "      <td>1</td>\n",
       "      <td>0.0</td>\n",
       "      <td>0</td>\n",
       "      <td>B</td>\n",
       "      <td>49</td>\n",
       "      <td>False</td>\n",
       "      <td>/kaggle/input/rsna-breast-cancer-detection/tra...</td>\n",
       "    </tr>\n",
       "    <tr>\n",
       "      <th>90</th>\n",
       "      <td>1</td>\n",
       "      <td>10130</td>\n",
       "      <td>1672636630</td>\n",
       "      <td>L</td>\n",
       "      <td>MLO</td>\n",
       "      <td>71.0</td>\n",
       "      <td>1</td>\n",
       "      <td>1</td>\n",
       "      <td>1</td>\n",
       "      <td>0.0</td>\n",
       "      <td>0</td>\n",
       "      <td>B</td>\n",
       "      <td>49</td>\n",
       "      <td>False</td>\n",
       "      <td>/kaggle/input/rsna-breast-cancer-detection/tra...</td>\n",
       "    </tr>\n",
       "    <tr>\n",
       "      <th>190</th>\n",
       "      <td>1</td>\n",
       "      <td>10226</td>\n",
       "      <td>461614796</td>\n",
       "      <td>L</td>\n",
       "      <td>MLO</td>\n",
       "      <td>71.0</td>\n",
       "      <td>1</td>\n",
       "      <td>1</td>\n",
       "      <td>1</td>\n",
       "      <td>0.0</td>\n",
       "      <td>0</td>\n",
       "      <td>C</td>\n",
       "      <td>49</td>\n",
       "      <td>False</td>\n",
       "      <td>/kaggle/input/rsna-breast-cancer-detection/tra...</td>\n",
       "    </tr>\n",
       "    <tr>\n",
       "      <th>...</th>\n",
       "      <td>...</td>\n",
       "      <td>...</td>\n",
       "      <td>...</td>\n",
       "      <td>...</td>\n",
       "      <td>...</td>\n",
       "      <td>...</td>\n",
       "      <td>...</td>\n",
       "      <td>...</td>\n",
       "      <td>...</td>\n",
       "      <td>...</td>\n",
       "      <td>...</td>\n",
       "      <td>...</td>\n",
       "      <td>...</td>\n",
       "      <td>...</td>\n",
       "      <td>...</td>\n",
       "    </tr>\n",
       "    <tr>\n",
       "      <th>54485</th>\n",
       "      <td>2</td>\n",
       "      <td>9707</td>\n",
       "      <td>1900919592</td>\n",
       "      <td>R</td>\n",
       "      <td>MLO</td>\n",
       "      <td>56.0</td>\n",
       "      <td>1</td>\n",
       "      <td>1</td>\n",
       "      <td>1</td>\n",
       "      <td>NaN</td>\n",
       "      <td>0</td>\n",
       "      <td>NaN</td>\n",
       "      <td>21</td>\n",
       "      <td>False</td>\n",
       "      <td>/kaggle/input/rsna-breast-cancer-detection/tra...</td>\n",
       "    </tr>\n",
       "    <tr>\n",
       "      <th>54593</th>\n",
       "      <td>2</td>\n",
       "      <td>9840</td>\n",
       "      <td>111786935</td>\n",
       "      <td>R</td>\n",
       "      <td>MLO</td>\n",
       "      <td>59.0</td>\n",
       "      <td>1</td>\n",
       "      <td>1</td>\n",
       "      <td>1</td>\n",
       "      <td>NaN</td>\n",
       "      <td>0</td>\n",
       "      <td>NaN</td>\n",
       "      <td>21</td>\n",
       "      <td>False</td>\n",
       "      <td>/kaggle/input/rsna-breast-cancer-detection/tra...</td>\n",
       "    </tr>\n",
       "    <tr>\n",
       "      <th>54594</th>\n",
       "      <td>2</td>\n",
       "      <td>9840</td>\n",
       "      <td>1559360810</td>\n",
       "      <td>R</td>\n",
       "      <td>CC</td>\n",
       "      <td>59.0</td>\n",
       "      <td>1</td>\n",
       "      <td>1</td>\n",
       "      <td>1</td>\n",
       "      <td>NaN</td>\n",
       "      <td>0</td>\n",
       "      <td>NaN</td>\n",
       "      <td>21</td>\n",
       "      <td>False</td>\n",
       "      <td>/kaggle/input/rsna-breast-cancer-detection/tra...</td>\n",
       "    </tr>\n",
       "    <tr>\n",
       "      <th>54595</th>\n",
       "      <td>2</td>\n",
       "      <td>9851</td>\n",
       "      <td>1409270544</td>\n",
       "      <td>L</td>\n",
       "      <td>MLO</td>\n",
       "      <td>58.0</td>\n",
       "      <td>1</td>\n",
       "      <td>1</td>\n",
       "      <td>0</td>\n",
       "      <td>NaN</td>\n",
       "      <td>0</td>\n",
       "      <td>NaN</td>\n",
       "      <td>48</td>\n",
       "      <td>False</td>\n",
       "      <td>/kaggle/input/rsna-breast-cancer-detection/tra...</td>\n",
       "    </tr>\n",
       "    <tr>\n",
       "      <th>54596</th>\n",
       "      <td>2</td>\n",
       "      <td>9851</td>\n",
       "      <td>1434430689</td>\n",
       "      <td>L</td>\n",
       "      <td>CC</td>\n",
       "      <td>58.0</td>\n",
       "      <td>1</td>\n",
       "      <td>1</td>\n",
       "      <td>0</td>\n",
       "      <td>NaN</td>\n",
       "      <td>0</td>\n",
       "      <td>NaN</td>\n",
       "      <td>48</td>\n",
       "      <td>False</td>\n",
       "      <td>/kaggle/input/rsna-breast-cancer-detection/tra...</td>\n",
       "    </tr>\n",
       "  </tbody>\n",
       "</table>\n",
       "<p>1158 rows × 15 columns</p>\n",
       "</div>"
      ],
      "text/plain": [
       "       site_id  patient_id    image_id laterality view   age  cancer  biopsy  \\\n",
       "87           1       10130   388811999          L  MLO  71.0       1       1   \n",
       "88           1       10130   613462606          L   CC  71.0       1       1   \n",
       "89           1       10130  1360338805          L   CC  71.0       1       1   \n",
       "90           1       10130  1672636630          L  MLO  71.0       1       1   \n",
       "190          1       10226   461614796          L  MLO  71.0       1       1   \n",
       "...        ...         ...         ...        ...  ...   ...     ...     ...   \n",
       "54485        2        9707  1900919592          R  MLO  56.0       1       1   \n",
       "54593        2        9840   111786935          R  MLO  59.0       1       1   \n",
       "54594        2        9840  1559360810          R   CC  59.0       1       1   \n",
       "54595        2        9851  1409270544          L  MLO  58.0       1       1   \n",
       "54596        2        9851  1434430689          L   CC  58.0       1       1   \n",
       "\n",
       "       invasive  BIRADS  implant density  machine_id  difficult_negative_case  \\\n",
       "87            1     0.0        0       B          49                    False   \n",
       "88            1     0.0        0       B          49                    False   \n",
       "89            1     0.0        0       B          49                    False   \n",
       "90            1     0.0        0       B          49                    False   \n",
       "190           1     0.0        0       C          49                    False   \n",
       "...         ...     ...      ...     ...         ...                      ...   \n",
       "54485         1     NaN        0     NaN          21                    False   \n",
       "54593         1     NaN        0     NaN          21                    False   \n",
       "54594         1     NaN        0     NaN          21                    False   \n",
       "54595         0     NaN        0     NaN          48                    False   \n",
       "54596         0     NaN        0     NaN          48                    False   \n",
       "\n",
       "                                                    path  \n",
       "87     /kaggle/input/rsna-breast-cancer-detection/tra...  \n",
       "88     /kaggle/input/rsna-breast-cancer-detection/tra...  \n",
       "89     /kaggle/input/rsna-breast-cancer-detection/tra...  \n",
       "90     /kaggle/input/rsna-breast-cancer-detection/tra...  \n",
       "190    /kaggle/input/rsna-breast-cancer-detection/tra...  \n",
       "...                                                  ...  \n",
       "54485  /kaggle/input/rsna-breast-cancer-detection/tra...  \n",
       "54593  /kaggle/input/rsna-breast-cancer-detection/tra...  \n",
       "54594  /kaggle/input/rsna-breast-cancer-detection/tra...  \n",
       "54595  /kaggle/input/rsna-breast-cancer-detection/tra...  \n",
       "54596  /kaggle/input/rsna-breast-cancer-detection/tra...  \n",
       "\n",
       "[1158 rows x 15 columns]"
      ]
     },
     "execution_count": 8,
     "metadata": {},
     "output_type": "execute_result"
    }
   ],
   "source": [
    "train_df[train_df['cancer']==1]"
   ]
  },
  {
   "cell_type": "code",
   "execution_count": 9,
   "id": "64cbc13a",
   "metadata": {
    "execution": {
     "iopub.execute_input": "2023-02-23T07:32:35.820737Z",
     "iopub.status.busy": "2023-02-23T07:32:35.820144Z",
     "iopub.status.idle": "2023-02-23T07:32:35.842609Z",
     "shell.execute_reply": "2023-02-23T07:32:35.841724Z"
    },
    "papermill": {
     "duration": 0.04716,
     "end_time": "2023-02-23T07:32:35.845195",
     "exception": false,
     "start_time": "2023-02-23T07:32:35.798035",
     "status": "completed"
    },
    "tags": []
   },
   "outputs": [
    {
     "data": {
      "text/html": [
       "<div>\n",
       "<style scoped>\n",
       "    .dataframe tbody tr th:only-of-type {\n",
       "        vertical-align: middle;\n",
       "    }\n",
       "\n",
       "    .dataframe tbody tr th {\n",
       "        vertical-align: top;\n",
       "    }\n",
       "\n",
       "    .dataframe thead th {\n",
       "        text-align: right;\n",
       "    }\n",
       "</style>\n",
       "<table border=\"1\" class=\"dataframe\">\n",
       "  <thead>\n",
       "    <tr style=\"text-align: right;\">\n",
       "      <th></th>\n",
       "      <th>site_id</th>\n",
       "      <th>patient_id</th>\n",
       "      <th>image_id</th>\n",
       "      <th>laterality</th>\n",
       "      <th>view</th>\n",
       "      <th>age</th>\n",
       "      <th>cancer</th>\n",
       "      <th>biopsy</th>\n",
       "      <th>invasive</th>\n",
       "      <th>BIRADS</th>\n",
       "      <th>implant</th>\n",
       "      <th>density</th>\n",
       "      <th>machine_id</th>\n",
       "      <th>difficult_negative_case</th>\n",
       "      <th>path</th>\n",
       "    </tr>\n",
       "  </thead>\n",
       "  <tbody>\n",
       "    <tr>\n",
       "      <th>54591</th>\n",
       "      <td>2</td>\n",
       "      <td>9840</td>\n",
       "      <td>87146266</td>\n",
       "      <td>L</td>\n",
       "      <td>MLO</td>\n",
       "      <td>59.0</td>\n",
       "      <td>0</td>\n",
       "      <td>1</td>\n",
       "      <td>0</td>\n",
       "      <td>NaN</td>\n",
       "      <td>0</td>\n",
       "      <td>NaN</td>\n",
       "      <td>21</td>\n",
       "      <td>True</td>\n",
       "      <td>/kaggle/input/rsna-breast-cancer-detection/tra...</td>\n",
       "    </tr>\n",
       "    <tr>\n",
       "      <th>54592</th>\n",
       "      <td>2</td>\n",
       "      <td>9840</td>\n",
       "      <td>629749649</td>\n",
       "      <td>L</td>\n",
       "      <td>CC</td>\n",
       "      <td>59.0</td>\n",
       "      <td>0</td>\n",
       "      <td>1</td>\n",
       "      <td>0</td>\n",
       "      <td>NaN</td>\n",
       "      <td>0</td>\n",
       "      <td>NaN</td>\n",
       "      <td>21</td>\n",
       "      <td>True</td>\n",
       "      <td>/kaggle/input/rsna-breast-cancer-detection/tra...</td>\n",
       "    </tr>\n",
       "    <tr>\n",
       "      <th>54593</th>\n",
       "      <td>2</td>\n",
       "      <td>9840</td>\n",
       "      <td>111786935</td>\n",
       "      <td>R</td>\n",
       "      <td>MLO</td>\n",
       "      <td>59.0</td>\n",
       "      <td>1</td>\n",
       "      <td>1</td>\n",
       "      <td>1</td>\n",
       "      <td>NaN</td>\n",
       "      <td>0</td>\n",
       "      <td>NaN</td>\n",
       "      <td>21</td>\n",
       "      <td>False</td>\n",
       "      <td>/kaggle/input/rsna-breast-cancer-detection/tra...</td>\n",
       "    </tr>\n",
       "    <tr>\n",
       "      <th>54594</th>\n",
       "      <td>2</td>\n",
       "      <td>9840</td>\n",
       "      <td>1559360810</td>\n",
       "      <td>R</td>\n",
       "      <td>CC</td>\n",
       "      <td>59.0</td>\n",
       "      <td>1</td>\n",
       "      <td>1</td>\n",
       "      <td>1</td>\n",
       "      <td>NaN</td>\n",
       "      <td>0</td>\n",
       "      <td>NaN</td>\n",
       "      <td>21</td>\n",
       "      <td>False</td>\n",
       "      <td>/kaggle/input/rsna-breast-cancer-detection/tra...</td>\n",
       "    </tr>\n",
       "  </tbody>\n",
       "</table>\n",
       "</div>"
      ],
      "text/plain": [
       "       site_id  patient_id    image_id laterality view   age  cancer  biopsy  \\\n",
       "54591        2        9840    87146266          L  MLO  59.0       0       1   \n",
       "54592        2        9840   629749649          L   CC  59.0       0       1   \n",
       "54593        2        9840   111786935          R  MLO  59.0       1       1   \n",
       "54594        2        9840  1559360810          R   CC  59.0       1       1   \n",
       "\n",
       "       invasive  BIRADS  implant density  machine_id  difficult_negative_case  \\\n",
       "54591         0     NaN        0     NaN          21                     True   \n",
       "54592         0     NaN        0     NaN          21                     True   \n",
       "54593         1     NaN        0     NaN          21                    False   \n",
       "54594         1     NaN        0     NaN          21                    False   \n",
       "\n",
       "                                                    path  \n",
       "54591  /kaggle/input/rsna-breast-cancer-detection/tra...  \n",
       "54592  /kaggle/input/rsna-breast-cancer-detection/tra...  \n",
       "54593  /kaggle/input/rsna-breast-cancer-detection/tra...  \n",
       "54594  /kaggle/input/rsna-breast-cancer-detection/tra...  "
      ]
     },
     "execution_count": 9,
     "metadata": {},
     "output_type": "execute_result"
    }
   ],
   "source": [
    "train_df[train_df['patient_id']==9840]"
   ]
  },
  {
   "cell_type": "markdown",
   "id": "eb139b77",
   "metadata": {
    "papermill": {
     "duration": 0.020252,
     "end_time": "2023-02-23T07:32:35.886083",
     "exception": false,
     "start_time": "2023-02-23T07:32:35.865831",
     "status": "completed"
    },
    "tags": []
   },
   "source": [
    "> we can see for patient id 9840, she has cancer in right breast only"
   ]
  },
  {
   "cell_type": "markdown",
   "id": "905734b8",
   "metadata": {
    "papermill": {
     "duration": 0.019971,
     "end_time": "2023-02-23T07:32:35.926466",
     "exception": false,
     "start_time": "2023-02-23T07:32:35.906495",
     "status": "completed"
    },
    "tags": []
   },
   "source": [
    "## Check how many images have cancer"
   ]
  },
  {
   "cell_type": "code",
   "execution_count": 10,
   "id": "ea77934b",
   "metadata": {
    "execution": {
     "iopub.execute_input": "2023-02-23T07:32:35.969221Z",
     "iopub.status.busy": "2023-02-23T07:32:35.968770Z",
     "iopub.status.idle": "2023-02-23T07:32:35.978375Z",
     "shell.execute_reply": "2023-02-23T07:32:35.977227Z"
    },
    "papermill": {
     "duration": 0.033807,
     "end_time": "2023-02-23T07:32:35.980830",
     "exception": false,
     "start_time": "2023-02-23T07:32:35.947023",
     "status": "completed"
    },
    "tags": []
   },
   "outputs": [
    {
     "data": {
      "text/plain": [
       "0    53548\n",
       "1     1158\n",
       "Name: cancer, dtype: int64"
      ]
     },
     "execution_count": 10,
     "metadata": {},
     "output_type": "execute_result"
    }
   ],
   "source": [
    "train_df['cancer'].value_counts()"
   ]
  },
  {
   "cell_type": "code",
   "execution_count": 11,
   "id": "e7231746",
   "metadata": {
    "execution": {
     "iopub.execute_input": "2023-02-23T07:32:36.024108Z",
     "iopub.status.busy": "2023-02-23T07:32:36.023631Z",
     "iopub.status.idle": "2023-02-23T07:32:36.035220Z",
     "shell.execute_reply": "2023-02-23T07:32:36.034080Z"
    },
    "papermill": {
     "duration": 0.035863,
     "end_time": "2023-02-23T07:32:36.037674",
     "exception": false,
     "start_time": "2023-02-23T07:32:36.001811",
     "status": "completed"
    },
    "tags": []
   },
   "outputs": [
    {
     "data": {
      "text/plain": [
       "B    12651\n",
       "C    12175\n",
       "A     3105\n",
       "D     1539\n",
       "Name: density, dtype: int64"
      ]
     },
     "execution_count": 11,
     "metadata": {},
     "output_type": "execute_result"
    }
   ],
   "source": [
    "train_df['density'].value_counts()"
   ]
  },
  {
   "cell_type": "code",
   "execution_count": 12,
   "id": "bd80f3da",
   "metadata": {
    "execution": {
     "iopub.execute_input": "2023-02-23T07:32:36.081279Z",
     "iopub.status.busy": "2023-02-23T07:32:36.080884Z",
     "iopub.status.idle": "2023-02-23T07:32:36.099755Z",
     "shell.execute_reply": "2023-02-23T07:32:36.098511Z"
    },
    "papermill": {
     "duration": 0.043783,
     "end_time": "2023-02-23T07:32:36.102177",
     "exception": false,
     "start_time": "2023-02-23T07:32:36.058394",
     "status": "completed"
    },
    "tags": []
   },
   "outputs": [
    {
     "data": {
      "text/plain": [
       "0    6477\n",
       "1     198\n",
       "Name: cancer, dtype: int64"
      ]
     },
     "execution_count": 12,
     "metadata": {},
     "output_type": "execute_result"
    }
   ],
   "source": [
    "train_df[(train_df['laterality'] == 'L') \n",
    "         & (train_df['difficult_negative_case'] == False) \n",
    "         & (train_df['density'].isin(['A','B']))].cancer.value_counts()"
   ]
  },
  {
   "cell_type": "markdown",
   "id": "89c48eaa",
   "metadata": {
    "papermill": {
     "duration": 0.02093,
     "end_time": "2023-02-23T07:32:36.143712",
     "exception": false,
     "start_time": "2023-02-23T07:32:36.122782",
     "status": "completed"
    },
    "tags": []
   },
   "source": [
    "## Build a data set of by sampling random number of patients with and without cancer"
   ]
  },
  {
   "cell_type": "code",
   "execution_count": 13,
   "id": "a3790b98",
   "metadata": {
    "execution": {
     "iopub.execute_input": "2023-02-23T07:32:36.187196Z",
     "iopub.status.busy": "2023-02-23T07:32:36.186512Z",
     "iopub.status.idle": "2023-02-23T07:32:36.219530Z",
     "shell.execute_reply": "2023-02-23T07:32:36.218322Z"
    },
    "papermill": {
     "duration": 0.057514,
     "end_time": "2023-02-23T07:32:36.221862",
     "exception": false,
     "start_time": "2023-02-23T07:32:36.164348",
     "status": "completed"
    },
    "tags": []
   },
   "outputs": [
    {
     "data": {
      "text/html": [
       "<div>\n",
       "<style scoped>\n",
       "    .dataframe tbody tr th:only-of-type {\n",
       "        vertical-align: middle;\n",
       "    }\n",
       "\n",
       "    .dataframe tbody tr th {\n",
       "        vertical-align: top;\n",
       "    }\n",
       "\n",
       "    .dataframe thead th {\n",
       "        text-align: right;\n",
       "    }\n",
       "</style>\n",
       "<table border=\"1\" class=\"dataframe\">\n",
       "  <thead>\n",
       "    <tr style=\"text-align: right;\">\n",
       "      <th></th>\n",
       "      <th>site_id</th>\n",
       "      <th>patient_id</th>\n",
       "      <th>image_id</th>\n",
       "      <th>laterality</th>\n",
       "      <th>view</th>\n",
       "      <th>age</th>\n",
       "      <th>cancer</th>\n",
       "      <th>biopsy</th>\n",
       "      <th>invasive</th>\n",
       "      <th>BIRADS</th>\n",
       "      <th>implant</th>\n",
       "      <th>density</th>\n",
       "      <th>machine_id</th>\n",
       "      <th>difficult_negative_case</th>\n",
       "      <th>path</th>\n",
       "    </tr>\n",
       "  </thead>\n",
       "  <tbody>\n",
       "    <tr>\n",
       "      <th>0</th>\n",
       "      <td>1</td>\n",
       "      <td>39280</td>\n",
       "      <td>1448042992</td>\n",
       "      <td>R</td>\n",
       "      <td>MLO</td>\n",
       "      <td>74.0</td>\n",
       "      <td>1</td>\n",
       "      <td>1</td>\n",
       "      <td>1</td>\n",
       "      <td>0.0</td>\n",
       "      <td>0</td>\n",
       "      <td>A</td>\n",
       "      <td>49</td>\n",
       "      <td>False</td>\n",
       "      <td>/kaggle/input/rsna-breast-cancer-detection/tra...</td>\n",
       "    </tr>\n",
       "    <tr>\n",
       "      <th>1</th>\n",
       "      <td>1</td>\n",
       "      <td>47794</td>\n",
       "      <td>2142591939</td>\n",
       "      <td>R</td>\n",
       "      <td>MLO</td>\n",
       "      <td>63.0</td>\n",
       "      <td>1</td>\n",
       "      <td>1</td>\n",
       "      <td>1</td>\n",
       "      <td>0.0</td>\n",
       "      <td>0</td>\n",
       "      <td>B</td>\n",
       "      <td>49</td>\n",
       "      <td>False</td>\n",
       "      <td>/kaggle/input/rsna-breast-cancer-detection/tra...</td>\n",
       "    </tr>\n",
       "    <tr>\n",
       "      <th>2</th>\n",
       "      <td>1</td>\n",
       "      <td>64908</td>\n",
       "      <td>1880660195</td>\n",
       "      <td>R</td>\n",
       "      <td>MLO</td>\n",
       "      <td>73.0</td>\n",
       "      <td>1</td>\n",
       "      <td>1</td>\n",
       "      <td>1</td>\n",
       "      <td>0.0</td>\n",
       "      <td>0</td>\n",
       "      <td>B</td>\n",
       "      <td>49</td>\n",
       "      <td>False</td>\n",
       "      <td>/kaggle/input/rsna-breast-cancer-detection/tra...</td>\n",
       "    </tr>\n",
       "    <tr>\n",
       "      <th>3</th>\n",
       "      <td>1</td>\n",
       "      <td>3346</td>\n",
       "      <td>1063196710</td>\n",
       "      <td>R</td>\n",
       "      <td>MLO</td>\n",
       "      <td>72.0</td>\n",
       "      <td>1</td>\n",
       "      <td>1</td>\n",
       "      <td>0</td>\n",
       "      <td>0.0</td>\n",
       "      <td>0</td>\n",
       "      <td>B</td>\n",
       "      <td>49</td>\n",
       "      <td>False</td>\n",
       "      <td>/kaggle/input/rsna-breast-cancer-detection/tra...</td>\n",
       "    </tr>\n",
       "    <tr>\n",
       "      <th>4</th>\n",
       "      <td>1</td>\n",
       "      <td>59322</td>\n",
       "      <td>1392394047</td>\n",
       "      <td>R</td>\n",
       "      <td>CC</td>\n",
       "      <td>71.0</td>\n",
       "      <td>1</td>\n",
       "      <td>1</td>\n",
       "      <td>1</td>\n",
       "      <td>0.0</td>\n",
       "      <td>0</td>\n",
       "      <td>B</td>\n",
       "      <td>49</td>\n",
       "      <td>False</td>\n",
       "      <td>/kaggle/input/rsna-breast-cancer-detection/tra...</td>\n",
       "    </tr>\n",
       "  </tbody>\n",
       "</table>\n",
       "</div>"
      ],
      "text/plain": [
       "   site_id  patient_id    image_id laterality view   age  cancer  biopsy  \\\n",
       "0        1       39280  1448042992          R  MLO  74.0       1       1   \n",
       "1        1       47794  2142591939          R  MLO  63.0       1       1   \n",
       "2        1       64908  1880660195          R  MLO  73.0       1       1   \n",
       "3        1        3346  1063196710          R  MLO  72.0       1       1   \n",
       "4        1       59322  1392394047          R   CC  71.0       1       1   \n",
       "\n",
       "   invasive  BIRADS  implant density  machine_id  difficult_negative_case  \\\n",
       "0         1     0.0        0       A          49                    False   \n",
       "1         1     0.0        0       B          49                    False   \n",
       "2         1     0.0        0       B          49                    False   \n",
       "3         0     0.0        0       B          49                    False   \n",
       "4         1     0.0        0       B          49                    False   \n",
       "\n",
       "                                                path  \n",
       "0  /kaggle/input/rsna-breast-cancer-detection/tra...  \n",
       "1  /kaggle/input/rsna-breast-cancer-detection/tra...  \n",
       "2  /kaggle/input/rsna-breast-cancer-detection/tra...  \n",
       "3  /kaggle/input/rsna-breast-cancer-detection/tra...  \n",
       "4  /kaggle/input/rsna-breast-cancer-detection/tra...  "
      ]
     },
     "execution_count": 13,
     "metadata": {},
     "output_type": "execute_result"
    }
   ],
   "source": [
    "majority_class_df=train_df[(train_df['cancer'] == 1) \n",
    "                           & (train_df['difficult_negative_case'] == False) \n",
    "                           & (train_df['density'].isin(['A','B']))].sample(200)\n",
    "minority_class_df=train_df[(train_df['cancer'] == 0)\n",
    "                           & (train_df['difficult_negative_case'] == False) \n",
    "                           & (train_df['density'].isin(['A','B']))].sample(100)\n",
    "\n",
    "final_df = pd.concat([majority_class_df, minority_class_df])\n",
    "\n",
    "final_df=final_df.reset_index(drop=True)\n",
    "final_df.head()"
   ]
  },
  {
   "cell_type": "markdown",
   "id": "5fa1f64e",
   "metadata": {
    "papermill": {
     "duration": 0.020792,
     "end_time": "2023-02-23T07:32:36.263873",
     "exception": false,
     "start_time": "2023-02-23T07:32:36.243081",
     "status": "completed"
    },
    "tags": []
   },
   "source": [
    "## Split the images into training data sets\n",
    "-> Make 2 folders\n",
    "* 0: Healthy Patients \n",
    "* 1: Cancer Patients "
   ]
  },
  {
   "cell_type": "code",
   "execution_count": 14,
   "id": "56cea367",
   "metadata": {
    "execution": {
     "iopub.execute_input": "2023-02-23T07:32:36.307907Z",
     "iopub.status.busy": "2023-02-23T07:32:36.307161Z",
     "iopub.status.idle": "2023-02-23T07:35:20.354820Z",
     "shell.execute_reply": "2023-02-23T07:35:20.353196Z"
    },
    "papermill": {
     "duration": 164.087398,
     "end_time": "2023-02-23T07:35:20.372188",
     "exception": false,
     "start_time": "2023-02-23T07:32:36.284790",
     "status": "completed"
    },
    "tags": []
   },
   "outputs": [
    {
     "name": "stderr",
     "output_type": "stream",
     "text": [
      "100%|██████████| 300/300 [02:43<00:00,  1.83it/s]\n"
     ]
    }
   ],
   "source": [
    "import os\n",
    "import pydicom\n",
    "import cv2\n",
    "import concurrent.futures\n",
    "import numpy as np  # Add this line\n",
    "from tqdm import tqdm\n",
    "\n",
    "output_folder = \"/kaggle/working/train_images\"\n",
    "\n",
    "\n",
    "# Create healthy and cancer sub-folders inside output_folder\n",
    "healthy_folder = os.path.join(output_folder, \"healthy\")\n",
    "if not os.path.exists(healthy_folder):\n",
    "    os.makedirs(healthy_folder)\n",
    "\n",
    "cancer_folder = os.path.join(output_folder, \"cancer\")\n",
    "if not os.path.exists(cancer_folder):\n",
    "    os.makedirs(cancer_folder)\n",
    "\n",
    "def process_image(row):\n",
    "    src_path = row['path']\n",
    "    patient_id = row['patient_id']\n",
    "    image_id = row['image_id']\n",
    "\n",
    "    # Load the DICOM image\n",
    "    dicom = pydicom.dcmread(src_path)\n",
    "    \n",
    "    img = dicom.pixel_array\n",
    "    img = (img - img.min()) / (img.max() - img.min())\n",
    "    img = cv2.resize(img, (256, 256))\n",
    "    if dicom.PhotometricInterpretation == \"MONOCHROME1\":\n",
    "        img = 1 - img\n",
    "\n",
    "    # Determine the target folder based on the cancer column value\n",
    "    if row['cancer'] == 0:\n",
    "        target_folder = healthy_folder\n",
    "    else:\n",
    "        target_folder = cancer_folder\n",
    "\n",
    "    # Construct the target path\n",
    "    target_path = os.path.join(target_folder, f\"{patient_id}_{image_id}.png\")\n",
    "\n",
    "    # Save the image to the target folder\n",
    "    cv2.imwrite(target_path, (img * 255).astype(np.uint8))\n",
    "\n",
    "with concurrent.futures.ThreadPoolExecutor() as executor:\n",
    "    futures = [executor.submit(process_image, row) for index, row in final_df.iterrows()]\n",
    "    for f in tqdm(concurrent.futures.as_completed(futures), total=final_df.shape[0]):\n",
    "        pass"
   ]
  },
  {
   "cell_type": "markdown",
   "id": "a3f9e249",
   "metadata": {
    "papermill": {
     "duration": 0.028213,
     "end_time": "2023-02-23T07:35:20.446484",
     "exception": false,
     "start_time": "2023-02-23T07:35:20.418271",
     "status": "completed"
    },
    "tags": []
   },
   "source": [
    "## Count images in sub folders"
   ]
  },
  {
   "cell_type": "code",
   "execution_count": 15,
   "id": "bee8f3b7",
   "metadata": {
    "execution": {
     "iopub.execute_input": "2023-02-23T07:35:20.506461Z",
     "iopub.status.busy": "2023-02-23T07:35:20.506065Z",
     "iopub.status.idle": "2023-02-23T07:35:20.510349Z",
     "shell.execute_reply": "2023-02-23T07:35:20.509557Z"
    },
    "papermill": {
     "duration": 0.037127,
     "end_time": "2023-02-23T07:35:20.512499",
     "exception": false,
     "start_time": "2023-02-23T07:35:20.475372",
     "status": "completed"
    },
    "tags": []
   },
   "outputs": [],
   "source": [
    "# def show_folder_contents(folder_path):\n",
    "#     for filename in os.listdir(folder_path):\n",
    "#         print(filename)\n",
    "\n",
    "# folder_path = \"/kaggle/working/train_images/cancer\"\n",
    "# show_folder_contents(folder_path)"
   ]
  },
  {
   "cell_type": "code",
   "execution_count": 16,
   "id": "4056588c",
   "metadata": {
    "execution": {
     "iopub.execute_input": "2023-02-23T07:35:20.572501Z",
     "iopub.status.busy": "2023-02-23T07:35:20.571593Z",
     "iopub.status.idle": "2023-02-23T07:35:20.581372Z",
     "shell.execute_reply": "2023-02-23T07:35:20.579811Z"
    },
    "papermill": {
     "duration": 0.042802,
     "end_time": "2023-02-23T07:35:20.584270",
     "exception": false,
     "start_time": "2023-02-23T07:35:20.541468",
     "status": "completed"
    },
    "tags": []
   },
   "outputs": [
    {
     "name": "stdout",
     "output_type": "stream",
     "text": [
      "Number of images in cancer folder: 200\n",
      "Number of images in healthy folder: 100\n"
     ]
    }
   ],
   "source": [
    "import os\n",
    "\n",
    "def count_images(folder_path):\n",
    "    count = 0\n",
    "    for filename in os.listdir(folder_path):\n",
    "        if filename.endswith(\".jpg\") or filename.endswith(\".jpeg\") or filename.endswith(\".png\"):\n",
    "            count += 1\n",
    "    return count\n",
    "\n",
    "folder_path = \"/kaggle/working/train_images/cancer\"\n",
    "image_count = count_images(folder_path)\n",
    "print(\"Number of images in cancer folder:\", image_count)\n",
    "\n",
    "folder_path = \"/kaggle/working/train_images/healthy\"\n",
    "image_count = count_images(folder_path)\n",
    "print(\"Number of images in healthy folder:\", image_count)"
   ]
  },
  {
   "cell_type": "markdown",
   "id": "98d75007",
   "metadata": {
    "papermill": {
     "duration": 0.028375,
     "end_time": "2023-02-23T07:35:20.642064",
     "exception": false,
     "start_time": "2023-02-23T07:35:20.613689",
     "status": "completed"
    },
    "tags": []
   },
   "source": [
    "## View images in subfolder"
   ]
  },
  {
   "cell_type": "code",
   "execution_count": 17,
   "id": "75474391",
   "metadata": {
    "execution": {
     "iopub.execute_input": "2023-02-23T07:35:20.701397Z",
     "iopub.status.busy": "2023-02-23T07:35:20.700460Z",
     "iopub.status.idle": "2023-02-23T07:35:20.708451Z",
     "shell.execute_reply": "2023-02-23T07:35:20.707654Z"
    },
    "papermill": {
     "duration": 0.039778,
     "end_time": "2023-02-23T07:35:20.710622",
     "exception": false,
     "start_time": "2023-02-23T07:35:20.670844",
     "status": "completed"
    },
    "tags": []
   },
   "outputs": [],
   "source": [
    "import os\n",
    "import matplotlib.pyplot as plt\n",
    "    \n",
    "def view_images_in_both_subfolders(folder_path, num_images=5):\n",
    "    fig, ax = plt.subplots(nrows=2, ncols=num_images, figsize=(20, 10))\n",
    "    class_folders = [\"healthy\", \"cancer\"]\n",
    "#     class_folders = [\"healthy_corrected\", \"cancer_corrected\"]\n",
    "    for j, class_folder in enumerate(class_folders):\n",
    "        class_folder_path = os.path.join(folder_path, class_folder)\n",
    "        file_names = os.listdir(class_folder_path)\n",
    "        \n",
    "        for i, file_name in enumerate(file_names[:num_images]):\n",
    "                image = plt.imread(os.path.join(class_folder_path, file_name))\n",
    "                ax[j, i].imshow(image, cmap='jet')\n",
    "                ax[j, i].set_title(f\"{class_folder} - Image Shape: {image.shape}\")\n",
    "\n",
    "    plt.show();"
   ]
  },
  {
   "cell_type": "code",
   "execution_count": 18,
   "id": "e8c50d0f",
   "metadata": {
    "execution": {
     "iopub.execute_input": "2023-02-23T07:35:20.770305Z",
     "iopub.status.busy": "2023-02-23T07:35:20.769269Z",
     "iopub.status.idle": "2023-02-23T07:35:22.417296Z",
     "shell.execute_reply": "2023-02-23T07:35:22.416173Z"
    },
    "papermill": {
     "duration": 1.683153,
     "end_time": "2023-02-23T07:35:22.422612",
     "exception": false,
     "start_time": "2023-02-23T07:35:20.739459",
     "status": "completed"
    },
    "tags": []
   },
   "outputs": [
    {
     "data": {
      "image/png": "[encoded data removed]",
      "text/plain": [
       "<Figure size 1440x720 with 14 Axes>"
      ]
     },
     "metadata": {
      "needs_background": "light"
     },
     "output_type": "display_data"
    }
   ],
   "source": [
    "view_images_in_both_subfolders(\"/kaggle/working/train_images\", num_images=7)"
   ]
  },
  {
   "cell_type": "code",
   "execution_count": 19,
   "id": "96f27c00",
   "metadata": {
    "execution": {
     "iopub.execute_input": "2023-02-23T07:35:22.491391Z",
     "iopub.status.busy": "2023-02-23T07:35:22.490974Z",
     "iopub.status.idle": "2023-02-23T07:35:22.495751Z",
     "shell.execute_reply": "2023-02-23T07:35:22.494685Z"
    },
    "papermill": {
     "duration": 0.041709,
     "end_time": "2023-02-23T07:35:22.498171",
     "exception": false,
     "start_time": "2023-02-23T07:35:22.456462",
     "status": "completed"
    },
    "tags": []
   },
   "outputs": [],
   "source": [
    "# def normalize_image(img):\n",
    "#     img = img / np.max(img)\n",
    "#     return img\n",
    "\n",
    "# def normalize_folder(folder_path):\n",
    "#     for subdir, dirs, files in os.walk(folder_path):\n",
    "#         for file in files:\n",
    "#             file_path = os.path.join(subdir, file)\n",
    "#             img = cv2.imread(file_path, 0)\n",
    "#             img = normalize_image(img)\n",
    "#             cv2.imwrite(file_path, img)\n",
    "\n",
    "# healthy_folder = \"/kaggle/working/train_images/healthy\"\n",
    "# cancer_folder = \"/kaggle/working/train_images/cancer\"\n",
    "\n",
    "# normalize_folder(healthy_folder)\n",
    "# normalize_folder(cancer_folder)"
   ]
  },
  {
   "cell_type": "code",
   "execution_count": 20,
   "id": "53025699",
   "metadata": {
    "execution": {
     "iopub.execute_input": "2023-02-23T07:35:22.567010Z",
     "iopub.status.busy": "2023-02-23T07:35:22.566335Z",
     "iopub.status.idle": "2023-02-23T07:35:22.572919Z",
     "shell.execute_reply": "2023-02-23T07:35:22.572094Z"
    },
    "papermill": {
     "duration": 0.043499,
     "end_time": "2023-02-23T07:35:22.575206",
     "exception": false,
     "start_time": "2023-02-23T07:35:22.531707",
     "status": "completed"
    },
    "tags": []
   },
   "outputs": [],
   "source": [
    "def check_normalization(folder_path):\n",
    "    for filename in os.listdir(folder_path):\n",
    "        file_path = os.path.join(folder_path, filename)\n",
    "        img = cv2.imread(file_path, cv2.IMREAD_GRAYSCALE)\n",
    "        if np.min(img) < 0 or np.max(img) > 1:\n",
    "            print(\"Image not normalized:\", np.min(img), np.max(img), img.shape, file_path)\n",
    "        else:\n",
    "            print(\"Image normalized:\", np.min(img), np.max(img), img.shape, file_path)\n",
    "\n",
    "# folder_path = \"/kaggle/working/train_images/cancer\"\n",
    "# print('Cancer images check ===========')\n",
    "# check_normalization(folder_path)\n",
    "\n",
    "# folder_path = \"/kaggle/working/train_images/healthy\"\n",
    "# print('\\nHealthy images check ===========')\n",
    "# check_normalization(folder_path)"
   ]
  },
  {
   "cell_type": "markdown",
   "id": "f5138538",
   "metadata": {
    "papermill": {
     "duration": 0.033631,
     "end_time": "2023-02-23T07:35:22.643365",
     "exception": false,
     "start_time": "2023-02-23T07:35:22.609734",
     "status": "completed"
    },
    "tags": []
   },
   "source": [
    "# Preprocess the images"
   ]
  },
  {
   "cell_type": "markdown",
   "id": "8073f68c",
   "metadata": {
    "papermill": {
     "duration": 0.033034,
     "end_time": "2023-02-23T07:35:22.710044",
     "exception": false,
     "start_time": "2023-02-23T07:35:22.677010",
     "status": "completed"
    },
    "tags": []
   },
   "source": [
    "### Read nth image in a folder"
   ]
  },
  {
   "cell_type": "code",
   "execution_count": 21,
   "id": "8812a384",
   "metadata": {
    "execution": {
     "iopub.execute_input": "2023-02-23T07:35:22.778572Z",
     "iopub.status.busy": "2023-02-23T07:35:22.777547Z",
     "iopub.status.idle": "2023-02-23T07:35:22.783461Z",
     "shell.execute_reply": "2023-02-23T07:35:22.782690Z"
    },
    "papermill": {
     "duration": 0.042744,
     "end_time": "2023-02-23T07:35:22.785865",
     "exception": false,
     "start_time": "2023-02-23T07:35:22.743121",
     "status": "completed"
    },
    "tags": []
   },
   "outputs": [],
   "source": [
    "def read_nth_image(folder_path, n):\n",
    "    images = [f for f in os.listdir(folder_path) if f.endswith('.png')]\n",
    "    if len(images) < n:\n",
    "        return None\n",
    "    else:\n",
    "        image_path = os.path.join(folder_path, images[n-1])\n",
    "        image = cv2.imread(image_path)\n",
    "        return image"
   ]
  },
  {
   "cell_type": "code",
   "execution_count": 22,
   "id": "a4153456",
   "metadata": {
    "execution": {
     "iopub.execute_input": "2023-02-23T07:35:22.857655Z",
     "iopub.status.busy": "2023-02-23T07:35:22.856899Z",
     "iopub.status.idle": "2023-02-23T07:35:22.867291Z",
     "shell.execute_reply": "2023-02-23T07:35:22.866353Z"
    },
    "papermill": {
     "duration": 0.04829,
     "end_time": "2023-02-23T07:35:22.869742",
     "exception": false,
     "start_time": "2023-02-23T07:35:22.821452",
     "status": "completed"
    },
    "tags": []
   },
   "outputs": [],
   "source": [
    "folder_path='/kaggle/working/train_images/cancer/'\n",
    "n=4\n",
    "img=read_nth_image(folder_path, n)"
   ]
  },
  {
   "cell_type": "code",
   "execution_count": 23,
   "id": "e819c265",
   "metadata": {
    "execution": {
     "iopub.execute_input": "2023-02-23T07:35:22.938364Z",
     "iopub.status.busy": "2023-02-23T07:35:22.937939Z",
     "iopub.status.idle": "2023-02-23T07:35:22.945277Z",
     "shell.execute_reply": "2023-02-23T07:35:22.944234Z"
    },
    "papermill": {
     "duration": 0.044388,
     "end_time": "2023-02-23T07:35:22.947397",
     "exception": false,
     "start_time": "2023-02-23T07:35:22.903009",
     "status": "completed"
    },
    "tags": []
   },
   "outputs": [
    {
     "data": {
      "text/plain": [
       "((256, 256, 3), 0, 255)"
      ]
     },
     "execution_count": 23,
     "metadata": {},
     "output_type": "execute_result"
    }
   ],
   "source": [
    "img.shape, img.min(), img.max()"
   ]
  },
  {
   "cell_type": "code",
   "execution_count": 24,
   "id": "583444bb",
   "metadata": {
    "execution": {
     "iopub.execute_input": "2023-02-23T07:35:23.015554Z",
     "iopub.status.busy": "2023-02-23T07:35:23.014765Z",
     "iopub.status.idle": "2023-02-23T07:35:23.220912Z",
     "shell.execute_reply": "2023-02-23T07:35:23.219756Z"
    },
    "papermill": {
     "duration": 0.243036,
     "end_time": "2023-02-23T07:35:23.223417",
     "exception": false,
     "start_time": "2023-02-23T07:35:22.980381",
     "status": "completed"
    },
    "tags": []
   },
   "outputs": [
    {
     "data": {
      "image/png": "[encoded data removed]",
      "text/plain": [
       "<Figure size 432x288 with 1 Axes>"
      ]
     },
     "metadata": {
      "needs_background": "light"
     },
     "output_type": "display_data"
    }
   ],
   "source": [
    "plt.imshow(img, cmap='gray');"
   ]
  },
  {
   "cell_type": "markdown",
   "id": "6115604c",
   "metadata": {
    "papermill": {
     "duration": 0.034797,
     "end_time": "2023-02-23T07:35:23.293557",
     "exception": false,
     "start_time": "2023-02-23T07:35:23.258760",
     "status": "completed"
    },
    "tags": []
   },
   "source": [
    "### Apply preprocessing to just 1 image to see the changes"
   ]
  },
  {
   "cell_type": "code",
   "execution_count": 25,
   "id": "5a7d791e",
   "metadata": {
    "execution": {
     "iopub.execute_input": "2023-02-23T07:35:23.365000Z",
     "iopub.status.busy": "2023-02-23T07:35:23.363417Z",
     "iopub.status.idle": "2023-02-23T07:35:23.735581Z",
     "shell.execute_reply": "2023-02-23T07:35:23.734335Z"
    },
    "papermill": {
     "duration": 0.412428,
     "end_time": "2023-02-23T07:35:23.740140",
     "exception": false,
     "start_time": "2023-02-23T07:35:23.327712",
     "status": "completed"
    },
    "tags": []
   },
   "outputs": [
    {
     "data": {
      "image/png": "[encoded data removed]",
      "text/plain": [
       "<Figure size 1440x576 with 4 Axes>"
      ]
     },
     "metadata": {},
     "output_type": "display_data"
    }
   ],
   "source": [
    "import numpy as np\n",
    "import cv2\n",
    "import matplotlib.pyplot as plt\n",
    "\n",
    "def adjust_gamma(image, gamma=1.0):\n",
    "    # build a lookup table mapping the pixel values [0, 255] to their adjusted gamma values\n",
    "    invGamma = 1.0 / gamma\n",
    "    table = np.array([((i / 255.0) ** invGamma) * 255 for i in np.arange(0, 256)], dtype=\"uint8\")\n",
    "\n",
    "    # split the image into its three color channels (R, G, B)\n",
    "    R, G, B = cv2.split(image)\n",
    "    \n",
    "    # apply gamma correction to each color channel\n",
    "    corrected_R = cv2.LUT(R, table)\n",
    "    corrected_G = cv2.LUT(G, table)\n",
    "    corrected_B = cv2.LUT(B, table)\n",
    "    \n",
    "    # merge the corrected color channels back into a single image\n",
    "    corrected_image = cv2.merge((corrected_R, corrected_G, corrected_B))\n",
    "    \n",
    "    return corrected_image\n",
    "\n",
    "def apply_clahe(img, clip_limit=2.0, tile_grid_size=(8,8)):\n",
    "    clahe = cv2.createCLAHE(clipLimit=clip_limit, tileGridSize=tile_grid_size)\n",
    "    \n",
    "    # split the image into its three color channels (R, G, B)\n",
    "    R, G, B = cv2.split(img)\n",
    "    \n",
    "    # apply CLAHE to each color channel\n",
    "    cl1_R = clahe.apply(R)\n",
    "    cl1_G = clahe.apply(G)\n",
    "    cl1_B = clahe.apply(B)\n",
    "    \n",
    "    # merge the corrected color channels back into a single image\n",
    "    cl1 = cv2.merge((cl1_R, cl1_G, cl1_B))\n",
    "    \n",
    "    return cl1\n",
    "\n",
    "# Perform gamma correction with gamma=0.5\n",
    "gamma_corrected_image = adjust_gamma(img, 0.8)\n",
    "\n",
    "# Apply CLAHE\n",
    "clahe_corrected_image = apply_clahe(gamma_corrected_image, clip_limit=1.0, tile_grid_size=(8,8))\n",
    "\n",
    "# Apply CLAHE\n",
    "clahe_corrected_image_2 = apply_clahe(clahe_corrected_image, clip_limit=1.0, tile_grid_size=(8,8))\n",
    "\n",
    "# Display original, gamma corrected, and CLAHE corrected images\n",
    "plt.figure(figsize=(20,8))\n",
    "plt.subplot(1,4,1),plt.imshow(img,cmap=\"gray\")\n",
    "plt.title(\"Original Image\"), plt.xticks([]), plt.yticks([])\n",
    "\n",
    "plt.subplot(1,4,2),plt.imshow(gamma_corrected_image,cmap=\"gray\")\n",
    "plt.title(\"Gamma Corrected Image\"), plt.xticks([]), plt.yticks([])\n",
    "\n",
    "plt.subplot(1,4,3),plt.imshow(clahe_corrected_image,cmap=\"gray\")\n",
    "plt.title(\"CLAHE Corrected Image\"), plt.xticks([]), plt.yticks([])\n",
    "\n",
    "plt.subplot(1,4,4),plt.imshow(clahe_corrected_image_2,cmap=\"gray\")\n",
    "plt.title(\"CLAHE Corrected Image 2\"), plt.xticks([]), plt.yticks([])\n",
    "\n",
    "plt.show()"
   ]
  },
  {
   "cell_type": "markdown",
   "id": "8caaff0d",
   "metadata": {
    "papermill": {
     "duration": 0.037242,
     "end_time": "2023-02-23T07:35:23.815150",
     "exception": false,
     "start_time": "2023-02-23T07:35:23.777908",
     "status": "completed"
    },
    "tags": []
   },
   "source": [
    "### Define preprocessing functions to modify the images in the target fodlers "
   ]
  },
  {
   "cell_type": "code",
   "execution_count": 26,
   "id": "5c217f54",
   "metadata": {
    "execution": {
     "iopub.execute_input": "2023-02-23T07:35:23.893163Z",
     "iopub.status.busy": "2023-02-23T07:35:23.892751Z",
     "iopub.status.idle": "2023-02-23T07:35:23.906020Z",
     "shell.execute_reply": "2023-02-23T07:35:23.904729Z"
    },
    "papermill": {
     "duration": 0.054879,
     "end_time": "2023-02-23T07:35:23.908538",
     "exception": false,
     "start_time": "2023-02-23T07:35:23.853659",
     "status": "completed"
    },
    "tags": []
   },
   "outputs": [],
   "source": [
    "def adjust_gamma(image, gamma=1.0):\n",
    "    # build a lookup table mapping the pixel values [0, 255] to their adjusted gamma values\n",
    "    invGamma = 1.0 / gamma\n",
    "    table = np.array([((i / 255.0) ** invGamma) * 255 for i in np.arange(0, 256)], dtype=\"uint8\")\n",
    "\n",
    "    # split the image into its three color channels (R, G, B)\n",
    "    R, G, B = cv2.split(image)\n",
    "    \n",
    "    # apply gamma correction to each color channel\n",
    "    corrected_R = cv2.LUT(R, table)\n",
    "    corrected_G = cv2.LUT(G, table)\n",
    "    corrected_B = cv2.LUT(B, table)\n",
    "    \n",
    "    # merge the corrected color channels back into a single image\n",
    "    corrected_image = cv2.merge((corrected_R, corrected_G, corrected_B))\n",
    "    \n",
    "    return corrected_image\n",
    "\n",
    "def apply_clahe(img, clip_limit=2.0, tile_grid_size=(8,8)):\n",
    "    clahe = cv2.createCLAHE(clipLimit=clip_limit, tileGridSize=tile_grid_size)\n",
    "    \n",
    "    # split the image into its three color channels (R, G, B)\n",
    "    R, G, B = cv2.split(img)\n",
    "    \n",
    "    # apply CLAHE to each color channel\n",
    "    cl1_R = clahe.apply(R)\n",
    "    cl1_G = clahe.apply(G)\n",
    "    cl1_B = clahe.apply(B)\n",
    "    \n",
    "    # merge the corrected color channels back into a single image\n",
    "    cl1 = cv2.merge((cl1_R, cl1_G, cl1_B))\n",
    "    \n",
    "    return cl1\n",
    "\n",
    "cancer_folder = \"/kaggle/working/train_images/cancer/\"\n",
    "healthy_folder = \"/kaggle/working/train_images/healthy/\"\n",
    "\n",
    "def process_images(folder_path):\n",
    "    for filename in os.listdir(folder_path):\n",
    "        print(os.path.join(folder_path, filename))\n",
    "        if filename.endswith(\".jpg\") or filename.endswith(\".jpeg\") or filename.endswith(\".png\"):\n",
    "            image = cv2.imread(os.path.join(folder_path, filename))\n",
    "            image = cv2.cvtColor(image, cv2.COLOR_BGR2RGB) # convert from BGR to RGB\n",
    "            image = adjust_gamma(image)\n",
    "            image = apply_clahe(image)\n",
    "            image = apply_clahe(image)\n",
    "            cv2.imwrite(os.path.join(folder_path, filename), cv2.cvtColor(image, cv2.COLOR_RGB2BGR))"
   ]
  },
  {
   "cell_type": "code",
   "execution_count": 27,
   "id": "3c504506",
   "metadata": {
    "execution": {
     "iopub.execute_input": "2023-02-23T07:35:23.986489Z",
     "iopub.status.busy": "2023-02-23T07:35:23.985357Z",
     "iopub.status.idle": "2023-02-23T07:35:26.254850Z",
     "shell.execute_reply": "2023-02-23T07:35:26.253240Z"
    },
    "papermill": {
     "duration": 2.311379,
     "end_time": "2023-02-23T07:35:26.257556",
     "exception": false,
     "start_time": "2023-02-23T07:35:23.946177",
     "status": "completed"
    },
    "tags": []
   },
   "outputs": [
    {
     "name": "stdout",
     "output_type": "stream",
     "text": [
      "/kaggle/working/train_images/cancer/2989_406764921.png\n",
      "/kaggle/working/train_images/cancer/36034_311083578.png\n",
      "/kaggle/working/train_images/cancer/32057_1045902748.png\n",
      "/kaggle/working/train_images/cancer/60410_401151862.png\n",
      "/kaggle/working/train_images/cancer/45441_809904326.png\n",
      "/kaggle/working/train_images/cancer/54930_1314799188.png\n",
      "/kaggle/working/train_images/cancer/63053_358240402.png\n",
      "/kaggle/working/train_images/cancer/9029_1906118149.png\n",
      "/kaggle/working/train_images/cancer/49927_1464062737.png\n",
      "/kaggle/working/train_images/cancer/45666_1447050904.png\n",
      "/kaggle/working/train_images/cancer/11937_457443056.png\n",
      "/kaggle/working/train_images/cancer/18709_1774858262.png\n",
      "/kaggle/working/train_images/cancer/12258_1429876928.png\n",
      "/kaggle/working/train_images/cancer/46309_1515316856.png\n",
      "/kaggle/working/train_images/cancer/22860_2025091558.png\n",
      "/kaggle/working/train_images/cancer/40163_744975647.png\n",
      "/kaggle/working/train_images/cancer/29986_535786162.png\n",
      "/kaggle/working/train_images/cancer/11094_1086977375.png\n",
      "/kaggle/working/train_images/cancer/41359_1030582639.png\n",
      "/kaggle/working/train_images/cancer/20251_401181500.png\n",
      "/kaggle/working/train_images/cancer/31581_802662148.png\n",
      "/kaggle/working/train_images/cancer/30836_281143250.png\n",
      "/kaggle/working/train_images/cancer/16955_846765464.png\n",
      "/kaggle/working/train_images/cancer/28057_72206775.png\n",
      "/kaggle/working/train_images/cancer/31582_240230808.png\n",
      "/kaggle/working/train_images/cancer/55879_1472857392.png\n",
      "/kaggle/working/train_images/cancer/3542_14104315.png\n",
      "/kaggle/working/train_images/cancer/37213_221096123.png\n",
      "/kaggle/working/train_images/cancer/58195_631926753.png\n",
      "/kaggle/working/train_images/cancer/64385_1032681733.png\n",
      "/kaggle/working/train_images/cancer/41359_1666009039.png\n",
      "/kaggle/working/train_images/cancer/9559_1174804734.png\n",
      "/kaggle/working/train_images/cancer/49927_582859757.png\n",
      "/kaggle/working/train_images/cancer/17894_446858992.png\n",
      "/kaggle/working/train_images/cancer/2938_247535701.png\n",
      "/kaggle/working/train_images/cancer/45441_1448526292.png\n",
      "/kaggle/working/train_images/cancer/39280_1802895010.png\n",
      "/kaggle/working/train_images/cancer/41359_1802579446.png\n",
      "/kaggle/working/train_images/cancer/47794_2142591939.png\n",
      "/kaggle/working/train_images/cancer/3346_1158116146.png\n",
      "/kaggle/working/train_images/cancer/12258_740439778.png\n",
      "/kaggle/working/train_images/cancer/25323_361875956.png\n",
      "/kaggle/working/train_images/cancer/38727_1338411990.png\n",
      "/kaggle/working/train_images/cancer/1878_189362032.png\n",
      "/kaggle/working/train_images/cancer/58398_1193106564.png\n",
      "/kaggle/working/train_images/cancer/15078_1167308429.png\n",
      "/kaggle/working/train_images/cancer/13331_1187678911.png\n",
      "/kaggle/working/train_images/cancer/37213_238138823.png\n",
      "/kaggle/working/train_images/cancer/37213_268400743.png\n",
      "/kaggle/working/train_images/cancer/50078_474211829.png\n",
      "/kaggle/working/train_images/cancer/59347_2040824439.png\n",
      "/kaggle/working/train_images/cancer/31107_1535897244.png\n",
      "/kaggle/working/train_images/cancer/2989_1897884654.png\n",
      "/kaggle/working/train_images/cancer/6659_886621098.png\n",
      "/kaggle/working/train_images/cancer/35864_230364486.png\n",
      "/kaggle/working/train_images/cancer/13116_238763713.png\n",
      "/kaggle/working/train_images/cancer/32057_147064371.png\n",
      "/kaggle/working/train_images/cancer/39280_743851181.png\n",
      "/kaggle/working/train_images/cancer/39723_808707837.png\n",
      "/kaggle/working/train_images/cancer/51609_494727154.png\n",
      "/kaggle/working/train_images/cancer/30435_1261298563.png\n",
      "/kaggle/working/train_images/cancer/21445_1790818978.png\n",
      "/kaggle/working/train_images/cancer/37724_1125393084.png\n",
      "/kaggle/working/train_images/cancer/5608_908319767.png\n",
      "/kaggle/working/train_images/cancer/57229_1874344878.png\n",
      "/kaggle/working/train_images/cancer/28747_650006359.png\n",
      "/kaggle/working/train_images/cancer/39280_1448042992.png\n",
      "/kaggle/working/train_images/cancer/5235_811649706.png\n",
      "/kaggle/working/train_images/cancer/30836_1177448351.png\n",
      "/kaggle/working/train_images/cancer/64908_1880660195.png\n",
      "/kaggle/working/train_images/cancer/20009_863999353.png\n",
      "/kaggle/working/train_images/cancer/13116_739383742.png\n",
      "/kaggle/working/train_images/cancer/24643_333469112.png\n",
      "/kaggle/working/train_images/cancer/25523_690750133.png\n",
      "/kaggle/working/train_images/cancer/39747_508899078.png\n",
      "/kaggle/working/train_images/cancer/53636_660579794.png\n",
      "/kaggle/working/train_images/cancer/24916_378623093.png\n",
      "/kaggle/working/train_images/cancer/11094_1882170663.png\n",
      "/kaggle/working/train_images/cancer/39747_620707174.png\n",
      "/kaggle/working/train_images/cancer/59322_1392394047.png\n",
      "/kaggle/working/train_images/cancer/65244_766694861.png\n",
      "/kaggle/working/train_images/cancer/28344_1940528865.png\n",
      "/kaggle/working/train_images/cancer/44709_650076091.png\n",
      "/kaggle/working/train_images/cancer/37724_491348809.png\n",
      "/kaggle/working/train_images/cancer/31745_1453551983.png\n",
      "/kaggle/working/train_images/cancer/4083_1022886281.png\n",
      "/kaggle/working/train_images/cancer/47794_1291644410.png\n",
      "/kaggle/working/train_images/cancer/65077_713409726.png\n",
      "/kaggle/working/train_images/cancer/44709_1700493110.png\n",
      "/kaggle/working/train_images/cancer/5444_29665687.png\n",
      "/kaggle/working/train_images/cancer/8631_1803973088.png\n",
      "/kaggle/working/train_images/cancer/39702_1888808064.png\n",
      "/kaggle/working/train_images/cancer/39723_2055158152.png\n",
      "/kaggle/working/train_images/cancer/10130_1672636630.png\n",
      "/kaggle/working/train_images/cancer/22616_2115811863.png\n",
      "/kaggle/working/train_images/cancer/35864_1350237568.png\n",
      "/kaggle/working/train_images/cancer/47280_1577937072.png\n",
      "/kaggle/working/train_images/cancer/4953_146985323.png\n",
      "/kaggle/working/train_images/cancer/41610_866373686.png\n",
      "/kaggle/working/train_images/cancer/64908_1922052710.png\n",
      "/kaggle/working/train_images/cancer/54463_385806898.png\n",
      "/kaggle/working/train_images/cancer/17535_967529354.png\n",
      "/kaggle/working/train_images/cancer/25423_1605876492.png\n",
      "/kaggle/working/train_images/cancer/58398_823353216.png\n",
      "/kaggle/working/train_images/cancer/26862_192415761.png\n",
      "/kaggle/working/train_images/cancer/34962_1766220026.png\n",
      "/kaggle/working/train_images/cancer/30435_63956271.png\n",
      "/kaggle/working/train_images/cancer/44709_714148567.png\n",
      "/kaggle/working/train_images/cancer/44709_428249938.png\n",
      "/kaggle/working/train_images/cancer/63226_1084546948.png\n",
      "/kaggle/working/train_images/cancer/10130_613462606.png\n",
      "/kaggle/working/train_images/cancer/12153_1652537920.png\n",
      "/kaggle/working/train_images/cancer/4917_1773963138.png\n",
      "/kaggle/working/train_images/cancer/3542_1071984233.png\n",
      "/kaggle/working/train_images/cancer/30435_137928966.png\n",
      "/kaggle/working/train_images/cancer/4083_546424063.png\n",
      "/kaggle/working/train_images/cancer/25323_1743461841.png\n",
      "/kaggle/working/train_images/cancer/1963_2090715578.png\n",
      "/kaggle/working/train_images/cancer/53636_1322837831.png\n",
      "/kaggle/working/train_images/cancer/51609_280430685.png\n",
      "/kaggle/working/train_images/cancer/16955_1179164048.png\n",
      "/kaggle/working/train_images/cancer/19486_886797800.png\n",
      "/kaggle/working/train_images/cancer/31581_601361926.png\n",
      "/kaggle/working/train_images/cancer/40163_428403131.png\n",
      "/kaggle/working/train_images/cancer/43004_2054900584.png\n",
      "/kaggle/working/train_images/cancer/31582_435931040.png\n",
      "/kaggle/working/train_images/cancer/24947_145170954.png\n",
      "/kaggle/working/train_images/cancer/7780_512684699.png\n",
      "/kaggle/working/train_images/cancer/5608_1085496456.png\n",
      "/kaggle/working/train_images/cancer/3542_593840512.png\n",
      "/kaggle/working/train_images/cancer/24947_1564214908.png\n",
      "/kaggle/working/train_images/cancer/25323_106495931.png\n",
      "/kaggle/working/train_images/cancer/47382_208877180.png\n",
      "/kaggle/working/train_images/cancer/28634_1562558660.png\n",
      "/kaggle/working/train_images/cancer/59347_664756059.png\n",
      "/kaggle/working/train_images/cancer/20009_936994890.png\n",
      "/kaggle/working/train_images/cancer/22860_1938449367.png\n",
      "/kaggle/working/train_images/cancer/39401_253372914.png\n",
      "/kaggle/working/train_images/cancer/31745_1974157960.png\n",
      "/kaggle/working/train_images/cancer/56328_2019751492.png\n",
      "/kaggle/working/train_images/cancer/57229_783906176.png\n",
      "/kaggle/working/train_images/cancer/20251_914071190.png\n",
      "/kaggle/working/train_images/cancer/24643_748841369.png\n",
      "/kaggle/working/train_images/cancer/29986_1496079995.png\n",
      "/kaggle/working/train_images/cancer/31750_1253104075.png\n",
      "/kaggle/working/train_images/cancer/1025_773597682.png\n",
      "/kaggle/working/train_images/cancer/1878_1609298443.png\n",
      "/kaggle/working/train_images/cancer/31581_472422304.png\n",
      "/kaggle/working/train_images/cancer/64018_259642159.png\n",
      "/kaggle/working/train_images/cancer/38727_1568613395.png\n",
      "/kaggle/working/train_images/cancer/13756_1210098281.png\n",
      "/kaggle/working/train_images/cancer/8631_280870762.png\n",
      "/kaggle/working/train_images/cancer/38537_1325952776.png\n",
      "/kaggle/working/train_images/cancer/26862_295341643.png\n",
      "/kaggle/working/train_images/cancer/49520_1226438258.png\n",
      "/kaggle/working/train_images/cancer/39611_122457445.png\n",
      "/kaggle/working/train_images/cancer/37931_1597761099.png\n",
      "/kaggle/working/train_images/cancer/10130_1360338805.png\n",
      "/kaggle/working/train_images/cancer/4917_947417149.png\n",
      "/kaggle/working/train_images/cancer/21957_1481189865.png\n",
      "/kaggle/working/train_images/cancer/44676_1346493294.png\n",
      "/kaggle/working/train_images/cancer/57229_1863446.png\n",
      "/kaggle/working/train_images/cancer/34962_4612225.png\n",
      "/kaggle/working/train_images/cancer/62608_1692390127.png\n",
      "/kaggle/working/train_images/cancer/37931_1892232224.png\n",
      "/kaggle/working/train_images/cancer/18026_2091972299.png\n",
      "/kaggle/working/train_images/cancer/63053_1922119353.png\n",
      "/kaggle/working/train_images/cancer/65077_545603591.png\n",
      "/kaggle/working/train_images/cancer/14706_180902452.png\n",
      "/kaggle/working/train_images/cancer/21957_1415477144.png\n",
      "/kaggle/working/train_images/cancer/3346_1063196710.png\n",
      "/kaggle/working/train_images/cancer/17894_75408744.png\n",
      "/kaggle/working/train_images/cancer/13116_234842188.png\n",
      "/kaggle/working/train_images/cancer/43004_2086414198.png\n",
      "/kaggle/working/train_images/cancer/39702_399564828.png\n",
      "/kaggle/working/train_images/cancer/18026_927775324.png\n",
      "/kaggle/working/train_images/cancer/10130_388811999.png\n",
      "/kaggle/working/train_images/cancer/60629_306442803.png\n",
      "/kaggle/working/train_images/cancer/28747_2075658562.png\n",
      "/kaggle/working/train_images/cancer/62608_344315857.png\n",
      "/kaggle/working/train_images/cancer/39747_934952606.png\n",
      "/kaggle/working/train_images/cancer/31745_953022973.png\n",
      "/kaggle/working/train_images/cancer/15078_1719011144.png\n",
      "/kaggle/working/train_images/cancer/37836_1632383378.png\n",
      "/kaggle/working/train_images/cancer/28747_1026238054.png\n",
      "/kaggle/working/train_images/cancer/62608_630693798.png\n",
      "/kaggle/working/train_images/cancer/13331_1360800566.png\n",
      "/kaggle/working/train_images/cancer/37931_1225495210.png\n",
      "/kaggle/working/train_images/cancer/45666_952276083.png\n",
      "/kaggle/working/train_images/cancer/63226_593509035.png\n",
      "/kaggle/working/train_images/cancer/6853_572494260.png\n",
      "/kaggle/working/train_images/cancer/13331_1949261883.png\n",
      "/kaggle/working/train_images/cancer/4953_1788011383.png\n",
      "/kaggle/working/train_images/cancer/28057_1534271742.png\n",
      "/kaggle/working/train_images/cancer/25432_2058514481.png\n",
      "/kaggle/working/train_images/cancer/30836_714251521.png\n",
      "/kaggle/working/train_images/cancer/59347_931918335.png\n",
      "/kaggle/working/train_images/cancer/3626_1942920371.png\n",
      "/kaggle/working/train_images/cancer/1109_1869230850.png\n",
      "/kaggle/working/train_images/cancer/21880_2124340393.png\n",
      "/kaggle/working/train_images/healthy/18536_1570353235.png\n",
      "/kaggle/working/train_images/healthy/43390_1882643034.png\n",
      "/kaggle/working/train_images/healthy/31938_1067526726.png\n",
      "/kaggle/working/train_images/healthy/36077_114679437.png\n",
      "/kaggle/working/train_images/healthy/9438_1164465305.png\n",
      "/kaggle/working/train_images/healthy/38134_407736558.png\n",
      "/kaggle/working/train_images/healthy/45127_875837307.png\n",
      "/kaggle/working/train_images/healthy/59347_567515963.png\n",
      "/kaggle/working/train_images/healthy/18263_595310253.png\n",
      "/kaggle/working/train_images/healthy/64745_417861938.png\n",
      "/kaggle/working/train_images/healthy/21431_83297018.png\n",
      "/kaggle/working/train_images/healthy/34955_123204948.png\n",
      "/kaggle/working/train_images/healthy/3312_2131971824.png\n",
      "/kaggle/working/train_images/healthy/55385_270456096.png\n",
      "/kaggle/working/train_images/healthy/63981_368414859.png\n",
      "/kaggle/working/train_images/healthy/23435_106534316.png\n",
      "/kaggle/working/train_images/healthy/47118_1020344053.png\n",
      "/kaggle/working/train_images/healthy/49637_1017758579.png\n",
      "/kaggle/working/train_images/healthy/27201_818016715.png\n",
      "/kaggle/working/train_images/healthy/13556_1630119498.png\n",
      "/kaggle/working/train_images/healthy/41904_930073808.png\n",
      "/kaggle/working/train_images/healthy/19854_1387283114.png\n",
      "/kaggle/working/train_images/healthy/50343_1133203119.png\n",
      "/kaggle/working/train_images/healthy/45876_1074340743.png\n",
      "/kaggle/working/train_images/healthy/13611_610267361.png\n",
      "/kaggle/working/train_images/healthy/8742_573916770.png\n",
      "/kaggle/working/train_images/healthy/24677_1361979511.png\n",
      "/kaggle/working/train_images/healthy/38760_710155519.png\n",
      "/kaggle/working/train_images/healthy/49211_171194015.png\n",
      "/kaggle/working/train_images/healthy/49387_218694265.png\n",
      "/kaggle/working/train_images/healthy/13511_42353101.png\n",
      "/kaggle/working/train_images/healthy/37193_1701183607.png\n",
      "/kaggle/working/train_images/healthy/32146_432194946.png\n",
      "/kaggle/working/train_images/healthy/28028_391040684.png\n",
      "/kaggle/working/train_images/healthy/35520_649355836.png\n",
      "/kaggle/working/train_images/healthy/21619_1867906724.png\n",
      "/kaggle/working/train_images/healthy/22637_1993684471.png\n",
      "/kaggle/working/train_images/healthy/46985_1237729050.png\n",
      "/kaggle/working/train_images/healthy/22376_1008151376.png\n",
      "/kaggle/working/train_images/healthy/15494_158076016.png\n",
      "/kaggle/working/train_images/healthy/37851_111131894.png\n",
      "/kaggle/working/train_images/healthy/31623_236967335.png\n",
      "/kaggle/working/train_images/healthy/18227_2033192024.png\n",
      "/kaggle/working/train_images/healthy/20057_1169715524.png\n",
      "/kaggle/working/train_images/healthy/14956_2073830886.png\n",
      "/kaggle/working/train_images/healthy/34962_173668186.png\n",
      "/kaggle/working/train_images/healthy/37369_912465902.png\n",
      "/kaggle/working/train_images/healthy/55603_170927858.png\n",
      "/kaggle/working/train_images/healthy/56304_330423727.png\n",
      "/kaggle/working/train_images/healthy/61829_1311435861.png\n",
      "/kaggle/working/train_images/healthy/7251_2113117638.png\n",
      "/kaggle/working/train_images/healthy/282_1488169873.png\n",
      "/kaggle/working/train_images/healthy/31837_1892798419.png\n",
      "/kaggle/working/train_images/healthy/8997_1120696703.png\n",
      "/kaggle/working/train_images/healthy/58432_1616729063.png\n",
      "/kaggle/working/train_images/healthy/5471_1720127639.png\n",
      "/kaggle/working/train_images/healthy/40619_862012427.png\n",
      "/kaggle/working/train_images/healthy/36034_2096016351.png\n",
      "/kaggle/working/train_images/healthy/46455_1472824422.png\n",
      "/kaggle/working/train_images/healthy/6947_1107530106.png\n",
      "/kaggle/working/train_images/healthy/29432_1642617990.png\n",
      "/kaggle/working/train_images/healthy/24863_572392983.png\n",
      "/kaggle/working/train_images/healthy/33016_558141307.png\n",
      "/kaggle/working/train_images/healthy/53438_69695329.png\n",
      "/kaggle/working/train_images/healthy/58512_1330291432.png\n",
      "/kaggle/working/train_images/healthy/61464_462514906.png\n",
      "/kaggle/working/train_images/healthy/2003_1464197046.png\n",
      "/kaggle/working/train_images/healthy/40819_36244284.png\n",
      "/kaggle/working/train_images/healthy/30317_463935658.png\n",
      "/kaggle/working/train_images/healthy/3161_1827359831.png\n",
      "/kaggle/working/train_images/healthy/64309_989427775.png\n",
      "/kaggle/working/train_images/healthy/62926_200669454.png\n",
      "/kaggle/working/train_images/healthy/32704_486886713.png\n",
      "/kaggle/working/train_images/healthy/20352_1911284962.png\n",
      "/kaggle/working/train_images/healthy/41147_877992031.png\n",
      "/kaggle/working/train_images/healthy/55876_594044671.png\n",
      "/kaggle/working/train_images/healthy/1704_465457789.png\n",
      "/kaggle/working/train_images/healthy/53530_1061654364.png\n",
      "/kaggle/working/train_images/healthy/40937_506285155.png\n",
      "/kaggle/working/train_images/healthy/529_558768089.png\n",
      "/kaggle/working/train_images/healthy/38785_2084767663.png\n",
      "/kaggle/working/train_images/healthy/38669_1311542895.png\n",
      "/kaggle/working/train_images/healthy/18630_1603167882.png\n",
      "/kaggle/working/train_images/healthy/39098_1652293852.png\n",
      "/kaggle/working/train_images/healthy/38690_1610042678.png\n",
      "/kaggle/working/train_images/healthy/26531_1221496210.png\n",
      "/kaggle/working/train_images/healthy/60306_1533016026.png\n",
      "/kaggle/working/train_images/healthy/44351_358586616.png\n",
      "/kaggle/working/train_images/healthy/4216_544538977.png\n",
      "/kaggle/working/train_images/healthy/62520_1340916959.png\n",
      "/kaggle/working/train_images/healthy/20346_2022571586.png\n",
      "/kaggle/working/train_images/healthy/6953_2096323136.png\n",
      "/kaggle/working/train_images/healthy/58653_1075527893.png\n",
      "/kaggle/working/train_images/healthy/22131_1451679574.png\n",
      "/kaggle/working/train_images/healthy/24193_1956206531.png\n",
      "/kaggle/working/train_images/healthy/65346_452923886.png\n",
      "/kaggle/working/train_images/healthy/28960_1311746521.png\n",
      "/kaggle/working/train_images/healthy/7591_1199136621.png\n",
      "/kaggle/working/train_images/healthy/767_297722689.png\n",
      "/kaggle/working/train_images/healthy/48309_1131168002.png\n"
     ]
    }
   ],
   "source": [
    "process_images(cancer_folder)\n",
    "process_images(healthy_folder)"
   ]
  },
  {
   "cell_type": "code",
   "execution_count": 28,
   "id": "b55948ae",
   "metadata": {
    "execution": {
     "iopub.execute_input": "2023-02-23T07:35:26.338187Z",
     "iopub.status.busy": "2023-02-23T07:35:26.337780Z",
     "iopub.status.idle": "2023-02-23T07:35:26.345793Z",
     "shell.execute_reply": "2023-02-23T07:35:26.344322Z"
    },
    "papermill": {
     "duration": 0.051187,
     "end_time": "2023-02-23T07:35:26.348070",
     "exception": false,
     "start_time": "2023-02-23T07:35:26.296883",
     "status": "completed"
    },
    "tags": []
   },
   "outputs": [
    {
     "name": "stdout",
     "output_type": "stream",
     "text": [
      "Number of images in cancer folder: 200\n",
      "Number of images in healthy folder: 100\n"
     ]
    }
   ],
   "source": [
    "folder_path = \"/kaggle/working/train_images/cancer\"\n",
    "image_count = count_images(folder_path)\n",
    "print(\"Number of images in cancer folder:\", image_count)\n",
    "\n",
    "\n",
    "folder_path = \"/kaggle/working/train_images/healthy\"\n",
    "image_count = count_images(folder_path)\n",
    "print(\"Number of images in healthy folder:\", image_count)"
   ]
  },
  {
   "cell_type": "markdown",
   "id": "292276d4",
   "metadata": {
    "papermill": {
     "duration": 0.04002,
     "end_time": "2023-02-23T07:35:26.427854",
     "exception": false,
     "start_time": "2023-02-23T07:35:26.387834",
     "status": "completed"
    },
    "tags": []
   },
   "source": [
    "# Baseline CNN Model"
   ]
  },
  {
   "cell_type": "code",
   "execution_count": 29,
   "id": "5efd5e21",
   "metadata": {
    "execution": {
     "iopub.execute_input": "2023-02-23T07:35:26.510798Z",
     "iopub.status.busy": "2023-02-23T07:35:26.509468Z",
     "iopub.status.idle": "2023-02-23T07:35:31.907927Z",
     "shell.execute_reply": "2023-02-23T07:35:31.906619Z"
    },
    "papermill": {
     "duration": 5.443002,
     "end_time": "2023-02-23T07:35:31.911093",
     "exception": false,
     "start_time": "2023-02-23T07:35:26.468091",
     "status": "completed"
    },
    "tags": []
   },
   "outputs": [],
   "source": [
    "import tensorflow as tf\n",
    "tf.config.threading.set_inter_op_parallelism_threads(4)"
   ]
  },
  {
   "cell_type": "markdown",
   "id": "f2dd51c8",
   "metadata": {
    "papermill": {
     "duration": 0.038465,
     "end_time": "2023-02-23T07:35:31.988366",
     "exception": false,
     "start_time": "2023-02-23T07:35:31.949901",
     "status": "completed"
    },
    "tags": []
   },
   "source": [
    "## Augment the data"
   ]
  },
  {
   "cell_type": "code",
   "execution_count": 30,
   "id": "49d53c17",
   "metadata": {
    "execution": {
     "iopub.execute_input": "2023-02-23T07:35:32.068291Z",
     "iopub.status.busy": "2023-02-23T07:35:32.067084Z",
     "iopub.status.idle": "2023-02-23T07:35:33.452759Z",
     "shell.execute_reply": "2023-02-23T07:35:33.451122Z"
    },
    "papermill": {
     "duration": 1.428279,
     "end_time": "2023-02-23T07:35:33.455372",
     "exception": false,
     "start_time": "2023-02-23T07:35:32.027093",
     "status": "completed"
    },
    "tags": []
   },
   "outputs": [
    {
     "name": "stdout",
     "output_type": "stream",
     "text": [
      "Found 300 images belonging to 2 classes.\n"
     ]
    }
   ],
   "source": [
    "from tensorflow.keras.preprocessing.image import ImageDataGenerator\n",
    "from skimage.transform import rotate\n",
    "from sklearn.metrics import roc_auc_score\n",
    "\n",
    "# set the seed\n",
    "tf.random.set_seed(42)\n",
    "\n",
    "# set path to data directory\n",
    "train_dir='/kaggle/working/train_images'\n",
    "\n",
    "train_data = ImageDataGenerator(\n",
    "                                # set data augmentation parameters\n",
    "#                                 preprocessing_function=custom_augmentation,\n",
    "                                rescale=1./255,\n",
    "                                rotation_range=45,\n",
    "                                width_shift_range=0.2,\n",
    "                                height_shift_range=0.2,\n",
    "                                shear_range=0.2,\n",
    "                                zoom_range=0.2,\n",
    "                                horizontal_flip=True,\n",
    "                                fill_mode='nearest'\n",
    ").flow_from_directory(\n",
    "                      directory=train_dir,\n",
    "                      batch_size=16,\n",
    "                      target_size=(256,256),\n",
    "                      color_mode='rgb',\n",
    "                      class_mode='binary',\n",
    "                      seed=42\n",
    "                    )"
   ]
  },
  {
   "cell_type": "markdown",
   "id": "f89f9826",
   "metadata": {
    "papermill": {
     "duration": 0.038463,
     "end_time": "2023-02-23T07:35:33.532452",
     "exception": false,
     "start_time": "2023-02-23T07:35:33.493989",
     "status": "completed"
    },
    "tags": []
   },
   "source": [
    "## Run the CNN Model"
   ]
  },
  {
   "cell_type": "code",
   "execution_count": 31,
   "id": "ca8723e2",
   "metadata": {
    "execution": {
     "iopub.execute_input": "2023-02-23T07:35:33.613347Z",
     "iopub.status.busy": "2023-02-23T07:35:33.612914Z",
     "iopub.status.idle": "2023-02-23T07:35:42.529278Z",
     "shell.execute_reply": "2023-02-23T07:35:42.528105Z"
    },
    "papermill": {
     "duration": 8.959823,
     "end_time": "2023-02-23T07:35:42.532143",
     "exception": false,
     "start_time": "2023-02-23T07:35:33.572320",
     "status": "completed"
    },
    "tags": []
   },
   "outputs": [
    {
     "name": "stdout",
     "output_type": "stream",
     "text": [
      "Epoch 1/20\n",
      "1/1 [==============================] - 2s 2s/step - loss: 0.6874 - accuracy: 0.5625 - val_loss: 0.6362 - val_accuracy: 0.6875\n",
      "Epoch 2/20\n",
      "1/1 [==============================] - 0s 319ms/step - loss: 0.6006 - accuracy: 0.7500 - val_loss: 0.6362 - val_accuracy: 0.6875\n",
      "Epoch 3/20\n",
      "1/1 [==============================] - 0s 309ms/step - loss: 0.5119 - accuracy: 0.8750 - val_loss: 0.7091 - val_accuracy: 0.4375\n",
      "Epoch 4/20\n",
      "1/1 [==============================] - 0s 300ms/step - loss: 0.4240 - accuracy: 0.8125 - val_loss: 0.8270 - val_accuracy: 0.4375\n",
      "Epoch 5/20\n",
      "1/1 [==============================] - 0s 301ms/step - loss: 0.3470 - accuracy: 0.8125 - val_loss: 0.9198 - val_accuracy: 0.4375\n",
      "Epoch 6/20\n",
      "1/1 [==============================] - 0s 300ms/step - loss: 0.2779 - accuracy: 0.8750 - val_loss: 0.9988 - val_accuracy: 0.4375\n",
      "Epoch 7/20\n",
      "1/1 [==============================] - 0s 302ms/step - loss: 0.2183 - accuracy: 0.8750 - val_loss: 1.0957 - val_accuracy: 0.5000\n",
      "Epoch 8/20\n",
      "1/1 [==============================] - 0s 304ms/step - loss: 0.1631 - accuracy: 0.9375 - val_loss: 1.2025 - val_accuracy: 0.6250\n",
      "Epoch 9/20\n",
      "1/1 [==============================] - 0s 307ms/step - loss: 0.1108 - accuracy: 1.0000 - val_loss: 1.2788 - val_accuracy: 0.6250\n",
      "Epoch 10/20\n",
      "1/1 [==============================] - 0s 299ms/step - loss: 0.0665 - accuracy: 1.0000 - val_loss: 1.3328 - val_accuracy: 0.6250\n",
      "Epoch 11/20\n",
      "1/1 [==============================] - 0s 302ms/step - loss: 0.0349 - accuracy: 1.0000 - val_loss: 1.4241 - val_accuracy: 0.6250\n",
      "Epoch 12/20\n",
      "1/1 [==============================] - 0s 297ms/step - loss: 0.0164 - accuracy: 1.0000 - val_loss: 1.5553 - val_accuracy: 0.6250\n",
      "Epoch 13/20\n",
      "1/1 [==============================] - 0s 306ms/step - loss: 0.0073 - accuracy: 1.0000 - val_loss: 1.7041 - val_accuracy: 0.6250\n",
      "Epoch 14/20\n",
      "1/1 [==============================] - 0s 298ms/step - loss: 0.0034 - accuracy: 1.0000 - val_loss: 1.8567 - val_accuracy: 0.6250\n",
      "Epoch 15/20\n",
      "1/1 [==============================] - 0s 299ms/step - loss: 0.0018 - accuracy: 1.0000 - val_loss: 2.0060 - val_accuracy: 0.5625\n",
      "Epoch 16/20\n",
      "1/1 [==============================] - 0s 295ms/step - loss: 0.0011 - accuracy: 1.0000 - val_loss: 2.1486 - val_accuracy: 0.5625\n",
      "Epoch 17/20\n",
      "1/1 [==============================] - 0s 301ms/step - loss: 7.4779e-04 - accuracy: 1.0000 - val_loss: 2.2820 - val_accuracy: 0.5625\n",
      "Epoch 18/20\n",
      "1/1 [==============================] - 0s 300ms/step - loss: 5.5949e-04 - accuracy: 1.0000 - val_loss: 2.4044 - val_accuracy: 0.5625\n",
      "Epoch 19/20\n",
      "1/1 [==============================] - 0s 299ms/step - loss: 4.2773e-04 - accuracy: 1.0000 - val_loss: 2.5162 - val_accuracy: 0.6250\n",
      "Epoch 20/20\n",
      "1/1 [==============================] - 0s 313ms/step - loss: 3.2456e-04 - accuracy: 1.0000 - val_loss: 2.6183 - val_accuracy: 0.6250\n",
      "1/1 [==============================] - 0s 80ms/step - loss: 2.6183 - accuracy: 0.6250\n",
      "Validation Loss: 2.6183114051818848\n",
      "Validation Accuracy: 0.625\n",
      "AUC Score: 0.5833333333333334\n"
     ]
    }
   ],
   "source": [
    "# 1. Basic Model\n",
    "model_1 = tf.keras.models.Sequential([\n",
    "  tf.keras.layers.Reshape((256, 256, 3), input_shape=(256, 256, 3)),\n",
    "  tf.keras.layers.Conv2D(filters=10, \n",
    "                         kernel_size=3, \n",
    "                         activation=\"relu\"), \n",
    "  tf.keras.layers.Conv2D(10, 3, activation=\"relu\"),\n",
    "  tf.keras.layers.MaxPool2D(pool_size=2), \n",
    "  tf.keras.layers.Conv2D(10, 3, activation=\"relu\"),\n",
    "  tf.keras.layers.Conv2D(10, 3, activation=\"relu\"), \n",
    "  tf.keras.layers.MaxPool2D(2),\n",
    "  tf.keras.layers.Flatten(),\n",
    "  tf.keras.layers.Dense(1, activation=\"sigmoid\") \n",
    "])\n",
    "\n",
    "# Compile the model\n",
    "model_1.compile(loss=\"binary_crossentropy\",\n",
    "              optimizer=tf.keras.optimizers.Adam(),\n",
    "              metrics=[\"accuracy\"])\n",
    "\n",
    "# split the data into training and validation sets\n",
    "val_split = 0.2\n",
    "x_data, y_data = [], []\n",
    "for x, y in train_data:\n",
    "    x_data.append(x)\n",
    "    y_data.append(y)\n",
    "    if len(x_data) >= (1 - val_split) / train_data.batch_size:\n",
    "        break\n",
    "x_train = np.concatenate(x_data)\n",
    "y_train = np.concatenate(y_data)\n",
    "x_val = next(train_data)[0]\n",
    "y_val = next(train_data)[1]\n",
    "\n",
    "# fit the model using the training data\n",
    "history_1 = model_1.fit(x_train, y_train,\n",
    "                        epochs=20,\n",
    "                        validation_data=(x_val, y_val))\n",
    "\n",
    "# evaluate the model on the validation data\n",
    "val_loss, val_acc = model_1.evaluate(x_val, y_val)\n",
    "print(\"Validation Loss:\", val_loss)\n",
    "print(\"Validation Accuracy:\", val_acc)\n",
    "\n",
    "# calculate AUC score\n",
    "y_pred = model_1.predict(x_val)\n",
    "auc = roc_auc_score(y_val, y_pred)\n",
    "print(\"AUC Score:\", auc)"
   ]
  },
  {
   "cell_type": "markdown",
   "id": "c5892c89",
   "metadata": {
    "papermill": {
     "duration": 0.042251,
     "end_time": "2023-02-23T07:35:42.619355",
     "exception": false,
     "start_time": "2023-02-23T07:35:42.577104",
     "status": "completed"
    },
    "tags": []
   },
   "source": [
    "# Inception-v3 Model"
   ]
  },
  {
   "cell_type": "code",
   "execution_count": 32,
   "id": "c04a0def",
   "metadata": {
    "execution": {
     "iopub.execute_input": "2023-02-23T07:35:42.706616Z",
     "iopub.status.busy": "2023-02-23T07:35:42.706187Z",
     "iopub.status.idle": "2023-02-23T07:37:47.978292Z",
     "shell.execute_reply": "2023-02-23T07:37:47.977374Z"
    },
    "papermill": {
     "duration": 125.365229,
     "end_time": "2023-02-23T07:37:48.027354",
     "exception": false,
     "start_time": "2023-02-23T07:35:42.662125",
     "status": "completed"
    },
    "tags": []
   },
   "outputs": [
    {
     "name": "stdout",
     "output_type": "stream",
     "text": [
      "Downloading data from https://storage.googleapis.com/tensorflow/keras-applications/inception_v3/inception_v3_weights_tf_dim_ordering_tf_kernels_notop.h5\n",
      "87916544/87910968 [==============================] - 1s 0us/step\n",
      "87924736/87910968 [==============================] - 1s 0us/step\n",
      "Epoch 1/20\n",
      "1/1 [==============================] - 16s 16s/step - loss: 0.7722 - accuracy: 0.3750 - val_loss: 0.6146 - val_accuracy: 0.6875\n",
      "Epoch 2/20\n",
      "1/1 [==============================] - 5s 5s/step - loss: 0.6941 - accuracy: 0.6250 - val_loss: 0.6168 - val_accuracy: 0.6875\n",
      "Epoch 3/20\n",
      "1/1 [==============================] - 5s 5s/step - loss: 0.6568 - accuracy: 0.6875 - val_loss: 0.6189 - val_accuracy: 0.6875\n",
      "Epoch 4/20\n",
      "1/1 [==============================] - 5s 5s/step - loss: 0.6368 - accuracy: 0.5625 - val_loss: 0.6209 - val_accuracy: 0.6875\n",
      "Epoch 5/20\n",
      "1/1 [==============================] - 5s 5s/step - loss: 0.5697 - accuracy: 0.8125 - val_loss: 0.6232 - val_accuracy: 0.6875\n",
      "Epoch 6/20\n",
      "1/1 [==============================] - 5s 5s/step - loss: 0.6580 - accuracy: 0.6875 - val_loss: 0.6249 - val_accuracy: 0.6875\n",
      "Epoch 7/20\n",
      "1/1 [==============================] - 5s 5s/step - loss: 0.6139 - accuracy: 0.6875 - val_loss: 0.6259 - val_accuracy: 0.6875\n",
      "Epoch 8/20\n",
      "1/1 [==============================] - 5s 5s/step - loss: 0.7102 - accuracy: 0.5625 - val_loss: 0.6266 - val_accuracy: 0.6875\n",
      "Epoch 9/20\n",
      "1/1 [==============================] - 5s 5s/step - loss: 0.6308 - accuracy: 0.6875 - val_loss: 0.6274 - val_accuracy: 0.6250\n",
      "Epoch 10/20\n",
      "1/1 [==============================] - 5s 5s/step - loss: 0.5638 - accuracy: 0.8125 - val_loss: 0.6279 - val_accuracy: 0.6250\n",
      "Epoch 11/20\n",
      "1/1 [==============================] - 5s 5s/step - loss: 0.5697 - accuracy: 0.7500 - val_loss: 0.6285 - val_accuracy: 0.6250\n",
      "Epoch 12/20\n",
      "1/1 [==============================] - 6s 6s/step - loss: 0.5960 - accuracy: 0.6875 - val_loss: 0.6291 - val_accuracy: 0.6250\n",
      "Epoch 13/20\n",
      "1/1 [==============================] - 5s 5s/step - loss: 0.6335 - accuracy: 0.6875 - val_loss: 0.6288 - val_accuracy: 0.6250\n",
      "Epoch 14/20\n",
      "1/1 [==============================] - 5s 5s/step - loss: 0.7169 - accuracy: 0.4375 - val_loss: 0.6284 - val_accuracy: 0.6250\n",
      "Epoch 15/20\n",
      "1/1 [==============================] - 5s 5s/step - loss: 0.6480 - accuracy: 0.6875 - val_loss: 0.6282 - val_accuracy: 0.6250\n",
      "Epoch 16/20\n",
      "1/1 [==============================] - 5s 5s/step - loss: 0.5856 - accuracy: 0.7500 - val_loss: 0.6280 - val_accuracy: 0.6250\n",
      "Epoch 17/20\n",
      "1/1 [==============================] - 5s 5s/step - loss: 0.6184 - accuracy: 0.7500 - val_loss: 0.6276 - val_accuracy: 0.6250\n",
      "Epoch 18/20\n",
      "1/1 [==============================] - 6s 6s/step - loss: 0.5662 - accuracy: 0.7500 - val_loss: 0.6276 - val_accuracy: 0.6250\n",
      "Epoch 19/20\n",
      "1/1 [==============================] - 5s 5s/step - loss: 0.5552 - accuracy: 0.6875 - val_loss: 0.6272 - val_accuracy: 0.6250\n",
      "Epoch 20/20\n",
      "1/1 [==============================] - 5s 5s/step - loss: 0.6057 - accuracy: 0.6875 - val_loss: 0.6268 - val_accuracy: 0.6875\n",
      "1/1 [==============================] - 3s 3s/step - loss: 0.6146 - accuracy: 0.6875\n",
      "Validation Loss: 0.614649772644043\n",
      "Validation Accuracy: 0.6875\n",
      "AUC Score: 0.6875000000000001\n"
     ]
    }
   ],
   "source": [
    "from tensorflow.keras.applications import InceptionV3\n",
    "from tensorflow.keras.layers import Dense, GlobalAveragePooling2D, Dropout\n",
    "from tensorflow.keras.models import Model\n",
    "from tensorflow.keras.optimizers import Adam\n",
    "from tensorflow.keras.callbacks import ModelCheckpoint, LearningRateScheduler\n",
    "from tensorflow.keras.preprocessing.image import ImageDataGenerator\n",
    "import math\n",
    "\n",
    "# Load the Inception-v3 model\n",
    "base_model = InceptionV3(weights='imagenet', include_top=False, input_shape=(256, 256, 3))\n",
    "\n",
    "# Freeze all layers of the Inception-v3 model\n",
    "for i, layer in enumerate(base_model.layers):\n",
    "    if i >= 10:  # change this number to select the layer index to start unfreezing from\n",
    "        layer.trainable = True\n",
    "\n",
    "# Create a new sequential model\n",
    "model = tf.keras.models.Sequential()\n",
    "\n",
    "# Add the pre-trained Inception-v3 model to the new sequential model\n",
    "model.add(base_model)\n",
    "\n",
    "# Add a new GlobalAveragePooling2D layer to the new sequential model\n",
    "model.add(GlobalAveragePooling2D())\n",
    "\n",
    "# Add a new dense layer with 2048 neurons and ReLU activation to the new sequential model\n",
    "model.add(Dense(2048, activation='relu'))\n",
    "\n",
    "# Add a dropout layer with a rate of 0.5\n",
    "model.add(Dropout(0.5))\n",
    "\n",
    "# Add a new dense layer with 1 neuron and sigmoid activation to the new sequential model\n",
    "model.add(Dense(1, activation='sigmoid'))\n",
    "\n",
    "# Compile the model\n",
    "model.compile(loss=\"binary_crossentropy\", optimizer=tf.keras.optimizers.Adagrad(), metrics=[\"accuracy\"])\n",
    "\n",
    "# Model checkpoint\n",
    "checkpoint = ModelCheckpoint('model.h5', save_best_only=True)\n",
    "\n",
    "# Learning rate schedule\n",
    "def lr_schedule(epoch):\n",
    "    lr = 0.0001\n",
    "    if epoch > 5:\n",
    "        lr *= 0.1\n",
    "    return lr\n",
    "\n",
    "lr_scheduler = LearningRateScheduler(lr_schedule)\n",
    "\n",
    "# Fit the model using the training data\n",
    "history = model.fit(x_train, y_train,\n",
    "                    epochs=20,\n",
    "                    validation_data=(x_val, y_val),\n",
    "                    callbacks=[checkpoint, lr_scheduler])\n",
    "\n",
    "# # Load the best model\n",
    "model = tf.keras.models.load_model('model.h5')\n",
    "\n",
    "# Evaluate the model on the validation data\n",
    "val_loss, val_acc = model.evaluate(x_val, y_val)\n",
    "print(\"Validation Loss:\", val_loss)\n",
    "print(\"Validation Accuracy:\", val_acc)\n",
    "\n",
    "# Calculate the AUC score\n",
    "y_pred = model.predict(x_val)\n",
    "auc = roc_auc_score(y_val, y_pred)\n",
    "print(\"AUC Score:\", auc)\n"
   ]
  },
  {
   "cell_type": "code",
   "execution_count": 33,
   "id": "e5c59088",
   "metadata": {
    "execution": {
     "iopub.execute_input": "2023-02-23T07:37:48.124038Z",
     "iopub.status.busy": "2023-02-23T07:37:48.123270Z",
     "iopub.status.idle": "2023-02-23T07:37:48.875793Z",
     "shell.execute_reply": "2023-02-23T07:37:48.874666Z"
    },
    "papermill": {
     "duration": 0.804377,
     "end_time": "2023-02-23T07:37:48.878778",
     "exception": false,
     "start_time": "2023-02-23T07:37:48.074401",
     "status": "completed"
    },
    "tags": []
   },
   "outputs": [],
   "source": [
    "# Save the model\n",
    "model.save('my_model.h5')"
   ]
  },
  {
   "cell_type": "code",
   "execution_count": 34,
   "id": "ae24f34d",
   "metadata": {
    "execution": {
     "iopub.execute_input": "2023-02-23T07:37:48.975628Z",
     "iopub.status.busy": "2023-02-23T07:37:48.975218Z",
     "iopub.status.idle": "2023-02-23T07:37:48.996746Z",
     "shell.execute_reply": "2023-02-23T07:37:48.995812Z"
    },
    "papermill": {
     "duration": 0.072529,
     "end_time": "2023-02-23T07:37:48.999004",
     "exception": false,
     "start_time": "2023-02-23T07:37:48.926475",
     "status": "completed"
    },
    "tags": []
   },
   "outputs": [
    {
     "data": {
      "text/html": [
       "<div>\n",
       "<style scoped>\n",
       "    .dataframe tbody tr th:only-of-type {\n",
       "        vertical-align: middle;\n",
       "    }\n",
       "\n",
       "    .dataframe tbody tr th {\n",
       "        vertical-align: top;\n",
       "    }\n",
       "\n",
       "    .dataframe thead th {\n",
       "        text-align: right;\n",
       "    }\n",
       "</style>\n",
       "<table border=\"1\" class=\"dataframe\">\n",
       "  <thead>\n",
       "    <tr style=\"text-align: right;\">\n",
       "      <th></th>\n",
       "      <th>site_id</th>\n",
       "      <th>patient_id</th>\n",
       "      <th>image_id</th>\n",
       "      <th>laterality</th>\n",
       "      <th>view</th>\n",
       "      <th>age</th>\n",
       "      <th>implant</th>\n",
       "      <th>machine_id</th>\n",
       "      <th>prediction_id</th>\n",
       "    </tr>\n",
       "  </thead>\n",
       "  <tbody>\n",
       "    <tr>\n",
       "      <th>0</th>\n",
       "      <td>2</td>\n",
       "      <td>10008</td>\n",
       "      <td>736471439</td>\n",
       "      <td>L</td>\n",
       "      <td>MLO</td>\n",
       "      <td>81</td>\n",
       "      <td>0</td>\n",
       "      <td>21</td>\n",
       "      <td>10008_L</td>\n",
       "    </tr>\n",
       "    <tr>\n",
       "      <th>1</th>\n",
       "      <td>2</td>\n",
       "      <td>10008</td>\n",
       "      <td>1591370361</td>\n",
       "      <td>L</td>\n",
       "      <td>CC</td>\n",
       "      <td>81</td>\n",
       "      <td>0</td>\n",
       "      <td>21</td>\n",
       "      <td>10008_L</td>\n",
       "    </tr>\n",
       "    <tr>\n",
       "      <th>2</th>\n",
       "      <td>2</td>\n",
       "      <td>10008</td>\n",
       "      <td>68070693</td>\n",
       "      <td>R</td>\n",
       "      <td>MLO</td>\n",
       "      <td>81</td>\n",
       "      <td>0</td>\n",
       "      <td>21</td>\n",
       "      <td>10008_R</td>\n",
       "    </tr>\n",
       "    <tr>\n",
       "      <th>3</th>\n",
       "      <td>2</td>\n",
       "      <td>10008</td>\n",
       "      <td>361203119</td>\n",
       "      <td>R</td>\n",
       "      <td>CC</td>\n",
       "      <td>81</td>\n",
       "      <td>0</td>\n",
       "      <td>21</td>\n",
       "      <td>10008_R</td>\n",
       "    </tr>\n",
       "  </tbody>\n",
       "</table>\n",
       "</div>"
      ],
      "text/plain": [
       "   site_id  patient_id    image_id laterality view  age  implant  machine_id  \\\n",
       "0        2       10008   736471439          L  MLO   81        0          21   \n",
       "1        2       10008  1591370361          L   CC   81        0          21   \n",
       "2        2       10008    68070693          R  MLO   81        0          21   \n",
       "3        2       10008   361203119          R   CC   81        0          21   \n",
       "\n",
       "  prediction_id  \n",
       "0       10008_L  \n",
       "1       10008_L  \n",
       "2       10008_R  \n",
       "3       10008_R  "
      ]
     },
     "execution_count": 34,
     "metadata": {},
     "output_type": "execute_result"
    }
   ],
   "source": [
    "test=pd.read_csv('/kaggle/input/rsna-breast-cancer-detection/test.csv')\n",
    "test"
   ]
  },
  {
   "cell_type": "code",
   "execution_count": 35,
   "id": "5053bbbf",
   "metadata": {
    "execution": {
     "iopub.execute_input": "2023-02-23T07:37:49.097262Z",
     "iopub.status.busy": "2023-02-23T07:37:49.096507Z",
     "iopub.status.idle": "2023-02-23T07:37:49.110478Z",
     "shell.execute_reply": "2023-02-23T07:37:49.109698Z"
    },
    "papermill": {
     "duration": 0.065541,
     "end_time": "2023-02-23T07:37:49.112568",
     "exception": false,
     "start_time": "2023-02-23T07:37:49.047027",
     "status": "completed"
    },
    "tags": []
   },
   "outputs": [
    {
     "data": {
      "text/html": [
       "<div>\n",
       "<style scoped>\n",
       "    .dataframe tbody tr th:only-of-type {\n",
       "        vertical-align: middle;\n",
       "    }\n",
       "\n",
       "    .dataframe tbody tr th {\n",
       "        vertical-align: top;\n",
       "    }\n",
       "\n",
       "    .dataframe thead th {\n",
       "        text-align: right;\n",
       "    }\n",
       "</style>\n",
       "<table border=\"1\" class=\"dataframe\">\n",
       "  <thead>\n",
       "    <tr style=\"text-align: right;\">\n",
       "      <th></th>\n",
       "      <th>prediction_id</th>\n",
       "      <th>cancer</th>\n",
       "    </tr>\n",
       "  </thead>\n",
       "  <tbody>\n",
       "    <tr>\n",
       "      <th>0</th>\n",
       "      <td>10008_L</td>\n",
       "      <td>0.021168</td>\n",
       "    </tr>\n",
       "    <tr>\n",
       "      <th>1</th>\n",
       "      <td>10008_R</td>\n",
       "      <td>0.021168</td>\n",
       "    </tr>\n",
       "  </tbody>\n",
       "</table>\n",
       "</div>"
      ],
      "text/plain": [
       "  prediction_id    cancer\n",
       "0       10008_L  0.021168\n",
       "1       10008_R  0.021168"
      ]
     },
     "execution_count": 35,
     "metadata": {},
     "output_type": "execute_result"
    }
   ],
   "source": [
    "sample=pd.read_csv('/kaggle/input/rsna-breast-cancer-detection/sample_submission.csv')\n",
    "sample"
   ]
  },
  {
   "cell_type": "code",
   "execution_count": 36,
   "id": "9305365c",
   "metadata": {
    "execution": {
     "iopub.execute_input": "2023-02-23T07:37:49.210741Z",
     "iopub.status.busy": "2023-02-23T07:37:49.209985Z",
     "iopub.status.idle": "2023-02-23T07:38:26.592177Z",
     "shell.execute_reply": "2023-02-23T07:38:26.591269Z"
    },
    "papermill": {
     "duration": 37.482625,
     "end_time": "2023-02-23T07:38:26.643414",
     "exception": false,
     "start_time": "2023-02-23T07:37:49.160789",
     "status": "completed"
    },
    "tags": []
   },
   "outputs": [
    {
     "name": "stdout",
     "output_type": "stream",
     "text": [
      "     image_id    cancer\n",
      "0   736471439  0.457605\n",
      "1   361203119  0.459586\n",
      "2    68070693  0.454876\n",
      "3  1591370361  0.462576\n"
     ]
    }
   ],
   "source": [
    "import pydicom\n",
    "import numpy as np\n",
    "import tensorflow as tf\n",
    "from tensorflow.keras.preprocessing.image import ImageDataGenerator\n",
    "\n",
    "# Load the saved model\n",
    "model = tf.keras.models.load_model('my_model.h5')\n",
    "\n",
    "# Define the test data generator\n",
    "test_datagen = ImageDataGenerator(rescale=1./255)\n",
    "\n",
    "# Load the test images\n",
    "image_path = '/kaggle/input/rsna-breast-cancer-detection/test_images/10008'\n",
    "image_files = os.listdir(image_path)\n",
    "\n",
    "images = []\n",
    "for file in image_files:\n",
    "    dcm = pydicom.read_file(os.path.join(image_path, file))\n",
    "    img = dcm.pixel_array.astype(float)\n",
    "    img -= np.min(img)\n",
    "    img /= np.max(img)\n",
    "    img = np.stack((img,)*3, axis=-1)  # Convert grayscale to RGB\n",
    "    images.append(img)\n",
    "\n",
    "images = np.array(images)\n",
    "\n",
    "# Preprocess the test data using the test data generator\n",
    "test_data = test_datagen.flow(images, batch_size=1, shuffle=False)\n",
    "\n",
    "# Make predictions on the test data\n",
    "predictions = model.predict(test_data)\n",
    "\n",
    "image_ids = [file.replace('.dcm', '') for file in image_files]\n",
    "df = pd.DataFrame({'image_id': image_ids, 'cancer': predictions.reshape(-1)})\n",
    "\n",
    "print(df)"
   ]
  },
  {
   "cell_type": "code",
   "execution_count": 37,
   "id": "0b585cbf",
   "metadata": {
    "execution": {
     "iopub.execute_input": "2023-02-23T07:38:26.741973Z",
     "iopub.status.busy": "2023-02-23T07:38:26.741134Z",
     "iopub.status.idle": "2023-02-23T07:38:26.756312Z",
     "shell.execute_reply": "2023-02-23T07:38:26.755032Z"
    },
    "papermill": {
     "duration": 0.067085,
     "end_time": "2023-02-23T07:38:26.758929",
     "exception": false,
     "start_time": "2023-02-23T07:38:26.691844",
     "status": "completed"
    },
    "tags": []
   },
   "outputs": [],
   "source": [
    "# Convert image_id column to string in both dataframes\n",
    "test['image_id'] = test['image_id'].astype(str)\n",
    "df['image_id'] = df['image_id'].astype(str)\n",
    "\n",
    "# Merge the dataframes on image_id\n",
    "merged_df = pd.merge(test, df, on='image_id')\n"
   ]
  },
  {
   "cell_type": "code",
   "execution_count": 38,
   "id": "5680c845",
   "metadata": {
    "execution": {
     "iopub.execute_input": "2023-02-23T07:38:26.858211Z",
     "iopub.status.busy": "2023-02-23T07:38:26.857785Z",
     "iopub.status.idle": "2023-02-23T07:38:26.870108Z",
     "shell.execute_reply": "2023-02-23T07:38:26.869002Z"
    },
    "papermill": {
     "duration": 0.064352,
     "end_time": "2023-02-23T07:38:26.872355",
     "exception": false,
     "start_time": "2023-02-23T07:38:26.808003",
     "status": "completed"
    },
    "tags": []
   },
   "outputs": [
    {
     "data": {
      "text/html": [
       "<div>\n",
       "<style scoped>\n",
       "    .dataframe tbody tr th:only-of-type {\n",
       "        vertical-align: middle;\n",
       "    }\n",
       "\n",
       "    .dataframe tbody tr th {\n",
       "        vertical-align: top;\n",
       "    }\n",
       "\n",
       "    .dataframe thead th {\n",
       "        text-align: right;\n",
       "    }\n",
       "</style>\n",
       "<table border=\"1\" class=\"dataframe\">\n",
       "  <thead>\n",
       "    <tr style=\"text-align: right;\">\n",
       "      <th></th>\n",
       "      <th>prediction_id</th>\n",
       "      <th>cancer</th>\n",
       "    </tr>\n",
       "  </thead>\n",
       "  <tbody>\n",
       "    <tr>\n",
       "      <th>0</th>\n",
       "      <td>10008_L</td>\n",
       "      <td>0.457605</td>\n",
       "    </tr>\n",
       "    <tr>\n",
       "      <th>1</th>\n",
       "      <td>10008_L</td>\n",
       "      <td>0.462576</td>\n",
       "    </tr>\n",
       "    <tr>\n",
       "      <th>2</th>\n",
       "      <td>10008_R</td>\n",
       "      <td>0.454876</td>\n",
       "    </tr>\n",
       "    <tr>\n",
       "      <th>3</th>\n",
       "      <td>10008_R</td>\n",
       "      <td>0.459586</td>\n",
       "    </tr>\n",
       "  </tbody>\n",
       "</table>\n",
       "</div>"
      ],
      "text/plain": [
       "  prediction_id    cancer\n",
       "0       10008_L  0.457605\n",
       "1       10008_L  0.462576\n",
       "2       10008_R  0.454876\n",
       "3       10008_R  0.459586"
      ]
     },
     "execution_count": 38,
     "metadata": {},
     "output_type": "execute_result"
    }
   ],
   "source": [
    "merged_df=merged_df[['prediction_id', 'cancer']]\n",
    "merged_df"
   ]
  },
  {
   "cell_type": "code",
   "execution_count": 39,
   "id": "ca5a3334",
   "metadata": {
    "execution": {
     "iopub.execute_input": "2023-02-23T07:38:26.971019Z",
     "iopub.status.busy": "2023-02-23T07:38:26.970327Z",
     "iopub.status.idle": "2023-02-23T07:38:26.982028Z",
     "shell.execute_reply": "2023-02-23T07:38:26.980878Z"
    },
    "papermill": {
     "duration": 0.063829,
     "end_time": "2023-02-23T07:38:26.984262",
     "exception": false,
     "start_time": "2023-02-23T07:38:26.920433",
     "status": "completed"
    },
    "tags": []
   },
   "outputs": [
    {
     "data": {
      "text/html": [
       "<div>\n",
       "<style scoped>\n",
       "    .dataframe tbody tr th:only-of-type {\n",
       "        vertical-align: middle;\n",
       "    }\n",
       "\n",
       "    .dataframe tbody tr th {\n",
       "        vertical-align: top;\n",
       "    }\n",
       "\n",
       "    .dataframe thead th {\n",
       "        text-align: right;\n",
       "    }\n",
       "</style>\n",
       "<table border=\"1\" class=\"dataframe\">\n",
       "  <thead>\n",
       "    <tr style=\"text-align: right;\">\n",
       "      <th></th>\n",
       "      <th>prediction_id</th>\n",
       "      <th>cancer</th>\n",
       "    </tr>\n",
       "  </thead>\n",
       "  <tbody>\n",
       "    <tr>\n",
       "      <th>1</th>\n",
       "      <td>10008_L</td>\n",
       "      <td>0.462576</td>\n",
       "    </tr>\n",
       "    <tr>\n",
       "      <th>3</th>\n",
       "      <td>10008_R</td>\n",
       "      <td>0.459586</td>\n",
       "    </tr>\n",
       "    <tr>\n",
       "      <th>0</th>\n",
       "      <td>10008_L</td>\n",
       "      <td>0.457605</td>\n",
       "    </tr>\n",
       "    <tr>\n",
       "      <th>2</th>\n",
       "      <td>10008_R</td>\n",
       "      <td>0.454876</td>\n",
       "    </tr>\n",
       "  </tbody>\n",
       "</table>\n",
       "</div>"
      ],
      "text/plain": [
       "  prediction_id    cancer\n",
       "1       10008_L  0.462576\n",
       "3       10008_R  0.459586\n",
       "0       10008_L  0.457605\n",
       "2       10008_R  0.454876"
      ]
     },
     "execution_count": 39,
     "metadata": {},
     "output_type": "execute_result"
    }
   ],
   "source": [
    "merged_df=merged_df.sort_values(by='cancer', ascending=False, axis=0)\n",
    "merged_df"
   ]
  },
  {
   "cell_type": "code",
   "execution_count": 40,
   "id": "ac1b6f37",
   "metadata": {
    "execution": {
     "iopub.execute_input": "2023-02-23T07:38:27.081629Z",
     "iopub.status.busy": "2023-02-23T07:38:27.081237Z",
     "iopub.status.idle": "2023-02-23T07:38:27.095445Z",
     "shell.execute_reply": "2023-02-23T07:38:27.093929Z"
    },
    "papermill": {
     "duration": 0.065944,
     "end_time": "2023-02-23T07:38:27.098210",
     "exception": false,
     "start_time": "2023-02-23T07:38:27.032266",
     "status": "completed"
    },
    "tags": []
   },
   "outputs": [],
   "source": [
    "submission = merged_df.groupby('prediction_id')['cancer'].max()\n",
    "submission = pd.DataFrame(submission).reset_index()\n",
    "submission.to_csv('/kaggle/working/submission.csv', index=False)"
   ]
  },
  {
   "cell_type": "code",
   "execution_count": null,
   "id": "c1a11763",
   "metadata": {
    "papermill": {
     "duration": 0.048493,
     "end_time": "2023-02-23T07:38:27.196653",
     "exception": false,
     "start_time": "2023-02-23T07:38:27.148160",
     "status": "completed"
    },
    "tags": []
   },
   "outputs": [],
   "source": []
  }
 ],
 "metadata": {
  "kernelspec": {
   "display_name": "Python 3",
   "language": "python",
   "name": "python3"
  },
  "language_info": {
   "codemirror_mode": {
    "name": "ipython",
    "version": 3
   },
   "file_extension": ".py",
   "mimetype": "text/x-python",
   "name": "python",
   "nbconvert_exporter": "python",
   "pygments_lexer": "ipython3",
   "version": "3.7.12"
  },
  "papermill": {
   "default_parameters": {},
   "duration": 393.001203,
   "end_time": "2023-02-23T07:38:30.964603",
   "environment_variables": {},
   "exception": null,
   "input_path": "__notebook__.ipynb",
   "output_path": "__notebook__.ipynb",
   "parameters": {},
   "start_time": "2023-02-23T07:31:57.963400",
   "version": "2.3.4"
  }
 },
 "nbformat": 4,
 "nbformat_minor": 5
}
