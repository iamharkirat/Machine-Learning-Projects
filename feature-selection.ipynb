{
 "cells": [
  {
   "cell_type": "code",
   "execution_count": 1,
   "id": "56c0aa04",
   "metadata": {
    "_cell_guid": "b1076dfc-b9ad-4769-8c92-a6c4dae69d19",
    "_uuid": "8f2839f25d086af736a60e9eeb907d3b93b6e0e5",
    "execution": {
     "iopub.execute_input": "2023-03-15T03:44:13.315507Z",
     "iopub.status.busy": "2023-03-15T03:44:13.315028Z",
     "iopub.status.idle": "2023-03-15T03:44:14.726518Z",
     "shell.execute_reply": "2023-03-15T03:44:14.725103Z"
    },
    "papermill": {
     "duration": 1.432171,
     "end_time": "2023-03-15T03:44:14.730356",
     "exception": false,
     "start_time": "2023-03-15T03:44:13.298185",
     "status": "completed"
    },
    "tags": []
   },
   "outputs": [],
   "source": [
    "import pandas as pd\n",
    "import numpy as np\n",
    "import matplotlib.pyplot as plt\n",
    "import seaborn as sns\n",
    "\n",
    "from pylab import rcParams\n",
    "rcParams['figure.figsize']=20,8\n",
    "plt.style.use('ggplot')\n",
    "\n",
    "# Ignore harmless warnings\n",
    "import warnings\n",
    "warnings.filterwarnings(\"ignore\")"
   ]
  },
  {
   "cell_type": "code",
   "execution_count": 2,
   "id": "1cee86c5",
   "metadata": {
    "execution": {
     "iopub.execute_input": "2023-03-15T03:44:14.760161Z",
     "iopub.status.busy": "2023-03-15T03:44:14.759119Z",
     "iopub.status.idle": "2023-03-15T03:44:16.884074Z",
     "shell.execute_reply": "2023-03-15T03:44:16.883032Z"
    },
    "papermill": {
     "duration": 2.143223,
     "end_time": "2023-03-15T03:44:16.887284",
     "exception": false,
     "start_time": "2023-03-15T03:44:14.744061",
     "status": "completed"
    },
    "tags": []
   },
   "outputs": [],
   "source": [
    "X_train = pd.read_csv('/kaggle/input/santander-customer-satisfaction/train.csv', nrows=35000)\n",
    "X_test = pd.read_csv('/kaggle/input/santander-customer-satisfaction/test.csv', nrows=15000)"
   ]
  },
  {
   "cell_type": "code",
   "execution_count": 3,
   "id": "f6962534",
   "metadata": {
    "execution": {
     "iopub.execute_input": "2023-03-15T03:44:16.916507Z",
     "iopub.status.busy": "2023-03-15T03:44:16.915634Z",
     "iopub.status.idle": "2023-03-15T03:44:16.986867Z",
     "shell.execute_reply": "2023-03-15T03:44:16.985454Z"
    },
    "papermill": {
     "duration": 0.089148,
     "end_time": "2023-03-15T03:44:16.989688",
     "exception": false,
     "start_time": "2023-03-15T03:44:16.900540",
     "status": "completed"
    },
    "tags": []
   },
   "outputs": [],
   "source": [
    "# drop TARGET label from X_train\n",
    "X_train.drop(labels=['TARGET'], axis=1, inplace = True)"
   ]
  },
  {
   "cell_type": "code",
   "execution_count": 4,
   "id": "edddaccc",
   "metadata": {
    "execution": {
     "iopub.execute_input": "2023-03-15T03:44:17.020723Z",
     "iopub.status.busy": "2023-03-15T03:44:17.019385Z",
     "iopub.status.idle": "2023-03-15T03:44:17.028130Z",
     "shell.execute_reply": "2023-03-15T03:44:17.026887Z"
    },
    "papermill": {
     "duration": 0.02672,
     "end_time": "2023-03-15T03:44:17.030932",
     "exception": false,
     "start_time": "2023-03-15T03:44:17.004212",
     "status": "completed"
    },
    "tags": []
   },
   "outputs": [
    {
     "data": {
      "text/plain": [
       "((35000, 370), (15000, 370))"
      ]
     },
     "execution_count": 4,
     "metadata": {},
     "output_type": "execute_result"
    }
   ],
   "source": [
    "# check shape of training and test sets\n",
    "X_train.shape, X_test.shape"
   ]
  },
  {
   "cell_type": "markdown",
   "id": "247c2f8b",
   "metadata": {
    "papermill": {
     "duration": 0.012465,
     "end_time": "2023-03-15T03:44:17.056245",
     "exception": false,
     "start_time": "2023-03-15T03:44:17.043780",
     "status": "completed"
    },
    "tags": []
   },
   "source": [
    "# Filter Methods"
   ]
  },
  {
   "cell_type": "markdown",
   "id": "a6075dfd",
   "metadata": {
    "papermill": {
     "duration": 0.012396,
     "end_time": "2023-03-15T03:44:17.081441",
     "exception": false,
     "start_time": "2023-03-15T03:44:17.069045",
     "status": "completed"
    },
    "tags": []
   },
   "source": [
    "## Variance Threshold"
   ]
  },
  {
   "cell_type": "code",
   "execution_count": 5,
   "id": "4d654380",
   "metadata": {
    "execution": {
     "iopub.execute_input": "2023-03-15T03:44:17.108876Z",
     "iopub.status.busy": "2023-03-15T03:44:17.108417Z",
     "iopub.status.idle": "2023-03-15T03:44:17.931649Z",
     "shell.execute_reply": "2023-03-15T03:44:17.929951Z"
    },
    "papermill": {
     "duration": 0.840407,
     "end_time": "2023-03-15T03:44:17.934599",
     "exception": false,
     "start_time": "2023-03-15T03:44:17.094192",
     "status": "completed"
    },
    "tags": []
   },
   "outputs": [
    {
     "data": {
      "text/plain": [
       "VarianceThreshold(threshold=0)"
      ]
     },
     "execution_count": 5,
     "metadata": {},
     "output_type": "execute_result"
    }
   ],
   "source": [
    "from sklearn.feature_selection import VarianceThreshold\n",
    "sel = VarianceThreshold(threshold=0)\n",
    "sel.fit(X_train)"
   ]
  },
  {
   "cell_type": "code",
   "execution_count": 6,
   "id": "147ff78e",
   "metadata": {
    "execution": {
     "iopub.execute_input": "2023-03-15T03:44:17.964291Z",
     "iopub.status.busy": "2023-03-15T03:44:17.962812Z",
     "iopub.status.idle": "2023-03-15T03:44:18.010884Z",
     "shell.execute_reply": "2023-03-15T03:44:18.008732Z"
    },
    "papermill": {
     "duration": 0.06634,
     "end_time": "2023-03-15T03:44:18.014464",
     "exception": false,
     "start_time": "2023-03-15T03:44:17.948124",
     "status": "completed"
    },
    "tags": []
   },
   "outputs": [
    {
     "name": "stdout",
     "output_type": "stream",
     "text": [
      "51\n"
     ]
    },
    {
     "data": {
      "text/plain": [
       "['ind_var2_0',\n",
       " 'ind_var2',\n",
       " 'ind_var18_0',\n",
       " 'ind_var18',\n",
       " 'ind_var27_0',\n",
       " 'ind_var28_0',\n",
       " 'ind_var28',\n",
       " 'ind_var27',\n",
       " 'ind_var34_0',\n",
       " 'ind_var34',\n",
       " 'ind_var41',\n",
       " 'ind_var46_0',\n",
       " 'ind_var46',\n",
       " 'num_var18_0',\n",
       " 'num_var18',\n",
       " 'num_var27_0',\n",
       " 'num_var28_0',\n",
       " 'num_var28',\n",
       " 'num_var27',\n",
       " 'num_var34_0',\n",
       " 'num_var34',\n",
       " 'num_var41',\n",
       " 'num_var46_0',\n",
       " 'num_var46',\n",
       " 'saldo_var18',\n",
       " 'saldo_var28',\n",
       " 'saldo_var27',\n",
       " 'saldo_var34',\n",
       " 'saldo_var41',\n",
       " 'saldo_var46',\n",
       " 'delta_imp_amort_var18_1y3',\n",
       " 'delta_imp_amort_var34_1y3',\n",
       " 'imp_amort_var18_hace3',\n",
       " 'imp_amort_var18_ult1',\n",
       " 'imp_amort_var34_hace3',\n",
       " 'imp_amort_var34_ult1',\n",
       " 'imp_reemb_var13_hace3',\n",
       " 'imp_reemb_var17_hace3',\n",
       " 'imp_reemb_var33_hace3',\n",
       " 'imp_trasp_var17_out_hace3',\n",
       " 'imp_trasp_var33_out_hace3',\n",
       " 'num_var2_0_ult1',\n",
       " 'num_var2_ult1',\n",
       " 'num_reemb_var13_hace3',\n",
       " 'num_reemb_var17_hace3',\n",
       " 'num_reemb_var33_hace3',\n",
       " 'num_trasp_var17_out_hace3',\n",
       " 'num_trasp_var33_out_hace3',\n",
       " 'saldo_var2_ult1',\n",
       " 'saldo_medio_var13_medio_hace3',\n",
       " 'saldo_medio_var29_hace3']"
      ]
     },
     "execution_count": 6,
     "metadata": {},
     "output_type": "execute_result"
    }
   ],
   "source": [
    "print(\n",
    "    len([\n",
    "        x for x in X_train.columns\n",
    "        if x not in X_train.columns[sel.get_support()]\n",
    "    ]))\n",
    "\n",
    "\n",
    "[x for x in X_train.columns if x not in X_train.columns[sel.get_support()]]"
   ]
  },
  {
   "cell_type": "code",
   "execution_count": 7,
   "id": "89c14c44",
   "metadata": {
    "execution": {
     "iopub.execute_input": "2023-03-15T03:44:18.045800Z",
     "iopub.status.busy": "2023-03-15T03:44:18.045343Z",
     "iopub.status.idle": "2023-03-15T03:44:18.153881Z",
     "shell.execute_reply": "2023-03-15T03:44:18.152487Z"
    },
    "papermill": {
     "duration": 0.128557,
     "end_time": "2023-03-15T03:44:18.157216",
     "exception": false,
     "start_time": "2023-03-15T03:44:18.028659",
     "status": "completed"
    },
    "tags": []
   },
   "outputs": [],
   "source": [
    "# we can then drop these columns from the train and test sets\n",
    "X_train = sel.transform(X_train)\n",
    "X_test = sel.transform(X_test)"
   ]
  },
  {
   "cell_type": "code",
   "execution_count": 8,
   "id": "605d3ce7",
   "metadata": {
    "execution": {
     "iopub.execute_input": "2023-03-15T03:44:18.186581Z",
     "iopub.status.busy": "2023-03-15T03:44:18.186182Z",
     "iopub.status.idle": "2023-03-15T03:44:18.194702Z",
     "shell.execute_reply": "2023-03-15T03:44:18.193425Z"
    },
    "papermill": {
     "duration": 0.027181,
     "end_time": "2023-03-15T03:44:18.198159",
     "exception": false,
     "start_time": "2023-03-15T03:44:18.170978",
     "status": "completed"
    },
    "tags": []
   },
   "outputs": [
    {
     "data": {
      "text/plain": [
       "((35000, 319), (15000, 319))"
      ]
     },
     "execution_count": 8,
     "metadata": {},
     "output_type": "execute_result"
    }
   ],
   "source": [
    "# check the shape of training and test set\n",
    "X_train.shape, X_test.shape"
   ]
  },
  {
   "cell_type": "markdown",
   "id": "a5795c6e",
   "metadata": {
    "papermill": {
     "duration": 0.013435,
     "end_time": "2023-03-15T03:44:18.225755",
     "exception": false,
     "start_time": "2023-03-15T03:44:18.212320",
     "status": "completed"
    },
    "tags": []
   },
   "source": [
    "### Removing quasi-constant features"
   ]
  },
  {
   "cell_type": "code",
   "execution_count": 9,
   "id": "e527bd0d",
   "metadata": {
    "execution": {
     "iopub.execute_input": "2023-03-15T03:44:18.257026Z",
     "iopub.status.busy": "2023-03-15T03:44:18.255922Z",
     "iopub.status.idle": "2023-03-15T03:44:19.825657Z",
     "shell.execute_reply": "2023-03-15T03:44:19.823923Z"
    },
    "papermill": {
     "duration": 1.58948,
     "end_time": "2023-03-15T03:44:19.829184",
     "exception": false,
     "start_time": "2023-03-15T03:44:18.239704",
     "status": "completed"
    },
    "tags": []
   },
   "outputs": [
    {
     "data": {
      "text/plain": [
       "((35000, 370), (15000, 370))"
      ]
     },
     "execution_count": 9,
     "metadata": {},
     "output_type": "execute_result"
    }
   ],
   "source": [
    "X_train = pd.read_csv('/kaggle/input/santander-customer-satisfaction/train.csv', nrows=35000)\n",
    "X_test = pd.read_csv('/kaggle/input/santander-customer-satisfaction/test.csv', nrows=15000)\n",
    "\n",
    "# drop TARGET label from X_train\n",
    "X_train.drop(labels=['TARGET'], axis=1, inplace = True)\n",
    "\n",
    "# check shape of training and test sets\n",
    "X_train.shape, X_test.shape"
   ]
  },
  {
   "cell_type": "code",
   "execution_count": 10,
   "id": "92b205e9",
   "metadata": {
    "execution": {
     "iopub.execute_input": "2023-03-15T03:44:19.858920Z",
     "iopub.status.busy": "2023-03-15T03:44:19.858473Z",
     "iopub.status.idle": "2023-03-15T03:44:20.027756Z",
     "shell.execute_reply": "2023-03-15T03:44:20.026232Z"
    },
    "papermill": {
     "duration": 0.187426,
     "end_time": "2023-03-15T03:44:20.030868",
     "exception": false,
     "start_time": "2023-03-15T03:44:19.843442",
     "status": "completed"
    },
    "tags": []
   },
   "outputs": [
    {
     "data": {
      "text/plain": [
       "VarianceThreshold(threshold=0.01)"
      ]
     },
     "execution_count": 10,
     "metadata": {},
     "output_type": "execute_result"
    }
   ],
   "source": [
    "from sklearn.feature_selection import VarianceThreshold\n",
    "sel = VarianceThreshold(threshold=0.01)\n",
    "sel.fit(X_train)"
   ]
  },
  {
   "cell_type": "code",
   "execution_count": 11,
   "id": "0db697e1",
   "metadata": {
    "execution": {
     "iopub.execute_input": "2023-03-15T03:44:20.060905Z",
     "iopub.status.busy": "2023-03-15T03:44:20.060393Z",
     "iopub.status.idle": "2023-03-15T03:44:20.107907Z",
     "shell.execute_reply": "2023-03-15T03:44:20.105708Z"
    },
    "papermill": {
     "duration": 0.066641,
     "end_time": "2023-03-15T03:44:20.111296",
     "exception": false,
     "start_time": "2023-03-15T03:44:20.044655",
     "status": "completed"
    },
    "tags": []
   },
   "outputs": [
    {
     "name": "stdout",
     "output_type": "stream",
     "text": [
      "107\n"
     ]
    },
    {
     "data": {
      "text/plain": [
       "['ind_var1',\n",
       " 'ind_var2_0',\n",
       " 'ind_var2',\n",
       " 'ind_var6_0',\n",
       " 'ind_var6',\n",
       " 'ind_var13_largo',\n",
       " 'ind_var13_medio_0',\n",
       " 'ind_var13_medio',\n",
       " 'ind_var14',\n",
       " 'ind_var17_0',\n",
       " 'ind_var17',\n",
       " 'ind_var18_0',\n",
       " 'ind_var18',\n",
       " 'ind_var19',\n",
       " 'ind_var20_0',\n",
       " 'ind_var20',\n",
       " 'ind_var27_0',\n",
       " 'ind_var28_0',\n",
       " 'ind_var28',\n",
       " 'ind_var27',\n",
       " 'ind_var29_0',\n",
       " 'ind_var29',\n",
       " 'ind_var30_0',\n",
       " 'ind_var31_0',\n",
       " 'ind_var31',\n",
       " 'ind_var32_cte',\n",
       " 'ind_var32_0',\n",
       " 'ind_var32',\n",
       " 'ind_var33_0',\n",
       " 'ind_var33',\n",
       " 'ind_var34_0',\n",
       " 'ind_var34',\n",
       " 'ind_var40',\n",
       " 'ind_var41',\n",
       " 'ind_var39',\n",
       " 'ind_var44_0',\n",
       " 'ind_var44',\n",
       " 'ind_var46_0',\n",
       " 'ind_var46',\n",
       " 'num_var6_0',\n",
       " 'num_var6',\n",
       " 'num_var13_medio_0',\n",
       " 'num_var13_medio',\n",
       " 'num_var18_0',\n",
       " 'num_var18',\n",
       " 'num_op_var40_hace3',\n",
       " 'num_var27_0',\n",
       " 'num_var28_0',\n",
       " 'num_var28',\n",
       " 'num_var27',\n",
       " 'num_var29_0',\n",
       " 'num_var29',\n",
       " 'num_var33',\n",
       " 'num_var34_0',\n",
       " 'num_var34',\n",
       " 'num_var41',\n",
       " 'num_var46_0',\n",
       " 'num_var46',\n",
       " 'saldo_var18',\n",
       " 'saldo_var28',\n",
       " 'saldo_var27',\n",
       " 'saldo_var34',\n",
       " 'saldo_var41',\n",
       " 'saldo_var46',\n",
       " 'delta_imp_amort_var18_1y3',\n",
       " 'delta_imp_amort_var34_1y3',\n",
       " 'delta_imp_aport_var33_1y3',\n",
       " 'delta_num_aport_var33_1y3',\n",
       " 'imp_amort_var18_hace3',\n",
       " 'imp_amort_var18_ult1',\n",
       " 'imp_amort_var34_hace3',\n",
       " 'imp_amort_var34_ult1',\n",
       " 'imp_reemb_var13_hace3',\n",
       " 'imp_reemb_var17_hace3',\n",
       " 'imp_reemb_var33_hace3',\n",
       " 'imp_trasp_var17_out_hace3',\n",
       " 'imp_trasp_var33_out_hace3',\n",
       " 'ind_var7_emit_ult1',\n",
       " 'ind_var7_recib_ult1',\n",
       " 'num_var2_0_ult1',\n",
       " 'num_var2_ult1',\n",
       " 'num_aport_var33_hace3',\n",
       " 'num_aport_var33_ult1',\n",
       " 'num_var7_emit_ult1',\n",
       " 'num_meses_var13_medio_ult3',\n",
       " 'num_meses_var17_ult3',\n",
       " 'num_meses_var29_ult3',\n",
       " 'num_meses_var33_ult3',\n",
       " 'num_meses_var44_ult3',\n",
       " 'num_reemb_var13_hace3',\n",
       " 'num_reemb_var13_ult1',\n",
       " 'num_reemb_var17_hace3',\n",
       " 'num_reemb_var17_ult1',\n",
       " 'num_reemb_var33_hace3',\n",
       " 'num_reemb_var33_ult1',\n",
       " 'num_trasp_var17_in_hace3',\n",
       " 'num_trasp_var17_in_ult1',\n",
       " 'num_trasp_var17_out_hace3',\n",
       " 'num_trasp_var17_out_ult1',\n",
       " 'num_trasp_var33_in_hace3',\n",
       " 'num_trasp_var33_in_ult1',\n",
       " 'num_trasp_var33_out_hace3',\n",
       " 'num_trasp_var33_out_ult1',\n",
       " 'num_venta_var44_hace3',\n",
       " 'saldo_var2_ult1',\n",
       " 'saldo_medio_var13_medio_hace3',\n",
       " 'saldo_medio_var29_hace3']"
      ]
     },
     "execution_count": 11,
     "metadata": {},
     "output_type": "execute_result"
    }
   ],
   "source": [
    "print(\n",
    "    len([\n",
    "        x for x in X_train.columns\n",
    "        if x not in X_train.columns[sel.get_support()]\n",
    "    ]))\n",
    "\n",
    "\n",
    "[x for x in X_train.columns if x not in X_train.columns[sel.get_support()]]"
   ]
  },
  {
   "cell_type": "code",
   "execution_count": 12,
   "id": "e47ac9c6",
   "metadata": {
    "execution": {
     "iopub.execute_input": "2023-03-15T03:44:20.142753Z",
     "iopub.status.busy": "2023-03-15T03:44:20.141580Z",
     "iopub.status.idle": "2023-03-15T03:44:20.287168Z",
     "shell.execute_reply": "2023-03-15T03:44:20.285620Z"
    },
    "papermill": {
     "duration": 0.164914,
     "end_time": "2023-03-15T03:44:20.290215",
     "exception": false,
     "start_time": "2023-03-15T03:44:20.125301",
     "status": "completed"
    },
    "tags": []
   },
   "outputs": [],
   "source": [
    "# we can then remove the features from training and test set\n",
    "X_train = sel.transform(X_train)\n",
    "X_test = sel.transform(X_test)"
   ]
  },
  {
   "cell_type": "code",
   "execution_count": 13,
   "id": "06e067f0",
   "metadata": {
    "execution": {
     "iopub.execute_input": "2023-03-15T03:44:20.325582Z",
     "iopub.status.busy": "2023-03-15T03:44:20.324313Z",
     "iopub.status.idle": "2023-03-15T03:44:20.333699Z",
     "shell.execute_reply": "2023-03-15T03:44:20.332306Z"
    },
    "papermill": {
     "duration": 0.031397,
     "end_time": "2023-03-15T03:44:20.336617",
     "exception": false,
     "start_time": "2023-03-15T03:44:20.305220",
     "status": "completed"
    },
    "tags": []
   },
   "outputs": [
    {
     "data": {
      "text/plain": [
       "((35000, 263), (15000, 263))"
      ]
     },
     "execution_count": 13,
     "metadata": {},
     "output_type": "execute_result"
    }
   ],
   "source": [
    "# check the shape of training and test set\n",
    "X_train.shape, X_test.shape"
   ]
  },
  {
   "cell_type": "markdown",
   "id": "0d0f97b9",
   "metadata": {
    "papermill": {
     "duration": 0.014081,
     "end_time": "2023-03-15T03:44:20.365069",
     "exception": false,
     "start_time": "2023-03-15T03:44:20.350988",
     "status": "completed"
    },
    "tags": []
   },
   "source": [
    "## Univariate Selection Methods"
   ]
  },
  {
   "cell_type": "markdown",
   "id": "6d795d88",
   "metadata": {
    "papermill": {
     "duration": 0.013553,
     "end_time": "2023-03-15T03:44:20.392507",
     "exception": false,
     "start_time": "2023-03-15T03:44:20.378954",
     "status": "completed"
    },
    "tags": []
   },
   "source": [
    "### SelectKBest\n",
    "* We can perform a chi-square test to the samples to retrieve only the two best features from iris dataset as follows"
   ]
  },
  {
   "cell_type": "code",
   "execution_count": 14,
   "id": "5f8f5ed1",
   "metadata": {
    "execution": {
     "iopub.execute_input": "2023-03-15T03:44:20.423009Z",
     "iopub.status.busy": "2023-03-15T03:44:20.422499Z",
     "iopub.status.idle": "2023-03-15T03:44:20.521026Z",
     "shell.execute_reply": "2023-03-15T03:44:20.519787Z"
    },
    "papermill": {
     "duration": 0.117355,
     "end_time": "2023-03-15T03:44:20.523901",
     "exception": false,
     "start_time": "2023-03-15T03:44:20.406546",
     "status": "completed"
    },
    "tags": []
   },
   "outputs": [
    {
     "data": {
      "text/plain": [
       "(150, 4)"
      ]
     },
     "execution_count": 14,
     "metadata": {},
     "output_type": "execute_result"
    }
   ],
   "source": [
    "from sklearn.datasets import load_iris\n",
    "from sklearn.feature_selection import SelectKBest, chi2\n",
    "X, y = load_iris(return_X_y=True)\n",
    "X.shape"
   ]
  },
  {
   "cell_type": "code",
   "execution_count": 15,
   "id": "ea6e5968",
   "metadata": {
    "execution": {
     "iopub.execute_input": "2023-03-15T03:44:20.554836Z",
     "iopub.status.busy": "2023-03-15T03:44:20.554421Z",
     "iopub.status.idle": "2023-03-15T03:44:20.569592Z",
     "shell.execute_reply": "2023-03-15T03:44:20.568496Z"
    },
    "papermill": {
     "duration": 0.033834,
     "end_time": "2023-03-15T03:44:20.572436",
     "exception": false,
     "start_time": "2023-03-15T03:44:20.538602",
     "status": "completed"
    },
    "tags": []
   },
   "outputs": [
    {
     "data": {
      "text/plain": [
       "(150, 2)"
      ]
     },
     "execution_count": 15,
     "metadata": {},
     "output_type": "execute_result"
    }
   ],
   "source": [
    "# select the two best features\n",
    "X_new = SelectKBest(chi2, k=2).fit_transform(X, y)\n",
    "X_new.shape"
   ]
  },
  {
   "cell_type": "markdown",
   "id": "0338eda2",
   "metadata": {
    "papermill": {
     "duration": 0.014232,
     "end_time": "2023-03-15T03:44:20.601243",
     "exception": false,
     "start_time": "2023-03-15T03:44:20.587011",
     "status": "completed"
    },
    "tags": []
   },
   "source": [
    "### SelectPercentile\n",
    "* Select features according to a percentile of the highest scores"
   ]
  },
  {
   "cell_type": "code",
   "execution_count": 16,
   "id": "fc4f00b4",
   "metadata": {
    "execution": {
     "iopub.execute_input": "2023-03-15T03:44:20.632872Z",
     "iopub.status.busy": "2023-03-15T03:44:20.631639Z",
     "iopub.status.idle": "2023-03-15T03:44:20.729993Z",
     "shell.execute_reply": "2023-03-15T03:44:20.729008Z"
    },
    "papermill": {
     "duration": 0.116509,
     "end_time": "2023-03-15T03:44:20.732476",
     "exception": false,
     "start_time": "2023-03-15T03:44:20.615967",
     "status": "completed"
    },
    "tags": []
   },
   "outputs": [
    {
     "data": {
      "text/plain": [
       "(1797, 64)"
      ]
     },
     "execution_count": 16,
     "metadata": {},
     "output_type": "execute_result"
    }
   ],
   "source": [
    "from sklearn.datasets import load_digits\n",
    "from sklearn.feature_selection import SelectPercentile, chi2\n",
    "X, y = load_digits(return_X_y=True)\n",
    "X.shape"
   ]
  },
  {
   "cell_type": "code",
   "execution_count": 17,
   "id": "2c2bf08f",
   "metadata": {
    "execution": {
     "iopub.execute_input": "2023-03-15T03:44:20.763279Z",
     "iopub.status.busy": "2023-03-15T03:44:20.762867Z",
     "iopub.status.idle": "2023-03-15T03:44:20.779756Z",
     "shell.execute_reply": "2023-03-15T03:44:20.778417Z"
    },
    "papermill": {
     "duration": 0.037156,
     "end_time": "2023-03-15T03:44:20.784018",
     "exception": false,
     "start_time": "2023-03-15T03:44:20.746862",
     "status": "completed"
    },
    "tags": []
   },
   "outputs": [
    {
     "data": {
      "text/plain": [
       "(1797, 7)"
      ]
     },
     "execution_count": 17,
     "metadata": {},
     "output_type": "execute_result"
    }
   ],
   "source": [
    "# now select features based on top 10 percentile\n",
    "X_new = SelectPercentile(chi2, percentile=10).fit_transform(X, y)\n",
    "X_new.shape"
   ]
  },
  {
   "cell_type": "markdown",
   "id": "481479ac",
   "metadata": {
    "papermill": {
     "duration": 0.022928,
     "end_time": "2023-03-15T03:44:20.829978",
     "exception": false,
     "start_time": "2023-03-15T03:44:20.807050",
     "status": "completed"
    },
    "tags": []
   },
   "source": [
    "## ANOVA F-value For Feature Selection\n",
    "* If the features are categorical, we will calculate a chi-square statistic between each feature and the target vector. However, if the features are quantitative, we will compute the ANOVA F-value between each feature and the target vector."
   ]
  },
  {
   "cell_type": "code",
   "execution_count": 18,
   "id": "a05289c0",
   "metadata": {
    "execution": {
     "iopub.execute_input": "2023-03-15T03:44:20.878871Z",
     "iopub.status.busy": "2023-03-15T03:44:20.878160Z",
     "iopub.status.idle": "2023-03-15T03:44:20.892002Z",
     "shell.execute_reply": "2023-03-15T03:44:20.890777Z"
    },
    "papermill": {
     "duration": 0.041413,
     "end_time": "2023-03-15T03:44:20.894692",
     "exception": false,
     "start_time": "2023-03-15T03:44:20.853279",
     "status": "completed"
    },
    "tags": []
   },
   "outputs": [],
   "source": [
    "from sklearn.feature_selection import f_classif\n",
    "\n",
    "# Load iris data\n",
    "iris = load_iris()\n",
    "\n",
    "# Create features and target\n",
    "X = iris.data\n",
    "y = iris.target"
   ]
  },
  {
   "cell_type": "code",
   "execution_count": 19,
   "id": "5340fa9d",
   "metadata": {
    "execution": {
     "iopub.execute_input": "2023-03-15T03:44:20.925536Z",
     "iopub.status.busy": "2023-03-15T03:44:20.925152Z",
     "iopub.status.idle": "2023-03-15T03:44:20.932566Z",
     "shell.execute_reply": "2023-03-15T03:44:20.931189Z"
    },
    "papermill": {
     "duration": 0.026175,
     "end_time": "2023-03-15T03:44:20.935517",
     "exception": false,
     "start_time": "2023-03-15T03:44:20.909342",
     "status": "completed"
    },
    "tags": []
   },
   "outputs": [],
   "source": [
    "# Create an SelectKBest object to select features with two best ANOVA F-Values\n",
    "fvalue_selector = SelectKBest(f_classif, k=2)\n",
    "\n",
    "# Apply the SelectKBest object to the features and target\n",
    "X_kbest = fvalue_selector.fit_transform(X, y)"
   ]
  },
  {
   "cell_type": "code",
   "execution_count": 20,
   "id": "0373e679",
   "metadata": {
    "execution": {
     "iopub.execute_input": "2023-03-15T03:44:20.967444Z",
     "iopub.status.busy": "2023-03-15T03:44:20.966381Z",
     "iopub.status.idle": "2023-03-15T03:44:20.973315Z",
     "shell.execute_reply": "2023-03-15T03:44:20.972420Z"
    },
    "papermill": {
     "duration": 0.025705,
     "end_time": "2023-03-15T03:44:20.975792",
     "exception": false,
     "start_time": "2023-03-15T03:44:20.950087",
     "status": "completed"
    },
    "tags": []
   },
   "outputs": [],
   "source": [
    "# Create an SelectKBest object to select features with two best ANOVA F-Values\n",
    "fvalue_selector = SelectKBest(f_classif, k=2)\n",
    "\n",
    "# Apply the SelectKBest object to the features and target\n",
    "X_kbest = fvalue_selector.fit_transform(X, y)"
   ]
  },
  {
   "cell_type": "code",
   "execution_count": 21,
   "id": "bd64d270",
   "metadata": {
    "execution": {
     "iopub.execute_input": "2023-03-15T03:44:21.007777Z",
     "iopub.status.busy": "2023-03-15T03:44:21.006931Z",
     "iopub.status.idle": "2023-03-15T03:44:21.014807Z",
     "shell.execute_reply": "2023-03-15T03:44:21.012950Z"
    },
    "papermill": {
     "duration": 0.027551,
     "end_time": "2023-03-15T03:44:21.017737",
     "exception": false,
     "start_time": "2023-03-15T03:44:20.990186",
     "status": "completed"
    },
    "tags": []
   },
   "outputs": [
    {
     "name": "stdout",
     "output_type": "stream",
     "text": [
      "Original number of features: 4\n",
      "Reduced number of features: 2\n"
     ]
    }
   ],
   "source": [
    "# View results\n",
    "print('Original number of features:', X.shape[1])\n",
    "print('Reduced number of features:', X_kbest.shape[1])"
   ]
  },
  {
   "cell_type": "markdown",
   "id": "bf08a946",
   "metadata": {
    "papermill": {
     "duration": 0.014761,
     "end_time": "2023-03-15T03:44:21.047141",
     "exception": false,
     "start_time": "2023-03-15T03:44:21.032380",
     "status": "completed"
    },
    "tags": []
   },
   "source": [
    "## Fisher Score\n",
    "* This score should be used to evaluate categorical variables in a classification task. It compares the observed distribution of the different classes of target Y among the different categories of the feature, against the expected distribution of the target classes, regardless of the feature categories."
   ]
  },
  {
   "cell_type": "code",
   "execution_count": 22,
   "id": "789efcf0",
   "metadata": {
    "execution": {
     "iopub.execute_input": "2023-03-15T03:44:21.078960Z",
     "iopub.status.busy": "2023-03-15T03:44:21.078533Z",
     "iopub.status.idle": "2023-03-15T03:44:21.086448Z",
     "shell.execute_reply": "2023-03-15T03:44:21.085270Z"
    },
    "papermill": {
     "duration": 0.027116,
     "end_time": "2023-03-15T03:44:21.089415",
     "exception": false,
     "start_time": "2023-03-15T03:44:21.062299",
     "status": "completed"
    },
    "tags": []
   },
   "outputs": [],
   "source": [
    "from sklearn.feature_selection import SelectKBest, chi2\n",
    "\n",
    "# Load iris data\n",
    "iris = load_iris()\n",
    "\n",
    "# Create features and target\n",
    "X = iris.data\n",
    "y = iris.target\n",
    "\n",
    "# convert to categorical data by converting data to integers\n",
    "X = X.astype(int)"
   ]
  },
  {
   "cell_type": "code",
   "execution_count": 23,
   "id": "ae4ebc9e",
   "metadata": {
    "execution": {
     "iopub.execute_input": "2023-03-15T03:44:21.121182Z",
     "iopub.status.busy": "2023-03-15T03:44:21.120724Z",
     "iopub.status.idle": "2023-03-15T03:44:21.129133Z",
     "shell.execute_reply": "2023-03-15T03:44:21.127780Z"
    },
    "papermill": {
     "duration": 0.026979,
     "end_time": "2023-03-15T03:44:21.131602",
     "exception": false,
     "start_time": "2023-03-15T03:44:21.104623",
     "status": "completed"
    },
    "tags": []
   },
   "outputs": [],
   "source": [
    "# select two features with highest chi-squared statistics\n",
    "chi2_selector = SelectKBest(chi2, k=2)\n",
    "X_kbest = chi2_selector.fit_transform(X, y)"
   ]
  },
  {
   "cell_type": "code",
   "execution_count": 24,
   "id": "14f500f0",
   "metadata": {
    "execution": {
     "iopub.execute_input": "2023-03-15T03:44:21.165963Z",
     "iopub.status.busy": "2023-03-15T03:44:21.165124Z",
     "iopub.status.idle": "2023-03-15T03:44:21.171619Z",
     "shell.execute_reply": "2023-03-15T03:44:21.170163Z"
    },
    "papermill": {
     "duration": 0.0273,
     "end_time": "2023-03-15T03:44:21.174407",
     "exception": false,
     "start_time": "2023-03-15T03:44:21.147107",
     "status": "completed"
    },
    "tags": []
   },
   "outputs": [
    {
     "name": "stdout",
     "output_type": "stream",
     "text": [
      "Original number of features: 4\n",
      "Reduced number of features: 2\n"
     ]
    }
   ],
   "source": [
    "# View results\n",
    "print('Original number of features:', X.shape[1])\n",
    "print('Reduced number of features:', X_kbest.shape[1])"
   ]
  },
  {
   "cell_type": "markdown",
   "id": "889da3bb",
   "metadata": {
    "papermill": {
     "duration": 0.014307,
     "end_time": "2023-03-15T03:44:21.203313",
     "exception": false,
     "start_time": "2023-03-15T03:44:21.189006",
     "status": "completed"
    },
    "tags": []
   },
   "source": [
    "# In summary, Fisher score is better suited for binary classification problems, while ANOVA F-value is better suited for identifying relevant features in datasets with categorical features and continuous target variables."
   ]
  },
  {
   "cell_type": "markdown",
   "id": "dcdfbf85",
   "metadata": {
    "papermill": {
     "duration": 0.015171,
     "end_time": "2023-03-15T03:44:21.234479",
     "exception": false,
     "start_time": "2023-03-15T03:44:21.219308",
     "status": "completed"
    },
    "tags": []
   },
   "source": [
    "# Wrapper Methods"
   ]
  },
  {
   "cell_type": "markdown",
   "id": "a826ec85",
   "metadata": {
    "papermill": {
     "duration": 0.014134,
     "end_time": "2023-03-15T03:44:21.263231",
     "exception": false,
     "start_time": "2023-03-15T03:44:21.249097",
     "status": "completed"
    },
    "tags": []
   },
   "source": [
    "## Forward Selection"
   ]
  },
  {
   "cell_type": "code",
   "execution_count": 25,
   "id": "327f872c",
   "metadata": {
    "execution": {
     "iopub.execute_input": "2023-03-15T03:44:21.294425Z",
     "iopub.status.busy": "2023-03-15T03:44:21.293613Z",
     "iopub.status.idle": "2023-03-15T03:44:21.501916Z",
     "shell.execute_reply": "2023-03-15T03:44:21.500222Z"
    },
    "papermill": {
     "duration": 0.227784,
     "end_time": "2023-03-15T03:44:21.505452",
     "exception": false,
     "start_time": "2023-03-15T03:44:21.277668",
     "status": "completed"
    },
    "tags": []
   },
   "outputs": [],
   "source": [
    "from sklearn.model_selection import train_test_split\n",
    "from sklearn.ensemble import RandomForestRegressor\n",
    "from sklearn.metrics import r2_score\n",
    "from mlxtend.feature_selection import SequentialFeatureSelector as SFS"
   ]
  },
  {
   "cell_type": "code",
   "execution_count": 26,
   "id": "6dbfad9d",
   "metadata": {
    "execution": {
     "iopub.execute_input": "2023-03-15T03:44:21.536725Z",
     "iopub.status.busy": "2023-03-15T03:44:21.536291Z",
     "iopub.status.idle": "2023-03-15T03:44:21.571065Z",
     "shell.execute_reply": "2023-03-15T03:44:21.569353Z"
    },
    "papermill": {
     "duration": 0.054704,
     "end_time": "2023-03-15T03:44:21.575015",
     "exception": false,
     "start_time": "2023-03-15T03:44:21.520311",
     "status": "completed"
    },
    "tags": []
   },
   "outputs": [
    {
     "data": {
      "text/plain": [
       "(1460, 81)"
      ]
     },
     "execution_count": 26,
     "metadata": {},
     "output_type": "execute_result"
    }
   ],
   "source": [
    "#load dataset\n",
    "data = pd.read_csv('/kaggle/input/house-prices-advanced-regression-techniques/train.csv')\n",
    "data.shape"
   ]
  },
  {
   "cell_type": "code",
   "execution_count": 27,
   "id": "8b28b173",
   "metadata": {
    "execution": {
     "iopub.execute_input": "2023-03-15T03:44:21.607929Z",
     "iopub.status.busy": "2023-03-15T03:44:21.607427Z",
     "iopub.status.idle": "2023-03-15T03:44:21.645519Z",
     "shell.execute_reply": "2023-03-15T03:44:21.644247Z"
    },
    "papermill": {
     "duration": 0.057642,
     "end_time": "2023-03-15T03:44:21.648154",
     "exception": false,
     "start_time": "2023-03-15T03:44:21.590512",
     "status": "completed"
    },
    "tags": []
   },
   "outputs": [
    {
     "data": {
      "text/html": [
       "<div>\n",
       "<style scoped>\n",
       "    .dataframe tbody tr th:only-of-type {\n",
       "        vertical-align: middle;\n",
       "    }\n",
       "\n",
       "    .dataframe tbody tr th {\n",
       "        vertical-align: top;\n",
       "    }\n",
       "\n",
       "    .dataframe thead th {\n",
       "        text-align: right;\n",
       "    }\n",
       "</style>\n",
       "<table border=\"1\" class=\"dataframe\">\n",
       "  <thead>\n",
       "    <tr style=\"text-align: right;\">\n",
       "      <th></th>\n",
       "      <th>Id</th>\n",
       "      <th>MSSubClass</th>\n",
       "      <th>MSZoning</th>\n",
       "      <th>LotFrontage</th>\n",
       "      <th>LotArea</th>\n",
       "      <th>Street</th>\n",
       "      <th>Alley</th>\n",
       "      <th>LotShape</th>\n",
       "      <th>LandContour</th>\n",
       "      <th>Utilities</th>\n",
       "      <th>...</th>\n",
       "      <th>PoolArea</th>\n",
       "      <th>PoolQC</th>\n",
       "      <th>Fence</th>\n",
       "      <th>MiscFeature</th>\n",
       "      <th>MiscVal</th>\n",
       "      <th>MoSold</th>\n",
       "      <th>YrSold</th>\n",
       "      <th>SaleType</th>\n",
       "      <th>SaleCondition</th>\n",
       "      <th>SalePrice</th>\n",
       "    </tr>\n",
       "  </thead>\n",
       "  <tbody>\n",
       "    <tr>\n",
       "      <th>0</th>\n",
       "      <td>1</td>\n",
       "      <td>60</td>\n",
       "      <td>RL</td>\n",
       "      <td>65.0</td>\n",
       "      <td>8450</td>\n",
       "      <td>Pave</td>\n",
       "      <td>NaN</td>\n",
       "      <td>Reg</td>\n",
       "      <td>Lvl</td>\n",
       "      <td>AllPub</td>\n",
       "      <td>...</td>\n",
       "      <td>0</td>\n",
       "      <td>NaN</td>\n",
       "      <td>NaN</td>\n",
       "      <td>NaN</td>\n",
       "      <td>0</td>\n",
       "      <td>2</td>\n",
       "      <td>2008</td>\n",
       "      <td>WD</td>\n",
       "      <td>Normal</td>\n",
       "      <td>208500</td>\n",
       "    </tr>\n",
       "    <tr>\n",
       "      <th>1</th>\n",
       "      <td>2</td>\n",
       "      <td>20</td>\n",
       "      <td>RL</td>\n",
       "      <td>80.0</td>\n",
       "      <td>9600</td>\n",
       "      <td>Pave</td>\n",
       "      <td>NaN</td>\n",
       "      <td>Reg</td>\n",
       "      <td>Lvl</td>\n",
       "      <td>AllPub</td>\n",
       "      <td>...</td>\n",
       "      <td>0</td>\n",
       "      <td>NaN</td>\n",
       "      <td>NaN</td>\n",
       "      <td>NaN</td>\n",
       "      <td>0</td>\n",
       "      <td>5</td>\n",
       "      <td>2007</td>\n",
       "      <td>WD</td>\n",
       "      <td>Normal</td>\n",
       "      <td>181500</td>\n",
       "    </tr>\n",
       "    <tr>\n",
       "      <th>2</th>\n",
       "      <td>3</td>\n",
       "      <td>60</td>\n",
       "      <td>RL</td>\n",
       "      <td>68.0</td>\n",
       "      <td>11250</td>\n",
       "      <td>Pave</td>\n",
       "      <td>NaN</td>\n",
       "      <td>IR1</td>\n",
       "      <td>Lvl</td>\n",
       "      <td>AllPub</td>\n",
       "      <td>...</td>\n",
       "      <td>0</td>\n",
       "      <td>NaN</td>\n",
       "      <td>NaN</td>\n",
       "      <td>NaN</td>\n",
       "      <td>0</td>\n",
       "      <td>9</td>\n",
       "      <td>2008</td>\n",
       "      <td>WD</td>\n",
       "      <td>Normal</td>\n",
       "      <td>223500</td>\n",
       "    </tr>\n",
       "    <tr>\n",
       "      <th>3</th>\n",
       "      <td>4</td>\n",
       "      <td>70</td>\n",
       "      <td>RL</td>\n",
       "      <td>60.0</td>\n",
       "      <td>9550</td>\n",
       "      <td>Pave</td>\n",
       "      <td>NaN</td>\n",
       "      <td>IR1</td>\n",
       "      <td>Lvl</td>\n",
       "      <td>AllPub</td>\n",
       "      <td>...</td>\n",
       "      <td>0</td>\n",
       "      <td>NaN</td>\n",
       "      <td>NaN</td>\n",
       "      <td>NaN</td>\n",
       "      <td>0</td>\n",
       "      <td>2</td>\n",
       "      <td>2006</td>\n",
       "      <td>WD</td>\n",
       "      <td>Abnorml</td>\n",
       "      <td>140000</td>\n",
       "    </tr>\n",
       "    <tr>\n",
       "      <th>4</th>\n",
       "      <td>5</td>\n",
       "      <td>60</td>\n",
       "      <td>RL</td>\n",
       "      <td>84.0</td>\n",
       "      <td>14260</td>\n",
       "      <td>Pave</td>\n",
       "      <td>NaN</td>\n",
       "      <td>IR1</td>\n",
       "      <td>Lvl</td>\n",
       "      <td>AllPub</td>\n",
       "      <td>...</td>\n",
       "      <td>0</td>\n",
       "      <td>NaN</td>\n",
       "      <td>NaN</td>\n",
       "      <td>NaN</td>\n",
       "      <td>0</td>\n",
       "      <td>12</td>\n",
       "      <td>2008</td>\n",
       "      <td>WD</td>\n",
       "      <td>Normal</td>\n",
       "      <td>250000</td>\n",
       "    </tr>\n",
       "  </tbody>\n",
       "</table>\n",
       "<p>5 rows × 81 columns</p>\n",
       "</div>"
      ],
      "text/plain": [
       "   Id  MSSubClass MSZoning  LotFrontage  LotArea Street Alley LotShape  \\\n",
       "0   1          60       RL         65.0     8450   Pave   NaN      Reg   \n",
       "1   2          20       RL         80.0     9600   Pave   NaN      Reg   \n",
       "2   3          60       RL         68.0    11250   Pave   NaN      IR1   \n",
       "3   4          70       RL         60.0     9550   Pave   NaN      IR1   \n",
       "4   5          60       RL         84.0    14260   Pave   NaN      IR1   \n",
       "\n",
       "  LandContour Utilities  ... PoolArea PoolQC Fence MiscFeature MiscVal MoSold  \\\n",
       "0         Lvl    AllPub  ...        0    NaN   NaN         NaN       0      2   \n",
       "1         Lvl    AllPub  ...        0    NaN   NaN         NaN       0      5   \n",
       "2         Lvl    AllPub  ...        0    NaN   NaN         NaN       0      9   \n",
       "3         Lvl    AllPub  ...        0    NaN   NaN         NaN       0      2   \n",
       "4         Lvl    AllPub  ...        0    NaN   NaN         NaN       0     12   \n",
       "\n",
       "  YrSold  SaleType  SaleCondition  SalePrice  \n",
       "0   2008        WD         Normal     208500  \n",
       "1   2007        WD         Normal     181500  \n",
       "2   2008        WD         Normal     223500  \n",
       "3   2006        WD        Abnorml     140000  \n",
       "4   2008        WD         Normal     250000  \n",
       "\n",
       "[5 rows x 81 columns]"
      ]
     },
     "execution_count": 27,
     "metadata": {},
     "output_type": "execute_result"
    }
   ],
   "source": [
    "data.head()"
   ]
  },
  {
   "cell_type": "code",
   "execution_count": 28,
   "id": "6134388b",
   "metadata": {
    "execution": {
     "iopub.execute_input": "2023-03-15T03:44:21.680599Z",
     "iopub.status.busy": "2023-03-15T03:44:21.680190Z",
     "iopub.status.idle": "2023-03-15T03:44:21.695989Z",
     "shell.execute_reply": "2023-03-15T03:44:21.694464Z"
    },
    "papermill": {
     "duration": 0.035672,
     "end_time": "2023-03-15T03:44:21.698814",
     "exception": false,
     "start_time": "2023-03-15T03:44:21.663142",
     "status": "completed"
    },
    "tags": []
   },
   "outputs": [
    {
     "data": {
      "text/plain": [
       "(1460, 38)"
      ]
     },
     "execution_count": 28,
     "metadata": {},
     "output_type": "execute_result"
    }
   ],
   "source": [
    "# select numerical columns:\n",
    "numerics = ['int16', 'int32', 'int64', 'float16', 'float32', 'float64']\n",
    "numerical_vars = list(data.select_dtypes(include=numerics).columns)\n",
    "data = data[numerical_vars]\n",
    "data.shape"
   ]
  },
  {
   "cell_type": "code",
   "execution_count": 29,
   "id": "2373ff9c",
   "metadata": {
    "execution": {
     "iopub.execute_input": "2023-03-15T03:44:21.732792Z",
     "iopub.status.busy": "2023-03-15T03:44:21.732028Z",
     "iopub.status.idle": "2023-03-15T03:44:21.749165Z",
     "shell.execute_reply": "2023-03-15T03:44:21.747752Z"
    },
    "papermill": {
     "duration": 0.037431,
     "end_time": "2023-03-15T03:44:21.752164",
     "exception": false,
     "start_time": "2023-03-15T03:44:21.714733",
     "status": "completed"
    },
    "tags": []
   },
   "outputs": [
    {
     "data": {
      "text/plain": [
       "((1022, 37), (438, 37))"
      ]
     },
     "execution_count": 29,
     "metadata": {},
     "output_type": "execute_result"
    }
   ],
   "source": [
    "# separate train and test sets\n",
    "X_train, X_test, y_train, y_test = train_test_split(data.drop(labels=['SalePrice'], axis=1),\n",
    "                                                    data['SalePrice'],\n",
    "                                                    test_size=0.3,\n",
    "                                                    random_state=0)\n",
    "\n",
    "X_train.shape, X_test.shape"
   ]
  },
  {
   "cell_type": "code",
   "execution_count": 30,
   "id": "a166a70b",
   "metadata": {
    "execution": {
     "iopub.execute_input": "2023-03-15T03:44:21.786681Z",
     "iopub.status.busy": "2023-03-15T03:44:21.785906Z",
     "iopub.status.idle": "2023-03-15T03:44:21.821751Z",
     "shell.execute_reply": "2023-03-15T03:44:21.820412Z"
    },
    "papermill": {
     "duration": 0.0563,
     "end_time": "2023-03-15T03:44:21.824546",
     "exception": false,
     "start_time": "2023-03-15T03:44:21.768246",
     "status": "completed"
    },
    "tags": []
   },
   "outputs": [
    {
     "name": "stdout",
     "output_type": "stream",
     "text": [
      "correlated features:  3\n"
     ]
    }
   ],
   "source": [
    "# find and remove correlated features\n",
    "def correlation(dataset, threshold):\n",
    "    col_corr = set()  # Set of all the names of correlated columns\n",
    "    corr_matrix = dataset.corr()\n",
    "    for i in range(len(corr_matrix.columns)):\n",
    "        for j in range(i):\n",
    "            if abs(corr_matrix.iloc[i, j]) > threshold: # we are interested in absolute coeff value\n",
    "                colname = corr_matrix.columns[i]  # getting the name of column\n",
    "                col_corr.add(colname)\n",
    "    return col_corr\n",
    "\n",
    "corr_features = correlation(X_train, 0.8)\n",
    "print('correlated features: ', len(set(corr_features)))"
   ]
  },
  {
   "cell_type": "code",
   "execution_count": 31,
   "id": "d93030b7",
   "metadata": {
    "execution": {
     "iopub.execute_input": "2023-03-15T03:44:21.858644Z",
     "iopub.status.busy": "2023-03-15T03:44:21.857964Z",
     "iopub.status.idle": "2023-03-15T03:44:21.867346Z",
     "shell.execute_reply": "2023-03-15T03:44:21.866275Z"
    },
    "papermill": {
     "duration": 0.029815,
     "end_time": "2023-03-15T03:44:21.870086",
     "exception": false,
     "start_time": "2023-03-15T03:44:21.840271",
     "status": "completed"
    },
    "tags": []
   },
   "outputs": [
    {
     "data": {
      "text/plain": [
       "((1022, 34), (438, 34))"
      ]
     },
     "execution_count": 31,
     "metadata": {},
     "output_type": "execute_result"
    }
   ],
   "source": [
    "# removed correlated  features\n",
    "X_train.drop(labels=corr_features, axis=1, inplace=True)\n",
    "X_test.drop(labels=corr_features, axis=1, inplace=True)\n",
    "\n",
    "X_train.shape, X_test.shape"
   ]
  },
  {
   "cell_type": "code",
   "execution_count": 32,
   "id": "7e8e2074",
   "metadata": {
    "execution": {
     "iopub.execute_input": "2023-03-15T03:44:21.904436Z",
     "iopub.status.busy": "2023-03-15T03:44:21.903772Z",
     "iopub.status.idle": "2023-03-15T03:44:21.908774Z",
     "shell.execute_reply": "2023-03-15T03:44:21.907744Z"
    },
    "papermill": {
     "duration": 0.02531,
     "end_time": "2023-03-15T03:44:21.911425",
     "exception": false,
     "start_time": "2023-03-15T03:44:21.886115",
     "status": "completed"
    },
    "tags": []
   },
   "outputs": [],
   "source": [
    "X_train.fillna(0, inplace=True)"
   ]
  },
  {
   "cell_type": "code",
   "execution_count": 33,
   "id": "e51506ca",
   "metadata": {
    "execution": {
     "iopub.execute_input": "2023-03-15T03:44:21.945924Z",
     "iopub.status.busy": "2023-03-15T03:44:21.945216Z",
     "iopub.status.idle": "2023-03-15T03:47:27.035052Z",
     "shell.execute_reply": "2023-03-15T03:47:27.033788Z"
    },
    "papermill": {
     "duration": 185.128504,
     "end_time": "2023-03-15T03:47:27.055948",
     "exception": false,
     "start_time": "2023-03-15T03:44:21.927444",
     "status": "completed"
    },
    "tags": []
   },
   "outputs": [
    {
     "name": "stderr",
     "output_type": "stream",
     "text": [
      "[Parallel(n_jobs=1)]: Using backend SequentialBackend with 1 concurrent workers.\n",
      "[Parallel(n_jobs=1)]: Done   1 out of   1 | elapsed:    0.6s remaining:    0.0s\n",
      "[Parallel(n_jobs=1)]: Done  34 out of  34 | elapsed:   14.7s finished\n",
      "\n",
      "[2023-03-15 03:44:36] Features: 1/10 -- score: 0.6660940638235906[Parallel(n_jobs=1)]: Using backend SequentialBackend with 1 concurrent workers.\n",
      "[Parallel(n_jobs=1)]: Done   1 out of   1 | elapsed:    0.6s remaining:    0.0s\n",
      "[Parallel(n_jobs=1)]: Done  33 out of  33 | elapsed:   15.0s finished\n",
      "\n",
      "[2023-03-15 03:44:51] Features: 2/10 -- score: 0.7222313559293698[Parallel(n_jobs=1)]: Using backend SequentialBackend with 1 concurrent workers.\n",
      "[Parallel(n_jobs=1)]: Done   1 out of   1 | elapsed:    0.6s remaining:    0.0s\n",
      "[Parallel(n_jobs=1)]: Done  32 out of  32 | elapsed:   15.6s finished\n",
      "\n",
      "[2023-03-15 03:45:07] Features: 3/10 -- score: 0.7455535041699412[Parallel(n_jobs=1)]: Using backend SequentialBackend with 1 concurrent workers.\n",
      "[Parallel(n_jobs=1)]: Done   1 out of   1 | elapsed:    0.6s remaining:    0.0s\n",
      "[Parallel(n_jobs=1)]: Done  31 out of  31 | elapsed:   15.7s finished\n",
      "\n",
      "[2023-03-15 03:45:23] Features: 4/10 -- score: 0.7658226100716835[Parallel(n_jobs=1)]: Using backend SequentialBackend with 1 concurrent workers.\n",
      "[Parallel(n_jobs=1)]: Done   1 out of   1 | elapsed:    0.6s remaining:    0.0s\n",
      "[Parallel(n_jobs=1)]: Done  30 out of  30 | elapsed:   16.1s finished\n",
      "\n",
      "[2023-03-15 03:45:39] Features: 5/10 -- score: 0.7702971426193858[Parallel(n_jobs=1)]: Using backend SequentialBackend with 1 concurrent workers.\n",
      "[Parallel(n_jobs=1)]: Done   1 out of   1 | elapsed:    0.7s remaining:    0.0s\n",
      "[Parallel(n_jobs=1)]: Done  29 out of  29 | elapsed:   17.1s finished\n",
      "\n",
      "[2023-03-15 03:45:56] Features: 6/10 -- score: 0.778209644716989[Parallel(n_jobs=1)]: Using backend SequentialBackend with 1 concurrent workers.\n",
      "[Parallel(n_jobs=1)]: Done   1 out of   1 | elapsed:    0.8s remaining:    0.0s\n",
      "[Parallel(n_jobs=1)]: Done  28 out of  28 | elapsed:   20.8s finished\n",
      "\n",
      "[2023-03-15 03:46:17] Features: 7/10 -- score: 0.8271110751169024[Parallel(n_jobs=1)]: Using backend SequentialBackend with 1 concurrent workers.\n",
      "[Parallel(n_jobs=1)]: Done   1 out of   1 | elapsed:    0.9s remaining:    0.0s\n",
      "[Parallel(n_jobs=1)]: Done  27 out of  27 | elapsed:   21.7s finished\n",
      "\n",
      "[2023-03-15 03:46:38] Features: 8/10 -- score: 0.8322249422565763[Parallel(n_jobs=1)]: Using backend SequentialBackend with 1 concurrent workers.\n",
      "[Parallel(n_jobs=1)]: Done   1 out of   1 | elapsed:    1.0s remaining:    0.0s\n",
      "[Parallel(n_jobs=1)]: Done  26 out of  26 | elapsed:   23.6s finished\n",
      "\n",
      "[2023-03-15 03:47:02] Features: 9/10 -- score: 0.8427486482996972[Parallel(n_jobs=1)]: Using backend SequentialBackend with 1 concurrent workers.\n",
      "[Parallel(n_jobs=1)]: Done   1 out of   1 | elapsed:    1.1s remaining:    0.0s\n",
      "[Parallel(n_jobs=1)]: Done  25 out of  25 | elapsed:   24.7s finished\n",
      "\n",
      "[2023-03-15 03:47:27] Features: 10/10 -- score: 0.8495679673263345"
     ]
    }
   ],
   "source": [
    "# step forward feature selection\n",
    "from mlxtend.feature_selection import SequentialFeatureSelector as SFS\n",
    "\n",
    "sfs1 = SFS(RandomForestRegressor(), \n",
    "           k_features=10, \n",
    "           forward=True, \n",
    "           floating=False, \n",
    "           verbose=2,\n",
    "           scoring='r2',\n",
    "           cv=3)\n",
    "\n",
    "sfs1 = sfs1.fit(np.array(X_train), y_train)"
   ]
  },
  {
   "cell_type": "code",
   "execution_count": 34,
   "id": "520c4b88",
   "metadata": {
    "execution": {
     "iopub.execute_input": "2023-03-15T03:47:27.091952Z",
     "iopub.status.busy": "2023-03-15T03:47:27.091211Z",
     "iopub.status.idle": "2023-03-15T03:47:27.097965Z",
     "shell.execute_reply": "2023-03-15T03:47:27.096926Z"
    },
    "papermill": {
     "duration": 0.027833,
     "end_time": "2023-03-15T03:47:27.100450",
     "exception": false,
     "start_time": "2023-03-15T03:47:27.072617",
     "status": "completed"
    },
    "tags": []
   },
   "outputs": [
    {
     "data": {
      "text/plain": [
       "(4, 5, 6, 9, 13, 14, 16, 17, 19, 24)"
      ]
     },
     "execution_count": 34,
     "metadata": {},
     "output_type": "execute_result"
    }
   ],
   "source": [
    "sfs1.k_feature_idx_"
   ]
  },
  {
   "cell_type": "code",
   "execution_count": 35,
   "id": "66e80a08",
   "metadata": {
    "execution": {
     "iopub.execute_input": "2023-03-15T03:47:27.137215Z",
     "iopub.status.busy": "2023-03-15T03:47:27.136710Z",
     "iopub.status.idle": "2023-03-15T03:47:27.145250Z",
     "shell.execute_reply": "2023-03-15T03:47:27.144042Z"
    },
    "papermill": {
     "duration": 0.030013,
     "end_time": "2023-03-15T03:47:27.148060",
     "exception": false,
     "start_time": "2023-03-15T03:47:27.118047",
     "status": "completed"
    },
    "tags": []
   },
   "outputs": [
    {
     "data": {
      "text/plain": [
       "Index(['OverallQual', 'OverallCond', 'YearBuilt', 'BsmtFinSF1', '1stFlrSF',\n",
       "       '2ndFlrSF', 'GrLivArea', 'BsmtFullBath', 'FullBath', 'GarageCars'],\n",
       "      dtype='object')"
      ]
     },
     "execution_count": 35,
     "metadata": {},
     "output_type": "execute_result"
    }
   ],
   "source": [
    "X_train.columns[list(sfs1.k_feature_idx_)]"
   ]
  },
  {
   "cell_type": "markdown",
   "id": "17f32f24",
   "metadata": {
    "papermill": {
     "duration": 0.016484,
     "end_time": "2023-03-15T03:47:27.181755",
     "exception": false,
     "start_time": "2023-03-15T03:47:27.165271",
     "status": "completed"
    },
    "tags": []
   },
   "source": [
    "## Backward Elimination"
   ]
  },
  {
   "cell_type": "code",
   "execution_count": 36,
   "id": "650f2144",
   "metadata": {
    "execution": {
     "iopub.execute_input": "2023-03-15T03:47:27.217583Z",
     "iopub.status.busy": "2023-03-15T03:47:27.217116Z",
     "iopub.status.idle": "2023-03-15T04:02:22.964100Z",
     "shell.execute_reply": "2023-03-15T04:02:22.962689Z"
    },
    "papermill": {
     "duration": 895.769512,
     "end_time": "2023-03-15T04:02:22.968041",
     "exception": false,
     "start_time": "2023-03-15T03:47:27.198529",
     "status": "completed"
    },
    "tags": []
   },
   "outputs": [
    {
     "name": "stderr",
     "output_type": "stream",
     "text": [
      "[Parallel(n_jobs=1)]: Using backend SequentialBackend with 1 concurrent workers.\n",
      "[Parallel(n_jobs=1)]: Done   1 out of   1 | elapsed:    2.1s remaining:    0.0s\n",
      "[Parallel(n_jobs=1)]: Done  34 out of  34 | elapsed:  1.2min finished\n",
      "\n",
      "[2023-03-15 03:48:39] Features: 33/10 -- score: 0.8565795546280892[Parallel(n_jobs=1)]: Using backend SequentialBackend with 1 concurrent workers.\n",
      "[Parallel(n_jobs=1)]: Done   1 out of   1 | elapsed:    2.1s remaining:    0.0s\n",
      "[Parallel(n_jobs=1)]: Done  33 out of  33 | elapsed:  1.1min finished\n",
      "\n",
      "[2023-03-15 03:49:46] Features: 32/10 -- score: 0.8570627153629052[Parallel(n_jobs=1)]: Using backend SequentialBackend with 1 concurrent workers.\n",
      "[Parallel(n_jobs=1)]: Done   1 out of   1 | elapsed:    1.9s remaining:    0.0s\n",
      "[Parallel(n_jobs=1)]: Done  32 out of  32 | elapsed:  1.0min finished\n",
      "\n",
      "[2023-03-15 03:50:48] Features: 31/10 -- score: 0.8576386964321646[Parallel(n_jobs=1)]: Using backend SequentialBackend with 1 concurrent workers.\n",
      "[Parallel(n_jobs=1)]: Done   1 out of   1 | elapsed:    1.9s remaining:    0.0s\n",
      "[Parallel(n_jobs=1)]: Done  31 out of  31 | elapsed:   59.4s finished\n",
      "\n",
      "[2023-03-15 03:51:47] Features: 30/10 -- score: 0.858710346650205[Parallel(n_jobs=1)]: Using backend SequentialBackend with 1 concurrent workers.\n",
      "[Parallel(n_jobs=1)]: Done   1 out of   1 | elapsed:    1.9s remaining:    0.0s\n",
      "[Parallel(n_jobs=1)]: Done  30 out of  30 | elapsed:   56.5s finished\n",
      "\n",
      "[2023-03-15 03:52:44] Features: 29/10 -- score: 0.8588848050682278[Parallel(n_jobs=1)]: Using backend SequentialBackend with 1 concurrent workers.\n",
      "[Parallel(n_jobs=1)]: Done   1 out of   1 | elapsed:    1.8s remaining:    0.0s\n",
      "[Parallel(n_jobs=1)]: Done  29 out of  29 | elapsed:   51.4s finished\n",
      "\n",
      "[2023-03-15 03:53:35] Features: 28/10 -- score: 0.861804116055848[Parallel(n_jobs=1)]: Using backend SequentialBackend with 1 concurrent workers.\n",
      "[Parallel(n_jobs=1)]: Done   1 out of   1 | elapsed:    1.8s remaining:    0.0s\n",
      "[Parallel(n_jobs=1)]: Done  28 out of  28 | elapsed:   49.4s finished\n",
      "\n",
      "[2023-03-15 03:54:25] Features: 27/10 -- score: 0.8609076377315544[Parallel(n_jobs=1)]: Using backend SequentialBackend with 1 concurrent workers.\n",
      "[Parallel(n_jobs=1)]: Done   1 out of   1 | elapsed:    1.7s remaining:    0.0s\n",
      "[Parallel(n_jobs=1)]: Done  27 out of  27 | elapsed:   47.3s finished\n",
      "\n",
      "[2023-03-15 03:55:12] Features: 26/10 -- score: 0.8611298136440384[Parallel(n_jobs=1)]: Using backend SequentialBackend with 1 concurrent workers.\n",
      "[Parallel(n_jobs=1)]: Done   1 out of   1 | elapsed:    1.6s remaining:    0.0s\n",
      "[Parallel(n_jobs=1)]: Done  26 out of  26 | elapsed:   43.0s finished\n",
      "\n",
      "[2023-03-15 03:55:55] Features: 25/10 -- score: 0.8629924134571532[Parallel(n_jobs=1)]: Using backend SequentialBackend with 1 concurrent workers.\n",
      "[Parallel(n_jobs=1)]: Done   1 out of   1 | elapsed:    1.6s remaining:    0.0s\n",
      "[Parallel(n_jobs=1)]: Done  25 out of  25 | elapsed:   40.8s finished\n",
      "\n",
      "[2023-03-15 03:56:36] Features: 24/10 -- score: 0.8622467997955653[Parallel(n_jobs=1)]: Using backend SequentialBackend with 1 concurrent workers.\n",
      "[Parallel(n_jobs=1)]: Done   1 out of   1 | elapsed:    1.6s remaining:    0.0s\n",
      "[Parallel(n_jobs=1)]: Done  24 out of  24 | elapsed:   38.4s finished\n",
      "\n",
      "[2023-03-15 03:57:14] Features: 23/10 -- score: 0.8625636783687284[Parallel(n_jobs=1)]: Using backend SequentialBackend with 1 concurrent workers.\n",
      "[Parallel(n_jobs=1)]: Done   1 out of   1 | elapsed:    1.6s remaining:    0.0s\n",
      "[Parallel(n_jobs=1)]: Done  23 out of  23 | elapsed:   36.7s finished\n",
      "\n",
      "[2023-03-15 03:57:51] Features: 22/10 -- score: 0.8594565193271722[Parallel(n_jobs=1)]: Using backend SequentialBackend with 1 concurrent workers.\n",
      "[Parallel(n_jobs=1)]: Done   1 out of   1 | elapsed:    1.5s remaining:    0.0s\n",
      "[Parallel(n_jobs=1)]: Done  22 out of  22 | elapsed:   34.3s finished\n",
      "\n",
      "[2023-03-15 03:58:25] Features: 21/10 -- score: 0.8606031897935479[Parallel(n_jobs=1)]: Using backend SequentialBackend with 1 concurrent workers.\n",
      "[Parallel(n_jobs=1)]: Done   1 out of   1 | elapsed:    1.5s remaining:    0.0s\n",
      "[Parallel(n_jobs=1)]: Done  21 out of  21 | elapsed:   32.5s finished\n",
      "\n",
      "[2023-03-15 03:58:58] Features: 20/10 -- score: 0.860419308679986[Parallel(n_jobs=1)]: Using backend SequentialBackend with 1 concurrent workers.\n",
      "[Parallel(n_jobs=1)]: Done   1 out of   1 | elapsed:    1.5s remaining:    0.0s\n",
      "[Parallel(n_jobs=1)]: Done  20 out of  20 | elapsed:   29.9s finished\n",
      "\n",
      "[2023-03-15 03:59:28] Features: 19/10 -- score: 0.8587560121718615[Parallel(n_jobs=1)]: Using backend SequentialBackend with 1 concurrent workers.\n",
      "[Parallel(n_jobs=1)]: Done   1 out of   1 | elapsed:    1.4s remaining:    0.0s\n",
      "[Parallel(n_jobs=1)]: Done  19 out of  19 | elapsed:   27.3s finished\n",
      "\n",
      "[2023-03-15 03:59:55] Features: 18/10 -- score: 0.8578475521951714[Parallel(n_jobs=1)]: Using backend SequentialBackend with 1 concurrent workers.\n",
      "[Parallel(n_jobs=1)]: Done   1 out of   1 | elapsed:    1.4s remaining:    0.0s\n",
      "[Parallel(n_jobs=1)]: Done  18 out of  18 | elapsed:   26.1s finished\n",
      "\n",
      "[2023-03-15 04:00:21] Features: 17/10 -- score: 0.8600697861258909[Parallel(n_jobs=1)]: Using backend SequentialBackend with 1 concurrent workers.\n",
      "[Parallel(n_jobs=1)]: Done   1 out of   1 | elapsed:    1.3s remaining:    0.0s\n",
      "[Parallel(n_jobs=1)]: Done  17 out of  17 | elapsed:   23.0s finished\n",
      "\n",
      "[2023-03-15 04:00:44] Features: 16/10 -- score: 0.8587130185725808[Parallel(n_jobs=1)]: Using backend SequentialBackend with 1 concurrent workers.\n",
      "[Parallel(n_jobs=1)]: Done   1 out of   1 | elapsed:    1.3s remaining:    0.0s\n",
      "[Parallel(n_jobs=1)]: Done  16 out of  16 | elapsed:   21.1s finished\n",
      "\n",
      "[2023-03-15 04:01:05] Features: 15/10 -- score: 0.8599957355592247[Parallel(n_jobs=1)]: Using backend SequentialBackend with 1 concurrent workers.\n",
      "[Parallel(n_jobs=1)]: Done   1 out of   1 | elapsed:    1.3s remaining:    0.0s\n",
      "[Parallel(n_jobs=1)]: Done  15 out of  15 | elapsed:   19.1s finished\n",
      "\n",
      "[2023-03-15 04:01:24] Features: 14/10 -- score: 0.8582552627217716[Parallel(n_jobs=1)]: Using backend SequentialBackend with 1 concurrent workers.\n",
      "[Parallel(n_jobs=1)]: Done   1 out of   1 | elapsed:    1.2s remaining:    0.0s\n",
      "[Parallel(n_jobs=1)]: Done  14 out of  14 | elapsed:   16.8s finished\n",
      "\n",
      "[2023-03-15 04:01:41] Features: 13/10 -- score: 0.855535813693815[Parallel(n_jobs=1)]: Using backend SequentialBackend with 1 concurrent workers.\n",
      "[Parallel(n_jobs=1)]: Done   1 out of   1 | elapsed:    1.2s remaining:    0.0s\n",
      "[Parallel(n_jobs=1)]: Done  13 out of  13 | elapsed:   15.6s finished\n",
      "\n",
      "[2023-03-15 04:01:57] Features: 12/10 -- score: 0.8562966376724196[Parallel(n_jobs=1)]: Using backend SequentialBackend with 1 concurrent workers.\n",
      "[Parallel(n_jobs=1)]: Done   1 out of   1 | elapsed:    1.2s remaining:    0.0s\n",
      "[Parallel(n_jobs=1)]: Done  12 out of  12 | elapsed:   13.9s finished\n",
      "\n",
      "[2023-03-15 04:02:11] Features: 11/10 -- score: 0.8553485874701782[Parallel(n_jobs=1)]: Using backend SequentialBackend with 1 concurrent workers.\n",
      "[Parallel(n_jobs=1)]: Done   1 out of   1 | elapsed:    1.1s remaining:    0.0s\n",
      "[Parallel(n_jobs=1)]: Done  11 out of  11 | elapsed:   11.8s finished\n",
      "\n",
      "[2023-03-15 04:02:22] Features: 10/10 -- score: 0.8518893612543946"
     ]
    }
   ],
   "source": [
    "# step backward feature elimination\n",
    "sfs1 = SFS(RandomForestRegressor(), \n",
    "           k_features=10, \n",
    "           forward=False, \n",
    "           floating=False, \n",
    "           verbose=2,\n",
    "           scoring='r2',\n",
    "           cv=3)\n",
    "\n",
    "sfs1 = sfs1.fit(np.array(X_train), y_train)"
   ]
  },
  {
   "cell_type": "code",
   "execution_count": 37,
   "id": "1be0dae0",
   "metadata": {
    "execution": {
     "iopub.execute_input": "2023-03-15T04:02:23.015110Z",
     "iopub.status.busy": "2023-03-15T04:02:23.014663Z",
     "iopub.status.idle": "2023-03-15T04:02:23.022334Z",
     "shell.execute_reply": "2023-03-15T04:02:23.021259Z"
    },
    "papermill": {
     "duration": 0.035696,
     "end_time": "2023-03-15T04:02:23.024928",
     "exception": false,
     "start_time": "2023-03-15T04:02:22.989232",
     "status": "completed"
    },
    "tags": []
   },
   "outputs": [
    {
     "data": {
      "text/plain": [
       "(3, 4, 5, 6, 8, 9, 16, 24, 26, 32)"
      ]
     },
     "execution_count": 37,
     "metadata": {},
     "output_type": "execute_result"
    }
   ],
   "source": [
    "sfs1.k_feature_idx_"
   ]
  },
  {
   "cell_type": "code",
   "execution_count": 38,
   "id": "1ca46538",
   "metadata": {
    "execution": {
     "iopub.execute_input": "2023-03-15T04:02:23.069618Z",
     "iopub.status.busy": "2023-03-15T04:02:23.069110Z",
     "iopub.status.idle": "2023-03-15T04:02:23.078181Z",
     "shell.execute_reply": "2023-03-15T04:02:23.076659Z"
    },
    "papermill": {
     "duration": 0.034952,
     "end_time": "2023-03-15T04:02:23.081264",
     "exception": false,
     "start_time": "2023-03-15T04:02:23.046312",
     "status": "completed"
    },
    "tags": []
   },
   "outputs": [
    {
     "data": {
      "text/plain": [
       "Index(['LotArea', 'OverallQual', 'OverallCond', 'YearBuilt', 'MasVnrArea',\n",
       "       'BsmtFinSF1', 'GrLivArea', 'GarageCars', 'OpenPorchSF', 'MoSold'],\n",
       "      dtype='object')"
      ]
     },
     "execution_count": 38,
     "metadata": {},
     "output_type": "execute_result"
    }
   ],
   "source": [
    "X_train.columns[list(sfs1.k_feature_idx_)]"
   ]
  },
  {
   "cell_type": "markdown",
   "id": "fad6d39a",
   "metadata": {
    "papermill": {
     "duration": 0.019816,
     "end_time": "2023-03-15T04:02:23.121467",
     "exception": false,
     "start_time": "2023-03-15T04:02:23.101651",
     "status": "completed"
    },
    "tags": []
   },
   "source": [
    "# Embedded Methods"
   ]
  },
  {
   "cell_type": "markdown",
   "id": "4e159c1e",
   "metadata": {
    "papermill": {
     "duration": 0.021308,
     "end_time": "2023-03-15T04:02:23.163670",
     "exception": false,
     "start_time": "2023-03-15T04:02:23.142362",
     "status": "completed"
    },
    "tags": []
   },
   "source": [
    "## Lasso Regression"
   ]
  },
  {
   "cell_type": "code",
   "execution_count": 39,
   "id": "404e9a1c",
   "metadata": {
    "execution": {
     "iopub.execute_input": "2023-03-15T04:02:23.207655Z",
     "iopub.status.busy": "2023-03-15T04:02:23.207155Z",
     "iopub.status.idle": "2023-03-15T04:02:23.212379Z",
     "shell.execute_reply": "2023-03-15T04:02:23.211291Z"
    },
    "papermill": {
     "duration": 0.030615,
     "end_time": "2023-03-15T04:02:23.214967",
     "exception": false,
     "start_time": "2023-03-15T04:02:23.184352",
     "status": "completed"
    },
    "tags": []
   },
   "outputs": [],
   "source": [
    "from sklearn.linear_model import Lasso\n",
    "from sklearn.feature_selection import SelectFromModel\n",
    "from sklearn.preprocessing import StandardScaler"
   ]
  },
  {
   "cell_type": "code",
   "execution_count": 40,
   "id": "b9133ff3",
   "metadata": {
    "execution": {
     "iopub.execute_input": "2023-03-15T04:02:23.258891Z",
     "iopub.status.busy": "2023-03-15T04:02:23.258412Z",
     "iopub.status.idle": "2023-03-15T04:02:23.319675Z",
     "shell.execute_reply": "2023-03-15T04:02:23.318207Z"
    },
    "papermill": {
     "duration": 0.086948,
     "end_time": "2023-03-15T04:02:23.322969",
     "exception": false,
     "start_time": "2023-03-15T04:02:23.236021",
     "status": "completed"
    },
    "tags": []
   },
   "outputs": [
    {
     "data": {
      "text/plain": [
       "(1460, 81)"
      ]
     },
     "execution_count": 40,
     "metadata": {},
     "output_type": "execute_result"
    }
   ],
   "source": [
    "# load dataset\n",
    "data = pd.read_csv('/kaggle/input/house-prices-advanced-regression-techniques/train.csv')\n",
    "data.shape"
   ]
  },
  {
   "cell_type": "code",
   "execution_count": 41,
   "id": "3bbcdfa6",
   "metadata": {
    "execution": {
     "iopub.execute_input": "2023-03-15T04:02:23.366969Z",
     "iopub.status.busy": "2023-03-15T04:02:23.366146Z",
     "iopub.status.idle": "2023-03-15T04:02:23.384005Z",
     "shell.execute_reply": "2023-03-15T04:02:23.383016Z"
    },
    "papermill": {
     "duration": 0.042581,
     "end_time": "2023-03-15T04:02:23.386576",
     "exception": false,
     "start_time": "2023-03-15T04:02:23.343995",
     "status": "completed"
    },
    "tags": []
   },
   "outputs": [
    {
     "data": {
      "text/plain": [
       "((1022, 37), (438, 37))"
      ]
     },
     "execution_count": 41,
     "metadata": {},
     "output_type": "execute_result"
    }
   ],
   "source": [
    "numerics = ['int16', 'int32', 'int64', 'float16', 'float32', 'float64']\n",
    "numerical_vars = list(data.select_dtypes(include=numerics).columns)\n",
    "data = data[numerical_vars]\n",
    "data.shape\n",
    "\n",
    "# separate train and test sets\n",
    "X_train, X_test, y_train, y_test = train_test_split(\n",
    "                                                    data.drop(labels=['SalePrice'], axis=1),\n",
    "                                                    data['SalePrice'],\n",
    "                                                    test_size=0.3,\n",
    "                                                    random_state=0)\n",
    "\n",
    "X_train.shape, X_test.shape"
   ]
  },
  {
   "cell_type": "code",
   "execution_count": 42,
   "id": "c105bf27",
   "metadata": {
    "execution": {
     "iopub.execute_input": "2023-03-15T04:02:23.432456Z",
     "iopub.status.busy": "2023-03-15T04:02:23.431143Z",
     "iopub.status.idle": "2023-03-15T04:02:23.444715Z",
     "shell.execute_reply": "2023-03-15T04:02:23.443122Z"
    },
    "papermill": {
     "duration": 0.039977,
     "end_time": "2023-03-15T04:02:23.447664",
     "exception": false,
     "start_time": "2023-03-15T04:02:23.407687",
     "status": "completed"
    },
    "tags": []
   },
   "outputs": [
    {
     "data": {
      "text/plain": [
       "StandardScaler()"
      ]
     },
     "execution_count": 42,
     "metadata": {},
     "output_type": "execute_result"
    }
   ],
   "source": [
    "scaler = StandardScaler()\n",
    "scaler.fit(X_train.fillna(0))"
   ]
  },
  {
   "cell_type": "code",
   "execution_count": 43,
   "id": "9733b81d",
   "metadata": {
    "execution": {
     "iopub.execute_input": "2023-03-15T04:02:23.491638Z",
     "iopub.status.busy": "2023-03-15T04:02:23.491124Z",
     "iopub.status.idle": "2023-03-15T04:02:23.530183Z",
     "shell.execute_reply": "2023-03-15T04:02:23.528626Z"
    },
    "papermill": {
     "duration": 0.065545,
     "end_time": "2023-03-15T04:02:23.533795",
     "exception": false,
     "start_time": "2023-03-15T04:02:23.468250",
     "status": "completed"
    },
    "tags": []
   },
   "outputs": [
    {
     "data": {
      "text/plain": [
       "SelectFromModel(estimator=Lasso(alpha=100))"
      ]
     },
     "execution_count": 43,
     "metadata": {},
     "output_type": "execute_result"
    }
   ],
   "source": [
    "lasso = SelectFromModel(Lasso(alpha=100))\n",
    "lasso.fit(scaler.transform(X_train.fillna(0)), y_train)"
   ]
  },
  {
   "cell_type": "code",
   "execution_count": 44,
   "id": "e659b798",
   "metadata": {
    "execution": {
     "iopub.execute_input": "2023-03-15T04:02:23.605006Z",
     "iopub.status.busy": "2023-03-15T04:02:23.604313Z",
     "iopub.status.idle": "2023-03-15T04:02:23.614580Z",
     "shell.execute_reply": "2023-03-15T04:02:23.613250Z"
    },
    "papermill": {
     "duration": 0.049798,
     "end_time": "2023-03-15T04:02:23.617885",
     "exception": false,
     "start_time": "2023-03-15T04:02:23.568087",
     "status": "completed"
    },
    "tags": []
   },
   "outputs": [
    {
     "data": {
      "text/plain": [
       "array([False,  True,  True,  True,  True,  True,  True,  True,  True,\n",
       "        True,  True, False,  True, False,  True,  True,  True,  True,\n",
       "        True,  True,  True,  True,  True,  True,  True,  True,  True,\n",
       "        True,  True,  True,  True,  True,  True,  True, False,  True,\n",
       "        True])"
      ]
     },
     "execution_count": 44,
     "metadata": {},
     "output_type": "execute_result"
    }
   ],
   "source": [
    "lasso.get_support()"
   ]
  },
  {
   "cell_type": "code",
   "execution_count": 45,
   "id": "d600fa1b",
   "metadata": {
    "execution": {
     "iopub.execute_input": "2023-03-15T04:02:23.672147Z",
     "iopub.status.busy": "2023-03-15T04:02:23.671584Z",
     "iopub.status.idle": "2023-03-15T04:02:23.680330Z",
     "shell.execute_reply": "2023-03-15T04:02:23.678775Z"
    },
    "papermill": {
     "duration": 0.034329,
     "end_time": "2023-03-15T04:02:23.683065",
     "exception": false,
     "start_time": "2023-03-15T04:02:23.648736",
     "status": "completed"
    },
    "tags": []
   },
   "outputs": [
    {
     "name": "stdout",
     "output_type": "stream",
     "text": [
      "total features: 37\n",
      "selected features: 33\n",
      "features with coefficients shrank to zero: 4\n"
     ]
    }
   ],
   "source": [
    "# make a list with the selected features and print the outputs\n",
    "selected_feat = X_train.columns[(lasso.get_support())]\n",
    "\n",
    "print('total features: {}'.format((X_train.shape[1])))\n",
    "print('selected features: {}'.format(len(selected_feat)))\n",
    "print('features with coefficients shrank to zero: {}'.format(\n",
    "    np.sum(lasso.estimator_.coef_ == 0)))"
   ]
  },
  {
   "cell_type": "code",
   "execution_count": null,
   "id": "945d7868",
   "metadata": {
    "papermill": {
     "duration": 0.021181,
     "end_time": "2023-03-15T04:02:23.725596",
     "exception": false,
     "start_time": "2023-03-15T04:02:23.704415",
     "status": "completed"
    },
    "tags": []
   },
   "outputs": [],
   "source": []
  }
 ],
 "metadata": {
  "kernelspec": {
   "display_name": "Python 3",
   "language": "python",
   "name": "python3"
  },
  "language_info": {
   "codemirror_mode": {
    "name": "ipython",
    "version": 3
   },
   "file_extension": ".py",
   "mimetype": "text/x-python",
   "name": "python",
   "nbconvert_exporter": "python",
   "pygments_lexer": "ipython3",
   "version": "3.7.12"
  },
  "papermill": {
   "default_parameters": {},
   "duration": 1103.032082,
   "end_time": "2023-03-15T04:02:24.775436",
   "environment_variables": {},
   "exception": null,
   "input_path": "__notebook__.ipynb",
   "output_path": "__notebook__.ipynb",
   "parameters": {},
   "start_time": "2023-03-15T03:44:01.743354",
   "version": "2.4.0"
  }
 },
 "nbformat": 4,
 "nbformat_minor": 5
}
