{
 "cells": [
  {
   "cell_type": "code",
   "execution_count": 1,
   "id": "7ea5b2e9",
   "metadata": {
    "_cell_guid": "b1076dfc-b9ad-4769-8c92-a6c4dae69d19",
    "_uuid": "8f2839f25d086af736a60e9eeb907d3b93b6e0e5",
    "execution": {
     "iopub.execute_input": "2023-03-15T03:02:36.604934Z",
     "iopub.status.busy": "2023-03-15T03:02:36.603647Z",
     "iopub.status.idle": "2023-03-15T03:02:37.874469Z",
     "shell.execute_reply": "2023-03-15T03:02:37.873380Z"
    },
    "papermill": {
     "duration": 1.285881,
     "end_time": "2023-03-15T03:02:37.877476",
     "exception": false,
     "start_time": "2023-03-15T03:02:36.591595",
     "status": "completed"
    },
    "tags": []
   },
   "outputs": [],
   "source": [
    "import pandas as pd\n",
    "import numpy as np\n",
    "import matplotlib.pyplot as plt\n",
    "import seaborn as sns\n",
    "\n",
    "from pylab import rcParams\n",
    "rcParams['figure.figsize']=20,8\n",
    "plt.style.use('ggplot')\n",
    "\n",
    "# Ignore harmless warnings\n",
    "import warnings\n",
    "warnings.filterwarnings(\"ignore\")"
   ]
  },
  {
   "cell_type": "code",
   "execution_count": 2,
   "id": "d3991f67",
   "metadata": {
    "execution": {
     "iopub.execute_input": "2023-03-15T03:02:37.896787Z",
     "iopub.status.busy": "2023-03-15T03:02:37.895817Z",
     "iopub.status.idle": "2023-03-15T03:02:40.050704Z",
     "shell.execute_reply": "2023-03-15T03:02:40.049429Z"
    },
    "papermill": {
     "duration": 2.167773,
     "end_time": "2023-03-15T03:02:40.053825",
     "exception": false,
     "start_time": "2023-03-15T03:02:37.886052",
     "status": "completed"
    },
    "tags": []
   },
   "outputs": [],
   "source": [
    "X_train = pd.read_csv('/kaggle/input/santander-customer-satisfaction/train.csv', nrows=35000)\n",
    "X_test = pd.read_csv('/kaggle/input/santander-customer-satisfaction/test.csv', nrows=15000)"
   ]
  },
  {
   "cell_type": "code",
   "execution_count": 3,
   "id": "9370905b",
   "metadata": {
    "execution": {
     "iopub.execute_input": "2023-03-15T03:02:40.072748Z",
     "iopub.status.busy": "2023-03-15T03:02:40.072301Z",
     "iopub.status.idle": "2023-03-15T03:02:40.118137Z",
     "shell.execute_reply": "2023-03-15T03:02:40.116501Z"
    },
    "papermill": {
     "duration": 0.058928,
     "end_time": "2023-03-15T03:02:40.121120",
     "exception": false,
     "start_time": "2023-03-15T03:02:40.062192",
     "status": "completed"
    },
    "tags": []
   },
   "outputs": [],
   "source": [
    "# drop TARGET label from X_train\n",
    "X_train.drop(labels=['TARGET'], axis=1, inplace = True)"
   ]
  },
  {
   "cell_type": "code",
   "execution_count": 4,
   "id": "33c6fefe",
   "metadata": {
    "execution": {
     "iopub.execute_input": "2023-03-15T03:02:40.139919Z",
     "iopub.status.busy": "2023-03-15T03:02:40.139464Z",
     "iopub.status.idle": "2023-03-15T03:02:40.148595Z",
     "shell.execute_reply": "2023-03-15T03:02:40.147347Z"
    },
    "papermill": {
     "duration": 0.021151,
     "end_time": "2023-03-15T03:02:40.150931",
     "exception": false,
     "start_time": "2023-03-15T03:02:40.129780",
     "status": "completed"
    },
    "tags": []
   },
   "outputs": [
    {
     "data": {
      "text/plain": [
       "((35000, 370), (15000, 370))"
      ]
     },
     "execution_count": 4,
     "metadata": {},
     "output_type": "execute_result"
    }
   ],
   "source": [
    "# check shape of training and test sets\n",
    "X_train.shape, X_test.shape"
   ]
  },
  {
   "cell_type": "markdown",
   "id": "044ed73f",
   "metadata": {
    "papermill": {
     "duration": 0.007958,
     "end_time": "2023-03-15T03:02:40.167329",
     "exception": false,
     "start_time": "2023-03-15T03:02:40.159371",
     "status": "completed"
    },
    "tags": []
   },
   "source": [
    "# Filter Methods"
   ]
  },
  {
   "cell_type": "markdown",
   "id": "862e2375",
   "metadata": {
    "papermill": {
     "duration": 0.007963,
     "end_time": "2023-03-15T03:02:40.183583",
     "exception": false,
     "start_time": "2023-03-15T03:02:40.175620",
     "status": "completed"
    },
    "tags": []
   },
   "source": [
    "## Variance Threshold"
   ]
  },
  {
   "cell_type": "code",
   "execution_count": 5,
   "id": "f65fb357",
   "metadata": {
    "execution": {
     "iopub.execute_input": "2023-03-15T03:02:40.202417Z",
     "iopub.status.busy": "2023-03-15T03:02:40.201944Z",
     "iopub.status.idle": "2023-03-15T03:02:40.864182Z",
     "shell.execute_reply": "2023-03-15T03:02:40.862924Z"
    },
    "papermill": {
     "duration": 0.675031,
     "end_time": "2023-03-15T03:02:40.867008",
     "exception": false,
     "start_time": "2023-03-15T03:02:40.191977",
     "status": "completed"
    },
    "tags": []
   },
   "outputs": [
    {
     "data": {
      "text/plain": [
       "VarianceThreshold(threshold=0)"
      ]
     },
     "execution_count": 5,
     "metadata": {},
     "output_type": "execute_result"
    }
   ],
   "source": [
    "from sklearn.feature_selection import VarianceThreshold\n",
    "sel = VarianceThreshold(threshold=0)\n",
    "sel.fit(X_train)"
   ]
  },
  {
   "cell_type": "code",
   "execution_count": 6,
   "id": "aa7e8a02",
   "metadata": {
    "execution": {
     "iopub.execute_input": "2023-03-15T03:02:40.887405Z",
     "iopub.status.busy": "2023-03-15T03:02:40.886932Z",
     "iopub.status.idle": "2023-03-15T03:02:40.935625Z",
     "shell.execute_reply": "2023-03-15T03:02:40.933401Z"
    },
    "papermill": {
     "duration": 0.062319,
     "end_time": "2023-03-15T03:02:40.938977",
     "exception": false,
     "start_time": "2023-03-15T03:02:40.876658",
     "status": "completed"
    },
    "tags": []
   },
   "outputs": [
    {
     "name": "stdout",
     "output_type": "stream",
     "text": [
      "51\n"
     ]
    },
    {
     "data": {
      "text/plain": [
       "['ind_var2_0',\n",
       " 'ind_var2',\n",
       " 'ind_var18_0',\n",
       " 'ind_var18',\n",
       " 'ind_var27_0',\n",
       " 'ind_var28_0',\n",
       " 'ind_var28',\n",
       " 'ind_var27',\n",
       " 'ind_var34_0',\n",
       " 'ind_var34',\n",
       " 'ind_var41',\n",
       " 'ind_var46_0',\n",
       " 'ind_var46',\n",
       " 'num_var18_0',\n",
       " 'num_var18',\n",
       " 'num_var27_0',\n",
       " 'num_var28_0',\n",
       " 'num_var28',\n",
       " 'num_var27',\n",
       " 'num_var34_0',\n",
       " 'num_var34',\n",
       " 'num_var41',\n",
       " 'num_var46_0',\n",
       " 'num_var46',\n",
       " 'saldo_var18',\n",
       " 'saldo_var28',\n",
       " 'saldo_var27',\n",
       " 'saldo_var34',\n",
       " 'saldo_var41',\n",
       " 'saldo_var46',\n",
       " 'delta_imp_amort_var18_1y3',\n",
       " 'delta_imp_amort_var34_1y3',\n",
       " 'imp_amort_var18_hace3',\n",
       " 'imp_amort_var18_ult1',\n",
       " 'imp_amort_var34_hace3',\n",
       " 'imp_amort_var34_ult1',\n",
       " 'imp_reemb_var13_hace3',\n",
       " 'imp_reemb_var17_hace3',\n",
       " 'imp_reemb_var33_hace3',\n",
       " 'imp_trasp_var17_out_hace3',\n",
       " 'imp_trasp_var33_out_hace3',\n",
       " 'num_var2_0_ult1',\n",
       " 'num_var2_ult1',\n",
       " 'num_reemb_var13_hace3',\n",
       " 'num_reemb_var17_hace3',\n",
       " 'num_reemb_var33_hace3',\n",
       " 'num_trasp_var17_out_hace3',\n",
       " 'num_trasp_var33_out_hace3',\n",
       " 'saldo_var2_ult1',\n",
       " 'saldo_medio_var13_medio_hace3',\n",
       " 'saldo_medio_var29_hace3']"
      ]
     },
     "execution_count": 6,
     "metadata": {},
     "output_type": "execute_result"
    }
   ],
   "source": [
    "print(\n",
    "    len([\n",
    "        x for x in X_train.columns\n",
    "        if x not in X_train.columns[sel.get_support()]\n",
    "    ]))\n",
    "\n",
    "\n",
    "[x for x in X_train.columns if x not in X_train.columns[sel.get_support()]]"
   ]
  },
  {
   "cell_type": "code",
   "execution_count": 7,
   "id": "a3494572",
   "metadata": {
    "execution": {
     "iopub.execute_input": "2023-03-15T03:02:40.958927Z",
     "iopub.status.busy": "2023-03-15T03:02:40.958484Z",
     "iopub.status.idle": "2023-03-15T03:02:41.060665Z",
     "shell.execute_reply": "2023-03-15T03:02:41.059474Z"
    },
    "papermill": {
     "duration": 0.115694,
     "end_time": "2023-03-15T03:02:41.063758",
     "exception": false,
     "start_time": "2023-03-15T03:02:40.948064",
     "status": "completed"
    },
    "tags": []
   },
   "outputs": [],
   "source": [
    "# we can then drop these columns from the train and test sets\n",
    "X_train = sel.transform(X_train)\n",
    "X_test = sel.transform(X_test)"
   ]
  },
  {
   "cell_type": "code",
   "execution_count": 8,
   "id": "92cecce4",
   "metadata": {
    "execution": {
     "iopub.execute_input": "2023-03-15T03:02:41.083031Z",
     "iopub.status.busy": "2023-03-15T03:02:41.082588Z",
     "iopub.status.idle": "2023-03-15T03:02:41.090298Z",
     "shell.execute_reply": "2023-03-15T03:02:41.088974Z"
    },
    "papermill": {
     "duration": 0.020623,
     "end_time": "2023-03-15T03:02:41.093103",
     "exception": false,
     "start_time": "2023-03-15T03:02:41.072480",
     "status": "completed"
    },
    "tags": []
   },
   "outputs": [
    {
     "data": {
      "text/plain": [
       "((35000, 319), (15000, 319))"
      ]
     },
     "execution_count": 8,
     "metadata": {},
     "output_type": "execute_result"
    }
   ],
   "source": [
    "# check the shape of training and test set\n",
    "X_train.shape, X_test.shape"
   ]
  },
  {
   "cell_type": "markdown",
   "id": "ee38ec1c",
   "metadata": {
    "papermill": {
     "duration": 0.008461,
     "end_time": "2023-03-15T03:02:41.110622",
     "exception": false,
     "start_time": "2023-03-15T03:02:41.102161",
     "status": "completed"
    },
    "tags": []
   },
   "source": [
    "### Removing quasi-constant features"
   ]
  },
  {
   "cell_type": "code",
   "execution_count": 9,
   "id": "678ac14a",
   "metadata": {
    "execution": {
     "iopub.execute_input": "2023-03-15T03:02:41.131163Z",
     "iopub.status.busy": "2023-03-15T03:02:41.130401Z",
     "iopub.status.idle": "2023-03-15T03:02:42.423116Z",
     "shell.execute_reply": "2023-03-15T03:02:42.421725Z"
    },
    "papermill": {
     "duration": 1.306848,
     "end_time": "2023-03-15T03:02:42.426255",
     "exception": false,
     "start_time": "2023-03-15T03:02:41.119407",
     "status": "completed"
    },
    "tags": []
   },
   "outputs": [
    {
     "data": {
      "text/plain": [
       "((35000, 370), (15000, 370))"
      ]
     },
     "execution_count": 9,
     "metadata": {},
     "output_type": "execute_result"
    }
   ],
   "source": [
    "X_train = pd.read_csv('/kaggle/input/santander-customer-satisfaction/train.csv', nrows=35000)\n",
    "X_test = pd.read_csv('/kaggle/input/santander-customer-satisfaction/test.csv', nrows=15000)\n",
    "\n",
    "# drop TARGET label from X_train\n",
    "X_train.drop(labels=['TARGET'], axis=1, inplace = True)\n",
    "\n",
    "# check shape of training and test sets\n",
    "X_train.shape, X_test.shape"
   ]
  },
  {
   "cell_type": "code",
   "execution_count": 10,
   "id": "0c00e0e7",
   "metadata": {
    "execution": {
     "iopub.execute_input": "2023-03-15T03:02:42.446031Z",
     "iopub.status.busy": "2023-03-15T03:02:42.445590Z",
     "iopub.status.idle": "2023-03-15T03:02:42.617580Z",
     "shell.execute_reply": "2023-03-15T03:02:42.616192Z"
    },
    "papermill": {
     "duration": 0.185486,
     "end_time": "2023-03-15T03:02:42.620722",
     "exception": false,
     "start_time": "2023-03-15T03:02:42.435236",
     "status": "completed"
    },
    "tags": []
   },
   "outputs": [
    {
     "data": {
      "text/plain": [
       "VarianceThreshold(threshold=0.01)"
      ]
     },
     "execution_count": 10,
     "metadata": {},
     "output_type": "execute_result"
    }
   ],
   "source": [
    "from sklearn.feature_selection import VarianceThreshold\n",
    "sel = VarianceThreshold(threshold=0.01)\n",
    "sel.fit(X_train)"
   ]
  },
  {
   "cell_type": "code",
   "execution_count": 11,
   "id": "c55c4e46",
   "metadata": {
    "execution": {
     "iopub.execute_input": "2023-03-15T03:02:42.641168Z",
     "iopub.status.busy": "2023-03-15T03:02:42.640716Z",
     "iopub.status.idle": "2023-03-15T03:02:42.682198Z",
     "shell.execute_reply": "2023-03-15T03:02:42.680649Z"
    },
    "papermill": {
     "duration": 0.055826,
     "end_time": "2023-03-15T03:02:42.685985",
     "exception": false,
     "start_time": "2023-03-15T03:02:42.630159",
     "status": "completed"
    },
    "tags": []
   },
   "outputs": [
    {
     "name": "stdout",
     "output_type": "stream",
     "text": [
      "107\n"
     ]
    },
    {
     "data": {
      "text/plain": [
       "['ind_var1',\n",
       " 'ind_var2_0',\n",
       " 'ind_var2',\n",
       " 'ind_var6_0',\n",
       " 'ind_var6',\n",
       " 'ind_var13_largo',\n",
       " 'ind_var13_medio_0',\n",
       " 'ind_var13_medio',\n",
       " 'ind_var14',\n",
       " 'ind_var17_0',\n",
       " 'ind_var17',\n",
       " 'ind_var18_0',\n",
       " 'ind_var18',\n",
       " 'ind_var19',\n",
       " 'ind_var20_0',\n",
       " 'ind_var20',\n",
       " 'ind_var27_0',\n",
       " 'ind_var28_0',\n",
       " 'ind_var28',\n",
       " 'ind_var27',\n",
       " 'ind_var29_0',\n",
       " 'ind_var29',\n",
       " 'ind_var30_0',\n",
       " 'ind_var31_0',\n",
       " 'ind_var31',\n",
       " 'ind_var32_cte',\n",
       " 'ind_var32_0',\n",
       " 'ind_var32',\n",
       " 'ind_var33_0',\n",
       " 'ind_var33',\n",
       " 'ind_var34_0',\n",
       " 'ind_var34',\n",
       " 'ind_var40',\n",
       " 'ind_var41',\n",
       " 'ind_var39',\n",
       " 'ind_var44_0',\n",
       " 'ind_var44',\n",
       " 'ind_var46_0',\n",
       " 'ind_var46',\n",
       " 'num_var6_0',\n",
       " 'num_var6',\n",
       " 'num_var13_medio_0',\n",
       " 'num_var13_medio',\n",
       " 'num_var18_0',\n",
       " 'num_var18',\n",
       " 'num_op_var40_hace3',\n",
       " 'num_var27_0',\n",
       " 'num_var28_0',\n",
       " 'num_var28',\n",
       " 'num_var27',\n",
       " 'num_var29_0',\n",
       " 'num_var29',\n",
       " 'num_var33',\n",
       " 'num_var34_0',\n",
       " 'num_var34',\n",
       " 'num_var41',\n",
       " 'num_var46_0',\n",
       " 'num_var46',\n",
       " 'saldo_var18',\n",
       " 'saldo_var28',\n",
       " 'saldo_var27',\n",
       " 'saldo_var34',\n",
       " 'saldo_var41',\n",
       " 'saldo_var46',\n",
       " 'delta_imp_amort_var18_1y3',\n",
       " 'delta_imp_amort_var34_1y3',\n",
       " 'delta_imp_aport_var33_1y3',\n",
       " 'delta_num_aport_var33_1y3',\n",
       " 'imp_amort_var18_hace3',\n",
       " 'imp_amort_var18_ult1',\n",
       " 'imp_amort_var34_hace3',\n",
       " 'imp_amort_var34_ult1',\n",
       " 'imp_reemb_var13_hace3',\n",
       " 'imp_reemb_var17_hace3',\n",
       " 'imp_reemb_var33_hace3',\n",
       " 'imp_trasp_var17_out_hace3',\n",
       " 'imp_trasp_var33_out_hace3',\n",
       " 'ind_var7_emit_ult1',\n",
       " 'ind_var7_recib_ult1',\n",
       " 'num_var2_0_ult1',\n",
       " 'num_var2_ult1',\n",
       " 'num_aport_var33_hace3',\n",
       " 'num_aport_var33_ult1',\n",
       " 'num_var7_emit_ult1',\n",
       " 'num_meses_var13_medio_ult3',\n",
       " 'num_meses_var17_ult3',\n",
       " 'num_meses_var29_ult3',\n",
       " 'num_meses_var33_ult3',\n",
       " 'num_meses_var44_ult3',\n",
       " 'num_reemb_var13_hace3',\n",
       " 'num_reemb_var13_ult1',\n",
       " 'num_reemb_var17_hace3',\n",
       " 'num_reemb_var17_ult1',\n",
       " 'num_reemb_var33_hace3',\n",
       " 'num_reemb_var33_ult1',\n",
       " 'num_trasp_var17_in_hace3',\n",
       " 'num_trasp_var17_in_ult1',\n",
       " 'num_trasp_var17_out_hace3',\n",
       " 'num_trasp_var17_out_ult1',\n",
       " 'num_trasp_var33_in_hace3',\n",
       " 'num_trasp_var33_in_ult1',\n",
       " 'num_trasp_var33_out_hace3',\n",
       " 'num_trasp_var33_out_ult1',\n",
       " 'num_venta_var44_hace3',\n",
       " 'saldo_var2_ult1',\n",
       " 'saldo_medio_var13_medio_hace3',\n",
       " 'saldo_medio_var29_hace3']"
      ]
     },
     "execution_count": 11,
     "metadata": {},
     "output_type": "execute_result"
    }
   ],
   "source": [
    "print(\n",
    "    len([\n",
    "        x for x in X_train.columns\n",
    "        if x not in X_train.columns[sel.get_support()]\n",
    "    ]))\n",
    "\n",
    "\n",
    "[x for x in X_train.columns if x not in X_train.columns[sel.get_support()]]"
   ]
  },
  {
   "cell_type": "code",
   "execution_count": 12,
   "id": "a6438896",
   "metadata": {
    "execution": {
     "iopub.execute_input": "2023-03-15T03:02:42.707627Z",
     "iopub.status.busy": "2023-03-15T03:02:42.706392Z",
     "iopub.status.idle": "2023-03-15T03:02:42.798802Z",
     "shell.execute_reply": "2023-03-15T03:02:42.797356Z"
    },
    "papermill": {
     "duration": 0.106455,
     "end_time": "2023-03-15T03:02:42.802007",
     "exception": false,
     "start_time": "2023-03-15T03:02:42.695552",
     "status": "completed"
    },
    "tags": []
   },
   "outputs": [],
   "source": [
    "# we can then remove the features from training and test set\n",
    "X_train = sel.transform(X_train)\n",
    "X_test = sel.transform(X_test)"
   ]
  },
  {
   "cell_type": "code",
   "execution_count": 13,
   "id": "dcc37053",
   "metadata": {
    "execution": {
     "iopub.execute_input": "2023-03-15T03:02:42.822976Z",
     "iopub.status.busy": "2023-03-15T03:02:42.822487Z",
     "iopub.status.idle": "2023-03-15T03:02:42.830689Z",
     "shell.execute_reply": "2023-03-15T03:02:42.829270Z"
    },
    "papermill": {
     "duration": 0.021972,
     "end_time": "2023-03-15T03:02:42.833535",
     "exception": false,
     "start_time": "2023-03-15T03:02:42.811563",
     "status": "completed"
    },
    "tags": []
   },
   "outputs": [
    {
     "data": {
      "text/plain": [
       "((35000, 263), (15000, 263))"
      ]
     },
     "execution_count": 13,
     "metadata": {},
     "output_type": "execute_result"
    }
   ],
   "source": [
    "# check the shape of training and test set\n",
    "X_train.shape, X_test.shape"
   ]
  },
  {
   "cell_type": "markdown",
   "id": "7bc1bde7",
   "metadata": {
    "papermill": {
     "duration": 0.009153,
     "end_time": "2023-03-15T03:02:42.852312",
     "exception": false,
     "start_time": "2023-03-15T03:02:42.843159",
     "status": "completed"
    },
    "tags": []
   },
   "source": [
    "## Univariate Selection Methods"
   ]
  },
  {
   "cell_type": "markdown",
   "id": "1134467e",
   "metadata": {
    "papermill": {
     "duration": 0.009124,
     "end_time": "2023-03-15T03:02:42.870933",
     "exception": false,
     "start_time": "2023-03-15T03:02:42.861809",
     "status": "completed"
    },
    "tags": []
   },
   "source": [
    "### SelectKBest\n",
    "* We can perform a chi-square test to the samples to retrieve only the two best features from iris dataset as follows"
   ]
  },
  {
   "cell_type": "code",
   "execution_count": 14,
   "id": "71681c5d",
   "metadata": {
    "execution": {
     "iopub.execute_input": "2023-03-15T03:02:42.892482Z",
     "iopub.status.busy": "2023-03-15T03:02:42.892050Z",
     "iopub.status.idle": "2023-03-15T03:02:42.987866Z",
     "shell.execute_reply": "2023-03-15T03:02:42.986471Z"
    },
    "papermill": {
     "duration": 0.109799,
     "end_time": "2023-03-15T03:02:42.990845",
     "exception": false,
     "start_time": "2023-03-15T03:02:42.881046",
     "status": "completed"
    },
    "tags": []
   },
   "outputs": [
    {
     "data": {
      "text/plain": [
       "(150, 4)"
      ]
     },
     "execution_count": 14,
     "metadata": {},
     "output_type": "execute_result"
    }
   ],
   "source": [
    "from sklearn.datasets import load_iris\n",
    "from sklearn.feature_selection import SelectKBest, chi2\n",
    "X, y = load_iris(return_X_y=True)\n",
    "X.shape"
   ]
  },
  {
   "cell_type": "code",
   "execution_count": 15,
   "id": "3942f1a2",
   "metadata": {
    "execution": {
     "iopub.execute_input": "2023-03-15T03:02:43.012821Z",
     "iopub.status.busy": "2023-03-15T03:02:43.012365Z",
     "iopub.status.idle": "2023-03-15T03:02:43.027910Z",
     "shell.execute_reply": "2023-03-15T03:02:43.026398Z"
    },
    "papermill": {
     "duration": 0.03025,
     "end_time": "2023-03-15T03:02:43.030845",
     "exception": false,
     "start_time": "2023-03-15T03:02:43.000595",
     "status": "completed"
    },
    "tags": []
   },
   "outputs": [
    {
     "data": {
      "text/plain": [
       "(150, 2)"
      ]
     },
     "execution_count": 15,
     "metadata": {},
     "output_type": "execute_result"
    }
   ],
   "source": [
    "# select the two best features\n",
    "X_new = SelectKBest(chi2, k=2).fit_transform(X, y)\n",
    "X_new.shape"
   ]
  },
  {
   "cell_type": "markdown",
   "id": "6be9b63e",
   "metadata": {
    "papermill": {
     "duration": 0.009287,
     "end_time": "2023-03-15T03:02:43.049965",
     "exception": false,
     "start_time": "2023-03-15T03:02:43.040678",
     "status": "completed"
    },
    "tags": []
   },
   "source": [
    "### SelectPercentile\n",
    "* Select features according to a percentile of the highest scores"
   ]
  },
  {
   "cell_type": "code",
   "execution_count": 16,
   "id": "b016a5ab",
   "metadata": {
    "execution": {
     "iopub.execute_input": "2023-03-15T03:02:43.071496Z",
     "iopub.status.busy": "2023-03-15T03:02:43.070553Z",
     "iopub.status.idle": "2023-03-15T03:02:43.167175Z",
     "shell.execute_reply": "2023-03-15T03:02:43.165950Z"
    },
    "papermill": {
     "duration": 0.110165,
     "end_time": "2023-03-15T03:02:43.169757",
     "exception": false,
     "start_time": "2023-03-15T03:02:43.059592",
     "status": "completed"
    },
    "tags": []
   },
   "outputs": [
    {
     "data": {
      "text/plain": [
       "(1797, 64)"
      ]
     },
     "execution_count": 16,
     "metadata": {},
     "output_type": "execute_result"
    }
   ],
   "source": [
    "from sklearn.datasets import load_digits\n",
    "from sklearn.feature_selection import SelectPercentile, chi2\n",
    "X, y = load_digits(return_X_y=True)\n",
    "X.shape"
   ]
  },
  {
   "cell_type": "code",
   "execution_count": 17,
   "id": "d2d4f115",
   "metadata": {
    "execution": {
     "iopub.execute_input": "2023-03-15T03:02:43.191383Z",
     "iopub.status.busy": "2023-03-15T03:02:43.190976Z",
     "iopub.status.idle": "2023-03-15T03:02:43.206062Z",
     "shell.execute_reply": "2023-03-15T03:02:43.204643Z"
    },
    "papermill": {
     "duration": 0.030237,
     "end_time": "2023-03-15T03:02:43.209791",
     "exception": false,
     "start_time": "2023-03-15T03:02:43.179554",
     "status": "completed"
    },
    "tags": []
   },
   "outputs": [
    {
     "data": {
      "text/plain": [
       "(1797, 7)"
      ]
     },
     "execution_count": 17,
     "metadata": {},
     "output_type": "execute_result"
    }
   ],
   "source": [
    "# now select features based on top 10 percentile\n",
    "X_new = SelectPercentile(chi2, percentile=10).fit_transform(X, y)\n",
    "X_new.shape"
   ]
  },
  {
   "cell_type": "markdown",
   "id": "9aecc200",
   "metadata": {
    "papermill": {
     "duration": 0.017567,
     "end_time": "2023-03-15T03:02:43.245116",
     "exception": false,
     "start_time": "2023-03-15T03:02:43.227549",
     "status": "completed"
    },
    "tags": []
   },
   "source": [
    "## ANOVA F-value For Feature Selection\n",
    "* If the features are categorical, we will calculate a chi-square statistic between each feature and the target vector. However, if the features are quantitative, we will compute the ANOVA F-value between each feature and the target vector."
   ]
  },
  {
   "cell_type": "code",
   "execution_count": 18,
   "id": "3bb3f875",
   "metadata": {
    "execution": {
     "iopub.execute_input": "2023-03-15T03:02:43.283894Z",
     "iopub.status.busy": "2023-03-15T03:02:43.282632Z",
     "iopub.status.idle": "2023-03-15T03:02:43.292396Z",
     "shell.execute_reply": "2023-03-15T03:02:43.290806Z"
    },
    "papermill": {
     "duration": 0.033088,
     "end_time": "2023-03-15T03:02:43.296183",
     "exception": false,
     "start_time": "2023-03-15T03:02:43.263095",
     "status": "completed"
    },
    "tags": []
   },
   "outputs": [],
   "source": [
    "from sklearn.feature_selection import f_classif\n",
    "\n",
    "# Load iris data\n",
    "iris = load_iris()\n",
    "\n",
    "# Create features and target\n",
    "X = iris.data\n",
    "y = iris.target"
   ]
  },
  {
   "cell_type": "code",
   "execution_count": 19,
   "id": "ad3cdcb2",
   "metadata": {
    "execution": {
     "iopub.execute_input": "2023-03-15T03:02:43.329315Z",
     "iopub.status.busy": "2023-03-15T03:02:43.328868Z",
     "iopub.status.idle": "2023-03-15T03:02:43.337026Z",
     "shell.execute_reply": "2023-03-15T03:02:43.335602Z"
    },
    "papermill": {
     "duration": 0.025511,
     "end_time": "2023-03-15T03:02:43.339728",
     "exception": false,
     "start_time": "2023-03-15T03:02:43.314217",
     "status": "completed"
    },
    "tags": []
   },
   "outputs": [],
   "source": [
    "# Create an SelectKBest object to select features with two best ANOVA F-Values\n",
    "fvalue_selector = SelectKBest(f_classif, k=2)\n",
    "\n",
    "# Apply the SelectKBest object to the features and target\n",
    "X_kbest = fvalue_selector.fit_transform(X, y)"
   ]
  },
  {
   "cell_type": "code",
   "execution_count": 20,
   "id": "e416e47b",
   "metadata": {
    "execution": {
     "iopub.execute_input": "2023-03-15T03:02:43.362947Z",
     "iopub.status.busy": "2023-03-15T03:02:43.362495Z",
     "iopub.status.idle": "2023-03-15T03:02:43.370414Z",
     "shell.execute_reply": "2023-03-15T03:02:43.368987Z"
    },
    "papermill": {
     "duration": 0.022706,
     "end_time": "2023-03-15T03:02:43.373111",
     "exception": false,
     "start_time": "2023-03-15T03:02:43.350405",
     "status": "completed"
    },
    "tags": []
   },
   "outputs": [],
   "source": [
    "# Create an SelectKBest object to select features with two best ANOVA F-Values\n",
    "fvalue_selector = SelectKBest(f_classif, k=2)\n",
    "\n",
    "# Apply the SelectKBest object to the features and target\n",
    "X_kbest = fvalue_selector.fit_transform(X, y)"
   ]
  },
  {
   "cell_type": "code",
   "execution_count": 21,
   "id": "12fce8aa",
   "metadata": {
    "execution": {
     "iopub.execute_input": "2023-03-15T03:02:43.396250Z",
     "iopub.status.busy": "2023-03-15T03:02:43.395132Z",
     "iopub.status.idle": "2023-03-15T03:02:43.401011Z",
     "shell.execute_reply": "2023-03-15T03:02:43.400091Z"
    },
    "papermill": {
     "duration": 0.021033,
     "end_time": "2023-03-15T03:02:43.404098",
     "exception": false,
     "start_time": "2023-03-15T03:02:43.383065",
     "status": "completed"
    },
    "tags": []
   },
   "outputs": [
    {
     "name": "stdout",
     "output_type": "stream",
     "text": [
      "Original number of features: 4\n",
      "Reduced number of features: 2\n"
     ]
    }
   ],
   "source": [
    "# View results\n",
    "print('Original number of features:', X.shape[1])\n",
    "print('Reduced number of features:', X_kbest.shape[1])"
   ]
  },
  {
   "cell_type": "markdown",
   "id": "7a8d5625",
   "metadata": {
    "papermill": {
     "duration": 0.009558,
     "end_time": "2023-03-15T03:02:43.424313",
     "exception": false,
     "start_time": "2023-03-15T03:02:43.414755",
     "status": "completed"
    },
    "tags": []
   },
   "source": [
    "## Fisher Score\n",
    "* This score should be used to evaluate categorical variables in a classification task. It compares the observed distribution of the different classes of target Y among the different categories of the feature, against the expected distribution of the target classes, regardless of the feature categories."
   ]
  },
  {
   "cell_type": "code",
   "execution_count": 22,
   "id": "46e6d673",
   "metadata": {
    "execution": {
     "iopub.execute_input": "2023-03-15T03:02:43.446669Z",
     "iopub.status.busy": "2023-03-15T03:02:43.445686Z",
     "iopub.status.idle": "2023-03-15T03:02:43.452861Z",
     "shell.execute_reply": "2023-03-15T03:02:43.451729Z"
    },
    "papermill": {
     "duration": 0.021302,
     "end_time": "2023-03-15T03:02:43.455548",
     "exception": false,
     "start_time": "2023-03-15T03:02:43.434246",
     "status": "completed"
    },
    "tags": []
   },
   "outputs": [],
   "source": [
    "from sklearn.feature_selection import SelectKBest, chi2\n",
    "\n",
    "# Load iris data\n",
    "iris = load_iris()\n",
    "\n",
    "# Create features and target\n",
    "X = iris.data\n",
    "y = iris.target\n",
    "\n",
    "# convert to categorical data by converting data to integers\n",
    "X = X.astype(int)"
   ]
  },
  {
   "cell_type": "code",
   "execution_count": 23,
   "id": "1bf303c1",
   "metadata": {
    "execution": {
     "iopub.execute_input": "2023-03-15T03:02:43.478539Z",
     "iopub.status.busy": "2023-03-15T03:02:43.477833Z",
     "iopub.status.idle": "2023-03-15T03:02:43.484958Z",
     "shell.execute_reply": "2023-03-15T03:02:43.483442Z"
    },
    "papermill": {
     "duration": 0.022285,
     "end_time": "2023-03-15T03:02:43.488310",
     "exception": false,
     "start_time": "2023-03-15T03:02:43.466025",
     "status": "completed"
    },
    "tags": []
   },
   "outputs": [],
   "source": [
    "# select two features with highest chi-squared statistics\n",
    "chi2_selector = SelectKBest(chi2, k=2)\n",
    "X_kbest = chi2_selector.fit_transform(X, y)"
   ]
  },
  {
   "cell_type": "code",
   "execution_count": 24,
   "id": "dd594b48",
   "metadata": {
    "execution": {
     "iopub.execute_input": "2023-03-15T03:02:43.511260Z",
     "iopub.status.busy": "2023-03-15T03:02:43.510745Z",
     "iopub.status.idle": "2023-03-15T03:02:43.518736Z",
     "shell.execute_reply": "2023-03-15T03:02:43.517091Z"
    },
    "papermill": {
     "duration": 0.023275,
     "end_time": "2023-03-15T03:02:43.521786",
     "exception": false,
     "start_time": "2023-03-15T03:02:43.498511",
     "status": "completed"
    },
    "tags": []
   },
   "outputs": [
    {
     "name": "stdout",
     "output_type": "stream",
     "text": [
      "Original number of features: 4\n",
      "Reduced number of features: 2\n"
     ]
    }
   ],
   "source": [
    "# View results\n",
    "print('Original number of features:', X.shape[1])\n",
    "print('Reduced number of features:', X_kbest.shape[1])"
   ]
  },
  {
   "cell_type": "markdown",
   "id": "61b4fe54",
   "metadata": {
    "papermill": {
     "duration": 0.010957,
     "end_time": "2023-03-15T03:02:43.543002",
     "exception": false,
     "start_time": "2023-03-15T03:02:43.532045",
     "status": "completed"
    },
    "tags": []
   },
   "source": [
    "# In summary, Fisher score is better suited for binary classification problems, while ANOVA F-value is better suited for identifying relevant features in datasets with categorical features and continuous target variables."
   ]
  },
  {
   "cell_type": "markdown",
   "id": "594ad9d6",
   "metadata": {
    "papermill": {
     "duration": 0.00972,
     "end_time": "2023-03-15T03:02:43.562987",
     "exception": false,
     "start_time": "2023-03-15T03:02:43.553267",
     "status": "completed"
    },
    "tags": []
   },
   "source": [
    "# Wrapper Methods"
   ]
  },
  {
   "cell_type": "markdown",
   "id": "768f7e30",
   "metadata": {
    "papermill": {
     "duration": 0.009795,
     "end_time": "2023-03-15T03:02:43.582845",
     "exception": false,
     "start_time": "2023-03-15T03:02:43.573050",
     "status": "completed"
    },
    "tags": []
   },
   "source": [
    "## Forward Selection"
   ]
  },
  {
   "cell_type": "code",
   "execution_count": 25,
   "id": "0c419f79",
   "metadata": {
    "execution": {
     "iopub.execute_input": "2023-03-15T03:02:43.604598Z",
     "iopub.status.busy": "2023-03-15T03:02:43.604152Z",
     "iopub.status.idle": "2023-03-15T03:02:43.799230Z",
     "shell.execute_reply": "2023-03-15T03:02:43.798066Z"
    },
    "papermill": {
     "duration": 0.209496,
     "end_time": "2023-03-15T03:02:43.802300",
     "exception": false,
     "start_time": "2023-03-15T03:02:43.592804",
     "status": "completed"
    },
    "tags": []
   },
   "outputs": [],
   "source": [
    "from sklearn.model_selection import train_test_split\n",
    "from sklearn.ensemble import RandomForestRegressor\n",
    "from sklearn.metrics import r2_score\n",
    "from mlxtend.feature_selection import SequentialFeatureSelector as SFS"
   ]
  },
  {
   "cell_type": "code",
   "execution_count": null,
   "id": "0b56c3c2",
   "metadata": {
    "papermill": {
     "duration": 0.00966,
     "end_time": "2023-03-15T03:02:43.822158",
     "exception": false,
     "start_time": "2023-03-15T03:02:43.812498",
     "status": "completed"
    },
    "tags": []
   },
   "outputs": [],
   "source": []
  }
 ],
 "metadata": {
  "kernelspec": {
   "display_name": "Python 3",
   "language": "python",
   "name": "python3"
  },
  "language_info": {
   "codemirror_mode": {
    "name": "ipython",
    "version": 3
   },
   "file_extension": ".py",
   "mimetype": "text/x-python",
   "name": "python",
   "nbconvert_exporter": "python",
   "pygments_lexer": "ipython3",
   "version": "3.7.12"
  },
  "papermill": {
   "default_parameters": {},
   "duration": 19.525181,
   "end_time": "2023-03-15T03:02:44.655536",
   "environment_variables": {},
   "exception": null,
   "input_path": "__notebook__.ipynb",
   "output_path": "__notebook__.ipynb",
   "parameters": {},
   "start_time": "2023-03-15T03:02:25.130355",
   "version": "2.4.0"
  }
 },
 "nbformat": 4,
 "nbformat_minor": 5
}
