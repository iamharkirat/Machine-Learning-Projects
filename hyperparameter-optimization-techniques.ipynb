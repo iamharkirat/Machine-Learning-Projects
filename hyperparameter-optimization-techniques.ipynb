{
 "cells": [
  {
   "cell_type": "code",
   "execution_count": 1,
   "id": "fe615f3d",
   "metadata": {
    "_cell_guid": "b1076dfc-b9ad-4769-8c92-a6c4dae69d19",
    "_uuid": "8f2839f25d086af736a60e9eeb907d3b93b6e0e5",
    "execution": {
     "iopub.execute_input": "2023-03-14T09:44:48.699924Z",
     "iopub.status.busy": "2023-03-14T09:44:48.699349Z",
     "iopub.status.idle": "2023-03-14T09:44:50.353106Z",
     "shell.execute_reply": "2023-03-14T09:44:50.352136Z"
    },
    "papermill": {
     "duration": 1.665585,
     "end_time": "2023-03-14T09:44:50.356085",
     "exception": false,
     "start_time": "2023-03-14T09:44:48.690500",
     "status": "completed"
    },
    "tags": []
   },
   "outputs": [],
   "source": [
    "import pandas as pd\n",
    "import numpy as np\n",
    "from sklearn.ensemble import RandomForestClassifier\n",
    "import matplotlib.pyplot as plt\n",
    "import seaborn as sns\n",
    "from sklearn.metrics import accuracy_score\n",
    "from sklearn.metrics import confusion_matrix\n",
    "from sklearn.metrics import f1_score\n",
    "\n",
    "from pylab import rcParams\n",
    "rcParams['figure.figsize']=20,8\n",
    "plt.style.use('ggplot')\n",
    "\n",
    "# Ignore harmless warnings\n",
    "import warnings\n",
    "warnings.filterwarnings(\"ignore\")"
   ]
  },
  {
   "cell_type": "code",
   "execution_count": 2,
   "id": "1cceb4be",
   "metadata": {
    "execution": {
     "iopub.execute_input": "2023-03-14T09:44:50.369649Z",
     "iopub.status.busy": "2023-03-14T09:44:50.368369Z",
     "iopub.status.idle": "2023-03-14T09:44:50.435922Z",
     "shell.execute_reply": "2023-03-14T09:44:50.434339Z"
    },
    "papermill": {
     "duration": 0.077837,
     "end_time": "2023-03-14T09:44:50.439499",
     "exception": false,
     "start_time": "2023-03-14T09:44:50.361662",
     "status": "completed"
    },
    "tags": []
   },
   "outputs": [
    {
     "data": {
      "text/html": [
       "<div>\n",
       "<style scoped>\n",
       "    .dataframe tbody tr th:only-of-type {\n",
       "        vertical-align: middle;\n",
       "    }\n",
       "\n",
       "    .dataframe tbody tr th {\n",
       "        vertical-align: top;\n",
       "    }\n",
       "\n",
       "    .dataframe thead th {\n",
       "        text-align: right;\n",
       "    }\n",
       "</style>\n",
       "<table border=\"1\" class=\"dataframe\">\n",
       "  <thead>\n",
       "    <tr style=\"text-align: right;\">\n",
       "      <th></th>\n",
       "      <th>id</th>\n",
       "      <th>diagnosis</th>\n",
       "      <th>radius_mean</th>\n",
       "      <th>texture_mean</th>\n",
       "      <th>perimeter_mean</th>\n",
       "      <th>area_mean</th>\n",
       "      <th>smoothness_mean</th>\n",
       "      <th>compactness_mean</th>\n",
       "      <th>concavity_mean</th>\n",
       "      <th>concave points_mean</th>\n",
       "      <th>...</th>\n",
       "      <th>texture_worst</th>\n",
       "      <th>perimeter_worst</th>\n",
       "      <th>area_worst</th>\n",
       "      <th>smoothness_worst</th>\n",
       "      <th>compactness_worst</th>\n",
       "      <th>concavity_worst</th>\n",
       "      <th>concave points_worst</th>\n",
       "      <th>symmetry_worst</th>\n",
       "      <th>fractal_dimension_worst</th>\n",
       "      <th>Unnamed: 32</th>\n",
       "    </tr>\n",
       "  </thead>\n",
       "  <tbody>\n",
       "    <tr>\n",
       "      <th>0</th>\n",
       "      <td>842302</td>\n",
       "      <td>M</td>\n",
       "      <td>17.99</td>\n",
       "      <td>10.38</td>\n",
       "      <td>122.80</td>\n",
       "      <td>1001.0</td>\n",
       "      <td>0.11840</td>\n",
       "      <td>0.27760</td>\n",
       "      <td>0.3001</td>\n",
       "      <td>0.14710</td>\n",
       "      <td>...</td>\n",
       "      <td>17.33</td>\n",
       "      <td>184.60</td>\n",
       "      <td>2019.0</td>\n",
       "      <td>0.1622</td>\n",
       "      <td>0.6656</td>\n",
       "      <td>0.7119</td>\n",
       "      <td>0.2654</td>\n",
       "      <td>0.4601</td>\n",
       "      <td>0.11890</td>\n",
       "      <td>NaN</td>\n",
       "    </tr>\n",
       "    <tr>\n",
       "      <th>1</th>\n",
       "      <td>842517</td>\n",
       "      <td>M</td>\n",
       "      <td>20.57</td>\n",
       "      <td>17.77</td>\n",
       "      <td>132.90</td>\n",
       "      <td>1326.0</td>\n",
       "      <td>0.08474</td>\n",
       "      <td>0.07864</td>\n",
       "      <td>0.0869</td>\n",
       "      <td>0.07017</td>\n",
       "      <td>...</td>\n",
       "      <td>23.41</td>\n",
       "      <td>158.80</td>\n",
       "      <td>1956.0</td>\n",
       "      <td>0.1238</td>\n",
       "      <td>0.1866</td>\n",
       "      <td>0.2416</td>\n",
       "      <td>0.1860</td>\n",
       "      <td>0.2750</td>\n",
       "      <td>0.08902</td>\n",
       "      <td>NaN</td>\n",
       "    </tr>\n",
       "    <tr>\n",
       "      <th>2</th>\n",
       "      <td>84300903</td>\n",
       "      <td>M</td>\n",
       "      <td>19.69</td>\n",
       "      <td>21.25</td>\n",
       "      <td>130.00</td>\n",
       "      <td>1203.0</td>\n",
       "      <td>0.10960</td>\n",
       "      <td>0.15990</td>\n",
       "      <td>0.1974</td>\n",
       "      <td>0.12790</td>\n",
       "      <td>...</td>\n",
       "      <td>25.53</td>\n",
       "      <td>152.50</td>\n",
       "      <td>1709.0</td>\n",
       "      <td>0.1444</td>\n",
       "      <td>0.4245</td>\n",
       "      <td>0.4504</td>\n",
       "      <td>0.2430</td>\n",
       "      <td>0.3613</td>\n",
       "      <td>0.08758</td>\n",
       "      <td>NaN</td>\n",
       "    </tr>\n",
       "    <tr>\n",
       "      <th>3</th>\n",
       "      <td>84348301</td>\n",
       "      <td>M</td>\n",
       "      <td>11.42</td>\n",
       "      <td>20.38</td>\n",
       "      <td>77.58</td>\n",
       "      <td>386.1</td>\n",
       "      <td>0.14250</td>\n",
       "      <td>0.28390</td>\n",
       "      <td>0.2414</td>\n",
       "      <td>0.10520</td>\n",
       "      <td>...</td>\n",
       "      <td>26.50</td>\n",
       "      <td>98.87</td>\n",
       "      <td>567.7</td>\n",
       "      <td>0.2098</td>\n",
       "      <td>0.8663</td>\n",
       "      <td>0.6869</td>\n",
       "      <td>0.2575</td>\n",
       "      <td>0.6638</td>\n",
       "      <td>0.17300</td>\n",
       "      <td>NaN</td>\n",
       "    </tr>\n",
       "    <tr>\n",
       "      <th>4</th>\n",
       "      <td>84358402</td>\n",
       "      <td>M</td>\n",
       "      <td>20.29</td>\n",
       "      <td>14.34</td>\n",
       "      <td>135.10</td>\n",
       "      <td>1297.0</td>\n",
       "      <td>0.10030</td>\n",
       "      <td>0.13280</td>\n",
       "      <td>0.1980</td>\n",
       "      <td>0.10430</td>\n",
       "      <td>...</td>\n",
       "      <td>16.67</td>\n",
       "      <td>152.20</td>\n",
       "      <td>1575.0</td>\n",
       "      <td>0.1374</td>\n",
       "      <td>0.2050</td>\n",
       "      <td>0.4000</td>\n",
       "      <td>0.1625</td>\n",
       "      <td>0.2364</td>\n",
       "      <td>0.07678</td>\n",
       "      <td>NaN</td>\n",
       "    </tr>\n",
       "  </tbody>\n",
       "</table>\n",
       "<p>5 rows × 33 columns</p>\n",
       "</div>"
      ],
      "text/plain": [
       "         id diagnosis  radius_mean  texture_mean  perimeter_mean  area_mean  \\\n",
       "0    842302         M        17.99         10.38          122.80     1001.0   \n",
       "1    842517         M        20.57         17.77          132.90     1326.0   \n",
       "2  84300903         M        19.69         21.25          130.00     1203.0   \n",
       "3  84348301         M        11.42         20.38           77.58      386.1   \n",
       "4  84358402         M        20.29         14.34          135.10     1297.0   \n",
       "\n",
       "   smoothness_mean  compactness_mean  concavity_mean  concave points_mean  \\\n",
       "0          0.11840           0.27760          0.3001              0.14710   \n",
       "1          0.08474           0.07864          0.0869              0.07017   \n",
       "2          0.10960           0.15990          0.1974              0.12790   \n",
       "3          0.14250           0.28390          0.2414              0.10520   \n",
       "4          0.10030           0.13280          0.1980              0.10430   \n",
       "\n",
       "   ...  texture_worst  perimeter_worst  area_worst  smoothness_worst  \\\n",
       "0  ...          17.33           184.60      2019.0            0.1622   \n",
       "1  ...          23.41           158.80      1956.0            0.1238   \n",
       "2  ...          25.53           152.50      1709.0            0.1444   \n",
       "3  ...          26.50            98.87       567.7            0.2098   \n",
       "4  ...          16.67           152.20      1575.0            0.1374   \n",
       "\n",
       "   compactness_worst  concavity_worst  concave points_worst  symmetry_worst  \\\n",
       "0             0.6656           0.7119                0.2654          0.4601   \n",
       "1             0.1866           0.2416                0.1860          0.2750   \n",
       "2             0.4245           0.4504                0.2430          0.3613   \n",
       "3             0.8663           0.6869                0.2575          0.6638   \n",
       "4             0.2050           0.4000                0.1625          0.2364   \n",
       "\n",
       "   fractal_dimension_worst  Unnamed: 32  \n",
       "0                  0.11890          NaN  \n",
       "1                  0.08902          NaN  \n",
       "2                  0.08758          NaN  \n",
       "3                  0.17300          NaN  \n",
       "4                  0.07678          NaN  \n",
       "\n",
       "[5 rows x 33 columns]"
      ]
     },
     "execution_count": 2,
     "metadata": {},
     "output_type": "execute_result"
    }
   ],
   "source": [
    "df=pd.read_csv(\"/kaggle/input/breast-cancer-wisconsin-data/data.csv\")\n",
    "df.head()"
   ]
  },
  {
   "cell_type": "code",
   "execution_count": 3,
   "id": "e443275e",
   "metadata": {
    "execution": {
     "iopub.execute_input": "2023-03-14T09:44:50.452829Z",
     "iopub.status.busy": "2023-03-14T09:44:50.452406Z",
     "iopub.status.idle": "2023-03-14T09:44:50.479609Z",
     "shell.execute_reply": "2023-03-14T09:44:50.477111Z"
    },
    "papermill": {
     "duration": 0.037152,
     "end_time": "2023-03-14T09:44:50.482433",
     "exception": false,
     "start_time": "2023-03-14T09:44:50.445281",
     "status": "completed"
    },
    "tags": []
   },
   "outputs": [
    {
     "name": "stdout",
     "output_type": "stream",
     "text": [
      "<class 'pandas.core.frame.DataFrame'>\n",
      "RangeIndex: 569 entries, 0 to 568\n",
      "Data columns (total 33 columns):\n",
      " #   Column                   Non-Null Count  Dtype  \n",
      "---  ------                   --------------  -----  \n",
      " 0   id                       569 non-null    int64  \n",
      " 1   diagnosis                569 non-null    object \n",
      " 2   radius_mean              569 non-null    float64\n",
      " 3   texture_mean             569 non-null    float64\n",
      " 4   perimeter_mean           569 non-null    float64\n",
      " 5   area_mean                569 non-null    float64\n",
      " 6   smoothness_mean          569 non-null    float64\n",
      " 7   compactness_mean         569 non-null    float64\n",
      " 8   concavity_mean           569 non-null    float64\n",
      " 9   concave points_mean      569 non-null    float64\n",
      " 10  symmetry_mean            569 non-null    float64\n",
      " 11  fractal_dimension_mean   569 non-null    float64\n",
      " 12  radius_se                569 non-null    float64\n",
      " 13  texture_se               569 non-null    float64\n",
      " 14  perimeter_se             569 non-null    float64\n",
      " 15  area_se                  569 non-null    float64\n",
      " 16  smoothness_se            569 non-null    float64\n",
      " 17  compactness_se           569 non-null    float64\n",
      " 18  concavity_se             569 non-null    float64\n",
      " 19  concave points_se        569 non-null    float64\n",
      " 20  symmetry_se              569 non-null    float64\n",
      " 21  fractal_dimension_se     569 non-null    float64\n",
      " 22  radius_worst             569 non-null    float64\n",
      " 23  texture_worst            569 non-null    float64\n",
      " 24  perimeter_worst          569 non-null    float64\n",
      " 25  area_worst               569 non-null    float64\n",
      " 26  smoothness_worst         569 non-null    float64\n",
      " 27  compactness_worst        569 non-null    float64\n",
      " 28  concavity_worst          569 non-null    float64\n",
      " 29  concave points_worst     569 non-null    float64\n",
      " 30  symmetry_worst           569 non-null    float64\n",
      " 31  fractal_dimension_worst  569 non-null    float64\n",
      " 32  Unnamed: 32              0 non-null      float64\n",
      "dtypes: float64(31), int64(1), object(1)\n",
      "memory usage: 146.8+ KB\n"
     ]
    }
   ],
   "source": [
    "df.info()"
   ]
  },
  {
   "cell_type": "code",
   "execution_count": 4,
   "id": "a9cb2d14",
   "metadata": {
    "execution": {
     "iopub.execute_input": "2023-03-14T09:44:50.495786Z",
     "iopub.status.busy": "2023-03-14T09:44:50.495367Z",
     "iopub.status.idle": "2023-03-14T09:44:50.505918Z",
     "shell.execute_reply": "2023-03-14T09:44:50.504626Z"
    },
    "papermill": {
     "duration": 0.020234,
     "end_time": "2023-03-14T09:44:50.508524",
     "exception": false,
     "start_time": "2023-03-14T09:44:50.488290",
     "status": "completed"
    },
    "tags": []
   },
   "outputs": [
    {
     "data": {
      "text/plain": [
       "id                           0\n",
       "diagnosis                    0\n",
       "radius_mean                  0\n",
       "texture_mean                 0\n",
       "perimeter_mean               0\n",
       "area_mean                    0\n",
       "smoothness_mean              0\n",
       "compactness_mean             0\n",
       "concavity_mean               0\n",
       "concave points_mean          0\n",
       "symmetry_mean                0\n",
       "fractal_dimension_mean       0\n",
       "radius_se                    0\n",
       "texture_se                   0\n",
       "perimeter_se                 0\n",
       "area_se                      0\n",
       "smoothness_se                0\n",
       "compactness_se               0\n",
       "concavity_se                 0\n",
       "concave points_se            0\n",
       "symmetry_se                  0\n",
       "fractal_dimension_se         0\n",
       "radius_worst                 0\n",
       "texture_worst                0\n",
       "perimeter_worst              0\n",
       "area_worst                   0\n",
       "smoothness_worst             0\n",
       "compactness_worst            0\n",
       "concavity_worst              0\n",
       "concave points_worst         0\n",
       "symmetry_worst               0\n",
       "fractal_dimension_worst      0\n",
       "Unnamed: 32                569\n",
       "dtype: int64"
      ]
     },
     "execution_count": 4,
     "metadata": {},
     "output_type": "execute_result"
    }
   ],
   "source": [
    "df.isna().sum()"
   ]
  },
  {
   "cell_type": "code",
   "execution_count": 5,
   "id": "9d3f0d85",
   "metadata": {
    "execution": {
     "iopub.execute_input": "2023-03-14T09:44:50.523649Z",
     "iopub.status.busy": "2023-03-14T09:44:50.523240Z",
     "iopub.status.idle": "2023-03-14T09:44:50.531722Z",
     "shell.execute_reply": "2023-03-14T09:44:50.530470Z"
    },
    "papermill": {
     "duration": 0.019541,
     "end_time": "2023-03-14T09:44:50.534048",
     "exception": false,
     "start_time": "2023-03-14T09:44:50.514507",
     "status": "completed"
    },
    "tags": []
   },
   "outputs": [],
   "source": [
    "#removing the data\n",
    "y=df['diagnosis']\n",
    "y = y.replace({'M':0,'B':1})\n",
    "\n",
    "df.drop(['id','Unnamed: 32','diagnosis'],axis=1,inplace=True)\n",
    "x=df"
   ]
  },
  {
   "cell_type": "code",
   "execution_count": 6,
   "id": "41425f34",
   "metadata": {
    "execution": {
     "iopub.execute_input": "2023-03-14T09:44:50.547675Z",
     "iopub.status.busy": "2023-03-14T09:44:50.547253Z",
     "iopub.status.idle": "2023-03-14T09:44:50.557360Z",
     "shell.execute_reply": "2023-03-14T09:44:50.556233Z"
    },
    "papermill": {
     "duration": 0.02027,
     "end_time": "2023-03-14T09:44:50.560141",
     "exception": false,
     "start_time": "2023-03-14T09:44:50.539871",
     "status": "completed"
    },
    "tags": []
   },
   "outputs": [],
   "source": [
    "# Train Test Split\n",
    "from sklearn.model_selection import train_test_split\n",
    "x_train,x_test,y_train,y_test=train_test_split(x,y,test_size=0.20,random_state=0, stratify=y)"
   ]
  },
  {
   "cell_type": "code",
   "execution_count": 7,
   "id": "8b3318b0",
   "metadata": {
    "execution": {
     "iopub.execute_input": "2023-03-14T09:44:50.573773Z",
     "iopub.status.busy": "2023-03-14T09:44:50.573357Z",
     "iopub.status.idle": "2023-03-14T09:44:50.581270Z",
     "shell.execute_reply": "2023-03-14T09:44:50.580410Z"
    },
    "papermill": {
     "duration": 0.017728,
     "end_time": "2023-03-14T09:44:50.583856",
     "exception": false,
     "start_time": "2023-03-14T09:44:50.566128",
     "status": "completed"
    },
    "tags": []
   },
   "outputs": [
    {
     "name": "stdout",
     "output_type": "stream",
     "text": [
      "1    285\n",
      "0    170\n",
      "Name: diagnosis, dtype: int64\n",
      "1    72\n",
      "0    42\n",
      "Name: diagnosis, dtype: int64\n"
     ]
    }
   ],
   "source": [
    "print(y_train.value_counts())\n",
    "print(y_test.value_counts())"
   ]
  },
  {
   "cell_type": "markdown",
   "id": "c38068a2",
   "metadata": {
    "papermill": {
     "duration": 0.005536,
     "end_time": "2023-03-14T09:44:50.595315",
     "exception": false,
     "start_time": "2023-03-14T09:44:50.589779",
     "status": "completed"
    },
    "tags": []
   },
   "source": [
    "# GridSearchCV"
   ]
  },
  {
   "cell_type": "code",
   "execution_count": 8,
   "id": "b57e10ff",
   "metadata": {
    "execution": {
     "iopub.execute_input": "2023-03-14T09:44:50.609272Z",
     "iopub.status.busy": "2023-03-14T09:44:50.608805Z",
     "iopub.status.idle": "2023-03-14T09:49:58.443900Z",
     "shell.execute_reply": "2023-03-14T09:49:58.442343Z"
    },
    "papermill": {
     "duration": 307.853437,
     "end_time": "2023-03-14T09:49:58.454732",
     "exception": false,
     "start_time": "2023-03-14T09:44:50.601295",
     "status": "completed"
    },
    "tags": []
   },
   "outputs": [
    {
     "name": "stdout",
     "output_type": "stream",
     "text": [
      "Fitting 5 folds for each of 4704 candidates, totalling 23520 fits\n",
      "Best HyperParameter:  {'criterion': 'gini', 'max_depth': 20, 'max_features': 'auto', 'min_samples_leaf': 1, 'min_samples_split': 5, 'n_estimators': 16}\n",
      "0.9758284435401352\n"
     ]
    }
   ],
   "source": [
    "from sklearn.model_selection import GridSearchCV\n",
    "\n",
    "# define parameters\n",
    "nEstimator = [10,11,12,13,14,15,16]\n",
    "depth = [5,10,20,30,40,50,60]\n",
    "criterion=['entropy', 'gini']\n",
    "min_samples_leaf=[1, 2, 5, 10]\n",
    "min_samples_split=[2, 5, 10, 15]\n",
    "max_features = ['auto', 'sqrt','log2']\n",
    "\n",
    "RF = RandomForestClassifier()\n",
    "hyperParam = [{'n_estimators':nEstimator,\n",
    "               'max_depth': depth,\n",
    "               'criterion':criterion,\n",
    "               'max_features': max_features,\n",
    "               'min_samples_leaf':min_samples_leaf,\n",
    "               'min_samples_split':min_samples_split}]\n",
    "gsv = GridSearchCV(RF,hyperParam,cv=5,verbose=1,scoring='f1_weighted',n_jobs=-1)\n",
    "gsv.fit(x_train,y_train)\n",
    "print(\"Best HyperParameter: \",gsv.best_params_)\n",
    "print(gsv.best_score_)"
   ]
  },
  {
   "cell_type": "code",
   "execution_count": 9,
   "id": "1155436a",
   "metadata": {
    "execution": {
     "iopub.execute_input": "2023-03-14T09:49:58.470327Z",
     "iopub.status.busy": "2023-03-14T09:49:58.469877Z",
     "iopub.status.idle": "2023-03-14T09:49:58.806973Z",
     "shell.execute_reply": "2023-03-14T09:49:58.805746Z"
    },
    "papermill": {
     "duration": 0.348246,
     "end_time": "2023-03-14T09:49:58.809997",
     "exception": false,
     "start_time": "2023-03-14T09:49:58.461751",
     "status": "completed"
    },
    "tags": []
   },
   "outputs": [
    {
     "name": "stdout",
     "output_type": "stream",
     "text": [
      "Accuracy on test set: 92.98%\n",
      "F1-Score on test set: 0.94\n",
      "-------------------- confusion matrix --------------------\n"
     ]
    },
    {
     "data": {
      "image/png": "[encoded data removed]",
      "text/plain": [
       "<Figure size 800x800 with 2 Axes>"
      ]
     },
     "metadata": {},
     "output_type": "display_data"
    }
   ],
   "source": [
    "y_pred=gsv.predict(x_test)\n",
    "print(\"Accuracy on test set: %0.2f%%\"%(accuracy_score(y_test, y_pred)*100))\n",
    "print(\"F1-Score on test set: %0.2f\"%(f1_score(y_test, y_pred)))\n",
    "print(\"-\"*20, \"confusion matrix\", \"-\"*20)\n",
    "plt.figure(figsize=(8,8))\n",
    "df_cm = pd.DataFrame(confusion_matrix(y_test, y_pred), range(2),range(2))\n",
    "sns.set(font_scale=1.4)#for label size\n",
    "sns.heatmap(df_cm, annot=True,annot_kws={\"size\": 16}, fmt='g')\n",
    "plt.xlabel('Predicted Class')\n",
    "plt.ylabel('Original Class')\n",
    "plt.show()"
   ]
  },
  {
   "cell_type": "markdown",
   "id": "aaa2362f",
   "metadata": {
    "papermill": {
     "duration": 0.006336,
     "end_time": "2023-03-14T09:49:58.823417",
     "exception": false,
     "start_time": "2023-03-14T09:49:58.817081",
     "status": "completed"
    },
    "tags": []
   },
   "source": [
    "# RandomizedSearchCV"
   ]
  },
  {
   "cell_type": "code",
   "execution_count": 10,
   "id": "e0673f1e",
   "metadata": {
    "execution": {
     "iopub.execute_input": "2023-03-14T09:49:58.839383Z",
     "iopub.status.busy": "2023-03-14T09:49:58.838351Z",
     "iopub.status.idle": "2023-03-14T09:49:59.541938Z",
     "shell.execute_reply": "2023-03-14T09:49:59.540660Z"
    },
    "papermill": {
     "duration": 0.715055,
     "end_time": "2023-03-14T09:49:59.545231",
     "exception": false,
     "start_time": "2023-03-14T09:49:58.830176",
     "status": "completed"
    },
    "tags": []
   },
   "outputs": [
    {
     "name": "stdout",
     "output_type": "stream",
     "text": [
      "Fitting 5 folds for each of 10 candidates, totalling 50 fits\n",
      "Best HyperParameter:  {'n_estimators': 13, 'min_samples_split': 15, 'min_samples_leaf': 5, 'max_features': 'auto', 'max_depth': 50, 'criterion': 'entropy'}\n",
      "0.9624835797490917\n"
     ]
    }
   ],
   "source": [
    "from sklearn.model_selection import RandomizedSearchCV\n",
    "\n",
    "RF = RandomForestClassifier()\n",
    "hyperParam = [{'n_estimators':nEstimator,\n",
    "               'max_depth': depth,\n",
    "               'criterion':criterion,\n",
    "               'max_features': max_features,\n",
    "               'min_samples_leaf':min_samples_leaf,\n",
    "               'min_samples_split':min_samples_split}]\n",
    "rsv = RandomizedSearchCV(RF,hyperParam,cv=5,verbose=1,scoring='f1_weighted',n_jobs=-1)\n",
    "rsv.fit(x_train,y_train)\n",
    "print(\"Best HyperParameter: \",rsv.best_params_)\n",
    "print(rsv.best_score_)"
   ]
  },
  {
   "cell_type": "code",
   "execution_count": 11,
   "id": "2cf6a5b6",
   "metadata": {
    "execution": {
     "iopub.execute_input": "2023-03-14T09:49:59.561988Z",
     "iopub.status.busy": "2023-03-14T09:49:59.560908Z",
     "iopub.status.idle": "2023-03-14T09:49:59.857817Z",
     "shell.execute_reply": "2023-03-14T09:49:59.856860Z"
    },
    "papermill": {
     "duration": 0.307624,
     "end_time": "2023-03-14T09:49:59.860286",
     "exception": false,
     "start_time": "2023-03-14T09:49:59.552662",
     "status": "completed"
    },
    "tags": []
   },
   "outputs": [
    {
     "name": "stdout",
     "output_type": "stream",
     "text": [
      "Accuracy on test set: 94.74%\n",
      "F1-Score on test set: 0.96\n",
      "-------------------- confusion matrix --------------------\n"
     ]
    },
    {
     "data": {
      "image/png": "[encoded data removed]",
      "text/plain": [
       "<Figure size 800x800 with 2 Axes>"
      ]
     },
     "metadata": {},
     "output_type": "display_data"
    }
   ],
   "source": [
    "y_pred=rsv.predict(x_test)\n",
    "print(\"Accuracy on test set: %0.2f%%\"%(accuracy_score(y_test, y_pred)*100))\n",
    "print(\"F1-Score on test set: %0.2f\"%(f1_score(y_test, y_pred)))\n",
    "print(\"-\"*20, \"confusion matrix\", \"-\"*20)\n",
    "plt.figure(figsize=(8,8))\n",
    "df_cm = pd.DataFrame(confusion_matrix(y_test, y_pred), range(2),range(2))\n",
    "sns.set(font_scale=1.4)#for label size\n",
    "sns.heatmap(df_cm, annot=True,annot_kws={\"size\": 16}, fmt='g')\n",
    "plt.xlabel('Predicted Class')\n",
    "plt.ylabel('Original Class')\n",
    "plt.show()"
   ]
  },
  {
   "cell_type": "markdown",
   "id": "5d7f8d1b",
   "metadata": {
    "papermill": {
     "duration": 0.007207,
     "end_time": "2023-03-14T09:49:59.875207",
     "exception": false,
     "start_time": "2023-03-14T09:49:59.868000",
     "status": "completed"
    },
    "tags": []
   },
   "source": [
    "# Bayesian Optimization"
   ]
  },
  {
   "cell_type": "code",
   "execution_count": 12,
   "id": "31d9a5c6",
   "metadata": {
    "execution": {
     "iopub.execute_input": "2023-03-14T09:49:59.892724Z",
     "iopub.status.busy": "2023-03-14T09:49:59.891525Z",
     "iopub.status.idle": "2023-03-14T09:50:03.565663Z",
     "shell.execute_reply": "2023-03-14T09:50:03.564116Z"
    },
    "papermill": {
     "duration": 3.685725,
     "end_time": "2023-03-14T09:50:03.568401",
     "exception": false,
     "start_time": "2023-03-14T09:49:59.882676",
     "status": "completed"
    },
    "tags": []
   },
   "outputs": [
    {
     "name": "stdout",
     "output_type": "stream",
     "text": [
      "100%|██████████| 20/20 [00:02<00:00,  7.42trial/s, best loss: -0.9560239093308492]\n",
      "CPU times: user 3.27 s, sys: 149 ms, total: 3.42 s\n",
      "Wall time: 3.66 s\n"
     ]
    },
    {
     "data": {
      "text/plain": [
       "{'criterion': 0,\n",
       " 'max_depth': 6,\n",
       " 'max_features': 1,\n",
       " 'min_samples_leaf': 1,\n",
       " 'min_samples_split': 0,\n",
       " 'n_estimators': 2}"
      ]
     },
     "execution_count": 12,
     "metadata": {},
     "output_type": "execute_result"
    }
   ],
   "source": [
    "%%time\n",
    "from hyperopt import hp, fmin, tpe, STATUS_OK, Trials\n",
    "from sklearn.model_selection import cross_val_score\n",
    "from sklearn.metrics import confusion_matrix,classification_report,accuracy_score\n",
    "\n",
    "space = {\n",
    "    \"n_estimators\" : hp.choice('n_estimators',[10,11,12,13,14,15,16]),\n",
    "        \"max_depth\" : hp.choice('max_depth',[5,10,20,30,40,50,60]),\n",
    "        \"criterion\" : hp.choice(\"criterion\",['entropy', 'gini']),\n",
    "        \"min_samples_leaf\" : hp.choice(\"min_samples_leaf\",[1, 2, 5, 10]),\n",
    "        \"min_samples_split\" : hp.choice(\"min_samples_split\",[2, 5, 10, 15]),\n",
    "        \"max_features\" : hp.choice(\"max_features\",['auto', 'sqrt','log2'])\n",
    "    }\n",
    "\n",
    "def objective(space):\n",
    "    model = RandomForestClassifier(criterion = space['criterion'], \n",
    "                                   max_depth = space['max_depth'],\n",
    "                                   min_samples_leaf = space['min_samples_leaf'],\n",
    "                                   min_samples_split = space['min_samples_split'],\n",
    "                                   n_estimators = space['n_estimators'], \n",
    "                                   )\n",
    "    \n",
    "    accuracy = cross_val_score(model, x_train, y_train, cv =4).mean()\n",
    "\n",
    "    # We aim to maximize accuracy, therefore we return it as a negative value\n",
    "    return {'loss': -accuracy, 'status': STATUS_OK }\n",
    "    \n",
    "trials = Trials()\n",
    "best = fmin(fn= objective,\n",
    "            space= space,\n",
    "            algo= tpe.suggest,\n",
    "            max_evals = 20,\n",
    "            trials= trials)\n",
    "best"
   ]
  },
  {
   "cell_type": "code",
   "execution_count": 13,
   "id": "422c29ce",
   "metadata": {
    "execution": {
     "iopub.execute_input": "2023-03-14T09:50:03.589714Z",
     "iopub.status.busy": "2023-03-14T09:50:03.589297Z",
     "iopub.status.idle": "2023-03-14T09:50:03.596121Z",
     "shell.execute_reply": "2023-03-14T09:50:03.595193Z"
    },
    "papermill": {
     "duration": 0.020408,
     "end_time": "2023-03-14T09:50:03.598397",
     "exception": false,
     "start_time": "2023-03-14T09:50:03.577989",
     "status": "completed"
    },
    "tags": []
   },
   "outputs": [],
   "source": [
    "criterion = {0: 'entropy', \n",
    "             1: 'gini'}\n",
    "estimator = {0: '10', \n",
    "             1: '11', \n",
    "             2: '12', \n",
    "             3: '13', \n",
    "             4: '14',\n",
    "             5:'15',\n",
    "             6:'16'}\n",
    "max_depth={0:5,\n",
    "           1:10,\n",
    "           2:20,\n",
    "           3:30,\n",
    "           4:40,\n",
    "           5:50,\n",
    "           6:60}\n",
    "min_samples_leaf={0:1, \n",
    "                  1:2, \n",
    "                  2:5, \n",
    "                  3:10}\n",
    "min_samples_split={0:2, \n",
    "                   1:5, \n",
    "                   2:10, \n",
    "                   3:15}\n",
    "max_features={0:'auto', \n",
    "              1:'sqrt',\n",
    "              2:'log2'}"
   ]
  },
  {
   "cell_type": "code",
   "execution_count": 14,
   "id": "5242a6cc",
   "metadata": {
    "execution": {
     "iopub.execute_input": "2023-03-14T09:50:03.618837Z",
     "iopub.status.busy": "2023-03-14T09:50:03.618159Z",
     "iopub.status.idle": "2023-03-14T09:50:03.625479Z",
     "shell.execute_reply": "2023-03-14T09:50:03.623967Z"
    },
    "papermill": {
     "duration": 0.020537,
     "end_time": "2023-03-14T09:50:03.628093",
     "exception": false,
     "start_time": "2023-03-14T09:50:03.607556",
     "status": "completed"
    },
    "tags": []
   },
   "outputs": [
    {
     "name": "stdout",
     "output_type": "stream",
     "text": [
      "criterion entropy\n",
      "n_estimators 12\n",
      "max_depth 60\n",
      "min_samples_leaf 2\n",
      "min_samples_split 2\n",
      "max_features sqrt\n"
     ]
    }
   ],
   "source": [
    "print(\"criterion\",criterion[best['criterion']])\n",
    "print(\"n_estimators\",estimator[best['n_estimators']])\n",
    "print(\"max_depth\",max_depth[best['max_depth']])\n",
    "print(\"min_samples_leaf\",min_samples_leaf[best['min_samples_leaf']])\n",
    "print(\"min_samples_split\",min_samples_split[best['min_samples_split']])\n",
    "print(\"max_features\",max_features[best['max_features']])"
   ]
  },
  {
   "cell_type": "code",
   "execution_count": 15,
   "id": "81cfc015",
   "metadata": {
    "execution": {
     "iopub.execute_input": "2023-03-14T09:50:03.648920Z",
     "iopub.status.busy": "2023-03-14T09:50:03.647810Z",
     "iopub.status.idle": "2023-03-14T09:50:03.696738Z",
     "shell.execute_reply": "2023-03-14T09:50:03.695536Z"
    },
    "papermill": {
     "duration": 0.062698,
     "end_time": "2023-03-14T09:50:03.699941",
     "exception": false,
     "start_time": "2023-03-14T09:50:03.637243",
     "status": "completed"
    },
    "tags": []
   },
   "outputs": [
    {
     "data": {
      "text/plain": [
       "RandomForestClassifier(criterion='entropy', max_depth=60, min_samples_split=5,\n",
       "                       n_estimators=15)"
      ]
     },
     "execution_count": 15,
     "metadata": {},
     "output_type": "execute_result"
    }
   ],
   "source": [
    "random_forest = RandomForestClassifier(criterion ='entropy',\n",
    "                                       n_estimators = 15,\n",
    "                                       max_depth = 60, \n",
    "                                       min_samples_leaf =1 , \n",
    "                                       min_samples_split =5,\n",
    "                                       max_features='auto'\n",
    "                                       )\n",
    "random_forest.fit(x_train,y_train)"
   ]
  },
  {
   "cell_type": "code",
   "execution_count": 16,
   "id": "ac9b698d",
   "metadata": {
    "execution": {
     "iopub.execute_input": "2023-03-14T09:50:03.721987Z",
     "iopub.status.busy": "2023-03-14T09:50:03.720688Z",
     "iopub.status.idle": "2023-03-14T09:50:04.025769Z",
     "shell.execute_reply": "2023-03-14T09:50:04.024804Z"
    },
    "papermill": {
     "duration": 0.318253,
     "end_time": "2023-03-14T09:50:04.028215",
     "exception": false,
     "start_time": "2023-03-14T09:50:03.709962",
     "status": "completed"
    },
    "tags": []
   },
   "outputs": [
    {
     "name": "stdout",
     "output_type": "stream",
     "text": [
      "Accuracy on test set: 94.737%\n",
      "F1-Score on test set: 0.959\n",
      "-------------------- confusion matrix --------------------\n"
     ]
    },
    {
     "data": {
      "image/png": "[encoded data removed]",
      "text/plain": [
       "<Figure size 800x800 with 2 Axes>"
      ]
     },
     "metadata": {},
     "output_type": "display_data"
    }
   ],
   "source": [
    "y_pred=random_forest.predict(x_test)\n",
    "print(\"Accuracy on test set: %0.3f%%\"%(accuracy_score(y_test, y_pred)*100))\n",
    "print(\"F1-Score on test set: %0.3f\"%(f1_score(y_test, y_pred)))\n",
    "print(\"-\"*20, \"confusion matrix\", \"-\"*20)\n",
    "plt.figure(figsize=(8,8))\n",
    "df_cm = pd.DataFrame(confusion_matrix(y_test, y_pred), range(2),range(2))\n",
    "sns.set(font_scale=1.4)#for label size\n",
    "sns.heatmap(df_cm, annot=True,annot_kws={\"size\": 16}, fmt='g')\n",
    "plt.xlabel('Predicted Class')\n",
    "plt.ylabel('Original Class')\n",
    "plt.show()"
   ]
  },
  {
   "cell_type": "code",
   "execution_count": null,
   "id": "80e4767e",
   "metadata": {
    "papermill": {
     "duration": 0.009627,
     "end_time": "2023-03-14T09:50:04.047846",
     "exception": false,
     "start_time": "2023-03-14T09:50:04.038219",
     "status": "completed"
    },
    "tags": []
   },
   "outputs": [],
   "source": []
  }
 ],
 "metadata": {
  "kernelspec": {
   "display_name": "Python 3",
   "language": "python",
   "name": "python3"
  },
  "language_info": {
   "codemirror_mode": {
    "name": "ipython",
    "version": 3
   },
   "file_extension": ".py",
   "mimetype": "text/x-python",
   "name": "python",
   "nbconvert_exporter": "python",
   "pygments_lexer": "ipython3",
   "version": "3.7.12"
  },
  "papermill": {
   "default_parameters": {},
   "duration": 328.223018,
   "end_time": "2023-03-14T09:50:06.680253",
   "environment_variables": {},
   "exception": null,
   "input_path": "__notebook__.ipynb",
   "output_path": "__notebook__.ipynb",
   "parameters": {},
   "start_time": "2023-03-14T09:44:38.457235",
   "version": "2.4.0"
  }
 },
 "nbformat": 4,
 "nbformat_minor": 5
}
