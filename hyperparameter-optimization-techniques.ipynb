{
 "cells": [
  {
   "cell_type": "code",
   "execution_count": 1,
   "id": "6ae36987",
   "metadata": {
    "_cell_guid": "b1076dfc-b9ad-4769-8c92-a6c4dae69d19",
    "_uuid": "8f2839f25d086af736a60e9eeb907d3b93b6e0e5",
    "execution": {
     "iopub.execute_input": "2023-03-14T19:25:39.105113Z",
     "iopub.status.busy": "2023-03-14T19:25:39.104745Z",
     "iopub.status.idle": "2023-03-14T19:25:41.086464Z",
     "shell.execute_reply": "2023-03-14T19:25:41.084677Z"
    },
    "papermill": {
     "duration": 1.993643,
     "end_time": "2023-03-14T19:25:41.089313",
     "exception": false,
     "start_time": "2023-03-14T19:25:39.095670",
     "status": "completed"
    },
    "tags": []
   },
   "outputs": [],
   "source": [
    "import pandas as pd\n",
    "import numpy as np\n",
    "from sklearn.ensemble import RandomForestClassifier\n",
    "import matplotlib.pyplot as plt\n",
    "import seaborn as sns\n",
    "from sklearn.metrics import accuracy_score\n",
    "from sklearn.metrics import confusion_matrix\n",
    "from sklearn.metrics import f1_score\n",
    "\n",
    "from pylab import rcParams\n",
    "rcParams['figure.figsize']=20,8\n",
    "plt.style.use('ggplot')\n",
    "\n",
    "# Ignore harmless warnings\n",
    "import warnings\n",
    "warnings.filterwarnings(\"ignore\")"
   ]
  },
  {
   "cell_type": "code",
   "execution_count": 2,
   "id": "3ddecb05",
   "metadata": {
    "execution": {
     "iopub.execute_input": "2023-03-14T19:25:41.103721Z",
     "iopub.status.busy": "2023-03-14T19:25:41.103371Z",
     "iopub.status.idle": "2023-03-14T19:25:41.172373Z",
     "shell.execute_reply": "2023-03-14T19:25:41.170911Z"
    },
    "papermill": {
     "duration": 0.079195,
     "end_time": "2023-03-14T19:25:41.175031",
     "exception": false,
     "start_time": "2023-03-14T19:25:41.095836",
     "status": "completed"
    },
    "tags": []
   },
   "outputs": [
    {
     "data": {
      "text/html": [
       "<div>\n",
       "<style scoped>\n",
       "    .dataframe tbody tr th:only-of-type {\n",
       "        vertical-align: middle;\n",
       "    }\n",
       "\n",
       "    .dataframe tbody tr th {\n",
       "        vertical-align: top;\n",
       "    }\n",
       "\n",
       "    .dataframe thead th {\n",
       "        text-align: right;\n",
       "    }\n",
       "</style>\n",
       "<table border=\"1\" class=\"dataframe\">\n",
       "  <thead>\n",
       "    <tr style=\"text-align: right;\">\n",
       "      <th></th>\n",
       "      <th>id</th>\n",
       "      <th>diagnosis</th>\n",
       "      <th>radius_mean</th>\n",
       "      <th>texture_mean</th>\n",
       "      <th>perimeter_mean</th>\n",
       "      <th>area_mean</th>\n",
       "      <th>smoothness_mean</th>\n",
       "      <th>compactness_mean</th>\n",
       "      <th>concavity_mean</th>\n",
       "      <th>concave points_mean</th>\n",
       "      <th>...</th>\n",
       "      <th>texture_worst</th>\n",
       "      <th>perimeter_worst</th>\n",
       "      <th>area_worst</th>\n",
       "      <th>smoothness_worst</th>\n",
       "      <th>compactness_worst</th>\n",
       "      <th>concavity_worst</th>\n",
       "      <th>concave points_worst</th>\n",
       "      <th>symmetry_worst</th>\n",
       "      <th>fractal_dimension_worst</th>\n",
       "      <th>Unnamed: 32</th>\n",
       "    </tr>\n",
       "  </thead>\n",
       "  <tbody>\n",
       "    <tr>\n",
       "      <th>0</th>\n",
       "      <td>842302</td>\n",
       "      <td>M</td>\n",
       "      <td>17.99</td>\n",
       "      <td>10.38</td>\n",
       "      <td>122.80</td>\n",
       "      <td>1001.0</td>\n",
       "      <td>0.11840</td>\n",
       "      <td>0.27760</td>\n",
       "      <td>0.3001</td>\n",
       "      <td>0.14710</td>\n",
       "      <td>...</td>\n",
       "      <td>17.33</td>\n",
       "      <td>184.60</td>\n",
       "      <td>2019.0</td>\n",
       "      <td>0.1622</td>\n",
       "      <td>0.6656</td>\n",
       "      <td>0.7119</td>\n",
       "      <td>0.2654</td>\n",
       "      <td>0.4601</td>\n",
       "      <td>0.11890</td>\n",
       "      <td>NaN</td>\n",
       "    </tr>\n",
       "    <tr>\n",
       "      <th>1</th>\n",
       "      <td>842517</td>\n",
       "      <td>M</td>\n",
       "      <td>20.57</td>\n",
       "      <td>17.77</td>\n",
       "      <td>132.90</td>\n",
       "      <td>1326.0</td>\n",
       "      <td>0.08474</td>\n",
       "      <td>0.07864</td>\n",
       "      <td>0.0869</td>\n",
       "      <td>0.07017</td>\n",
       "      <td>...</td>\n",
       "      <td>23.41</td>\n",
       "      <td>158.80</td>\n",
       "      <td>1956.0</td>\n",
       "      <td>0.1238</td>\n",
       "      <td>0.1866</td>\n",
       "      <td>0.2416</td>\n",
       "      <td>0.1860</td>\n",
       "      <td>0.2750</td>\n",
       "      <td>0.08902</td>\n",
       "      <td>NaN</td>\n",
       "    </tr>\n",
       "    <tr>\n",
       "      <th>2</th>\n",
       "      <td>84300903</td>\n",
       "      <td>M</td>\n",
       "      <td>19.69</td>\n",
       "      <td>21.25</td>\n",
       "      <td>130.00</td>\n",
       "      <td>1203.0</td>\n",
       "      <td>0.10960</td>\n",
       "      <td>0.15990</td>\n",
       "      <td>0.1974</td>\n",
       "      <td>0.12790</td>\n",
       "      <td>...</td>\n",
       "      <td>25.53</td>\n",
       "      <td>152.50</td>\n",
       "      <td>1709.0</td>\n",
       "      <td>0.1444</td>\n",
       "      <td>0.4245</td>\n",
       "      <td>0.4504</td>\n",
       "      <td>0.2430</td>\n",
       "      <td>0.3613</td>\n",
       "      <td>0.08758</td>\n",
       "      <td>NaN</td>\n",
       "    </tr>\n",
       "    <tr>\n",
       "      <th>3</th>\n",
       "      <td>84348301</td>\n",
       "      <td>M</td>\n",
       "      <td>11.42</td>\n",
       "      <td>20.38</td>\n",
       "      <td>77.58</td>\n",
       "      <td>386.1</td>\n",
       "      <td>0.14250</td>\n",
       "      <td>0.28390</td>\n",
       "      <td>0.2414</td>\n",
       "      <td>0.10520</td>\n",
       "      <td>...</td>\n",
       "      <td>26.50</td>\n",
       "      <td>98.87</td>\n",
       "      <td>567.7</td>\n",
       "      <td>0.2098</td>\n",
       "      <td>0.8663</td>\n",
       "      <td>0.6869</td>\n",
       "      <td>0.2575</td>\n",
       "      <td>0.6638</td>\n",
       "      <td>0.17300</td>\n",
       "      <td>NaN</td>\n",
       "    </tr>\n",
       "    <tr>\n",
       "      <th>4</th>\n",
       "      <td>84358402</td>\n",
       "      <td>M</td>\n",
       "      <td>20.29</td>\n",
       "      <td>14.34</td>\n",
       "      <td>135.10</td>\n",
       "      <td>1297.0</td>\n",
       "      <td>0.10030</td>\n",
       "      <td>0.13280</td>\n",
       "      <td>0.1980</td>\n",
       "      <td>0.10430</td>\n",
       "      <td>...</td>\n",
       "      <td>16.67</td>\n",
       "      <td>152.20</td>\n",
       "      <td>1575.0</td>\n",
       "      <td>0.1374</td>\n",
       "      <td>0.2050</td>\n",
       "      <td>0.4000</td>\n",
       "      <td>0.1625</td>\n",
       "      <td>0.2364</td>\n",
       "      <td>0.07678</td>\n",
       "      <td>NaN</td>\n",
       "    </tr>\n",
       "  </tbody>\n",
       "</table>\n",
       "<p>5 rows × 33 columns</p>\n",
       "</div>"
      ],
      "text/plain": [
       "         id diagnosis  radius_mean  texture_mean  perimeter_mean  area_mean  \\\n",
       "0    842302         M        17.99         10.38          122.80     1001.0   \n",
       "1    842517         M        20.57         17.77          132.90     1326.0   \n",
       "2  84300903         M        19.69         21.25          130.00     1203.0   \n",
       "3  84348301         M        11.42         20.38           77.58      386.1   \n",
       "4  84358402         M        20.29         14.34          135.10     1297.0   \n",
       "\n",
       "   smoothness_mean  compactness_mean  concavity_mean  concave points_mean  \\\n",
       "0          0.11840           0.27760          0.3001              0.14710   \n",
       "1          0.08474           0.07864          0.0869              0.07017   \n",
       "2          0.10960           0.15990          0.1974              0.12790   \n",
       "3          0.14250           0.28390          0.2414              0.10520   \n",
       "4          0.10030           0.13280          0.1980              0.10430   \n",
       "\n",
       "   ...  texture_worst  perimeter_worst  area_worst  smoothness_worst  \\\n",
       "0  ...          17.33           184.60      2019.0            0.1622   \n",
       "1  ...          23.41           158.80      1956.0            0.1238   \n",
       "2  ...          25.53           152.50      1709.0            0.1444   \n",
       "3  ...          26.50            98.87       567.7            0.2098   \n",
       "4  ...          16.67           152.20      1575.0            0.1374   \n",
       "\n",
       "   compactness_worst  concavity_worst  concave points_worst  symmetry_worst  \\\n",
       "0             0.6656           0.7119                0.2654          0.4601   \n",
       "1             0.1866           0.2416                0.1860          0.2750   \n",
       "2             0.4245           0.4504                0.2430          0.3613   \n",
       "3             0.8663           0.6869                0.2575          0.6638   \n",
       "4             0.2050           0.4000                0.1625          0.2364   \n",
       "\n",
       "   fractal_dimension_worst  Unnamed: 32  \n",
       "0                  0.11890          NaN  \n",
       "1                  0.08902          NaN  \n",
       "2                  0.08758          NaN  \n",
       "3                  0.17300          NaN  \n",
       "4                  0.07678          NaN  \n",
       "\n",
       "[5 rows x 33 columns]"
      ]
     },
     "execution_count": 2,
     "metadata": {},
     "output_type": "execute_result"
    }
   ],
   "source": [
    "df=pd.read_csv(\"/kaggle/input/breast-cancer-wisconsin-data/data.csv\")\n",
    "df.head()"
   ]
  },
  {
   "cell_type": "code",
   "execution_count": 3,
   "id": "8bd1843a",
   "metadata": {
    "execution": {
     "iopub.execute_input": "2023-03-14T19:25:41.190790Z",
     "iopub.status.busy": "2023-03-14T19:25:41.190423Z",
     "iopub.status.idle": "2023-03-14T19:25:41.218515Z",
     "shell.execute_reply": "2023-03-14T19:25:41.216520Z"
    },
    "papermill": {
     "duration": 0.040153,
     "end_time": "2023-03-14T19:25:41.222297",
     "exception": false,
     "start_time": "2023-03-14T19:25:41.182144",
     "status": "completed"
    },
    "tags": []
   },
   "outputs": [
    {
     "name": "stdout",
     "output_type": "stream",
     "text": [
      "<class 'pandas.core.frame.DataFrame'>\n",
      "RangeIndex: 569 entries, 0 to 568\n",
      "Data columns (total 33 columns):\n",
      " #   Column                   Non-Null Count  Dtype  \n",
      "---  ------                   --------------  -----  \n",
      " 0   id                       569 non-null    int64  \n",
      " 1   diagnosis                569 non-null    object \n",
      " 2   radius_mean              569 non-null    float64\n",
      " 3   texture_mean             569 non-null    float64\n",
      " 4   perimeter_mean           569 non-null    float64\n",
      " 5   area_mean                569 non-null    float64\n",
      " 6   smoothness_mean          569 non-null    float64\n",
      " 7   compactness_mean         569 non-null    float64\n",
      " 8   concavity_mean           569 non-null    float64\n",
      " 9   concave points_mean      569 non-null    float64\n",
      " 10  symmetry_mean            569 non-null    float64\n",
      " 11  fractal_dimension_mean   569 non-null    float64\n",
      " 12  radius_se                569 non-null    float64\n",
      " 13  texture_se               569 non-null    float64\n",
      " 14  perimeter_se             569 non-null    float64\n",
      " 15  area_se                  569 non-null    float64\n",
      " 16  smoothness_se            569 non-null    float64\n",
      " 17  compactness_se           569 non-null    float64\n",
      " 18  concavity_se             569 non-null    float64\n",
      " 19  concave points_se        569 non-null    float64\n",
      " 20  symmetry_se              569 non-null    float64\n",
      " 21  fractal_dimension_se     569 non-null    float64\n",
      " 22  radius_worst             569 non-null    float64\n",
      " 23  texture_worst            569 non-null    float64\n",
      " 24  perimeter_worst          569 non-null    float64\n",
      " 25  area_worst               569 non-null    float64\n",
      " 26  smoothness_worst         569 non-null    float64\n",
      " 27  compactness_worst        569 non-null    float64\n",
      " 28  concavity_worst          569 non-null    float64\n",
      " 29  concave points_worst     569 non-null    float64\n",
      " 30  symmetry_worst           569 non-null    float64\n",
      " 31  fractal_dimension_worst  569 non-null    float64\n",
      " 32  Unnamed: 32              0 non-null      float64\n",
      "dtypes: float64(31), int64(1), object(1)\n",
      "memory usage: 146.8+ KB\n"
     ]
    }
   ],
   "source": [
    "df.info()"
   ]
  },
  {
   "cell_type": "code",
   "execution_count": 4,
   "id": "b7204673",
   "metadata": {
    "execution": {
     "iopub.execute_input": "2023-03-14T19:25:41.237673Z",
     "iopub.status.busy": "2023-03-14T19:25:41.237326Z",
     "iopub.status.idle": "2023-03-14T19:25:41.249818Z",
     "shell.execute_reply": "2023-03-14T19:25:41.247602Z"
    },
    "papermill": {
     "duration": 0.023033,
     "end_time": "2023-03-14T19:25:41.252329",
     "exception": false,
     "start_time": "2023-03-14T19:25:41.229296",
     "status": "completed"
    },
    "tags": []
   },
   "outputs": [
    {
     "data": {
      "text/plain": [
       "id                           0\n",
       "diagnosis                    0\n",
       "radius_mean                  0\n",
       "texture_mean                 0\n",
       "perimeter_mean               0\n",
       "area_mean                    0\n",
       "smoothness_mean              0\n",
       "compactness_mean             0\n",
       "concavity_mean               0\n",
       "concave points_mean          0\n",
       "symmetry_mean                0\n",
       "fractal_dimension_mean       0\n",
       "radius_se                    0\n",
       "texture_se                   0\n",
       "perimeter_se                 0\n",
       "area_se                      0\n",
       "smoothness_se                0\n",
       "compactness_se               0\n",
       "concavity_se                 0\n",
       "concave points_se            0\n",
       "symmetry_se                  0\n",
       "fractal_dimension_se         0\n",
       "radius_worst                 0\n",
       "texture_worst                0\n",
       "perimeter_worst              0\n",
       "area_worst                   0\n",
       "smoothness_worst             0\n",
       "compactness_worst            0\n",
       "concavity_worst              0\n",
       "concave points_worst         0\n",
       "symmetry_worst               0\n",
       "fractal_dimension_worst      0\n",
       "Unnamed: 32                569\n",
       "dtype: int64"
      ]
     },
     "execution_count": 4,
     "metadata": {},
     "output_type": "execute_result"
    }
   ],
   "source": [
    "df.isna().sum()"
   ]
  },
  {
   "cell_type": "code",
   "execution_count": 5,
   "id": "1b6c711f",
   "metadata": {
    "execution": {
     "iopub.execute_input": "2023-03-14T19:25:41.268392Z",
     "iopub.status.busy": "2023-03-14T19:25:41.268071Z",
     "iopub.status.idle": "2023-03-14T19:25:41.274848Z",
     "shell.execute_reply": "2023-03-14T19:25:41.273745Z"
    },
    "papermill": {
     "duration": 0.018028,
     "end_time": "2023-03-14T19:25:41.277671",
     "exception": false,
     "start_time": "2023-03-14T19:25:41.259643",
     "status": "completed"
    },
    "tags": []
   },
   "outputs": [],
   "source": [
    "#removing the data\n",
    "y=df['diagnosis']\n",
    "y = y.replace({'M':0,'B':1})\n",
    "\n",
    "df.drop(['id','Unnamed: 32','diagnosis'],axis=1,inplace=True)\n",
    "x=df"
   ]
  },
  {
   "cell_type": "code",
   "execution_count": 6,
   "id": "afd472ef",
   "metadata": {
    "execution": {
     "iopub.execute_input": "2023-03-14T19:25:41.294310Z",
     "iopub.status.busy": "2023-03-14T19:25:41.293708Z",
     "iopub.status.idle": "2023-03-14T19:25:41.306254Z",
     "shell.execute_reply": "2023-03-14T19:25:41.304436Z"
    },
    "papermill": {
     "duration": 0.024296,
     "end_time": "2023-03-14T19:25:41.309117",
     "exception": false,
     "start_time": "2023-03-14T19:25:41.284821",
     "status": "completed"
    },
    "tags": []
   },
   "outputs": [],
   "source": [
    "# Train Test Split\n",
    "from sklearn.model_selection import train_test_split\n",
    "x_train,x_test,y_train,y_test=train_test_split(x,y,test_size=0.20,random_state=0, stratify=y)"
   ]
  },
  {
   "cell_type": "code",
   "execution_count": 7,
   "id": "eb14309c",
   "metadata": {
    "execution": {
     "iopub.execute_input": "2023-03-14T19:25:41.327481Z",
     "iopub.status.busy": "2023-03-14T19:25:41.327122Z",
     "iopub.status.idle": "2023-03-14T19:25:41.338614Z",
     "shell.execute_reply": "2023-03-14T19:25:41.336609Z"
    },
    "papermill": {
     "duration": 0.025224,
     "end_time": "2023-03-14T19:25:41.342168",
     "exception": false,
     "start_time": "2023-03-14T19:25:41.316944",
     "status": "completed"
    },
    "tags": []
   },
   "outputs": [
    {
     "name": "stdout",
     "output_type": "stream",
     "text": [
      "1    285\n",
      "0    170\n",
      "Name: diagnosis, dtype: int64\n",
      "1    72\n",
      "0    42\n",
      "Name: diagnosis, dtype: int64\n"
     ]
    }
   ],
   "source": [
    "print(y_train.value_counts())\n",
    "print(y_test.value_counts())"
   ]
  },
  {
   "cell_type": "markdown",
   "id": "398a4d45",
   "metadata": {
    "papermill": {
     "duration": 0.006998,
     "end_time": "2023-03-14T19:25:41.358648",
     "exception": false,
     "start_time": "2023-03-14T19:25:41.351650",
     "status": "completed"
    },
    "tags": []
   },
   "source": [
    "# GridSearchCV"
   ]
  },
  {
   "cell_type": "code",
   "execution_count": 8,
   "id": "4f0c1403",
   "metadata": {
    "execution": {
     "iopub.execute_input": "2023-03-14T19:25:41.380826Z",
     "iopub.status.busy": "2023-03-14T19:25:41.380368Z",
     "iopub.status.idle": "2023-03-14T19:29:36.850204Z",
     "shell.execute_reply": "2023-03-14T19:29:36.848647Z"
    },
    "papermill": {
     "duration": 235.489851,
     "end_time": "2023-03-14T19:29:36.858941",
     "exception": false,
     "start_time": "2023-03-14T19:25:41.369090",
     "status": "completed"
    },
    "tags": []
   },
   "outputs": [
    {
     "name": "stdout",
     "output_type": "stream",
     "text": [
      "Fitting 5 folds for each of 4704 candidates, totalling 23520 fits\n",
      "Best HyperParameter:  {'criterion': 'entropy', 'max_depth': 20, 'max_features': 'sqrt', 'min_samples_leaf': 2, 'min_samples_split': 5, 'n_estimators': 13}\n",
      "0.9780069972619346\n",
      "CPU times: user 41.3 s, sys: 1.44 s, total: 42.7 s\n",
      "Wall time: 3min 55s\n"
     ]
    }
   ],
   "source": [
    "%%time\n",
    "from sklearn.model_selection import GridSearchCV\n",
    "\n",
    "# define parameters\n",
    "nEstimator = [10,11,12,13,14,15,16]\n",
    "depth = [5,10,20,30,40,50,60]\n",
    "criterion=['entropy', 'gini']\n",
    "min_samples_leaf=[1, 2, 5, 10]\n",
    "min_samples_split=[2, 5, 10, 15]\n",
    "max_features = ['auto', 'sqrt','log2']\n",
    "\n",
    "RF = RandomForestClassifier()\n",
    "hyperParam = [{'n_estimators':nEstimator,\n",
    "               'max_depth': depth,\n",
    "               'criterion':criterion,\n",
    "               'max_features': max_features,\n",
    "               'min_samples_leaf':min_samples_leaf,\n",
    "               'min_samples_split':min_samples_split}]\n",
    "gsv = GridSearchCV(RF,hyperParam,cv=5,verbose=1,scoring='f1_weighted',n_jobs=-1)\n",
    "gsv.fit(x_train,y_train)\n",
    "print(\"Best HyperParameter: \",gsv.best_params_)\n",
    "print(gsv.best_score_)"
   ]
  },
  {
   "cell_type": "code",
   "execution_count": 9,
   "id": "1f785f37",
   "metadata": {
    "execution": {
     "iopub.execute_input": "2023-03-14T19:29:36.876698Z",
     "iopub.status.busy": "2023-03-14T19:29:36.876292Z",
     "iopub.status.idle": "2023-03-14T19:29:37.130778Z",
     "shell.execute_reply": "2023-03-14T19:29:37.129157Z"
    },
    "papermill": {
     "duration": 0.265984,
     "end_time": "2023-03-14T19:29:37.133184",
     "exception": false,
     "start_time": "2023-03-14T19:29:36.867200",
     "status": "completed"
    },
    "tags": []
   },
   "outputs": [
    {
     "name": "stdout",
     "output_type": "stream",
     "text": [
      "Accuracy on test set: 93.86%\n",
      "F1-Score on test set: 0.95\n",
      "-------------------- confusion matrix --------------------\n"
     ]
    },
    {
     "data": {
      "image/png": "[encoded data removed]",
      "text/plain": [
       "<Figure size 800x800 with 2 Axes>"
      ]
     },
     "metadata": {},
     "output_type": "display_data"
    }
   ],
   "source": [
    "y_pred=gsv.predict(x_test)\n",
    "print(\"Accuracy on test set: %0.2f%%\"%(accuracy_score(y_test, y_pred)*100))\n",
    "print(\"F1-Score on test set: %0.2f\"%(f1_score(y_test, y_pred)))\n",
    "print(\"-\"*20, \"confusion matrix\", \"-\"*20)\n",
    "plt.figure(figsize=(8,8))\n",
    "df_cm = pd.DataFrame(confusion_matrix(y_test, y_pred), range(2),range(2))\n",
    "sns.set(font_scale=1.4)#for label size\n",
    "sns.heatmap(df_cm, annot=True,annot_kws={\"size\": 16}, fmt='g')\n",
    "plt.xlabel('Predicted Class')\n",
    "plt.ylabel('Original Class')\n",
    "plt.show()"
   ]
  },
  {
   "cell_type": "markdown",
   "id": "1570eeec",
   "metadata": {
    "papermill": {
     "duration": 0.007157,
     "end_time": "2023-03-14T19:29:37.148383",
     "exception": false,
     "start_time": "2023-03-14T19:29:37.141226",
     "status": "completed"
    },
    "tags": []
   },
   "source": [
    "# RandomizedSearchCV"
   ]
  },
  {
   "cell_type": "code",
   "execution_count": 10,
   "id": "6816b659",
   "metadata": {
    "execution": {
     "iopub.execute_input": "2023-03-14T19:29:37.165735Z",
     "iopub.status.busy": "2023-03-14T19:29:37.165353Z",
     "iopub.status.idle": "2023-03-14T19:29:37.761196Z",
     "shell.execute_reply": "2023-03-14T19:29:37.760260Z"
    },
    "papermill": {
     "duration": 0.608205,
     "end_time": "2023-03-14T19:29:37.764197",
     "exception": false,
     "start_time": "2023-03-14T19:29:37.155992",
     "status": "completed"
    },
    "tags": []
   },
   "outputs": [
    {
     "name": "stdout",
     "output_type": "stream",
     "text": [
      "Fitting 5 folds for each of 10 candidates, totalling 50 fits\n",
      "Best HyperParameter:  {'n_estimators': 15, 'min_samples_split': 10, 'min_samples_leaf': 1, 'max_features': 'auto', 'max_depth': 60, 'criterion': 'entropy'}\n",
      "0.9646956008181368\n",
      "CPU times: user 173 ms, sys: 4.11 ms, total: 177 ms\n",
      "Wall time: 590 ms\n"
     ]
    }
   ],
   "source": [
    "%%time\n",
    "from sklearn.model_selection import RandomizedSearchCV\n",
    "\n",
    "RF = RandomForestClassifier()\n",
    "hyperParam = {'n_estimators':nEstimator,\n",
    "               'max_depth': depth,\n",
    "               'criterion':criterion,\n",
    "               'max_features': max_features,\n",
    "               'min_samples_leaf':min_samples_leaf,\n",
    "               'min_samples_split':min_samples_split}\n",
    "rsv = RandomizedSearchCV(RF,hyperParam,cv=5,verbose=1,scoring='f1_weighted',n_jobs=-1)\n",
    "rsv.fit(x_train,y_train)\n",
    "print(\"Best HyperParameter: \",rsv.best_params_)\n",
    "print(rsv.best_score_)"
   ]
  },
  {
   "cell_type": "code",
   "execution_count": 11,
   "id": "38f7a3d7",
   "metadata": {
    "execution": {
     "iopub.execute_input": "2023-03-14T19:29:37.781972Z",
     "iopub.status.busy": "2023-03-14T19:29:37.780751Z",
     "iopub.status.idle": "2023-03-14T19:29:37.999253Z",
     "shell.execute_reply": "2023-03-14T19:29:37.997302Z"
    },
    "papermill": {
     "duration": 0.230298,
     "end_time": "2023-03-14T19:29:38.002102",
     "exception": false,
     "start_time": "2023-03-14T19:29:37.771804",
     "status": "completed"
    },
    "tags": []
   },
   "outputs": [
    {
     "name": "stdout",
     "output_type": "stream",
     "text": [
      "Accuracy on test set: 95.61%\n",
      "F1-Score on test set: 0.97\n",
      "-------------------- confusion matrix --------------------\n"
     ]
    },
    {
     "data": {
      "image/png": "[encoded data removed]",
      "text/plain": [
       "<Figure size 800x800 with 2 Axes>"
      ]
     },
     "metadata": {},
     "output_type": "display_data"
    }
   ],
   "source": [
    "y_pred=rsv.predict(x_test)\n",
    "print(\"Accuracy on test set: %0.2f%%\"%(accuracy_score(y_test, y_pred)*100))\n",
    "print(\"F1-Score on test set: %0.2f\"%(f1_score(y_test, y_pred)))\n",
    "print(\"-\"*20, \"confusion matrix\", \"-\"*20)\n",
    "plt.figure(figsize=(8,8))\n",
    "df_cm = pd.DataFrame(confusion_matrix(y_test, y_pred), range(2),range(2))\n",
    "sns.set(font_scale=1.4)#for label size\n",
    "sns.heatmap(df_cm, annot=True,annot_kws={\"size\": 16}, fmt='g')\n",
    "plt.xlabel('Predicted Class')\n",
    "plt.ylabel('Original Class')\n",
    "plt.show()"
   ]
  },
  {
   "cell_type": "markdown",
   "id": "b9e0047e",
   "metadata": {
    "papermill": {
     "duration": 0.008535,
     "end_time": "2023-03-14T19:29:38.019423",
     "exception": false,
     "start_time": "2023-03-14T19:29:38.010888",
     "status": "completed"
    },
    "tags": []
   },
   "source": [
    "# Bayesian Optimization"
   ]
  },
  {
   "cell_type": "code",
   "execution_count": 12,
   "id": "13c75663",
   "metadata": {
    "execution": {
     "iopub.execute_input": "2023-03-14T19:29:38.037756Z",
     "iopub.status.busy": "2023-03-14T19:29:38.037376Z",
     "iopub.status.idle": "2023-03-14T19:29:41.035516Z",
     "shell.execute_reply": "2023-03-14T19:29:41.033901Z"
    },
    "papermill": {
     "duration": 3.010344,
     "end_time": "2023-03-14T19:29:41.038170",
     "exception": false,
     "start_time": "2023-03-14T19:29:38.027826",
     "status": "completed"
    },
    "tags": []
   },
   "outputs": [
    {
     "name": "stdout",
     "output_type": "stream",
     "text": [
      "100%|██████████| 20/20 [00:02<00:00,  9.78trial/s, best loss: -0.9604680950163018]\n",
      "CPU times: user 2.58 s, sys: 135 ms, total: 2.71 s\n",
      "Wall time: 2.99 s\n"
     ]
    },
    {
     "data": {
      "text/plain": [
       "{'criterion': 1,\n",
       " 'max_depth': 1,\n",
       " 'max_features': 1,\n",
       " 'min_samples_leaf': 1,\n",
       " 'min_samples_split': 1,\n",
       " 'n_estimators': 5}"
      ]
     },
     "execution_count": 12,
     "metadata": {},
     "output_type": "execute_result"
    }
   ],
   "source": [
    "%%time\n",
    "from hyperopt import hp, fmin, tpe, STATUS_OK, Trials\n",
    "from sklearn.model_selection import cross_val_score\n",
    "from sklearn.metrics import confusion_matrix,classification_report,accuracy_score\n",
    "\n",
    "space = {\n",
    "    \"n_estimators\" : hp.choice('n_estimators',[10,11,12,13,14,15,16]),\n",
    "        \"max_depth\" : hp.choice('max_depth',[5,10,20,30,40,50,60]),\n",
    "        \"criterion\" : hp.choice(\"criterion\",['entropy', 'gini']),\n",
    "        \"min_samples_leaf\" : hp.choice(\"min_samples_leaf\",[1, 2, 5, 10]),\n",
    "        \"min_samples_split\" : hp.choice(\"min_samples_split\",[2, 5, 10, 15]),\n",
    "        \"max_features\" : hp.choice(\"max_features\",['auto', 'sqrt','log2'])\n",
    "    }\n",
    "\n",
    "def objective(space):\n",
    "    model = RandomForestClassifier(criterion = space['criterion'], \n",
    "                                   max_depth = space['max_depth'],\n",
    "                                   min_samples_leaf = space['min_samples_leaf'],\n",
    "                                   min_samples_split = space['min_samples_split'],\n",
    "                                   n_estimators = space['n_estimators'], \n",
    "                                   )\n",
    "    \n",
    "    accuracy = cross_val_score(model, x_train, y_train, cv =4).mean()\n",
    "\n",
    "    # We aim to maximize accuracy, therefore we return it as a negative value\n",
    "    return {'loss': -accuracy, 'status': STATUS_OK }\n",
    "    \n",
    "trials = Trials()\n",
    "best = fmin(fn= objective,\n",
    "            space= space,\n",
    "            algo= tpe.suggest,\n",
    "            max_evals = 20,\n",
    "            trials= trials)\n",
    "best"
   ]
  },
  {
   "cell_type": "code",
   "execution_count": 13,
   "id": "af64ecec",
   "metadata": {
    "execution": {
     "iopub.execute_input": "2023-03-14T19:29:41.057382Z",
     "iopub.status.busy": "2023-03-14T19:29:41.057081Z",
     "iopub.status.idle": "2023-03-14T19:29:41.064040Z",
     "shell.execute_reply": "2023-03-14T19:29:41.062998Z"
    },
    "papermill": {
     "duration": 0.018451,
     "end_time": "2023-03-14T19:29:41.065704",
     "exception": false,
     "start_time": "2023-03-14T19:29:41.047253",
     "status": "completed"
    },
    "tags": []
   },
   "outputs": [],
   "source": [
    "criterion = {0: 'entropy', \n",
    "             1: 'gini'}\n",
    "estimator = {0: '10', \n",
    "             1: '11', \n",
    "             2: '12', \n",
    "             3: '13', \n",
    "             4: '14',\n",
    "             5:'15',\n",
    "             6:'16'}\n",
    "max_depth={0:5,\n",
    "           1:10,\n",
    "           2:20,\n",
    "           3:30,\n",
    "           4:40,\n",
    "           5:50,\n",
    "           6:60}\n",
    "min_samples_leaf={0:1, \n",
    "                  1:2, \n",
    "                  2:5, \n",
    "                  3:10}\n",
    "min_samples_split={0:2, \n",
    "                   1:5, \n",
    "                   2:10, \n",
    "                   3:15}\n",
    "max_features={0:'auto', \n",
    "              1:'sqrt',\n",
    "              2:'log2'}"
   ]
  },
  {
   "cell_type": "code",
   "execution_count": 14,
   "id": "94b61c24",
   "metadata": {
    "execution": {
     "iopub.execute_input": "2023-03-14T19:29:41.086096Z",
     "iopub.status.busy": "2023-03-14T19:29:41.084929Z",
     "iopub.status.idle": "2023-03-14T19:29:41.093087Z",
     "shell.execute_reply": "2023-03-14T19:29:41.091513Z"
    },
    "papermill": {
     "duration": 0.020076,
     "end_time": "2023-03-14T19:29:41.094863",
     "exception": false,
     "start_time": "2023-03-14T19:29:41.074787",
     "status": "completed"
    },
    "tags": []
   },
   "outputs": [
    {
     "name": "stdout",
     "output_type": "stream",
     "text": [
      "criterion gini\n",
      "n_estimators 15\n",
      "max_depth 10\n",
      "min_samples_leaf 2\n",
      "min_samples_split 5\n",
      "max_features sqrt\n"
     ]
    }
   ],
   "source": [
    "print(\"criterion\",criterion[best['criterion']])\n",
    "print(\"n_estimators\",estimator[best['n_estimators']])\n",
    "print(\"max_depth\",max_depth[best['max_depth']])\n",
    "print(\"min_samples_leaf\",min_samples_leaf[best['min_samples_leaf']])\n",
    "print(\"min_samples_split\",min_samples_split[best['min_samples_split']])\n",
    "print(\"max_features\",max_features[best['max_features']])"
   ]
  },
  {
   "cell_type": "code",
   "execution_count": 15,
   "id": "41a6c70f",
   "metadata": {
    "execution": {
     "iopub.execute_input": "2023-03-14T19:29:41.114467Z",
     "iopub.status.busy": "2023-03-14T19:29:41.113902Z",
     "iopub.status.idle": "2023-03-14T19:29:41.155216Z",
     "shell.execute_reply": "2023-03-14T19:29:41.153289Z"
    },
    "papermill": {
     "duration": 0.05413,
     "end_time": "2023-03-14T19:29:41.157879",
     "exception": false,
     "start_time": "2023-03-14T19:29:41.103749",
     "status": "completed"
    },
    "tags": []
   },
   "outputs": [
    {
     "data": {
      "text/plain": [
       "RandomForestClassifier(criterion='entropy', max_depth=60, min_samples_split=5,\n",
       "                       n_estimators=15)"
      ]
     },
     "execution_count": 15,
     "metadata": {},
     "output_type": "execute_result"
    }
   ],
   "source": [
    "random_forest = RandomForestClassifier(criterion ='entropy',\n",
    "                                       n_estimators = 15,\n",
    "                                       max_depth = 60, \n",
    "                                       min_samples_leaf =1 , \n",
    "                                       min_samples_split =5,\n",
    "                                       max_features='auto'\n",
    "                                       )\n",
    "random_forest.fit(x_train,y_train)"
   ]
  },
  {
   "cell_type": "code",
   "execution_count": 16,
   "id": "9972fa50",
   "metadata": {
    "execution": {
     "iopub.execute_input": "2023-03-14T19:29:41.179129Z",
     "iopub.status.busy": "2023-03-14T19:29:41.178110Z",
     "iopub.status.idle": "2023-03-14T19:29:41.392562Z",
     "shell.execute_reply": "2023-03-14T19:29:41.391054Z"
    },
    "papermill": {
     "duration": 0.228733,
     "end_time": "2023-03-14T19:29:41.396159",
     "exception": false,
     "start_time": "2023-03-14T19:29:41.167426",
     "status": "completed"
    },
    "tags": []
   },
   "outputs": [
    {
     "name": "stdout",
     "output_type": "stream",
     "text": [
      "Accuracy on test set: 93.860%\n",
      "F1-Score on test set: 0.950\n",
      "-------------------- confusion matrix --------------------\n"
     ]
    },
    {
     "data": {
      "image/png": "[encoded data removed]",
      "text/plain": [
       "<Figure size 800x800 with 2 Axes>"
      ]
     },
     "metadata": {},
     "output_type": "display_data"
    }
   ],
   "source": [
    "y_pred=random_forest.predict(x_test)\n",
    "print(\"Accuracy on test set: %0.3f%%\"%(accuracy_score(y_test, y_pred)*100))\n",
    "print(\"F1-Score on test set: %0.3f\"%(f1_score(y_test, y_pred)))\n",
    "print(\"-\"*20, \"confusion matrix\", \"-\"*20)\n",
    "plt.figure(figsize=(8,8))\n",
    "df_cm = pd.DataFrame(confusion_matrix(y_test, y_pred), range(2),range(2))\n",
    "sns.set(font_scale=1.4)#for label size\n",
    "sns.heatmap(df_cm, annot=True,annot_kws={\"size\": 16}, fmt='g')\n",
    "plt.xlabel('Predicted Class')\n",
    "plt.ylabel('Original Class')\n",
    "plt.show()"
   ]
  },
  {
   "cell_type": "markdown",
   "id": "6a51c3c2",
   "metadata": {
    "papermill": {
     "duration": 0.013712,
     "end_time": "2023-03-14T19:29:41.423750",
     "exception": false,
     "start_time": "2023-03-14T19:29:41.410038",
     "status": "completed"
    },
    "tags": []
   },
   "source": [
    "# Genetic Algorithm"
   ]
  },
  {
   "cell_type": "code",
   "execution_count": 17,
   "id": "ce7304d3",
   "metadata": {
    "execution": {
     "iopub.execute_input": "2023-03-14T19:29:41.452479Z",
     "iopub.status.busy": "2023-03-14T19:29:41.451311Z",
     "iopub.status.idle": "2023-03-14T19:29:41.459251Z",
     "shell.execute_reply": "2023-03-14T19:29:41.458138Z"
    },
    "papermill": {
     "duration": 0.02723,
     "end_time": "2023-03-14T19:29:41.461808",
     "exception": false,
     "start_time": "2023-03-14T19:29:41.434578",
     "status": "completed"
    },
    "tags": []
   },
   "outputs": [],
   "source": [
    "import numpy as np\n",
    "from sklearn.model_selection import RandomizedSearchCV\n",
    "\n",
    "n_estimators = [10,11,12,13,14,15,16]\n",
    "max_depth = [5,10,20,30,40,50,60]\n",
    "criterion=['entropy', 'gini']\n",
    "min_samples_leaf=[1, 2, 5, 10]\n",
    "min_samples_split=[2, 5, 10, 15]\n",
    "max_features = ['auto', 'sqrt','log2']\n",
    "\n",
    "\n",
    "param = {'n_estimators': n_estimators,\n",
    "               'max_features': max_features,\n",
    "               'max_depth': max_depth,\n",
    "               'min_samples_split': min_samples_split,\n",
    "               'min_samples_leaf': min_samples_leaf,\n",
    "              'criterion':['entropy','gini']}"
   ]
  },
  {
   "cell_type": "code",
   "execution_count": 18,
   "id": "cb33514a",
   "metadata": {
    "execution": {
     "iopub.execute_input": "2023-03-14T19:29:41.484137Z",
     "iopub.status.busy": "2023-03-14T19:29:41.483242Z",
     "iopub.status.idle": "2023-03-14T19:29:57.148415Z",
     "shell.execute_reply": "2023-03-14T19:29:57.147096Z"
    },
    "papermill": {
     "duration": 15.678335,
     "end_time": "2023-03-14T19:29:57.150422",
     "exception": false,
     "start_time": "2023-03-14T19:29:41.472087",
     "status": "completed"
    },
    "tags": []
   },
   "outputs": [
    {
     "data": {
      "application/vnd.jupyter.widget-view+json": {
       "model_id": "15ae7c547e7f46b8b41d469eb574b1f5",
       "version_major": 2,
       "version_minor": 0
      },
      "text/plain": [
       "Optimization Progress:   0%|          | 0/84 [00:00<?, ?pipeline/s]"
      ]
     },
     "metadata": {},
     "output_type": "display_data"
    },
    {
     "name": "stdout",
     "output_type": "stream",
     "text": [
      "\n",
      "Generation 1 - Current best internal CV score: 0.9692012109920819\n",
      "\n",
      "Generation 2 - Current best internal CV score: 0.9692012109920819\n",
      "\n",
      "Generation 3 - Current best internal CV score: 0.9692012109920819\n",
      "\n",
      "Generation 4 - Current best internal CV score: 0.9692012109920819\n",
      "\n",
      "Generation 5 - Current best internal CV score: 0.9692012109920819\n",
      "\n",
      "Best pipeline: RandomForestClassifier(RandomForestClassifier(input_matrix, criterion=gini, max_depth=30, max_features=sqrt, min_samples_leaf=2, min_samples_split=5, n_estimators=12), criterion=gini, max_depth=50, max_features=sqrt, min_samples_leaf=2, min_samples_split=10, n_estimators=12)\n",
      "CPU times: user 14 s, sys: 389 ms, total: 14.4 s\n",
      "Wall time: 15.7 s\n"
     ]
    },
    {
     "data": {
      "text/plain": [
       "TPOTClassifier(config_dict={'sklearn.ensemble.RandomForestClassifier': {'criterion': ['entropy',\n",
       "                                                                                      'gini'],\n",
       "                                                                        'max_depth': [5,\n",
       "                                                                                      10,\n",
       "                                                                                      20,\n",
       "                                                                                      30,\n",
       "                                                                                      40,\n",
       "                                                                                      50,\n",
       "                                                                                      60],\n",
       "                                                                        'max_features': ['auto',\n",
       "                                                                                         'sqrt',\n",
       "                                                                                         'log2'],\n",
       "                                                                        'min_samples_leaf': [1,\n",
       "                                                                                             2,\n",
       "                                                                                             5,\n",
       "                                                                                             10],\n",
       "                                                                        'min_samples_split': [2,\n",
       "                                                                                              5,\n",
       "                                                                                              10,\n",
       "                                                                                              15],\n",
       "                                                                        'n_estimators': [10,\n",
       "                                                                                         11,\n",
       "                                                                                         12,\n",
       "                                                                                         13,\n",
       "                                                                                         14,\n",
       "                                                                                         15,\n",
       "                                                                                         16]}},\n",
       "               cv=4, early_stop=12, generations=5, offspring_size=12,\n",
       "               population_size=24, scoring='accuracy', verbosity=2)"
      ]
     },
     "execution_count": 18,
     "metadata": {},
     "output_type": "execute_result"
    }
   ],
   "source": [
    "%%time\n",
    "from tpot import TPOTClassifier\n",
    "\n",
    "tpot_classifier = TPOTClassifier(generations= 5, \n",
    "                                 population_size= 24, \n",
    "                                 offspring_size= 12,\n",
    "                                 verbosity= 2, \n",
    "                                 early_stop= 12,\n",
    "                                 config_dict={'sklearn.ensemble.RandomForestClassifier': param}, \n",
    "                                 cv = 4, \n",
    "                                 scoring = 'accuracy')\n",
    "tpot_classifier.fit(x_train,y_train)"
   ]
  },
  {
   "cell_type": "code",
   "execution_count": 19,
   "id": "f24ab5af",
   "metadata": {
    "execution": {
     "iopub.execute_input": "2023-03-14T19:29:57.172642Z",
     "iopub.status.busy": "2023-03-14T19:29:57.172075Z",
     "iopub.status.idle": "2023-03-14T19:29:57.398822Z",
     "shell.execute_reply": "2023-03-14T19:29:57.397287Z"
    },
    "papermill": {
     "duration": 0.240366,
     "end_time": "2023-03-14T19:29:57.401034",
     "exception": false,
     "start_time": "2023-03-14T19:29:57.160668",
     "status": "completed"
    },
    "tags": []
   },
   "outputs": [
    {
     "name": "stdout",
     "output_type": "stream",
     "text": [
      "Accuracy on test set: 92.98%\n",
      "F1-Score on test set: 0.94\n",
      "-------------------- confusion matrix --------------------\n"
     ]
    },
    {
     "data": {
      "image/png": "[encoded data removed]",
      "text/plain": [
       "<Figure size 800x800 with 2 Axes>"
      ]
     },
     "metadata": {},
     "output_type": "display_data"
    }
   ],
   "source": [
    "y_pred=tpot_classifier.predict(x_test)\n",
    "print(\"Accuracy on test set: %0.2f%%\"%(accuracy_score(y_test, y_pred)*100))\n",
    "print(\"F1-Score on test set: %0.2f\"%(f1_score(y_test, y_pred)))\n",
    "print(\"-\"*20, \"confusion matrix\", \"-\"*20)\n",
    "plt.figure(figsize=(8,8))\n",
    "df_cm = pd.DataFrame(confusion_matrix(y_test, y_pred), range(2),range(2))\n",
    "sns.set(font_scale=1.4)#for label size\n",
    "sns.heatmap(df_cm, annot=True,annot_kws={\"size\": 16}, fmt='g')\n",
    "plt.xlabel('Predicted Class')\n",
    "plt.ylabel('Original Class')\n",
    "plt.show()"
   ]
  },
  {
   "cell_type": "markdown",
   "id": "faa9fec0",
   "metadata": {
    "papermill": {
     "duration": 0.010382,
     "end_time": "2023-03-14T19:29:57.422422",
     "exception": false,
     "start_time": "2023-03-14T19:29:57.412040",
     "status": "completed"
    },
    "tags": []
   },
   "source": [
    "# Optuna"
   ]
  },
  {
   "cell_type": "code",
   "execution_count": 20,
   "id": "bbb60b91",
   "metadata": {
    "execution": {
     "iopub.execute_input": "2023-03-14T19:29:57.445316Z",
     "iopub.status.busy": "2023-03-14T19:29:57.445012Z",
     "iopub.status.idle": "2023-03-14T19:29:57.852079Z",
     "shell.execute_reply": "2023-03-14T19:29:57.850904Z"
    },
    "papermill": {
     "duration": 0.421273,
     "end_time": "2023-03-14T19:29:57.854477",
     "exception": false,
     "start_time": "2023-03-14T19:29:57.433204",
     "status": "completed"
    },
    "tags": []
   },
   "outputs": [],
   "source": [
    "import optuna\n",
    "import sklearn.svm\n",
    "\n",
    "def objective(trial):\n",
    "\n",
    "    classifier = 'RandomForest'\n",
    "    \n",
    "    n_estimators = trial.suggest_int('n_estimators', 10, 17,1)\n",
    "    max_depth = int(trial.suggest_categorical('max_depth', [5,10,20,30,40,50,60]))\n",
    "    criterion = trial.suggest_categorical('criterion', ['entropy', 'gini'])\n",
    "    min_samples_leaf = int(trial.suggest_categorical('min_samples_leaf',[1, 2, 5, 10]))\n",
    "    min_samples_split = int(trial.suggest_categorical('min_samples_split', [2, 5, 10, 15]))\n",
    "    max_features = trial.suggest_categorical('max_features', ['auto', 'sqrt','log2'])\n",
    "\n",
    "    clf = sklearn.ensemble.RandomForestClassifier(n_estimators=n_estimators, \n",
    "                                                  max_depth=max_depth,\n",
    "                                                  criterion=criterion,\n",
    "                                                  min_samples_leaf=min_samples_leaf,\n",
    "                                                  min_samples_split=min_samples_split,\n",
    "                                                  max_features=max_features\n",
    "                                                 )\n",
    "\n",
    "    return sklearn.model_selection.cross_val_score(clf,x_train,y_train, n_jobs=-1, cv=3).mean()"
   ]
  },
  {
   "cell_type": "code",
   "execution_count": 21,
   "id": "6c9d7c6e",
   "metadata": {
    "execution": {
     "iopub.execute_input": "2023-03-14T19:29:57.878193Z",
     "iopub.status.busy": "2023-03-14T19:29:57.877326Z",
     "iopub.status.idle": "2023-03-14T19:30:04.727738Z",
     "shell.execute_reply": "2023-03-14T19:30:04.725795Z"
    },
    "papermill": {
     "duration": 6.865364,
     "end_time": "2023-03-14T19:30:04.730621",
     "exception": false,
     "start_time": "2023-03-14T19:29:57.865257",
     "status": "completed"
    },
    "tags": []
   },
   "outputs": [
    {
     "name": "stderr",
     "output_type": "stream",
     "text": [
      "\u001b[32m[I 2023-03-14 19:29:57,880]\u001b[0m A new study created in memory with name: no-name-d3fe5caf-c02b-4f1e-acdd-a5132aada30b\u001b[0m\n",
      "\u001b[32m[I 2023-03-14 19:29:57,935]\u001b[0m Trial 0 finished with value: 0.9582461949575927 and parameters: {'n_estimators': 14, 'max_depth': 50, 'criterion': 'entropy', 'min_samples_leaf': 5, 'min_samples_split': 2, 'max_features': 'sqrt'}. Best is trial 0 with value: 0.9582461949575927.\u001b[0m\n",
      "\u001b[32m[I 2023-03-14 19:29:57,993]\u001b[0m Trial 1 finished with value: 0.9494306959451609 and parameters: {'n_estimators': 16, 'max_depth': 50, 'criterion': 'entropy', 'min_samples_leaf': 5, 'min_samples_split': 15, 'max_features': 'auto'}. Best is trial 0 with value: 0.9582461949575927.\u001b[0m\n",
      "\u001b[32m[I 2023-03-14 19:29:58,047]\u001b[0m Trial 2 finished with value: 0.9516527245265481 and parameters: {'n_estimators': 16, 'max_depth': 60, 'criterion': 'entropy', 'min_samples_leaf': 10, 'min_samples_split': 5, 'max_features': 'auto'}. Best is trial 0 with value: 0.9582461949575927.\u001b[0m\n",
      "\u001b[32m[I 2023-03-14 19:29:58,100]\u001b[0m Trial 3 finished with value: 0.9516091553386778 and parameters: {'n_estimators': 17, 'max_depth': 20, 'criterion': 'gini', 'min_samples_leaf': 10, 'min_samples_split': 10, 'max_features': 'auto'}. Best is trial 0 with value: 0.9582461949575927.\u001b[0m\n",
      "\u001b[32m[I 2023-03-14 19:29:58,151]\u001b[0m Trial 4 finished with value: 0.9406587661205995 and parameters: {'n_estimators': 13, 'max_depth': 60, 'criterion': 'gini', 'min_samples_leaf': 10, 'min_samples_split': 10, 'max_features': 'sqrt'}. Best is trial 0 with value: 0.9582461949575927.\u001b[0m\n",
      "\u001b[32m[I 2023-03-14 19:29:58,194]\u001b[0m Trial 5 finished with value: 0.9560241663762055 and parameters: {'n_estimators': 10, 'max_depth': 60, 'criterion': 'entropy', 'min_samples_leaf': 10, 'min_samples_split': 5, 'max_features': 'auto'}. Best is trial 0 with value: 0.9582461949575927.\u001b[0m\n",
      "\u001b[32m[I 2023-03-14 19:29:58,244]\u001b[0m Trial 6 finished with value: 0.9450592540955037 and parameters: {'n_estimators': 11, 'max_depth': 50, 'criterion': 'entropy', 'min_samples_leaf': 10, 'min_samples_split': 5, 'max_features': 'auto'}. Best is trial 0 with value: 0.9582461949575927.\u001b[0m\n",
      "\u001b[32m[I 2023-03-14 19:29:58,294]\u001b[0m Trial 7 finished with value: 0.9516382014639246 and parameters: {'n_estimators': 14, 'max_depth': 10, 'criterion': 'gini', 'min_samples_leaf': 1, 'min_samples_split': 5, 'max_features': 'auto'}. Best is trial 0 with value: 0.9582461949575927.\u001b[0m\n",
      "\u001b[32m[I 2023-03-14 19:29:58,337]\u001b[0m Trial 8 finished with value: 0.9472377134890205 and parameters: {'n_estimators': 10, 'max_depth': 40, 'criterion': 'entropy', 'min_samples_leaf': 1, 'min_samples_split': 15, 'max_features': 'sqrt'}. Best is trial 0 with value: 0.9582461949575927.\u001b[0m\n",
      "\u001b[32m[I 2023-03-14 19:29:58,387]\u001b[0m Trial 9 finished with value: 0.9472377134890205 and parameters: {'n_estimators': 13, 'max_depth': 30, 'criterion': 'gini', 'min_samples_leaf': 2, 'min_samples_split': 15, 'max_features': 'sqrt'}. Best is trial 0 with value: 0.9582461949575927.\u001b[0m\n",
      "\u001b[32m[I 2023-03-14 19:29:58,447]\u001b[0m Trial 10 finished with value: 0.960439177413733 and parameters: {'n_estimators': 14, 'max_depth': 5, 'criterion': 'entropy', 'min_samples_leaf': 5, 'min_samples_split': 2, 'max_features': 'log2'}. Best is trial 10 with value: 0.960439177413733.\u001b[0m\n",
      "\u001b[32m[I 2023-03-14 19:29:58,504]\u001b[0m Trial 11 finished with value: 0.9560386894388287 and parameters: {'n_estimators': 14, 'max_depth': 5, 'criterion': 'entropy', 'min_samples_leaf': 5, 'min_samples_split': 2, 'max_features': 'log2'}. Best is trial 10 with value: 0.960439177413733.\u001b[0m\n",
      "\u001b[32m[I 2023-03-14 19:29:58,563]\u001b[0m Trial 12 finished with value: 0.9494597420704078 and parameters: {'n_estimators': 15, 'max_depth': 5, 'criterion': 'entropy', 'min_samples_leaf': 5, 'min_samples_split': 2, 'max_features': 'log2'}. Best is trial 10 with value: 0.960439177413733.\u001b[0m\n",
      "\u001b[32m[I 2023-03-14 19:29:58,622]\u001b[0m Trial 13 finished with value: 0.9582461949575927 and parameters: {'n_estimators': 13, 'max_depth': 5, 'criterion': 'entropy', 'min_samples_leaf': 5, 'min_samples_split': 2, 'max_features': 'log2'}. Best is trial 10 with value: 0.960439177413733.\u001b[0m\n",
      "\u001b[32m[I 2023-03-14 19:29:58,676]\u001b[0m Trial 14 finished with value: 0.9516382014639246 and parameters: {'n_estimators': 12, 'max_depth': 50, 'criterion': 'entropy', 'min_samples_leaf': 5, 'min_samples_split': 2, 'max_features': 'log2'}. Best is trial 10 with value: 0.960439177413733.\u001b[0m\n",
      "\u001b[32m[I 2023-03-14 19:29:58,740]\u001b[0m Trial 15 finished with value: 0.9736115952131986 and parameters: {'n_estimators': 15, 'max_depth': 30, 'criterion': 'entropy', 'min_samples_leaf': 2, 'min_samples_split': 2, 'max_features': 'sqrt'}. Best is trial 15 with value: 0.9736115952131986.\u001b[0m\n",
      "\u001b[32m[I 2023-03-14 19:29:58,801]\u001b[0m Trial 16 finished with value: 0.9692401533635412 and parameters: {'n_estimators': 15, 'max_depth': 30, 'criterion': 'entropy', 'min_samples_leaf': 2, 'min_samples_split': 2, 'max_features': 'log2'}. Best is trial 15 with value: 0.9736115952131986.\u001b[0m\n",
      "\u001b[32m[I 2023-03-14 19:29:58,864]\u001b[0m Trial 17 finished with value: 0.9494306959451609 and parameters: {'n_estimators': 16, 'max_depth': 30, 'criterion': 'entropy', 'min_samples_leaf': 2, 'min_samples_split': 2, 'max_features': 'sqrt'}. Best is trial 15 with value: 0.9736115952131986.\u001b[0m\n",
      "\u001b[32m[I 2023-03-14 19:29:58,922]\u001b[0m Trial 18 finished with value: 0.9428662716393633 and parameters: {'n_estimators': 15, 'max_depth': 30, 'criterion': 'gini', 'min_samples_leaf': 2, 'min_samples_split': 2, 'max_features': 'sqrt'}. Best is trial 15 with value: 0.9736115952131986.\u001b[0m\n",
      "\u001b[32m[I 2023-03-14 19:29:58,992]\u001b[0m Trial 19 finished with value: 0.960410131288486 and parameters: {'n_estimators': 17, 'max_depth': 30, 'criterion': 'entropy', 'min_samples_leaf': 2, 'min_samples_split': 10, 'max_features': 'log2'}. Best is trial 15 with value: 0.9736115952131986.\u001b[0m\n",
      "\u001b[32m[I 2023-03-14 19:29:59,054]\u001b[0m Trial 20 finished with value: 0.9560386894388287 and parameters: {'n_estimators': 15, 'max_depth': 30, 'criterion': 'entropy', 'min_samples_leaf': 2, 'min_samples_split': 2, 'max_features': 'log2'}. Best is trial 15 with value: 0.9736115952131986.\u001b[0m\n",
      "\u001b[32m[I 2023-03-14 19:29:59,115]\u001b[0m Trial 21 finished with value: 0.9516527245265481 and parameters: {'n_estimators': 15, 'max_depth': 10, 'criterion': 'entropy', 'min_samples_leaf': 2, 'min_samples_split': 2, 'max_features': 'log2'}. Best is trial 15 with value: 0.9736115952131986.\u001b[0m\n",
      "\u001b[32m[I 2023-03-14 19:29:59,178]\u001b[0m Trial 22 finished with value: 0.9692256303009179 and parameters: {'n_estimators': 14, 'max_depth': 20, 'criterion': 'entropy', 'min_samples_leaf': 2, 'min_samples_split': 2, 'max_features': 'log2'}. Best is trial 15 with value: 0.9736115952131986.\u001b[0m\n",
      "\u001b[32m[I 2023-03-14 19:29:59,238]\u001b[0m Trial 23 finished with value: 0.9516672475891715 and parameters: {'n_estimators': 12, 'max_depth': 20, 'criterion': 'entropy', 'min_samples_leaf': 2, 'min_samples_split': 2, 'max_features': 'log2'}. Best is trial 15 with value: 0.9736115952131986.\u001b[0m\n",
      "\u001b[32m[I 2023-03-14 19:29:59,305]\u001b[0m Trial 24 finished with value: 0.953860230045312 and parameters: {'n_estimators': 16, 'max_depth': 20, 'criterion': 'entropy', 'min_samples_leaf': 2, 'min_samples_split': 2, 'max_features': 'log2'}. Best is trial 15 with value: 0.9736115952131986.\u001b[0m\n",
      "\u001b[32m[I 2023-03-14 19:29:59,372]\u001b[0m Trial 25 finished with value: 0.9560241663762055 and parameters: {'n_estimators': 15, 'max_depth': 40, 'criterion': 'entropy', 'min_samples_leaf': 2, 'min_samples_split': 2, 'max_features': 'sqrt'}. Best is trial 15 with value: 0.9736115952131986.\u001b[0m\n",
      "\u001b[32m[I 2023-03-14 19:29:59,428]\u001b[0m Trial 26 finished with value: 0.9494452190077842 and parameters: {'n_estimators': 12, 'max_depth': 20, 'criterion': 'gini', 'min_samples_leaf': 2, 'min_samples_split': 2, 'max_features': 'log2'}. Best is trial 15 with value: 0.9736115952131986.\u001b[0m\n",
      "\u001b[32m[I 2023-03-14 19:29:59,493]\u001b[0m Trial 27 finished with value: 0.9450592540955037 and parameters: {'n_estimators': 14, 'max_depth': 30, 'criterion': 'entropy', 'min_samples_leaf': 1, 'min_samples_split': 15, 'max_features': 'sqrt'}. Best is trial 15 with value: 0.9736115952131986.\u001b[0m\n",
      "\u001b[32m[I 2023-03-14 19:29:59,565]\u001b[0m Trial 28 finished with value: 0.9648106192633903 and parameters: {'n_estimators': 16, 'max_depth': 30, 'criterion': 'entropy', 'min_samples_leaf': 2, 'min_samples_split': 10, 'max_features': 'log2'}. Best is trial 15 with value: 0.9736115952131986.\u001b[0m\n",
      "\u001b[32m[I 2023-03-14 19:29:59,628]\u001b[0m Trial 29 finished with value: 0.9494452190077842 and parameters: {'n_estimators': 14, 'max_depth': 20, 'criterion': 'entropy', 'min_samples_leaf': 2, 'min_samples_split': 2, 'max_features': 'sqrt'}. Best is trial 15 with value: 0.9736115952131986.\u001b[0m\n",
      "\u001b[32m[I 2023-03-14 19:29:59,687]\u001b[0m Trial 30 finished with value: 0.9582316718949692 and parameters: {'n_estimators': 13, 'max_depth': 30, 'criterion': 'entropy', 'min_samples_leaf': 2, 'min_samples_split': 2, 'max_features': 'log2'}. Best is trial 15 with value: 0.9736115952131986.\u001b[0m\n",
      "\u001b[32m[I 2023-03-14 19:29:59,751]\u001b[0m Trial 31 finished with value: 0.9582316718949692 and parameters: {'n_estimators': 16, 'max_depth': 30, 'criterion': 'entropy', 'min_samples_leaf': 2, 'min_samples_split': 10, 'max_features': 'log2'}. Best is trial 15 with value: 0.9736115952131986.\u001b[0m\n",
      "\u001b[32m[I 2023-03-14 19:29:59,823]\u001b[0m Trial 32 finished with value: 0.9582316718949692 and parameters: {'n_estimators': 17, 'max_depth': 30, 'criterion': 'entropy', 'min_samples_leaf': 2, 'min_samples_split': 10, 'max_features': 'log2'}. Best is trial 15 with value: 0.9736115952131986.\u001b[0m\n",
      "\u001b[32m[I 2023-03-14 19:29:59,893]\u001b[0m Trial 33 finished with value: 0.9626031137446264 and parameters: {'n_estimators': 16, 'max_depth': 30, 'criterion': 'entropy', 'min_samples_leaf': 2, 'min_samples_split': 10, 'max_features': 'log2'}. Best is trial 15 with value: 0.9736115952131986.\u001b[0m\n",
      "\u001b[32m[I 2023-03-14 19:29:59,960]\u001b[0m Trial 34 finished with value: 0.9648251423260138 and parameters: {'n_estimators': 15, 'max_depth': 30, 'criterion': 'entropy', 'min_samples_leaf': 2, 'min_samples_split': 10, 'max_features': 'log2'}. Best is trial 15 with value: 0.9736115952131986.\u001b[0m\n",
      "\u001b[32m[I 2023-03-14 19:30:00,030]\u001b[0m Trial 35 finished with value: 0.9560241663762055 and parameters: {'n_estimators': 15, 'max_depth': 20, 'criterion': 'entropy', 'min_samples_leaf': 2, 'min_samples_split': 10, 'max_features': 'sqrt'}. Best is trial 15 with value: 0.9736115952131986.\u001b[0m\n",
      "\u001b[32m[I 2023-03-14 19:30:00,114]\u001b[0m Trial 36 finished with value: 0.9626176368072499 and parameters: {'n_estimators': 15, 'max_depth': 60, 'criterion': 'gini', 'min_samples_leaf': 1, 'min_samples_split': 5, 'max_features': 'auto'}. Best is trial 15 with value: 0.9736115952131986.\u001b[0m\n",
      "\u001b[32m[I 2023-03-14 19:30:00,189]\u001b[0m Trial 37 finished with value: 0.9516382014639246 and parameters: {'n_estimators': 14, 'max_depth': 40, 'criterion': 'entropy', 'min_samples_leaf': 10, 'min_samples_split': 15, 'max_features': 'log2'}. Best is trial 15 with value: 0.9736115952131986.\u001b[0m\n",
      "\u001b[32m[I 2023-03-14 19:30:00,276]\u001b[0m Trial 38 finished with value: 0.9582316718949692 and parameters: {'n_estimators': 15, 'max_depth': 10, 'criterion': 'entropy', 'min_samples_leaf': 2, 'min_samples_split': 10, 'max_features': 'auto'}. Best is trial 15 with value: 0.9736115952131986.\u001b[0m\n",
      "\u001b[32m[I 2023-03-14 19:30:00,366]\u001b[0m Trial 39 finished with value: 0.9384367375392122 and parameters: {'n_estimators': 16, 'max_depth': 50, 'criterion': 'gini', 'min_samples_leaf': 10, 'min_samples_split': 5, 'max_features': 'sqrt'}. Best is trial 15 with value: 0.9736115952131986.\u001b[0m\n",
      "\u001b[32m[I 2023-03-14 19:30:00,453]\u001b[0m Trial 40 finished with value: 0.9582316718949692 and parameters: {'n_estimators': 13, 'max_depth': 60, 'criterion': 'entropy', 'min_samples_leaf': 2, 'min_samples_split': 2, 'max_features': 'log2'}. Best is trial 15 with value: 0.9736115952131986.\u001b[0m\n",
      "\u001b[32m[I 2023-03-14 19:30:00,542]\u001b[0m Trial 41 finished with value: 0.953831183920065 and parameters: {'n_estimators': 16, 'max_depth': 30, 'criterion': 'entropy', 'min_samples_leaf': 2, 'min_samples_split': 10, 'max_features': 'log2'}. Best is trial 15 with value: 0.9736115952131986.\u001b[0m\n",
      "\u001b[32m[I 2023-03-14 19:30:00,625]\u001b[0m Trial 42 finished with value: 0.9450592540955037 and parameters: {'n_estimators': 14, 'max_depth': 30, 'criterion': 'entropy', 'min_samples_leaf': 2, 'min_samples_split': 10, 'max_features': 'log2'}. Best is trial 15 with value: 0.9736115952131986.\u001b[0m\n",
      "\u001b[32m[I 2023-03-14 19:30:00,733]\u001b[0m Trial 43 finished with value: 0.9604537004763566 and parameters: {'n_estimators': 17, 'max_depth': 30, 'criterion': 'entropy', 'min_samples_leaf': 2, 'min_samples_split': 10, 'max_features': 'log2'}. Best is trial 15 with value: 0.9736115952131986.\u001b[0m\n",
      "\u001b[32m[I 2023-03-14 19:30:00,838]\u001b[0m Trial 44 finished with value: 0.9626176368072499 and parameters: {'n_estimators': 15, 'max_depth': 30, 'criterion': 'entropy', 'min_samples_leaf': 1, 'min_samples_split': 10, 'max_features': 'auto'}. Best is trial 15 with value: 0.9736115952131986.\u001b[0m\n",
      "\u001b[32m[I 2023-03-14 19:30:00,924]\u001b[0m Trial 45 finished with value: 0.9516382014639246 and parameters: {'n_estimators': 16, 'max_depth': 30, 'criterion': 'entropy', 'min_samples_leaf': 2, 'min_samples_split': 15, 'max_features': 'log2'}. Best is trial 15 with value: 0.9736115952131986.\u001b[0m\n",
      "\u001b[32m[I 2023-03-14 19:30:00,992]\u001b[0m Trial 46 finished with value: 0.9472231904263971 and parameters: {'n_estimators': 14, 'max_depth': 20, 'criterion': 'entropy', 'min_samples_leaf': 10, 'min_samples_split': 10, 'max_features': 'log2'}. Best is trial 15 with value: 0.9736115952131986.\u001b[0m\n",
      "\u001b[32m[I 2023-03-14 19:30:01,073]\u001b[0m Trial 47 finished with value: 0.953831183920065 and parameters: {'n_estimators': 15, 'max_depth': 50, 'criterion': 'gini', 'min_samples_leaf': 2, 'min_samples_split': 5, 'max_features': 'sqrt'}. Best is trial 15 with value: 0.9736115952131986.\u001b[0m\n",
      "\u001b[32m[I 2023-03-14 19:30:01,158]\u001b[0m Trial 48 finished with value: 0.9626466829324968 and parameters: {'n_estimators': 16, 'max_depth': 10, 'criterion': 'entropy', 'min_samples_leaf': 2, 'min_samples_split': 2, 'max_features': 'log2'}. Best is trial 15 with value: 0.9736115952131986.\u001b[0m\n",
      "\u001b[32m[I 2023-03-14 19:30:01,244]\u001b[0m Trial 49 finished with value: 0.953831183920065 and parameters: {'n_estimators': 17, 'max_depth': 30, 'criterion': 'entropy', 'min_samples_leaf': 5, 'min_samples_split': 2, 'max_features': 'auto'}. Best is trial 15 with value: 0.9736115952131986.\u001b[0m\n",
      "\u001b[32m[I 2023-03-14 19:30:01,315]\u001b[0m Trial 50 finished with value: 0.9494306959451609 and parameters: {'n_estimators': 14, 'max_depth': 40, 'criterion': 'entropy', 'min_samples_leaf': 2, 'min_samples_split': 10, 'max_features': 'log2'}. Best is trial 15 with value: 0.9736115952131986.\u001b[0m\n",
      "\u001b[32m[I 2023-03-14 19:30:01,387]\u001b[0m Trial 51 finished with value: 0.956009643313582 and parameters: {'n_estimators': 15, 'max_depth': 10, 'criterion': 'entropy', 'min_samples_leaf': 2, 'min_samples_split': 2, 'max_features': 'log2'}. Best is trial 15 with value: 0.9736115952131986.\u001b[0m\n",
      "\u001b[32m[I 2023-03-14 19:30:01,467]\u001b[0m Trial 52 finished with value: 0.9472377134890205 and parameters: {'n_estimators': 16, 'max_depth': 10, 'criterion': 'entropy', 'min_samples_leaf': 2, 'min_samples_split': 2, 'max_features': 'log2'}. Best is trial 15 with value: 0.9736115952131986.\u001b[0m\n",
      "\u001b[32m[I 2023-03-14 19:30:01,538]\u001b[0m Trial 53 finished with value: 0.9648106192633903 and parameters: {'n_estimators': 16, 'max_depth': 10, 'criterion': 'entropy', 'min_samples_leaf': 2, 'min_samples_split': 2, 'max_features': 'log2'}. Best is trial 15 with value: 0.9736115952131986.\u001b[0m\n",
      "\u001b[32m[I 2023-03-14 19:30:01,609]\u001b[0m Trial 54 finished with value: 0.9560386894388287 and parameters: {'n_estimators': 15, 'max_depth': 5, 'criterion': 'entropy', 'min_samples_leaf': 2, 'min_samples_split': 2, 'max_features': 'log2'}. Best is trial 15 with value: 0.9736115952131986.\u001b[0m\n",
      "\u001b[32m[I 2023-03-14 19:30:01,682]\u001b[0m Trial 55 finished with value: 0.9560241663762055 and parameters: {'n_estimators': 17, 'max_depth': 10, 'criterion': 'entropy', 'min_samples_leaf': 2, 'min_samples_split': 2, 'max_features': 'log2'}. Best is trial 15 with value: 0.9736115952131986.\u001b[0m\n",
      "\u001b[32m[I 2023-03-14 19:30:01,750]\u001b[0m Trial 56 finished with value: 0.9516236784013011 and parameters: {'n_estimators': 16, 'max_depth': 30, 'criterion': 'entropy', 'min_samples_leaf': 5, 'min_samples_split': 2, 'max_features': 'sqrt'}. Best is trial 15 with value: 0.9736115952131986.\u001b[0m\n",
      "\u001b[32m[I 2023-03-14 19:30:01,824]\u001b[0m Trial 57 finished with value: 0.9604246543511096 and parameters: {'n_estimators': 15, 'max_depth': 60, 'criterion': 'entropy', 'min_samples_leaf': 1, 'min_samples_split': 2, 'max_features': 'log2'}. Best is trial 15 with value: 0.9736115952131986.\u001b[0m\n",
      "\u001b[32m[I 2023-03-14 19:30:01,899]\u001b[0m Trial 58 finished with value: 0.9494597420704078 and parameters: {'n_estimators': 16, 'max_depth': 20, 'criterion': 'gini', 'min_samples_leaf': 2, 'min_samples_split': 15, 'max_features': 'log2'}. Best is trial 15 with value: 0.9736115952131986.\u001b[0m\n",
      "\u001b[32m[I 2023-03-14 19:30:01,965]\u001b[0m Trial 59 finished with value: 0.9626466829324968 and parameters: {'n_estimators': 14, 'max_depth': 30, 'criterion': 'entropy', 'min_samples_leaf': 2, 'min_samples_split': 2, 'max_features': 'sqrt'}. Best is trial 15 with value: 0.9736115952131986.\u001b[0m\n",
      "\u001b[32m[I 2023-03-14 19:30:02,034]\u001b[0m Trial 60 finished with value: 0.9472667596142674 and parameters: {'n_estimators': 15, 'max_depth': 30, 'criterion': 'entropy', 'min_samples_leaf': 10, 'min_samples_split': 5, 'max_features': 'log2'}. Best is trial 15 with value: 0.9736115952131986.\u001b[0m\n",
      "\u001b[32m[I 2023-03-14 19:30:02,101]\u001b[0m Trial 61 finished with value: 0.9647960962007668 and parameters: {'n_estimators': 16, 'max_depth': 10, 'criterion': 'entropy', 'min_samples_leaf': 2, 'min_samples_split': 2, 'max_features': 'log2'}. Best is trial 15 with value: 0.9736115952131986.\u001b[0m\n",
      "\u001b[32m[I 2023-03-14 19:30:02,168]\u001b[0m Trial 62 finished with value: 0.9560241663762055 and parameters: {'n_estimators': 16, 'max_depth': 10, 'criterion': 'entropy', 'min_samples_leaf': 2, 'min_samples_split': 2, 'max_features': 'log2'}. Best is trial 15 with value: 0.9736115952131986.\u001b[0m\n",
      "\u001b[32m[I 2023-03-14 19:30:02,237]\u001b[0m Trial 63 finished with value: 0.9560241663762055 and parameters: {'n_estimators': 16, 'max_depth': 10, 'criterion': 'entropy', 'min_samples_leaf': 2, 'min_samples_split': 2, 'max_features': 'log2'}. Best is trial 15 with value: 0.9736115952131986.\u001b[0m\n",
      "\u001b[32m[I 2023-03-14 19:30:02,304]\u001b[0m Trial 64 finished with value: 0.960410131288486 and parameters: {'n_estimators': 15, 'max_depth': 10, 'criterion': 'entropy', 'min_samples_leaf': 2, 'min_samples_split': 2, 'max_features': 'log2'}. Best is trial 15 with value: 0.9736115952131986.\u001b[0m\n",
      "\u001b[32m[I 2023-03-14 19:30:02,376]\u001b[0m Trial 65 finished with value: 0.9538457069826886 and parameters: {'n_estimators': 17, 'max_depth': 5, 'criterion': 'entropy', 'min_samples_leaf': 2, 'min_samples_split': 2, 'max_features': 'log2'}. Best is trial 15 with value: 0.9736115952131986.\u001b[0m\n",
      "\u001b[32m[I 2023-03-14 19:30:02,434]\u001b[0m Trial 66 finished with value: 0.953860230045312 and parameters: {'n_estimators': 10, 'max_depth': 10, 'criterion': 'entropy', 'min_samples_leaf': 2, 'min_samples_split': 2, 'max_features': 'log2'}. Best is trial 15 with value: 0.9736115952131986.\u001b[0m\n",
      "\u001b[32m[I 2023-03-14 19:30:02,503]\u001b[0m Trial 67 finished with value: 0.9626031137446264 and parameters: {'n_estimators': 15, 'max_depth': 20, 'criterion': 'entropy', 'min_samples_leaf': 2, 'min_samples_split': 10, 'max_features': 'sqrt'}. Best is trial 15 with value: 0.9736115952131986.\u001b[0m\n",
      "\u001b[32m[I 2023-03-14 19:30:02,567]\u001b[0m Trial 68 finished with value: 0.9626321598698734 and parameters: {'n_estimators': 16, 'max_depth': 50, 'criterion': 'entropy', 'min_samples_leaf': 5, 'min_samples_split': 2, 'max_features': 'log2'}. Best is trial 15 with value: 0.9736115952131986.\u001b[0m\n",
      "\u001b[32m[I 2023-03-14 19:30:02,635]\u001b[0m Trial 69 finished with value: 0.9582461949575926 and parameters: {'n_estimators': 17, 'max_depth': 30, 'criterion': 'gini', 'min_samples_leaf': 2, 'min_samples_split': 2, 'max_features': 'auto'}. Best is trial 15 with value: 0.9736115952131986.\u001b[0m\n",
      "\u001b[32m[I 2023-03-14 19:30:02,699]\u001b[0m Trial 70 finished with value: 0.9560241663762055 and parameters: {'n_estimators': 13, 'max_depth': 40, 'criterion': 'entropy', 'min_samples_leaf': 2, 'min_samples_split': 10, 'max_features': 'log2'}. Best is trial 15 with value: 0.9736115952131986.\u001b[0m\n",
      "\u001b[32m[I 2023-03-14 19:30:02,769]\u001b[0m Trial 71 finished with value: 0.9670181247821542 and parameters: {'n_estimators': 16, 'max_depth': 10, 'criterion': 'entropy', 'min_samples_leaf': 2, 'min_samples_split': 2, 'max_features': 'log2'}. Best is trial 15 with value: 0.9736115952131986.\u001b[0m\n",
      "\u001b[32m[I 2023-03-14 19:30:02,847]\u001b[0m Trial 72 finished with value: 0.9626466829324968 and parameters: {'n_estimators': 16, 'max_depth': 10, 'criterion': 'entropy', 'min_samples_leaf': 2, 'min_samples_split': 2, 'max_features': 'log2'}. Best is trial 15 with value: 0.9736115952131986.\u001b[0m\n",
      "\u001b[32m[I 2023-03-14 19:30:02,905]\u001b[0m Trial 73 finished with value: 0.9604246543511096 and parameters: {'n_estimators': 11, 'max_depth': 10, 'criterion': 'entropy', 'min_samples_leaf': 2, 'min_samples_split': 2, 'max_features': 'log2'}. Best is trial 15 with value: 0.9736115952131986.\u001b[0m\n",
      "\u001b[32m[I 2023-03-14 19:30:02,980]\u001b[0m Trial 74 finished with value: 0.9648396653886372 and parameters: {'n_estimators': 16, 'max_depth': 10, 'criterion': 'entropy', 'min_samples_leaf': 2, 'min_samples_split': 2, 'max_features': 'log2'}. Best is trial 15 with value: 0.9736115952131986.\u001b[0m\n",
      "\u001b[32m[I 2023-03-14 19:30:03,051]\u001b[0m Trial 75 finished with value: 0.9692401533635412 and parameters: {'n_estimators': 15, 'max_depth': 30, 'criterion': 'entropy', 'min_samples_leaf': 1, 'min_samples_split': 2, 'max_features': 'log2'}. Best is trial 15 with value: 0.9736115952131986.\u001b[0m\n",
      "\u001b[32m[I 2023-03-14 19:30:03,113]\u001b[0m Trial 76 finished with value: 0.9516236784013014 and parameters: {'n_estimators': 14, 'max_depth': 30, 'criterion': 'entropy', 'min_samples_leaf': 1, 'min_samples_split': 15, 'max_features': 'log2'}. Best is trial 15 with value: 0.9736115952131986.\u001b[0m\n",
      "\u001b[32m[I 2023-03-14 19:30:03,180]\u001b[0m Trial 77 finished with value: 0.960439177413733 and parameters: {'n_estimators': 15, 'max_depth': 30, 'criterion': 'entropy', 'min_samples_leaf': 1, 'min_samples_split': 10, 'max_features': 'sqrt'}. Best is trial 15 with value: 0.9736115952131986.\u001b[0m\n",
      "\u001b[32m[I 2023-03-14 19:30:03,251]\u001b[0m Trial 78 finished with value: 0.9560386894388287 and parameters: {'n_estimators': 15, 'max_depth': 30, 'criterion': 'entropy', 'min_samples_leaf': 1, 'min_samples_split': 2, 'max_features': 'log2'}. Best is trial 15 with value: 0.9736115952131986.\u001b[0m\n",
      "\u001b[32m[I 2023-03-14 19:30:03,322]\u001b[0m Trial 79 finished with value: 0.9582171488323458 and parameters: {'n_estimators': 14, 'max_depth': 30, 'criterion': 'entropy', 'min_samples_leaf': 1, 'min_samples_split': 5, 'max_features': 'log2'}. Best is trial 15 with value: 0.9736115952131986.\u001b[0m\n",
      "\u001b[32m[I 2023-03-14 19:30:03,406]\u001b[0m Trial 80 finished with value: 0.967047170907401 and parameters: {'n_estimators': 15, 'max_depth': 20, 'criterion': 'gini', 'min_samples_leaf': 1, 'min_samples_split': 2, 'max_features': 'log2'}. Best is trial 15 with value: 0.9736115952131986.\u001b[0m\n",
      "\u001b[32m[I 2023-03-14 19:30:03,478]\u001b[0m Trial 81 finished with value: 0.960410131288486 and parameters: {'n_estimators': 15, 'max_depth': 20, 'criterion': 'gini', 'min_samples_leaf': 1, 'min_samples_split': 2, 'max_features': 'log2'}. Best is trial 15 with value: 0.9736115952131986.\u001b[0m\n",
      "\u001b[32m[I 2023-03-14 19:30:03,549]\u001b[0m Trial 82 finished with value: 0.953860230045312 and parameters: {'n_estimators': 15, 'max_depth': 20, 'criterion': 'gini', 'min_samples_leaf': 1, 'min_samples_split': 2, 'max_features': 'log2'}. Best is trial 15 with value: 0.9736115952131986.\u001b[0m\n",
      "\u001b[32m[I 2023-03-14 19:30:03,614]\u001b[0m Trial 83 finished with value: 0.9692401533635412 and parameters: {'n_estimators': 15, 'max_depth': 20, 'criterion': 'gini', 'min_samples_leaf': 1, 'min_samples_split': 2, 'max_features': 'log2'}. Best is trial 15 with value: 0.9736115952131986.\u001b[0m\n",
      "\u001b[32m[I 2023-03-14 19:30:03,678]\u001b[0m Trial 84 finished with value: 0.953831183920065 and parameters: {'n_estimators': 14, 'max_depth': 20, 'criterion': 'gini', 'min_samples_leaf': 1, 'min_samples_split': 2, 'max_features': 'log2'}. Best is trial 15 with value: 0.9736115952131986.\u001b[0m\n",
      "\u001b[32m[I 2023-03-14 19:30:03,750]\u001b[0m Trial 85 finished with value: 0.9604246543511096 and parameters: {'n_estimators': 15, 'max_depth': 20, 'criterion': 'gini', 'min_samples_leaf': 1, 'min_samples_split': 2, 'max_features': 'log2'}. Best is trial 15 with value: 0.9736115952131986.\u001b[0m\n",
      "\u001b[32m[I 2023-03-14 19:30:03,826]\u001b[0m Trial 86 finished with value: 0.9560677355640758 and parameters: {'n_estimators': 15, 'max_depth': 20, 'criterion': 'gini', 'min_samples_leaf': 1, 'min_samples_split': 2, 'max_features': 'sqrt'}. Best is trial 15 with value: 0.9736115952131986.\u001b[0m\n",
      "\u001b[32m[I 2023-03-14 19:30:03,901]\u001b[0m Trial 87 finished with value: 0.9648541884512606 and parameters: {'n_estimators': 14, 'max_depth': 20, 'criterion': 'gini', 'min_samples_leaf': 1, 'min_samples_split': 2, 'max_features': 'auto'}. Best is trial 15 with value: 0.9736115952131986.\u001b[0m\n",
      "\u001b[32m[I 2023-03-14 19:30:03,975]\u001b[0m Trial 88 finished with value: 0.945073777158127 and parameters: {'n_estimators': 14, 'max_depth': 20, 'criterion': 'gini', 'min_samples_leaf': 1, 'min_samples_split': 2, 'max_features': 'auto'}. Best is trial 15 with value: 0.9736115952131986.\u001b[0m\n",
      "\u001b[32m[I 2023-03-14 19:30:04,042]\u001b[0m Trial 89 finished with value: 0.9428517485767398 and parameters: {'n_estimators': 14, 'max_depth': 20, 'criterion': 'gini', 'min_samples_leaf': 1, 'min_samples_split': 2, 'max_features': 'auto'}. Best is trial 15 with value: 0.9736115952131986.\u001b[0m\n",
      "\u001b[32m[I 2023-03-14 19:30:04,105]\u001b[0m Trial 90 finished with value: 0.9560241663762055 and parameters: {'n_estimators': 13, 'max_depth': 20, 'criterion': 'gini', 'min_samples_leaf': 1, 'min_samples_split': 2, 'max_features': 'auto'}. Best is trial 15 with value: 0.9736115952131986.\u001b[0m\n",
      "\u001b[32m[I 2023-03-14 19:30:04,175]\u001b[0m Trial 91 finished with value: 0.9560241663762055 and parameters: {'n_estimators': 15, 'max_depth': 20, 'criterion': 'gini', 'min_samples_leaf': 1, 'min_samples_split': 2, 'max_features': 'auto'}. Best is trial 15 with value: 0.9736115952131986.\u001b[0m\n",
      "\u001b[32m[I 2023-03-14 19:30:04,250]\u001b[0m Trial 92 finished with value: 0.9604246543511096 and parameters: {'n_estimators': 15, 'max_depth': 60, 'criterion': 'gini', 'min_samples_leaf': 1, 'min_samples_split': 2, 'max_features': 'auto'}. Best is trial 15 with value: 0.9736115952131986.\u001b[0m\n",
      "\u001b[32m[I 2023-03-14 19:30:04,314]\u001b[0m Trial 93 finished with value: 0.9450302079702567 and parameters: {'n_estimators': 14, 'max_depth': 20, 'criterion': 'gini', 'min_samples_leaf': 10, 'min_samples_split': 2, 'max_features': 'log2'}. Best is trial 15 with value: 0.9736115952131986.\u001b[0m\n",
      "\u001b[32m[I 2023-03-14 19:30:04,381]\u001b[0m Trial 94 finished with value: 0.9494452190077842 and parameters: {'n_estimators': 13, 'max_depth': 20, 'criterion': 'gini', 'min_samples_leaf': 1, 'min_samples_split': 2, 'max_features': 'log2'}. Best is trial 15 with value: 0.9736115952131986.\u001b[0m\n",
      "\u001b[32m[I 2023-03-14 19:30:04,452]\u001b[0m Trial 95 finished with value: 0.9714040896944347 and parameters: {'n_estimators': 15, 'max_depth': 5, 'criterion': 'gini', 'min_samples_leaf': 1, 'min_samples_split': 2, 'max_features': 'log2'}. Best is trial 15 with value: 0.9736115952131986.\u001b[0m\n",
      "\u001b[32m[I 2023-03-14 19:30:04,519]\u001b[0m Trial 96 finished with value: 0.9560532125014524 and parameters: {'n_estimators': 15, 'max_depth': 5, 'criterion': 'gini', 'min_samples_leaf': 1, 'min_samples_split': 2, 'max_features': 'log2'}. Best is trial 15 with value: 0.9736115952131986.\u001b[0m\n",
      "\u001b[32m[I 2023-03-14 19:30:04,587]\u001b[0m Trial 97 finished with value: 0.9516962937144186 and parameters: {'n_estimators': 14, 'max_depth': 5, 'criterion': 'gini', 'min_samples_leaf': 1, 'min_samples_split': 2, 'max_features': 'sqrt'}. Best is trial 15 with value: 0.9736115952131986.\u001b[0m\n",
      "\u001b[32m[I 2023-03-14 19:30:04,655]\u001b[0m Trial 98 finished with value: 0.9560532125014524 and parameters: {'n_estimators': 15, 'max_depth': 5, 'criterion': 'gini', 'min_samples_leaf': 1, 'min_samples_split': 2, 'max_features': 'log2'}. Best is trial 15 with value: 0.9736115952131986.\u001b[0m\n",
      "\u001b[32m[I 2023-03-14 19:30:04,721]\u001b[0m Trial 99 finished with value: 0.956009643313582 and parameters: {'n_estimators': 14, 'max_depth': 5, 'criterion': 'gini', 'min_samples_leaf': 1, 'min_samples_split': 2, 'max_features': 'auto'}. Best is trial 15 with value: 0.9736115952131986.\u001b[0m\n"
     ]
    },
    {
     "name": "stdout",
     "output_type": "stream",
     "text": [
      "Accuracy: 0.9736115952131986\n",
      "Best hyperparameters: {'n_estimators': 15, 'max_depth': 30, 'criterion': 'entropy', 'min_samples_leaf': 2, 'min_samples_split': 2, 'max_features': 'sqrt'}\n",
      "CPU times: user 2.61 s, sys: 108 ms, total: 2.71 s\n",
      "Wall time: 6.84 s\n"
     ]
    }
   ],
   "source": [
    "%%time\n",
    "study = optuna.create_study(direction='maximize')\n",
    "study.optimize(objective, n_trials=100)\n",
    "\n",
    "trial = study.best_trial\n",
    "\n",
    "print('Accuracy: {}'.format(trial.value))\n",
    "print(\"Best hyperparameters: {}\".format(trial.params))"
   ]
  },
  {
   "cell_type": "code",
   "execution_count": 22,
   "id": "f099846e",
   "metadata": {
    "execution": {
     "iopub.execute_input": "2023-03-14T19:30:04.764863Z",
     "iopub.status.busy": "2023-03-14T19:30:04.764510Z",
     "iopub.status.idle": "2023-03-14T19:30:04.772190Z",
     "shell.execute_reply": "2023-03-14T19:30:04.771003Z"
    },
    "papermill": {
     "duration": 0.027703,
     "end_time": "2023-03-14T19:30:04.774610",
     "exception": false,
     "start_time": "2023-03-14T19:30:04.746907",
     "status": "completed"
    },
    "tags": []
   },
   "outputs": [
    {
     "data": {
      "text/plain": [
       "{'n_estimators': 15,\n",
       " 'max_depth': 30,\n",
       " 'criterion': 'entropy',\n",
       " 'min_samples_leaf': 2,\n",
       " 'min_samples_split': 2,\n",
       " 'max_features': 'sqrt'}"
      ]
     },
     "execution_count": 22,
     "metadata": {},
     "output_type": "execute_result"
    }
   ],
   "source": [
    "study.best_params"
   ]
  },
  {
   "cell_type": "code",
   "execution_count": 23,
   "id": "24746743",
   "metadata": {
    "execution": {
     "iopub.execute_input": "2023-03-14T19:30:04.811250Z",
     "iopub.status.busy": "2023-03-14T19:30:04.809849Z",
     "iopub.status.idle": "2023-03-14T19:30:04.838793Z",
     "shell.execute_reply": "2023-03-14T19:30:04.837345Z"
    },
    "papermill": {
     "duration": 0.049255,
     "end_time": "2023-03-14T19:30:04.841299",
     "exception": false,
     "start_time": "2023-03-14T19:30:04.792044",
     "status": "completed"
    },
    "tags": []
   },
   "outputs": [
    {
     "data": {
      "text/plain": [
       "RandomForestClassifier(criterion='entropy', max_depth=30, max_features='log2',\n",
       "                       min_samples_leaf=2, n_estimators=10)"
      ]
     },
     "execution_count": 23,
     "metadata": {},
     "output_type": "execute_result"
    }
   ],
   "source": [
    "rf=RandomForestClassifier(n_estimators= 10,\n",
    "                         max_depth= 30,\n",
    "                         criterion= 'entropy',\n",
    "                         min_samples_leaf= 2,\n",
    "                         min_samples_split= 2,\n",
    "                         max_features= 'log2')\n",
    "rf.fit(x_train,y_train)"
   ]
  },
  {
   "cell_type": "code",
   "execution_count": 24,
   "id": "9feb7da8",
   "metadata": {
    "execution": {
     "iopub.execute_input": "2023-03-14T19:30:04.877025Z",
     "iopub.status.busy": "2023-03-14T19:30:04.876670Z",
     "iopub.status.idle": "2023-03-14T19:30:05.091263Z",
     "shell.execute_reply": "2023-03-14T19:30:05.090355Z"
    },
    "papermill": {
     "duration": 0.234686,
     "end_time": "2023-03-14T19:30:05.093076",
     "exception": false,
     "start_time": "2023-03-14T19:30:04.858390",
     "status": "completed"
    },
    "tags": []
   },
   "outputs": [
    {
     "name": "stdout",
     "output_type": "stream",
     "text": [
      "Accuracy on test set: 94.74%\n",
      "F1-Score on test set: 0.96\n",
      "-------------------- confusion matrix --------------------\n"
     ]
    },
    {
     "data": {
      "image/png": "[encoded data removed]",
      "text/plain": [
       "<Figure size 800x800 with 2 Axes>"
      ]
     },
     "metadata": {},
     "output_type": "display_data"
    }
   ],
   "source": [
    "y_pred=rf.predict(x_test)\n",
    "print(\"Accuracy on test set: %0.2f%%\"%(accuracy_score(y_test, y_pred)*100))\n",
    "print(\"F1-Score on test set: %0.2f\"%(f1_score(y_test, y_pred)))\n",
    "print(\"-\"*20, \"confusion matrix\", \"-\"*20)\n",
    "plt.figure(figsize=(8,8))\n",
    "df_cm = pd.DataFrame(confusion_matrix(y_test, y_pred), range(2),range(2))\n",
    "sns.set(font_scale=1.4)#for label size\n",
    "sns.heatmap(df_cm, annot=True,annot_kws={\"size\": 16}, fmt='g')\n",
    "plt.xlabel('Predicted Class')\n",
    "plt.ylabel('Original Class')\n",
    "plt.show()\n"
   ]
  },
  {
   "cell_type": "code",
   "execution_count": null,
   "id": "796661e9",
   "metadata": {
    "papermill": {
     "duration": 0.016438,
     "end_time": "2023-03-14T19:30:05.126581",
     "exception": false,
     "start_time": "2023-03-14T19:30:05.110143",
     "status": "completed"
    },
    "tags": []
   },
   "outputs": [],
   "source": []
  }
 ],
 "metadata": {
  "kernelspec": {
   "display_name": "Python 3",
   "language": "python",
   "name": "python3"
  },
  "language_info": {
   "codemirror_mode": {
    "name": "ipython",
    "version": 3
   },
   "file_extension": ".py",
   "mimetype": "text/x-python",
   "name": "python",
   "nbconvert_exporter": "python",
   "pygments_lexer": "ipython3",
   "version": "3.7.12"
  },
  "papermill": {
   "default_parameters": {},
   "duration": 278.327665,
   "end_time": "2023-03-14T19:30:07.766872",
   "environment_variables": {},
   "exception": null,
   "input_path": "__notebook__.ipynb",
   "output_path": "__notebook__.ipynb",
   "parameters": {},
   "start_time": "2023-03-14T19:25:29.439207",
   "version": "2.4.0"
  },
  "widgets": {
   "application/vnd.jupyter.widget-state+json": {
    "state": {
     "0df47f10435541309eeaefe1d1df464c": {
      "model_module": "@jupyter-widgets/controls",
      "model_module_version": "1.5.0",
      "model_name": "FloatProgressModel",
      "state": {
       "_dom_classes": [],
       "_model_module": "@jupyter-widgets/controls",
       "_model_module_version": "1.5.0",
       "_model_name": "FloatProgressModel",
       "_view_count": null,
       "_view_module": "@jupyter-widgets/controls",
       "_view_module_version": "1.5.0",
       "_view_name": "ProgressView",
       "bar_style": "",
       "description": "",
       "description_tooltip": null,
       "layout": "IPY_MODEL_627747b6abb148078ef93bb82d0f90f0",
       "max": 84.0,
       "min": 0.0,
       "orientation": "horizontal",
       "style": "IPY_MODEL_580cbfa1784e4005b3c79f1dcd98cdb4",
       "value": 84.0
      }
     },
     "15ae7c547e7f46b8b41d469eb574b1f5": {
      "model_module": "@jupyter-widgets/controls",
      "model_module_version": "1.5.0",
      "model_name": "HBoxModel",
      "state": {
       "_dom_classes": [],
       "_model_module": "@jupyter-widgets/controls",
       "_model_module_version": "1.5.0",
       "_model_name": "HBoxModel",
       "_view_count": null,
       "_view_module": "@jupyter-widgets/controls",
       "_view_module_version": "1.5.0",
       "_view_name": "HBoxView",
       "box_style": "",
       "children": [
        "IPY_MODEL_5695f2af376b42049d018fee915500aa",
        "IPY_MODEL_0df47f10435541309eeaefe1d1df464c",
        "IPY_MODEL_b72559112efe462bae760743d7a89cd6"
       ],
       "layout": "IPY_MODEL_a7a3716b6c7d43038d764054d4ff5534"
      }
     },
     "41a84718a1cd45aaa0ef7ba53442301f": {
      "model_module": "@jupyter-widgets/base",
      "model_module_version": "1.2.0",
      "model_name": "LayoutModel",
      "state": {
       "_model_module": "@jupyter-widgets/base",
       "_model_module_version": "1.2.0",
       "_model_name": "LayoutModel",
       "_view_count": null,
       "_view_module": "@jupyter-widgets/base",
       "_view_module_version": "1.2.0",
       "_view_name": "LayoutView",
       "align_content": null,
       "align_items": null,
       "align_self": null,
       "border": null,
       "bottom": null,
       "display": null,
       "flex": null,
       "flex_flow": null,
       "grid_area": null,
       "grid_auto_columns": null,
       "grid_auto_flow": null,
       "grid_auto_rows": null,
       "grid_column": null,
       "grid_gap": null,
       "grid_row": null,
       "grid_template_areas": null,
       "grid_template_columns": null,
       "grid_template_rows": null,
       "height": null,
       "justify_content": null,
       "justify_items": null,
       "left": null,
       "margin": null,
       "max_height": null,
       "max_width": null,
       "min_height": null,
       "min_width": null,
       "object_fit": null,
       "object_position": null,
       "order": null,
       "overflow": null,
       "overflow_x": null,
       "overflow_y": null,
       "padding": null,
       "right": null,
       "top": null,
       "visibility": null,
       "width": null
      }
     },
     "5695f2af376b42049d018fee915500aa": {
      "model_module": "@jupyter-widgets/controls",
      "model_module_version": "1.5.0",
      "model_name": "HTMLModel",
      "state": {
       "_dom_classes": [],
       "_model_module": "@jupyter-widgets/controls",
       "_model_module_version": "1.5.0",
       "_model_name": "HTMLModel",
       "_view_count": null,
       "_view_module": "@jupyter-widgets/controls",
       "_view_module_version": "1.5.0",
       "_view_name": "HTMLView",
       "description": "",
       "description_tooltip": null,
       "layout": "IPY_MODEL_d1b99d8d56754fd783046e017e8a86a8",
       "placeholder": "​",
       "style": "IPY_MODEL_b3e082c6e6f4464da260ab2a5d1a6a0d",
       "value": "Optimization Progress: 100%"
      }
     },
     "580cbfa1784e4005b3c79f1dcd98cdb4": {
      "model_module": "@jupyter-widgets/controls",
      "model_module_version": "1.5.0",
      "model_name": "ProgressStyleModel",
      "state": {
       "_model_module": "@jupyter-widgets/controls",
       "_model_module_version": "1.5.0",
       "_model_name": "ProgressStyleModel",
       "_view_count": null,
       "_view_module": "@jupyter-widgets/base",
       "_view_module_version": "1.2.0",
       "_view_name": "StyleView",
       "bar_color": null,
       "description_width": ""
      }
     },
     "627747b6abb148078ef93bb82d0f90f0": {
      "model_module": "@jupyter-widgets/base",
      "model_module_version": "1.2.0",
      "model_name": "LayoutModel",
      "state": {
       "_model_module": "@jupyter-widgets/base",
       "_model_module_version": "1.2.0",
       "_model_name": "LayoutModel",
       "_view_count": null,
       "_view_module": "@jupyter-widgets/base",
       "_view_module_version": "1.2.0",
       "_view_name": "LayoutView",
       "align_content": null,
       "align_items": null,
       "align_self": null,
       "border": null,
       "bottom": null,
       "display": null,
       "flex": null,
       "flex_flow": null,
       "grid_area": null,
       "grid_auto_columns": null,
       "grid_auto_flow": null,
       "grid_auto_rows": null,
       "grid_column": null,
       "grid_gap": null,
       "grid_row": null,
       "grid_template_areas": null,
       "grid_template_columns": null,
       "grid_template_rows": null,
       "height": null,
       "justify_content": null,
       "justify_items": null,
       "left": null,
       "margin": null,
       "max_height": null,
       "max_width": null,
       "min_height": null,
       "min_width": null,
       "object_fit": null,
       "object_position": null,
       "order": null,
       "overflow": null,
       "overflow_x": null,
       "overflow_y": null,
       "padding": null,
       "right": null,
       "top": null,
       "visibility": null,
       "width": null
      }
     },
     "a7a3716b6c7d43038d764054d4ff5534": {
      "model_module": "@jupyter-widgets/base",
      "model_module_version": "1.2.0",
      "model_name": "LayoutModel",
      "state": {
       "_model_module": "@jupyter-widgets/base",
       "_model_module_version": "1.2.0",
       "_model_name": "LayoutModel",
       "_view_count": null,
       "_view_module": "@jupyter-widgets/base",
       "_view_module_version": "1.2.0",
       "_view_name": "LayoutView",
       "align_content": null,
       "align_items": null,
       "align_self": null,
       "border": null,
       "bottom": null,
       "display": null,
       "flex": null,
       "flex_flow": null,
       "grid_area": null,
       "grid_auto_columns": null,
       "grid_auto_flow": null,
       "grid_auto_rows": null,
       "grid_column": null,
       "grid_gap": null,
       "grid_row": null,
       "grid_template_areas": null,
       "grid_template_columns": null,
       "grid_template_rows": null,
       "height": null,
       "justify_content": null,
       "justify_items": null,
       "left": null,
       "margin": null,
       "max_height": null,
       "max_width": null,
       "min_height": null,
       "min_width": null,
       "object_fit": null,
       "object_position": null,
       "order": null,
       "overflow": null,
       "overflow_x": null,
       "overflow_y": null,
       "padding": null,
       "right": null,
       "top": null,
       "visibility": "hidden",
       "width": null
      }
     },
     "b3e082c6e6f4464da260ab2a5d1a6a0d": {
      "model_module": "@jupyter-widgets/controls",
      "model_module_version": "1.5.0",
      "model_name": "DescriptionStyleModel",
      "state": {
       "_model_module": "@jupyter-widgets/controls",
       "_model_module_version": "1.5.0",
       "_model_name": "DescriptionStyleModel",
       "_view_count": null,
       "_view_module": "@jupyter-widgets/base",
       "_view_module_version": "1.2.0",
       "_view_name": "StyleView",
       "description_width": ""
      }
     },
     "b72559112efe462bae760743d7a89cd6": {
      "model_module": "@jupyter-widgets/controls",
      "model_module_version": "1.5.0",
      "model_name": "HTMLModel",
      "state": {
       "_dom_classes": [],
       "_model_module": "@jupyter-widgets/controls",
       "_model_module_version": "1.5.0",
       "_model_name": "HTMLModel",
       "_view_count": null,
       "_view_module": "@jupyter-widgets/controls",
       "_view_module_version": "1.5.0",
       "_view_name": "HTMLView",
       "description": "",
       "description_tooltip": null,
       "layout": "IPY_MODEL_41a84718a1cd45aaa0ef7ba53442301f",
       "placeholder": "​",
       "style": "IPY_MODEL_efa62e19a52c4b968986725ad73d9e4b",
       "value": " 84/84 [00:12&lt;00:00,  5.90pipeline/s]"
      }
     },
     "d1b99d8d56754fd783046e017e8a86a8": {
      "model_module": "@jupyter-widgets/base",
      "model_module_version": "1.2.0",
      "model_name": "LayoutModel",
      "state": {
       "_model_module": "@jupyter-widgets/base",
       "_model_module_version": "1.2.0",
       "_model_name": "LayoutModel",
       "_view_count": null,
       "_view_module": "@jupyter-widgets/base",
       "_view_module_version": "1.2.0",
       "_view_name": "LayoutView",
       "align_content": null,
       "align_items": null,
       "align_self": null,
       "border": null,
       "bottom": null,
       "display": null,
       "flex": null,
       "flex_flow": null,
       "grid_area": null,
       "grid_auto_columns": null,
       "grid_auto_flow": null,
       "grid_auto_rows": null,
       "grid_column": null,
       "grid_gap": null,
       "grid_row": null,
       "grid_template_areas": null,
       "grid_template_columns": null,
       "grid_template_rows": null,
       "height": null,
       "justify_content": null,
       "justify_items": null,
       "left": null,
       "margin": null,
       "max_height": null,
       "max_width": null,
       "min_height": null,
       "min_width": null,
       "object_fit": null,
       "object_position": null,
       "order": null,
       "overflow": null,
       "overflow_x": null,
       "overflow_y": null,
       "padding": null,
       "right": null,
       "top": null,
       "visibility": null,
       "width": null
      }
     },
     "efa62e19a52c4b968986725ad73d9e4b": {
      "model_module": "@jupyter-widgets/controls",
      "model_module_version": "1.5.0",
      "model_name": "DescriptionStyleModel",
      "state": {
       "_model_module": "@jupyter-widgets/controls",
       "_model_module_version": "1.5.0",
       "_model_name": "DescriptionStyleModel",
       "_view_count": null,
       "_view_module": "@jupyter-widgets/base",
       "_view_module_version": "1.2.0",
       "_view_name": "StyleView",
       "description_width": ""
      }
     }
    },
    "version_major": 2,
    "version_minor": 0
   }
  }
 },
 "nbformat": 4,
 "nbformat_minor": 5
}
