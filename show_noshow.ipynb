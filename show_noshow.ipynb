{
 "cells": [
  {
   "cell_type": "code",
   "execution_count": 1,
   "id": "d1069ba8-9be2-4cab-b11c-01e7ae9d75f7",
   "metadata": {},
   "outputs": [],
   "source": [
    "import pandas as pd\n",
    "import numpy as np\n",
    "import matplotlib.pyplot as plt\n",
    "import seaborn as sns\n",
    "\n",
    "from pylab import rcParams\n",
    "rcParams['figure.figsize']=20,5\n",
    "sns.set_style(\"whitegrid\")\n",
    "\n",
    "# Ignore harmless warnings\n",
    "import warnings\n",
    "warnings.filterwarnings(\"ignore\")"
   ]
  },
  {
   "cell_type": "code",
   "execution_count": 2,
   "id": "3160eceb-4301-49ee-aebd-b59cc882c32e",
   "metadata": {},
   "outputs": [
    {
     "data": {
      "text/html": [
       "<div>\n",
       "<style scoped>\n",
       "    .dataframe tbody tr th:only-of-type {\n",
       "        vertical-align: middle;\n",
       "    }\n",
       "\n",
       "    .dataframe tbody tr th {\n",
       "        vertical-align: top;\n",
       "    }\n",
       "\n",
       "    .dataframe thead th {\n",
       "        text-align: right;\n",
       "    }\n",
       "</style>\n",
       "<table border=\"1\" class=\"dataframe\">\n",
       "  <thead>\n",
       "    <tr style=\"text-align: right;\">\n",
       "      <th></th>\n",
       "      <th>Age</th>\n",
       "      <th>Gender</th>\n",
       "      <th>AppointmentRegistration</th>\n",
       "      <th>ApointmentData</th>\n",
       "      <th>DayOfTheWeek</th>\n",
       "      <th>Status</th>\n",
       "      <th>Diabetes</th>\n",
       "      <th>Alcoolism</th>\n",
       "      <th>HiperTension</th>\n",
       "      <th>Handcap</th>\n",
       "      <th>Smokes</th>\n",
       "      <th>Scholarship</th>\n",
       "      <th>Tuberculosis</th>\n",
       "      <th>Sms_Reminder</th>\n",
       "      <th>AwaitingTime</th>\n",
       "    </tr>\n",
       "  </thead>\n",
       "  <tbody>\n",
       "    <tr>\n",
       "      <th>0</th>\n",
       "      <td>19</td>\n",
       "      <td>M</td>\n",
       "      <td>2014-12-16T14:46:25Z</td>\n",
       "      <td>2015-01-14T00:00:00Z</td>\n",
       "      <td>Wednesday</td>\n",
       "      <td>Show-Up</td>\n",
       "      <td>0</td>\n",
       "      <td>0</td>\n",
       "      <td>0</td>\n",
       "      <td>0</td>\n",
       "      <td>0</td>\n",
       "      <td>0</td>\n",
       "      <td>0</td>\n",
       "      <td>0</td>\n",
       "      <td>-29</td>\n",
       "    </tr>\n",
       "    <tr>\n",
       "      <th>1</th>\n",
       "      <td>24</td>\n",
       "      <td>F</td>\n",
       "      <td>2015-08-18T07:01:26Z</td>\n",
       "      <td>2015-08-19T00:00:00Z</td>\n",
       "      <td>Wednesday</td>\n",
       "      <td>Show-Up</td>\n",
       "      <td>0</td>\n",
       "      <td>0</td>\n",
       "      <td>0</td>\n",
       "      <td>0</td>\n",
       "      <td>0</td>\n",
       "      <td>0</td>\n",
       "      <td>0</td>\n",
       "      <td>0</td>\n",
       "      <td>-1</td>\n",
       "    </tr>\n",
       "    <tr>\n",
       "      <th>2</th>\n",
       "      <td>4</td>\n",
       "      <td>F</td>\n",
       "      <td>2014-02-17T12:53:46Z</td>\n",
       "      <td>2014-02-18T00:00:00Z</td>\n",
       "      <td>Tuesday</td>\n",
       "      <td>Show-Up</td>\n",
       "      <td>0</td>\n",
       "      <td>0</td>\n",
       "      <td>0</td>\n",
       "      <td>0</td>\n",
       "      <td>0</td>\n",
       "      <td>0</td>\n",
       "      <td>0</td>\n",
       "      <td>0</td>\n",
       "      <td>-1</td>\n",
       "    </tr>\n",
       "    <tr>\n",
       "      <th>3</th>\n",
       "      <td>5</td>\n",
       "      <td>M</td>\n",
       "      <td>2014-07-23T17:02:11Z</td>\n",
       "      <td>2014-08-07T00:00:00Z</td>\n",
       "      <td>Thursday</td>\n",
       "      <td>Show-Up</td>\n",
       "      <td>0</td>\n",
       "      <td>0</td>\n",
       "      <td>0</td>\n",
       "      <td>0</td>\n",
       "      <td>0</td>\n",
       "      <td>0</td>\n",
       "      <td>0</td>\n",
       "      <td>1</td>\n",
       "      <td>-15</td>\n",
       "    </tr>\n",
       "    <tr>\n",
       "      <th>4</th>\n",
       "      <td>38</td>\n",
       "      <td>M</td>\n",
       "      <td>2015-10-21T15:20:09Z</td>\n",
       "      <td>2015-10-27T00:00:00Z</td>\n",
       "      <td>Tuesday</td>\n",
       "      <td>Show-Up</td>\n",
       "      <td>0</td>\n",
       "      <td>0</td>\n",
       "      <td>0</td>\n",
       "      <td>0</td>\n",
       "      <td>0</td>\n",
       "      <td>0</td>\n",
       "      <td>0</td>\n",
       "      <td>1</td>\n",
       "      <td>-6</td>\n",
       "    </tr>\n",
       "  </tbody>\n",
       "</table>\n",
       "</div>"
      ],
      "text/plain": [
       "   Age Gender AppointmentRegistration        ApointmentData DayOfTheWeek  \\\n",
       "0   19      M    2014-12-16T14:46:25Z  2015-01-14T00:00:00Z    Wednesday   \n",
       "1   24      F    2015-08-18T07:01:26Z  2015-08-19T00:00:00Z    Wednesday   \n",
       "2    4      F    2014-02-17T12:53:46Z  2014-02-18T00:00:00Z      Tuesday   \n",
       "3    5      M    2014-07-23T17:02:11Z  2014-08-07T00:00:00Z     Thursday   \n",
       "4   38      M    2015-10-21T15:20:09Z  2015-10-27T00:00:00Z      Tuesday   \n",
       "\n",
       "    Status  Diabetes  Alcoolism  HiperTension  Handcap  Smokes  Scholarship  \\\n",
       "0  Show-Up         0          0             0        0       0            0   \n",
       "1  Show-Up         0          0             0        0       0            0   \n",
       "2  Show-Up         0          0             0        0       0            0   \n",
       "3  Show-Up         0          0             0        0       0            0   \n",
       "4  Show-Up         0          0             0        0       0            0   \n",
       "\n",
       "   Tuberculosis  Sms_Reminder  AwaitingTime  \n",
       "0             0             0           -29  \n",
       "1             0             0            -1  \n",
       "2             0             0            -1  \n",
       "3             0             1           -15  \n",
       "4             0             1            -6  "
      ]
     },
     "execution_count": 2,
     "metadata": {},
     "output_type": "execute_result"
    }
   ],
   "source": [
    "df=pd.read_csv('No-show-Issue-Comma-300k.csv')\n",
    "df.head()"
   ]
  },
  {
   "cell_type": "code",
   "execution_count": 3,
   "id": "541282dc-672c-4f39-b312-e6476cceb94a",
   "metadata": {},
   "outputs": [
    {
     "name": "stdout",
     "output_type": "stream",
     "text": [
      "<class 'pandas.core.frame.DataFrame'>\n",
      "RangeIndex: 300000 entries, 0 to 299999\n",
      "Data columns (total 15 columns):\n",
      " #   Column                   Non-Null Count   Dtype \n",
      "---  ------                   --------------   ----- \n",
      " 0   Age                      300000 non-null  int64 \n",
      " 1   Gender                   300000 non-null  object\n",
      " 2   AppointmentRegistration  300000 non-null  object\n",
      " 3   ApointmentData           300000 non-null  object\n",
      " 4   DayOfTheWeek             300000 non-null  object\n",
      " 5   Status                   300000 non-null  object\n",
      " 6   Diabetes                 300000 non-null  int64 \n",
      " 7   Alcoolism                300000 non-null  int64 \n",
      " 8   HiperTension             300000 non-null  int64 \n",
      " 9   Handcap                  300000 non-null  int64 \n",
      " 10  Smokes                   300000 non-null  int64 \n",
      " 11  Scholarship              300000 non-null  int64 \n",
      " 12  Tuberculosis             300000 non-null  int64 \n",
      " 13  Sms_Reminder             300000 non-null  int64 \n",
      " 14  AwaitingTime             300000 non-null  int64 \n",
      "dtypes: int64(10), object(5)\n",
      "memory usage: 34.3+ MB\n"
     ]
    }
   ],
   "source": [
    "df.info()"
   ]
  },
  {
   "cell_type": "code",
   "execution_count": 4,
   "id": "4a4f576a-64c3-4e07-8601-604f59e78892",
   "metadata": {},
   "outputs": [
    {
     "data": {
      "text/plain": [
       "Age                        0\n",
       "Gender                     0\n",
       "AppointmentRegistration    0\n",
       "ApointmentData             0\n",
       "DayOfTheWeek               0\n",
       "Status                     0\n",
       "Diabetes                   0\n",
       "Alcoolism                  0\n",
       "HiperTension               0\n",
       "Handcap                    0\n",
       "Smokes                     0\n",
       "Scholarship                0\n",
       "Tuberculosis               0\n",
       "Sms_Reminder               0\n",
       "AwaitingTime               0\n",
       "dtype: int64"
      ]
     },
     "execution_count": 4,
     "metadata": {},
     "output_type": "execute_result"
    }
   ],
   "source": [
    "df.isna().sum()"
   ]
  },
  {
   "cell_type": "markdown",
   "id": "f6276127-4040-4d54-95be-44da7ada252f",
   "metadata": {},
   "source": [
    "## Cleaning The Dataset"
   ]
  },
  {
   "cell_type": "markdown",
   "id": "60631971-c8a1-481e-9ae0-e9521a54af6f",
   "metadata": {},
   "source": [
    "### Rename Columns"
   ]
  },
  {
   "cell_type": "code",
   "execution_count": 5,
   "id": "ecef204d-f2bd-4d26-b3d8-bf2a80c58205",
   "metadata": {},
   "outputs": [
    {
     "data": {
      "text/plain": [
       "Index(['Age', 'Gender', 'AppointmentRegistration', 'AppointmentData',\n",
       "       'DayOfTheWeek', 'Status', 'Diabetes', 'Alchoholism', 'HyperTension',\n",
       "       'Handicap', 'Smokes', 'Scholarship', 'Tuberculosis', 'Sms_Reminder',\n",
       "       'AwaitingTime'],\n",
       "      dtype='object')"
      ]
     },
     "execution_count": 5,
     "metadata": {},
     "output_type": "execute_result"
    }
   ],
   "source": [
    "df.rename(columns={'ApointmentData':'AppointmentData',\n",
    "                  'Alcoolism':'Alchoholism',\n",
    "                  'HiperTension':'HyperTension',\n",
    "                  'Handcap':'Handicap'}, inplace=True)\n",
    "df.columns"
   ]
  },
  {
   "cell_type": "markdown",
   "id": "6368716a-7a45-4aa5-80fe-03ce1d171f2a",
   "metadata": {},
   "source": [
    "### Manipulating Time Data"
   ]
  },
  {
   "cell_type": "code",
   "execution_count": 6,
   "id": "951bc08b-7fdc-4f2f-b9df-0c1f68d6a013",
   "metadata": {},
   "outputs": [
    {
     "data": {
      "text/html": [
       "<div>\n",
       "<style scoped>\n",
       "    .dataframe tbody tr th:only-of-type {\n",
       "        vertical-align: middle;\n",
       "    }\n",
       "\n",
       "    .dataframe tbody tr th {\n",
       "        vertical-align: top;\n",
       "    }\n",
       "\n",
       "    .dataframe thead th {\n",
       "        text-align: right;\n",
       "    }\n",
       "</style>\n",
       "<table border=\"1\" class=\"dataframe\">\n",
       "  <thead>\n",
       "    <tr style=\"text-align: right;\">\n",
       "      <th></th>\n",
       "      <th>Age</th>\n",
       "      <th>Gender</th>\n",
       "      <th>AppointmentRegistration</th>\n",
       "      <th>AppointmentData</th>\n",
       "      <th>DayOfTheWeek</th>\n",
       "      <th>Status</th>\n",
       "      <th>Diabetes</th>\n",
       "      <th>Alchoholism</th>\n",
       "      <th>HyperTension</th>\n",
       "      <th>Handicap</th>\n",
       "      <th>Smokes</th>\n",
       "      <th>Scholarship</th>\n",
       "      <th>Tuberculosis</th>\n",
       "      <th>Sms_Reminder</th>\n",
       "      <th>AwaitingTime</th>\n",
       "    </tr>\n",
       "  </thead>\n",
       "  <tbody>\n",
       "    <tr>\n",
       "      <th>0</th>\n",
       "      <td>19</td>\n",
       "      <td>M</td>\n",
       "      <td>2014-12-16T14:46:25Z</td>\n",
       "      <td>2015-01-14T00:00:00Z</td>\n",
       "      <td>Wednesday</td>\n",
       "      <td>Show-Up</td>\n",
       "      <td>0</td>\n",
       "      <td>0</td>\n",
       "      <td>0</td>\n",
       "      <td>0</td>\n",
       "      <td>0</td>\n",
       "      <td>0</td>\n",
       "      <td>0</td>\n",
       "      <td>0</td>\n",
       "      <td>-29</td>\n",
       "    </tr>\n",
       "    <tr>\n",
       "      <th>1</th>\n",
       "      <td>24</td>\n",
       "      <td>F</td>\n",
       "      <td>2015-08-18T07:01:26Z</td>\n",
       "      <td>2015-08-19T00:00:00Z</td>\n",
       "      <td>Wednesday</td>\n",
       "      <td>Show-Up</td>\n",
       "      <td>0</td>\n",
       "      <td>0</td>\n",
       "      <td>0</td>\n",
       "      <td>0</td>\n",
       "      <td>0</td>\n",
       "      <td>0</td>\n",
       "      <td>0</td>\n",
       "      <td>0</td>\n",
       "      <td>-1</td>\n",
       "    </tr>\n",
       "    <tr>\n",
       "      <th>2</th>\n",
       "      <td>4</td>\n",
       "      <td>F</td>\n",
       "      <td>2014-02-17T12:53:46Z</td>\n",
       "      <td>2014-02-18T00:00:00Z</td>\n",
       "      <td>Tuesday</td>\n",
       "      <td>Show-Up</td>\n",
       "      <td>0</td>\n",
       "      <td>0</td>\n",
       "      <td>0</td>\n",
       "      <td>0</td>\n",
       "      <td>0</td>\n",
       "      <td>0</td>\n",
       "      <td>0</td>\n",
       "      <td>0</td>\n",
       "      <td>-1</td>\n",
       "    </tr>\n",
       "    <tr>\n",
       "      <th>3</th>\n",
       "      <td>5</td>\n",
       "      <td>M</td>\n",
       "      <td>2014-07-23T17:02:11Z</td>\n",
       "      <td>2014-08-07T00:00:00Z</td>\n",
       "      <td>Thursday</td>\n",
       "      <td>Show-Up</td>\n",
       "      <td>0</td>\n",
       "      <td>0</td>\n",
       "      <td>0</td>\n",
       "      <td>0</td>\n",
       "      <td>0</td>\n",
       "      <td>0</td>\n",
       "      <td>0</td>\n",
       "      <td>1</td>\n",
       "      <td>-15</td>\n",
       "    </tr>\n",
       "    <tr>\n",
       "      <th>4</th>\n",
       "      <td>38</td>\n",
       "      <td>M</td>\n",
       "      <td>2015-10-21T15:20:09Z</td>\n",
       "      <td>2015-10-27T00:00:00Z</td>\n",
       "      <td>Tuesday</td>\n",
       "      <td>Show-Up</td>\n",
       "      <td>0</td>\n",
       "      <td>0</td>\n",
       "      <td>0</td>\n",
       "      <td>0</td>\n",
       "      <td>0</td>\n",
       "      <td>0</td>\n",
       "      <td>0</td>\n",
       "      <td>1</td>\n",
       "      <td>-6</td>\n",
       "    </tr>\n",
       "  </tbody>\n",
       "</table>\n",
       "</div>"
      ],
      "text/plain": [
       "   Age Gender AppointmentRegistration       AppointmentData DayOfTheWeek  \\\n",
       "0   19      M    2014-12-16T14:46:25Z  2015-01-14T00:00:00Z    Wednesday   \n",
       "1   24      F    2015-08-18T07:01:26Z  2015-08-19T00:00:00Z    Wednesday   \n",
       "2    4      F    2014-02-17T12:53:46Z  2014-02-18T00:00:00Z      Tuesday   \n",
       "3    5      M    2014-07-23T17:02:11Z  2014-08-07T00:00:00Z     Thursday   \n",
       "4   38      M    2015-10-21T15:20:09Z  2015-10-27T00:00:00Z      Tuesday   \n",
       "\n",
       "    Status  Diabetes  Alchoholism  HyperTension  Handicap  Smokes  \\\n",
       "0  Show-Up         0            0             0         0       0   \n",
       "1  Show-Up         0            0             0         0       0   \n",
       "2  Show-Up         0            0             0         0       0   \n",
       "3  Show-Up         0            0             0         0       0   \n",
       "4  Show-Up         0            0             0         0       0   \n",
       "\n",
       "   Scholarship  Tuberculosis  Sms_Reminder  AwaitingTime  \n",
       "0            0             0             0           -29  \n",
       "1            0             0             0            -1  \n",
       "2            0             0             0            -1  \n",
       "3            0             0             1           -15  \n",
       "4            0             0             1            -6  "
      ]
     },
     "execution_count": 6,
     "metadata": {},
     "output_type": "execute_result"
    }
   ],
   "source": [
    "df.head()"
   ]
  },
  {
   "cell_type": "code",
   "execution_count": 7,
   "id": "e6507ec3-ee92-4df7-9795-83f00c650206",
   "metadata": {},
   "outputs": [
    {
     "name": "stdout",
     "output_type": "stream",
     "text": [
      "0   2014-12-16 14:46:25\n",
      "1   2015-08-18 07:01:26\n",
      "2   2014-02-17 12:53:46\n",
      "3   2014-07-23 17:02:11\n",
      "4   2015-10-21 15:20:09\n",
      "Name: AppointmentRegistration, dtype: datetime64[ns]\n",
      "0   2015-01-14\n",
      "1   2015-08-19\n",
      "2   2014-02-18\n",
      "3   2014-08-07\n",
      "4   2015-10-27\n",
      "Name: AppointmentData, dtype: datetime64[ns]\n",
      "0    29\n",
      "1     1\n",
      "2     1\n",
      "3    15\n",
      "4     6\n",
      "Name: AwaitingTime, dtype: int64\n"
     ]
    }
   ],
   "source": [
    "df.AppointmentRegistration = df.AppointmentRegistration.apply(np.datetime64)\n",
    "df.AppointmentData = df.AppointmentData.apply(np.datetime64)\n",
    "df.AwaitingTime = df.AwaitingTime.apply(abs)\n",
    "\n",
    "print(df.AppointmentRegistration.head())\n",
    "print(df.AppointmentData.head())\n",
    "print(df.AwaitingTime.head())"
   ]
  },
  {
   "cell_type": "code",
   "execution_count": 8,
   "id": "4b82955d-eb0d-462d-98f6-1bba14a83562",
   "metadata": {},
   "outputs": [
    {
     "data": {
      "text/html": [
       "<div>\n",
       "<style scoped>\n",
       "    .dataframe tbody tr th:only-of-type {\n",
       "        vertical-align: middle;\n",
       "    }\n",
       "\n",
       "    .dataframe tbody tr th {\n",
       "        vertical-align: top;\n",
       "    }\n",
       "\n",
       "    .dataframe thead th {\n",
       "        text-align: right;\n",
       "    }\n",
       "</style>\n",
       "<table border=\"1\" class=\"dataframe\">\n",
       "  <thead>\n",
       "    <tr style=\"text-align: right;\">\n",
       "      <th></th>\n",
       "      <th>Age</th>\n",
       "      <th>Gender</th>\n",
       "      <th>AppointmentRegistration</th>\n",
       "      <th>AppointmentData</th>\n",
       "      <th>DayOfTheWeek</th>\n",
       "      <th>Status</th>\n",
       "      <th>Diabetes</th>\n",
       "      <th>Alchoholism</th>\n",
       "      <th>HyperTension</th>\n",
       "      <th>Handicap</th>\n",
       "      <th>Smokes</th>\n",
       "      <th>Scholarship</th>\n",
       "      <th>Tuberculosis</th>\n",
       "      <th>Sms_Reminder</th>\n",
       "      <th>AwaitingTime</th>\n",
       "    </tr>\n",
       "  </thead>\n",
       "  <tbody>\n",
       "    <tr>\n",
       "      <th>0</th>\n",
       "      <td>19</td>\n",
       "      <td>M</td>\n",
       "      <td>2014-12-16 14:46:25</td>\n",
       "      <td>2015-01-14</td>\n",
       "      <td>Wednesday</td>\n",
       "      <td>Show-Up</td>\n",
       "      <td>0</td>\n",
       "      <td>0</td>\n",
       "      <td>0</td>\n",
       "      <td>0</td>\n",
       "      <td>0</td>\n",
       "      <td>0</td>\n",
       "      <td>0</td>\n",
       "      <td>0</td>\n",
       "      <td>29</td>\n",
       "    </tr>\n",
       "    <tr>\n",
       "      <th>1</th>\n",
       "      <td>24</td>\n",
       "      <td>F</td>\n",
       "      <td>2015-08-18 07:01:26</td>\n",
       "      <td>2015-08-19</td>\n",
       "      <td>Wednesday</td>\n",
       "      <td>Show-Up</td>\n",
       "      <td>0</td>\n",
       "      <td>0</td>\n",
       "      <td>0</td>\n",
       "      <td>0</td>\n",
       "      <td>0</td>\n",
       "      <td>0</td>\n",
       "      <td>0</td>\n",
       "      <td>0</td>\n",
       "      <td>1</td>\n",
       "    </tr>\n",
       "    <tr>\n",
       "      <th>2</th>\n",
       "      <td>4</td>\n",
       "      <td>F</td>\n",
       "      <td>2014-02-17 12:53:46</td>\n",
       "      <td>2014-02-18</td>\n",
       "      <td>Tuesday</td>\n",
       "      <td>Show-Up</td>\n",
       "      <td>0</td>\n",
       "      <td>0</td>\n",
       "      <td>0</td>\n",
       "      <td>0</td>\n",
       "      <td>0</td>\n",
       "      <td>0</td>\n",
       "      <td>0</td>\n",
       "      <td>0</td>\n",
       "      <td>1</td>\n",
       "    </tr>\n",
       "    <tr>\n",
       "      <th>3</th>\n",
       "      <td>5</td>\n",
       "      <td>M</td>\n",
       "      <td>2014-07-23 17:02:11</td>\n",
       "      <td>2014-08-07</td>\n",
       "      <td>Thursday</td>\n",
       "      <td>Show-Up</td>\n",
       "      <td>0</td>\n",
       "      <td>0</td>\n",
       "      <td>0</td>\n",
       "      <td>0</td>\n",
       "      <td>0</td>\n",
       "      <td>0</td>\n",
       "      <td>0</td>\n",
       "      <td>1</td>\n",
       "      <td>15</td>\n",
       "    </tr>\n",
       "    <tr>\n",
       "      <th>4</th>\n",
       "      <td>38</td>\n",
       "      <td>M</td>\n",
       "      <td>2015-10-21 15:20:09</td>\n",
       "      <td>2015-10-27</td>\n",
       "      <td>Tuesday</td>\n",
       "      <td>Show-Up</td>\n",
       "      <td>0</td>\n",
       "      <td>0</td>\n",
       "      <td>0</td>\n",
       "      <td>0</td>\n",
       "      <td>0</td>\n",
       "      <td>0</td>\n",
       "      <td>0</td>\n",
       "      <td>1</td>\n",
       "      <td>6</td>\n",
       "    </tr>\n",
       "  </tbody>\n",
       "</table>\n",
       "</div>"
      ],
      "text/plain": [
       "   Age Gender AppointmentRegistration AppointmentData DayOfTheWeek   Status  \\\n",
       "0   19      M     2014-12-16 14:46:25      2015-01-14    Wednesday  Show-Up   \n",
       "1   24      F     2015-08-18 07:01:26      2015-08-19    Wednesday  Show-Up   \n",
       "2    4      F     2014-02-17 12:53:46      2014-02-18      Tuesday  Show-Up   \n",
       "3    5      M     2014-07-23 17:02:11      2014-08-07     Thursday  Show-Up   \n",
       "4   38      M     2015-10-21 15:20:09      2015-10-27      Tuesday  Show-Up   \n",
       "\n",
       "   Diabetes  Alchoholism  HyperTension  Handicap  Smokes  Scholarship  \\\n",
       "0         0            0             0         0       0            0   \n",
       "1         0            0             0         0       0            0   \n",
       "2         0            0             0         0       0            0   \n",
       "3         0            0             0         0       0            0   \n",
       "4         0            0             0         0       0            0   \n",
       "\n",
       "   Tuberculosis  Sms_Reminder  AwaitingTime  \n",
       "0             0             0            29  \n",
       "1             0             0             1  \n",
       "2             0             0             1  \n",
       "3             0             1            15  \n",
       "4             0             1             6  "
      ]
     },
     "execution_count": 8,
     "metadata": {},
     "output_type": "execute_result"
    }
   ],
   "source": [
    "df.head()"
   ]
  },
  {
   "cell_type": "code",
   "execution_count": 9,
   "id": "f381335e-8ba1-4ac2-95be-49d2d51dfd17",
   "metadata": {},
   "outputs": [
    {
     "data": {
      "text/html": [
       "<div>\n",
       "<style scoped>\n",
       "    .dataframe tbody tr th:only-of-type {\n",
       "        vertical-align: middle;\n",
       "    }\n",
       "\n",
       "    .dataframe tbody tr th {\n",
       "        vertical-align: top;\n",
       "    }\n",
       "\n",
       "    .dataframe thead th {\n",
       "        text-align: right;\n",
       "    }\n",
       "</style>\n",
       "<table border=\"1\" class=\"dataframe\">\n",
       "  <thead>\n",
       "    <tr style=\"text-align: right;\">\n",
       "      <th></th>\n",
       "      <th>Age</th>\n",
       "      <th>Gender</th>\n",
       "      <th>AppointmentRegistration</th>\n",
       "      <th>AppointmentData</th>\n",
       "      <th>DayOfTheWeek</th>\n",
       "      <th>Status</th>\n",
       "      <th>Diabetes</th>\n",
       "      <th>Alchoholism</th>\n",
       "      <th>HyperTension</th>\n",
       "      <th>Handicap</th>\n",
       "      <th>Smokes</th>\n",
       "      <th>Scholarship</th>\n",
       "      <th>Tuberculosis</th>\n",
       "      <th>Sms_Reminder</th>\n",
       "      <th>AwaitingTime</th>\n",
       "      <th>Hour</th>\n",
       "    </tr>\n",
       "  </thead>\n",
       "  <tbody>\n",
       "    <tr>\n",
       "      <th>0</th>\n",
       "      <td>19</td>\n",
       "      <td>M</td>\n",
       "      <td>2014-12-16 14:46:25</td>\n",
       "      <td>2015-01-14</td>\n",
       "      <td>Wednesday</td>\n",
       "      <td>Show-Up</td>\n",
       "      <td>0</td>\n",
       "      <td>0</td>\n",
       "      <td>0</td>\n",
       "      <td>0</td>\n",
       "      <td>0</td>\n",
       "      <td>0</td>\n",
       "      <td>0</td>\n",
       "      <td>0</td>\n",
       "      <td>29</td>\n",
       "      <td>14</td>\n",
       "    </tr>\n",
       "    <tr>\n",
       "      <th>1</th>\n",
       "      <td>24</td>\n",
       "      <td>F</td>\n",
       "      <td>2015-08-18 07:01:26</td>\n",
       "      <td>2015-08-19</td>\n",
       "      <td>Wednesday</td>\n",
       "      <td>Show-Up</td>\n",
       "      <td>0</td>\n",
       "      <td>0</td>\n",
       "      <td>0</td>\n",
       "      <td>0</td>\n",
       "      <td>0</td>\n",
       "      <td>0</td>\n",
       "      <td>0</td>\n",
       "      <td>0</td>\n",
       "      <td>1</td>\n",
       "      <td>7</td>\n",
       "    </tr>\n",
       "    <tr>\n",
       "      <th>2</th>\n",
       "      <td>4</td>\n",
       "      <td>F</td>\n",
       "      <td>2014-02-17 12:53:46</td>\n",
       "      <td>2014-02-18</td>\n",
       "      <td>Tuesday</td>\n",
       "      <td>Show-Up</td>\n",
       "      <td>0</td>\n",
       "      <td>0</td>\n",
       "      <td>0</td>\n",
       "      <td>0</td>\n",
       "      <td>0</td>\n",
       "      <td>0</td>\n",
       "      <td>0</td>\n",
       "      <td>0</td>\n",
       "      <td>1</td>\n",
       "      <td>12</td>\n",
       "    </tr>\n",
       "    <tr>\n",
       "      <th>3</th>\n",
       "      <td>5</td>\n",
       "      <td>M</td>\n",
       "      <td>2014-07-23 17:02:11</td>\n",
       "      <td>2014-08-07</td>\n",
       "      <td>Thursday</td>\n",
       "      <td>Show-Up</td>\n",
       "      <td>0</td>\n",
       "      <td>0</td>\n",
       "      <td>0</td>\n",
       "      <td>0</td>\n",
       "      <td>0</td>\n",
       "      <td>0</td>\n",
       "      <td>0</td>\n",
       "      <td>1</td>\n",
       "      <td>15</td>\n",
       "      <td>17</td>\n",
       "    </tr>\n",
       "    <tr>\n",
       "      <th>4</th>\n",
       "      <td>38</td>\n",
       "      <td>M</td>\n",
       "      <td>2015-10-21 15:20:09</td>\n",
       "      <td>2015-10-27</td>\n",
       "      <td>Tuesday</td>\n",
       "      <td>Show-Up</td>\n",
       "      <td>0</td>\n",
       "      <td>0</td>\n",
       "      <td>0</td>\n",
       "      <td>0</td>\n",
       "      <td>0</td>\n",
       "      <td>0</td>\n",
       "      <td>0</td>\n",
       "      <td>1</td>\n",
       "      <td>6</td>\n",
       "      <td>15</td>\n",
       "    </tr>\n",
       "  </tbody>\n",
       "</table>\n",
       "</div>"
      ],
      "text/plain": [
       "   Age Gender AppointmentRegistration AppointmentData DayOfTheWeek   Status  \\\n",
       "0   19      M     2014-12-16 14:46:25      2015-01-14    Wednesday  Show-Up   \n",
       "1   24      F     2015-08-18 07:01:26      2015-08-19    Wednesday  Show-Up   \n",
       "2    4      F     2014-02-17 12:53:46      2014-02-18      Tuesday  Show-Up   \n",
       "3    5      M     2014-07-23 17:02:11      2014-08-07     Thursday  Show-Up   \n",
       "4   38      M     2015-10-21 15:20:09      2015-10-27      Tuesday  Show-Up   \n",
       "\n",
       "   Diabetes  Alchoholism  HyperTension  Handicap  Smokes  Scholarship  \\\n",
       "0         0            0             0         0       0            0   \n",
       "1         0            0             0         0       0            0   \n",
       "2         0            0             0         0       0            0   \n",
       "3         0            0             0         0       0            0   \n",
       "4         0            0             0         0       0            0   \n",
       "\n",
       "   Tuberculosis  Sms_Reminder  AwaitingTime  Hour  \n",
       "0             0             0            29    14  \n",
       "1             0             0             1     7  \n",
       "2             0             0             1    12  \n",
       "3             0             1            15    17  \n",
       "4             0             1             6    15  "
      ]
     },
     "execution_count": 9,
     "metadata": {},
     "output_type": "execute_result"
    }
   ],
   "source": [
    "df['Hour']=df['AppointmentRegistration'].dt.hour\n",
    "df.head()"
   ]
  },
  {
   "cell_type": "markdown",
   "id": "61bdc524-3f7e-46f7-bd20-6399698d0657",
   "metadata": {},
   "source": [
    "# EDA"
   ]
  },
  {
   "cell_type": "code",
   "execution_count": 10,
   "id": "59cd4abd-ac93-4fcd-95f4-a9d2fa9113a2",
   "metadata": {},
   "outputs": [
    {
     "data": {
      "text/html": [
       "<div>\n",
       "<style scoped>\n",
       "    .dataframe tbody tr th:only-of-type {\n",
       "        vertical-align: middle;\n",
       "    }\n",
       "\n",
       "    .dataframe tbody tr th {\n",
       "        vertical-align: top;\n",
       "    }\n",
       "\n",
       "    .dataframe thead th {\n",
       "        text-align: right;\n",
       "    }\n",
       "</style>\n",
       "<table border=\"1\" class=\"dataframe\">\n",
       "  <thead>\n",
       "    <tr style=\"text-align: right;\">\n",
       "      <th></th>\n",
       "      <th>Age</th>\n",
       "      <th>Gender</th>\n",
       "      <th>AppointmentRegistration</th>\n",
       "      <th>AppointmentData</th>\n",
       "      <th>DayOfTheWeek</th>\n",
       "      <th>Status</th>\n",
       "      <th>Diabetes</th>\n",
       "      <th>Alchoholism</th>\n",
       "      <th>HyperTension</th>\n",
       "      <th>Handicap</th>\n",
       "      <th>Smokes</th>\n",
       "      <th>Scholarship</th>\n",
       "      <th>Tuberculosis</th>\n",
       "      <th>Sms_Reminder</th>\n",
       "      <th>AwaitingTime</th>\n",
       "      <th>Hour</th>\n",
       "    </tr>\n",
       "  </thead>\n",
       "  <tbody>\n",
       "    <tr>\n",
       "      <th>0</th>\n",
       "      <td>19</td>\n",
       "      <td>M</td>\n",
       "      <td>2014-12-16 14:46:25</td>\n",
       "      <td>2015-01-14</td>\n",
       "      <td>Wednesday</td>\n",
       "      <td>Show-Up</td>\n",
       "      <td>0</td>\n",
       "      <td>0</td>\n",
       "      <td>0</td>\n",
       "      <td>0</td>\n",
       "      <td>0</td>\n",
       "      <td>0</td>\n",
       "      <td>0</td>\n",
       "      <td>0</td>\n",
       "      <td>29</td>\n",
       "      <td>14</td>\n",
       "    </tr>\n",
       "    <tr>\n",
       "      <th>1</th>\n",
       "      <td>24</td>\n",
       "      <td>F</td>\n",
       "      <td>2015-08-18 07:01:26</td>\n",
       "      <td>2015-08-19</td>\n",
       "      <td>Wednesday</td>\n",
       "      <td>Show-Up</td>\n",
       "      <td>0</td>\n",
       "      <td>0</td>\n",
       "      <td>0</td>\n",
       "      <td>0</td>\n",
       "      <td>0</td>\n",
       "      <td>0</td>\n",
       "      <td>0</td>\n",
       "      <td>0</td>\n",
       "      <td>1</td>\n",
       "      <td>7</td>\n",
       "    </tr>\n",
       "    <tr>\n",
       "      <th>2</th>\n",
       "      <td>4</td>\n",
       "      <td>F</td>\n",
       "      <td>2014-02-17 12:53:46</td>\n",
       "      <td>2014-02-18</td>\n",
       "      <td>Tuesday</td>\n",
       "      <td>Show-Up</td>\n",
       "      <td>0</td>\n",
       "      <td>0</td>\n",
       "      <td>0</td>\n",
       "      <td>0</td>\n",
       "      <td>0</td>\n",
       "      <td>0</td>\n",
       "      <td>0</td>\n",
       "      <td>0</td>\n",
       "      <td>1</td>\n",
       "      <td>12</td>\n",
       "    </tr>\n",
       "    <tr>\n",
       "      <th>3</th>\n",
       "      <td>5</td>\n",
       "      <td>M</td>\n",
       "      <td>2014-07-23 17:02:11</td>\n",
       "      <td>2014-08-07</td>\n",
       "      <td>Thursday</td>\n",
       "      <td>Show-Up</td>\n",
       "      <td>0</td>\n",
       "      <td>0</td>\n",
       "      <td>0</td>\n",
       "      <td>0</td>\n",
       "      <td>0</td>\n",
       "      <td>0</td>\n",
       "      <td>0</td>\n",
       "      <td>1</td>\n",
       "      <td>15</td>\n",
       "      <td>17</td>\n",
       "    </tr>\n",
       "    <tr>\n",
       "      <th>4</th>\n",
       "      <td>38</td>\n",
       "      <td>M</td>\n",
       "      <td>2015-10-21 15:20:09</td>\n",
       "      <td>2015-10-27</td>\n",
       "      <td>Tuesday</td>\n",
       "      <td>Show-Up</td>\n",
       "      <td>0</td>\n",
       "      <td>0</td>\n",
       "      <td>0</td>\n",
       "      <td>0</td>\n",
       "      <td>0</td>\n",
       "      <td>0</td>\n",
       "      <td>0</td>\n",
       "      <td>1</td>\n",
       "      <td>6</td>\n",
       "      <td>15</td>\n",
       "    </tr>\n",
       "  </tbody>\n",
       "</table>\n",
       "</div>"
      ],
      "text/plain": [
       "   Age Gender AppointmentRegistration AppointmentData DayOfTheWeek   Status  \\\n",
       "0   19      M     2014-12-16 14:46:25      2015-01-14    Wednesday  Show-Up   \n",
       "1   24      F     2015-08-18 07:01:26      2015-08-19    Wednesday  Show-Up   \n",
       "2    4      F     2014-02-17 12:53:46      2014-02-18      Tuesday  Show-Up   \n",
       "3    5      M     2014-07-23 17:02:11      2014-08-07     Thursday  Show-Up   \n",
       "4   38      M     2015-10-21 15:20:09      2015-10-27      Tuesday  Show-Up   \n",
       "\n",
       "   Diabetes  Alchoholism  HyperTension  Handicap  Smokes  Scholarship  \\\n",
       "0         0            0             0         0       0            0   \n",
       "1         0            0             0         0       0            0   \n",
       "2         0            0             0         0       0            0   \n",
       "3         0            0             0         0       0            0   \n",
       "4         0            0             0         0       0            0   \n",
       "\n",
       "   Tuberculosis  Sms_Reminder  AwaitingTime  Hour  \n",
       "0             0             0            29    14  \n",
       "1             0             0             1     7  \n",
       "2             0             0             1    12  \n",
       "3             0             1            15    17  \n",
       "4             0             1             6    15  "
      ]
     },
     "execution_count": 10,
     "metadata": {},
     "output_type": "execute_result"
    }
   ],
   "source": [
    "df.head()"
   ]
  },
  {
   "cell_type": "markdown",
   "id": "bc1f74a4-7d5f-4d48-aecb-67c951fc70c5",
   "metadata": {},
   "source": [
    "### Outliers in Awaiting Time"
   ]
  },
  {
   "cell_type": "code",
   "execution_count": 11,
   "id": "33838430-3bea-4dda-b1b7-acc6b10f5ae3",
   "metadata": {},
   "outputs": [
    {
     "data": {
      "image/png": "[encoded data removed]",
      "text/plain": [
       "<Figure size 1440x360 with 1 Axes>"
      ]
     },
     "metadata": {},
     "output_type": "display_data"
    }
   ],
   "source": [
    "sns.stripplot(df['AwaitingTime']);"
   ]
  },
  {
   "cell_type": "code",
   "execution_count": 12,
   "id": "4971afc2-7f07-4523-a715-4532d8d58b6c",
   "metadata": {},
   "outputs": [
    {
     "data": {
      "text/plain": [
       "90731"
      ]
     },
     "execution_count": 12,
     "metadata": {},
     "output_type": "execute_result"
    }
   ],
   "source": [
    "df['Status'].value_counts()[1]"
   ]
  },
  {
   "cell_type": "markdown",
   "id": "c6a192f6-5b5c-416f-973d-fade1f70426c",
   "metadata": {},
   "source": [
    "### Probability of Showing Up"
   ]
  },
  {
   "cell_type": "code",
   "execution_count": 13,
   "id": "2fecfa49-c3b5-46aa-b845-9b4bd5395ed1",
   "metadata": {},
   "outputs": [],
   "source": [
    "def probStatus(dataset, group_by):\n",
    "    x = pd.crosstab(index=dataset[group_by], columns=dataset.Status).reset_index()\n",
    "    x['probShowUp'] = x['Show-Up'] / (x['Show-Up']+x['No-Show'])\n",
    "    return x[[group_by, 'probShowUp']]"
   ]
  },
  {
   "cell_type": "code",
   "execution_count": 14,
   "id": "55a0ad90-3b8a-44ae-b2e2-5ab478b516d2",
   "metadata": {},
   "outputs": [
    {
     "data": {
      "image/png": "[encoded data removed]",
      "text/plain": [
       "<Figure size 360x360 with 1 Axes>"
      ]
     },
     "metadata": {},
     "output_type": "display_data"
    },
    {
     "data": {
      "image/png": "[encoded data removed]",
      "text/plain": [
       "<Figure size 360x360 with 1 Axes>"
      ]
     },
     "metadata": {},
     "output_type": "display_data"
    },
    {
     "data": {
      "image/png": "[encoded data removed]",
      "text/plain": [
       "<Figure size 360x360 with 1 Axes>"
      ]
     },
     "metadata": {},
     "output_type": "display_data"
    }
   ],
   "source": [
    "sns.lmplot(data = probStatus(df, 'Age'), x = 'Age', y = 'probShowUp', fit_reg = True)\n",
    "plt.title('Probability of showing up with respect to Age', fontsize=10, fontweight='bold')\n",
    "plt.xlim(0, 100)\n",
    "\n",
    "sns.lmplot(data = probStatus(df, 'Hour'), x = 'Hour', y = 'probShowUp', fit_reg = True)\n",
    "plt.title('Probability of showing up with respect to Hour of Day', fontsize=10, fontweight='bold')\n",
    "\n",
    "sns.lmplot(data = probStatus(df, 'AwaitingTime'), x = 'AwaitingTime', y = 'probShowUp', fit_reg = True)\n",
    "plt.title('Probability of showing up with respect to Awaiting Time', fontsize=10, fontweight='bold');"
   ]
  },
  {
   "cell_type": "code",
   "execution_count": 15,
   "id": "02163b3f-5847-47f3-b35b-12df8e49dd40",
   "metadata": {},
   "outputs": [
    {
     "data": {
      "text/plain": [
       "array([0, 1])"
      ]
     },
     "execution_count": 15,
     "metadata": {},
     "output_type": "execute_result"
    }
   ],
   "source": [
    "df['Diabetes'].unique()"
   ]
  },
  {
   "cell_type": "markdown",
   "id": "f931f421-77e7-49ee-b19f-a9942349226b",
   "metadata": {},
   "source": [
    "### Probability of showing up by Ailments"
   ]
  },
  {
   "cell_type": "code",
   "execution_count": 16,
   "id": "4c15b3a9-c07c-4eb2-95fe-a86f0d655b57",
   "metadata": {},
   "outputs": [],
   "source": [
    "def probStatusCategorical(group_by):\n",
    "    rows = []\n",
    "    for item in group_by:\n",
    "        for level in df[item].unique():\n",
    "            row = {'Condition': item}\n",
    "            total = len(df[df[item] == level])\n",
    "            n = len(df[(df[item] == level) & (df.Status == 'Show-Up')])\n",
    "            row.update({'Level': level, 'Probability': n / total})\n",
    "            rows.append(row)\n",
    "    return pd.DataFrame(rows)"
   ]
  },
  {
   "cell_type": "code",
   "execution_count": 18,
   "id": "498e72f4-9e31-41d8-aa37-492158ed8f86",
   "metadata": {},
   "outputs": [
    {
     "data": {
      "image/png": "[encoded data removed]",
      "text/plain": [
       "<Figure size 1440x360 with 1 Axes>"
      ]
     },
     "metadata": {},
     "output_type": "display_data"
    }
   ],
   "source": [
    "sns.barplot(data = probStatusCategorical(['Diabetes', 'Alchoholism', 'HyperTension', 'Smokes', 'Scholarship', 'Tuberculosis']),\n",
    "            x = 'Condition', y = 'Probability', hue = 'Level', palette = 'Set1')\n",
    "plt.title('Probability of showing up')\n",
    "plt.ylabel('Probability');"
   ]
  },
  {
   "cell_type": "markdown",
   "id": "ac71145d-78ec-4521-b53f-c3538da04c9a",
   "metadata": {},
   "source": [
    "### Probability of Sowing up by Gender"
   ]
  },
  {
   "cell_type": "code",
   "execution_count": 19,
   "id": "ca52c42c-7e90-44b4-95c1-987fa7662da2",
   "metadata": {},
   "outputs": [
    {
     "data": {
      "image/png": "[encoded data removed]",
      "text/plain": [
       "<Figure size 1440x360 with 1 Axes>"
      ]
     },
     "metadata": {},
     "output_type": "display_data"
    }
   ],
   "source": [
    "sns.barplot(data = probStatusCategorical(['Gender']),\n",
    "            x = 'Condition', y = 'Probability', hue = 'Level', palette = 'Set2')\n",
    "plt.title('Probability of showing up')\n",
    "plt.ylabel('Probability');"
   ]
  },
  {
   "cell_type": "markdown",
   "id": "68bd16e9-dfc8-40e9-95bc-93c99b8fd638",
   "metadata": {},
   "source": [
    "### Probability of Sowing up by Handicap"
   ]
  },
  {
   "cell_type": "code",
   "execution_count": 20,
   "id": "6046a98f-6d87-41f6-8523-8c9189fcbf99",
   "metadata": {},
   "outputs": [
    {
     "data": {
      "image/png": "[encoded data removed]",
      "text/plain": [
       "<Figure size 1440x360 with 1 Axes>"
      ]
     },
     "metadata": {},
     "output_type": "display_data"
    }
   ],
   "source": [
    "sns.barplot(data = probStatusCategorical(['Handicap']),\n",
    "            x = 'Condition', y = 'Probability', hue = 'Level', palette = 'Set1')\n",
    "plt.title('Probability of showing up')\n",
    "plt.ylabel('Probability');"
   ]
  },
  {
   "cell_type": "markdown",
   "id": "73a69bc8-7bf5-4c5f-b633-dd46886e81f5",
   "metadata": {},
   "source": [
    "### Probability of Sowing up by Day of Week"
   ]
  },
  {
   "cell_type": "code",
   "execution_count": 21,
   "id": "4d375df3-8513-40de-9140-29cbe0560d18",
   "metadata": {},
   "outputs": [
    {
     "data": {
      "image/png": "[encoded data removed]",
      "text/plain": [
       "<Figure size 1440x360 with 1 Axes>"
      ]
     },
     "metadata": {},
     "output_type": "display_data"
    }
   ],
   "source": [
    "sns.barplot(data = probStatusCategorical(['DayOfTheWeek']),\n",
    "            x = 'Condition', y = 'Probability', hue = 'Level', palette = 'Set1')\n",
    "plt.title('Probability of showing up')\n",
    "plt.ylabel('Probability');"
   ]
  },
  {
   "cell_type": "markdown",
   "id": "a230e2ce",
   "metadata": {},
   "source": [
    "# Bayesian Analysis"
   ]
  },
  {
   "cell_type": "markdown",
   "id": "f2b11b2c",
   "metadata": {},
   "source": [
    "## Posterior Probability"
   ]
  },
  {
   "cell_type": "code",
   "execution_count": 30,
   "id": "b3a56d6d",
   "metadata": {},
   "outputs": [],
   "source": [
    "def posteriorNoShow(condition):\n",
    "    levels = list(df[condition].unique())\n",
    "    if condition not in ['DayOfTheWeek', 'Gender']: \n",
    "        levels.remove(0)\n",
    "    rows = []\n",
    "    for level in levels:\n",
    "        p = len(df[df[condition] == level]) / len(df)\n",
    "        p1 = len(df[(df[condition] == level) & (df.Status == 'No-Show')]) / len(df[df.Status == 'No-Show'])\n",
    "        p2 = len(df[(df[condition] == level) & (df.Status == 'Show-Up')]) / len(df[df.Status == 'Show-Up'])\n",
    "        if len(levels) > 1:\n",
    "            rows.append({'Levels': level, \n",
    "                         'Probability': (p * p1) / (p * p1 + p * p2)})\n",
    "        else:\n",
    "            rows.append({'Condition': condition,\n",
    "                         'Probability': (p * p1) / (p * p1 + p * p2)})\n",
    "    return rows"
   ]
  },
  {
   "cell_type": "code",
   "execution_count": 38,
   "id": "e5ca9b64",
   "metadata": {},
   "outputs": [],
   "source": [
    "tuples = []\n",
    "tuples.extend(posteriorNoShow('Diabetes'))\n",
    "tuples.extend(posteriorNoShow('HyperTension'))\n",
    "tuples.extend(posteriorNoShow('Alchoholism'))\n",
    "tuples.extend(posteriorNoShow('Tuberculosis'))\n",
    "tuples.extend(posteriorNoShow('Smokes'))\n",
    "tuples.extend(posteriorNoShow('Scholarship'))"
   ]
  },
  {
   "cell_type": "code",
   "execution_count": 39,
   "id": "6123d526",
   "metadata": {},
   "outputs": [
    {
     "data": {
      "text/plain": [
       "[{'Condition': 'Diabetes', 'Probability': 0.4390371252364641},\n",
       " {'Condition': 'HyperTension', 'Probability': 0.4356288240969929},\n",
       " {'Condition': 'Alchoholism', 'Probability': 0.5809841113269629},\n",
       " {'Condition': 'Tuberculosis', 'Probability': 0.5910057215521428},\n",
       " {'Condition': 'Smokes', 'Probability': 0.5533474855805075},\n",
       " {'Condition': 'Scholarship', 'Probability': 0.5646932857501833}]"
      ]
     },
     "execution_count": 39,
     "metadata": {},
     "output_type": "execute_result"
    }
   ],
   "source": [
    "tuples"
   ]
  },
  {
   "cell_type": "markdown",
   "id": "7c154612",
   "metadata": {},
   "source": [
    "### By Disease"
   ]
  },
  {
   "cell_type": "code",
   "execution_count": 42,
   "id": "ab11799e",
   "metadata": {},
   "outputs": [
    {
     "data": {
      "image/png": "[encoded data removed]",
      "text/plain": [
       "<Figure size 1440x360 with 1 Axes>"
      ]
     },
     "metadata": {},
     "output_type": "display_data"
    }
   ],
   "source": [
    "sns.barplot(data = pd.DataFrame(tuples)[['Condition', 'Probability']], \n",
    "            x = 'Condition', y = 'Probability', palette = 'Set2')\n",
    "plt.title('Posterior probability of diseases and scholarship given a no-show')\n",
    "plt.ylabel('Probability')\n",
    "plt.show()"
   ]
  },
  {
   "cell_type": "markdown",
   "id": "7ec938f0",
   "metadata": {},
   "source": [
    "### By Handicap"
   ]
  },
  {
   "cell_type": "code",
   "execution_count": 44,
   "id": "50e78cb1",
   "metadata": {},
   "outputs": [
    {
     "data": {
      "image/png": "[encoded data removed]",
      "text/plain": [
       "<Figure size 1440x360 with 1 Axes>"
      ]
     },
     "metadata": {},
     "output_type": "display_data"
    }
   ],
   "source": [
    "sns.barplot(data = pd.DataFrame(posteriorNoShow('Handicap')), \n",
    "            x = 'Levels', y = 'Probability', palette = 'Set2')\n",
    "plt.xlabel('Handicap Levels')\n",
    "plt.ylabel('Probability')\n",
    "plt.title('Posterior probability of Handicap given a no-show')\n",
    "plt.show()"
   ]
  },
  {
   "cell_type": "markdown",
   "id": "f96e6a5e",
   "metadata": {},
   "source": [
    "### By DayOfWeek"
   ]
  },
  {
   "cell_type": "code",
   "execution_count": 45,
   "id": "007c3806",
   "metadata": {},
   "outputs": [
    {
     "data": {
      "image/png": "[encoded data removed]",
      "text/plain": [
       "<Figure size 1440x360 with 1 Axes>"
      ]
     },
     "metadata": {},
     "output_type": "display_data"
    }
   ],
   "source": [
    "sns.barplot(data = pd.DataFrame(posteriorNoShow('DayOfTheWeek')), \n",
    "            x = 'Levels', y = 'Probability', palette = 'Set2')\n",
    "plt.xlabel('DayOfTheWeek')\n",
    "plt.ylabel('Probability')\n",
    "plt.title('Posterior probability of DayOfTheWeek given a no-show')\n",
    "plt.show()"
   ]
  },
  {
   "cell_type": "markdown",
   "id": "6b45e07c",
   "metadata": {},
   "source": [
    "# Building the Predictive Model"
   ]
  },
  {
   "cell_type": "code",
   "execution_count": null,
   "id": "3b2fad4e",
   "metadata": {},
   "outputs": [],
   "source": []
  }
 ],
 "metadata": {
  "kernelspec": {
   "display_name": "Python 3 (ipykernel)",
   "language": "python",
   "name": "python3"
  },
  "language_info": {
   "codemirror_mode": {
    "name": "ipython",
    "version": 3
   },
   "file_extension": ".py",
   "mimetype": "text/x-python",
   "name": "python",
   "nbconvert_exporter": "python",
   "pygments_lexer": "ipython3",
   "version": "3.9.7"
  }
 },
 "nbformat": 4,
 "nbformat_minor": 5
}
